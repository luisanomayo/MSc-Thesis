{
 "cells": [
  {
   "cell_type": "code",
   "execution_count": null,
   "id": "dddd8536-68df-4b07-8533-0675da7ebfb7",
   "metadata": {},
   "outputs": [],
   "source": [
    "#import libraries\n",
    "import pandas as pd\n",
    "import numpy as np\n",
    "import csv\n",
    "import ast\n",
    "import re\n",
    "from prettytable import PrettyTable\n",
    "\n",
    "import time\n",
    "import random\n",
    "\n",
    "#data visualization libraries\n",
    "import matplotlib.pyplot as plt\n",
    "import plotly.express as px\n",
    "import seaborn as sns\n",
    "import plotly.io as pio\n",
    "from PIL import Image\n",
    "from wordcloud import WordCloud, ImageColorGenerator\n",
    "\n",
    "#NLP & ML libraries\n",
    "from gensim import corpora\n",
    "from gensim.models import Word2Vec\n",
    "from textblob import TextBlob\n",
    "from nltk import FreqDist\n",
    "from sklearn.feature_extraction.text import CountVectorizer\n",
    "from sklearn.feature_extraction.text import TfidfVectorizer\n",
    "\n",
    "from sklearn.cluster import KMeans\n",
    "from sklearn.cluster import MiniBatchKMeans\n",
    "from sklearn.metrics import silhouette_score\n",
    "\n",
    "from sklearn.metrics.pairwise import cosine_similarity\n",
    "\n",
    "from sklearn.manifold import TSNE\n",
    "from sklearn.decomposition import PCA\n",
    "\n",
    "from yellowbrick.cluster import KElbowVisualizer, SilhouetteVisualizer, InterclusterDistance\n",
    "\n",
    "from scipy.sparse import save_npz, load_npz\n"
   ]
  },
  {
   "cell_type": "code",
   "execution_count": null,
   "id": "029ab296-d35d-4f35-b497-5cab907f0a05",
   "metadata": {},
   "outputs": [],
   "source": [
    "#set seed so that code output is deterministic\n",
    "random.seed(20)  # Set the seed for Python's random module\n",
    "np.random.seed(20)  # Set the seed for NumPy's random module"
   ]
  },
  {
   "cell_type": "code",
   "execution_count": null,
   "id": "3cbae987-0bd4-4912-a00c-8dfe3b40b5e3",
   "metadata": {},
   "outputs": [],
   "source": [
    "#import cleaned data\n",
    "\n",
    "def list_converter(text):\n",
    "    #to revert list->str conversion from pd.read_csv\n",
    "    return ast.literal_eval(text)\n",
    "\n",
    "\n",
    "data = pd.read_csv('Data/filtered_corpus.csv', converters ={'tokens':list_converter,\n",
    "                                                           'updated_tokens': list_converter})"
   ]
  },
  {
   "cell_type": "code",
   "execution_count": null,
   "id": "d8693c5c-7790-45e6-aeab-76c6cafcc2fc",
   "metadata": {},
   "outputs": [],
   "source": [
    "# Count the number of rows where the length of 'tokens' is less than 3\n",
    "count = data[data['updated_tokens'].apply(lambda x: len(x) < 3)].shape[0]\n",
    "indx = data[data['updated_tokens'].apply(lambda x: len(x) < 3)].index\n",
    "print(f\"Number of rows with less than 3 tokens: {count}\")\n",
    "print (indx[:5])"
   ]
  },
  {
   "cell_type": "code",
   "execution_count": null,
   "id": "779d31d5-777c-4aba-9f24-cc9a75a5af11",
   "metadata": {},
   "outputs": [],
   "source": [
    "data = data.drop(columns = ['index'])\n",
    "print (data.shape)\n",
    "data.head()"
   ]
  },
  {
   "cell_type": "code",
   "execution_count": null,
   "id": "6eafcb9f-1084-452c-ab11-1f65e7d74453",
   "metadata": {},
   "outputs": [],
   "source": [
    "#drop rows with less than 3 tokens\n",
    "data = data.drop(indx, axis = 0).reset_index()"
   ]
  },
  {
   "cell_type": "markdown",
   "id": "582af365-eb36-4b45-889e-618b41f2f0f1",
   "metadata": {},
   "source": [
    "## **TFIDF MODEL**"
   ]
  },
  {
   "cell_type": "code",
   "execution_count": null,
   "id": "1ed3c346-d9a8-4f09-abfa-a32dba6ea292",
   "metadata": {},
   "outputs": [],
   "source": [
    "#convert df['tokens'] to list of strings for CountVectorizer\n",
    "corpus = data['updated_tokens'].apply(lambda token: ' '.join(token)).tolist()\n",
    "\n",
    "corpus[:5]"
   ]
  },
  {
   "cell_type": "markdown",
   "id": "966fcc20-801c-4c79-8d64-e1da5aa9085b",
   "metadata": {},
   "source": [
    "#### **INSTANTIATE AND FIT TFIDF MODEL**"
   ]
  },
  {
   "cell_type": "code",
   "execution_count": null,
   "id": "6ecaf539-bf09-42c3-8357-5e46737e5053",
   "metadata": {},
   "outputs": [],
   "source": [
    "start_time = time.time() #track start time of execution\n",
    "\n",
    "#instantiate CountVectorizer\n",
    "tfidf = TfidfVectorizer(max_features = 5000,\n",
    "                        max_df = 0.70,\n",
    "                        min_df = 15,\n",
    "                        ngram_range = (1,2))\n",
    "   \n",
    "#generate document vectors \n",
    "X_tfidf = tfidf.fit_transform(corpus)\n",
    "print (f\"The program took {time.time() - start_time:.2f} seconds to complete. The tfidf representation had {X_tfidf.shape[1]} features.\")    "
   ]
  },
  {
   "cell_type": "code",
   "execution_count": null,
   "id": "3fd9099d-f05c-460e-96fc-01b4b8b8d341",
   "metadata": {
    "tags": []
   },
   "outputs": [],
   "source": [
    "#get feature names \n",
    "tfidf_features = tfidf.get_feature_names_out()"
   ]
  },
  {
   "cell_type": "code",
   "execution_count": null,
   "id": "c6aafa56-4cde-4006-b3c9-96d67d33a286",
   "metadata": {
    "tags": []
   },
   "outputs": [],
   "source": [
    "#print(sorted(tfidf_features))"
   ]
  },
  {
   "cell_type": "code",
   "execution_count": null,
   "id": "b3e3f817-7bca-4154-940e-62003e7175bd",
   "metadata": {},
   "outputs": [],
   "source": [
    "#tabular presentation of a sample of the bag of words representation\n",
    "text_df = data['clean_text'].loc[8000:8004].copy()\n",
    "tfidf_df = pd.DataFrame(X_tfidf[8000:8005].toarray(), columns = tfidf_features)\n",
    "\n",
    "text_tfidf = tfidf_df.copy()\n",
    "text_tfidf = text_tfidf.loc[:, (text_tfidf > 0.0).any()] #show only columns with at least a 1 entry for any word\n",
    "\n",
    "text_tfidf.insert(0, 'clean_text', text_df.values) #include column of pre-processed text\n",
    "\n",
    "text_tfidf"
   ]
  },
  {
   "cell_type": "code",
   "execution_count": null,
   "id": "112fdc3b-a934-4b81-a9ed-190afd74d7a2",
   "metadata": {},
   "outputs": [],
   "source": [
    "#visualize most common words in a wordcloud\n",
    "\n",
    "#create tuple of word and a count of occurrence in whole corpus\n",
    "word_scores = zip(tfidf_features, X_tfidf.sum(axis = 0).A1)\n",
    "\n",
    "# Create a dictionary from the word_scores tuples\n",
    "word_scores_dict = dict(word_scores)\n",
    "\n",
    "#generate word cloud\n",
    "wordcloud = WordCloud(background_color=\"white\").generate_from_frequencies(word_scores_dict)\n",
    "\n",
    "# Plot the word cloud\n",
    "plt.figure(figsize=(12, 8))\n",
    "plt.imshow(wordcloud, interpolation=\"bilinear\")\n",
    "plt.axis(\"off\")\n",
    "plt.show()"
   ]
  },
  {
   "cell_type": "code",
   "execution_count": null,
   "id": "5acedad1-04b6-4b77-920d-0619355dbe7c",
   "metadata": {},
   "outputs": [],
   "source": [
    "#determine optimum k-clusters using yellowbrick visualizer\n",
    "\n",
    "#i\n",
    "kmeans = KMeans(init = 'k-means++', n_init = 10, random_state = 0)\n",
    "visualizer = KElbowVisualizer(kmeans, k = (1,21))\n",
    "\n",
    "visualizer.fit(X_tfidf.toarray())\n",
    "visualizer.show()\n"
   ]
  },
  {
   "cell_type": "code",
   "execution_count": null,
   "id": "0f4d32ea-c64c-4cfe-b1be-d00ed4adbfb1",
   "metadata": {},
   "outputs": [],
   "source": [
    "sil_visualizer = SilhouetteVisualizer(\n",
    "                    KMeans(n_clusters= 10, #visualizer.elbow_value_, \n",
    "                           init=\"k-means++\", max_iter=300, n_init=10, random_state = 12), \n",
    "                    colors = 'yellowbrick')\n",
    "\n",
    "sil_visualizer.fit (X_tfidf)\n",
    "sil_visualizer.show()"
   ]
  },
  {
   "cell_type": "code",
   "execution_count": null,
   "id": "eaea6c81-cd46-4de7-99a6-8310acec6ef5",
   "metadata": {},
   "outputs": [],
   "source": [
    "true_k = 10 #visualizer.elbow_value_\n",
    "\n",
    "model = KMeans(n_clusters=true_k, init=\"k-means++\", max_iter=100, n_init=10, random_state = 10)\n",
    "\n",
    "model.fit(X_tfidf.toarray())\n",
    "\n",
    "order_centroids = model.cluster_centers_.argsort()[:, ::-1]\n",
    "terms = tfidf_features\n",
    "\n",
    "i = 0\n",
    "for cluster in order_centroids:\n",
    "    print (f'cluster {i}')\n",
    "    for keyword in cluster[:10]:\n",
    "        print (terms[keyword])\n",
    "    print (\"\")\n",
    "    i+=1"
   ]
  },
  {
   "cell_type": "code",
   "execution_count": null,
   "id": "1623717b-36bb-4d33-883f-d1fc6b639902",
   "metadata": {},
   "outputs": [],
   "source": [
    "# Reduce the dimensionality of the document vectors to 2D\n",
    "import plotly.express as px\n",
    "\n",
    "pca = PCA(n_components=2)\n",
    "doc_vectors_2d = pca.fit_transform(normalized_fc_doc_vectors)\n",
    "docs = data['updated_tokens'].copy()"
   ]
  }
 ],
 "metadata": {
  "kernelspec": {
   "display_name": "projectenv",
   "language": "python",
   "name": "projectenv"
  },
  "language_info": {
   "codemirror_mode": {
    "name": "ipython",
    "version": 3
   },
   "file_extension": ".py",
   "mimetype": "text/x-python",
   "name": "python",
   "nbconvert_exporter": "python",
   "pygments_lexer": "ipython3",
   "version": "3.10.1"
  }
 },
 "nbformat": 4,
 "nbformat_minor": 5
}
