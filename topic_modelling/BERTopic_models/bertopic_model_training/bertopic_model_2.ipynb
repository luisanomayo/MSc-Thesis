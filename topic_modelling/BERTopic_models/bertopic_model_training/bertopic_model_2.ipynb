{
 "cells": [
  {
   "cell_type": "markdown",
   "id": "4835839d-b41b-4d96-a378-ad80d26b3ad8",
   "metadata": {},
   "source": [
    "<span style=\"color: orange; font-family: Calibri Light;\">\n",
    "  <h1><b>BERTopic Model: Default Parameters with slightly processed Text</b></h1>\n",
    "</span>\n",
    "<span style = \"font-family: Calibri Light\">\n",
    "    In this model, we used the BerTopic model on slightly processed data\n",
    "</span>"
   ]
  },
  {
   "cell_type": "markdown",
   "id": "55b335b7-cd30-482c-b2d2-7feff17e182b",
   "metadata": {},
   "source": [
    "<span style=\"color: orange; font-family: Calibri Light;\">\n",
    "  <h2><b>I. Setup Environment</b></h2>\n",
    "</span>"
   ]
  },
  {
   "cell_type": "code",
   "execution_count": 1,
   "id": "4918b212-91f2-482b-ba89-124b79f78f02",
   "metadata": {},
   "outputs": [],
   "source": [
    "import os\n",
    "\n",
    "os.environ['PATH'] = \"/home/ec2-user/.local/bin:\" + os.environ['PATH']"
   ]
  },
  {
   "cell_type": "code",
   "execution_count": 2,
   "id": "66a0feb4-81f0-435c-98bd-01817973410b",
   "metadata": {
    "collapsed": true,
    "jupyter": {
     "outputs_hidden": true
    },
    "tags": []
   },
   "outputs": [
    {
     "name": "stdout",
     "output_type": "stream",
     "text": [
      "Defaulting to user installation because normal site-packages is not writeable\n",
      "Looking in indexes: https://pypi.org/simple, https://pip.repos.neuron.amazonaws.com\n",
      "Collecting bertopic\n",
      "  Obtaining dependency information for bertopic from https://files.pythonhosted.org/packages/06/49/f395e2e4d21dd49803494c8aec6087db61ea0ba211c6e5e57540b23334eb/bertopic-0.15.0-py2.py3-none-any.whl.metadata\n",
      "  Downloading bertopic-0.15.0-py2.py3-none-any.whl.metadata (20 kB)\n",
      "Collecting gensim\n",
      "  Downloading gensim-4.2.0-cp37-cp37m-manylinux_2_12_x86_64.manylinux2010_x86_64.whl (24.1 MB)\n",
      "\u001b[2K     \u001b[90m━━━━━━━━━━━━━━━━━━━━━━━━━━━━━━━━━━━━━━━━\u001b[0m \u001b[32m24.1/24.1 MB\u001b[0m \u001b[31m30.4 MB/s\u001b[0m eta \u001b[36m0:00:00\u001b[0m00:01\u001b[0m00:01\u001b[0m\n",
      "\u001b[?25hRequirement already satisfied: numpy>=1.20.0 in /usr/local/lib64/python3.7/site-packages (from bertopic) (1.21.5)\n",
      "Collecting hdbscan>=0.8.29 (from bertopic)\n",
      "  Downloading hdbscan-0.8.33.tar.gz (5.2 MB)\n",
      "\u001b[2K     \u001b[90m━━━━━━━━━━━━━━━━━━━━━━━━━━━━━━━━━━━━━━━━\u001b[0m \u001b[32m5.2/5.2 MB\u001b[0m \u001b[31m10.0 MB/s\u001b[0m eta \u001b[36m0:00:00\u001b[0m:00:01\u001b[0m0:01\u001b[0m\n",
      "\u001b[?25h  Installing build dependencies ... \u001b[?25ldone\n",
      "\u001b[?25h  Getting requirements to build wheel ... \u001b[?25ldone\n",
      "\u001b[?25h  Preparing metadata (pyproject.toml) ... \u001b[?25ldone\n",
      "\u001b[?25hCollecting umap-learn>=0.5.0 (from bertopic)\n",
      "  Downloading umap-learn-0.5.4.tar.gz (90 kB)\n",
      "\u001b[2K     \u001b[90m━━━━━━━━━━━━━━━━━━━━━━━━━━━━━━━━━━━━━━━━\u001b[0m \u001b[32m90.8/90.8 kB\u001b[0m \u001b[31m1.3 MB/s\u001b[0m eta \u001b[36m0:00:00\u001b[0mta \u001b[36m0:00:01\u001b[0m\n",
      "\u001b[?25h  Preparing metadata (setup.py) ... \u001b[?25ldone\n",
      "\u001b[?25hRequirement already satisfied: pandas>=1.1.5 in /usr/local/lib64/python3.7/site-packages (from bertopic) (1.3.5)\n",
      "Requirement already satisfied: scikit-learn>=0.22.2.post1 in /usr/local/lib64/python3.7/site-packages (from bertopic) (1.0.2)\n",
      "Requirement already satisfied: tqdm>=4.41.1 in /usr/local/lib/python3.7/site-packages (from bertopic) (4.62.3)\n",
      "Collecting sentence-transformers>=0.4.1 (from bertopic)\n",
      "  Downloading sentence-transformers-2.2.2.tar.gz (85 kB)\n",
      "\u001b[2K     \u001b[90m━━━━━━━━━━━━━━━━━━━━━━━━━━━━━━━━━━━━━━━\u001b[0m \u001b[32m86.0/86.0 kB\u001b[0m \u001b[31m991.0 kB/s\u001b[0m eta \u001b[36m0:00:00\u001b[0ma \u001b[36m0:00:01\u001b[0m\n",
      "\u001b[?25h  Preparing metadata (setup.py) ... \u001b[?25ldone\n",
      "\u001b[?25hCollecting plotly>=4.7.0 (from bertopic)\n",
      "  Obtaining dependency information for plotly>=4.7.0 from https://files.pythonhosted.org/packages/df/79/c80174d711ee26ee5da55a9cc3e248f1ec7a0188b5e4d6bbbbcd09b974b0/plotly-5.17.0-py2.py3-none-any.whl.metadata\n",
      "  Downloading plotly-5.17.0-py2.py3-none-any.whl.metadata (7.0 kB)\n",
      "Requirement already satisfied: scipy>=0.18.1 in /usr/local/lib64/python3.7/site-packages (from gensim) (1.7.3)\n",
      "Collecting smart-open>=1.8.1 (from gensim)\n",
      "  Obtaining dependency information for smart-open>=1.8.1 from https://files.pythonhosted.org/packages/fc/d9/d97f1db64b09278aba64e8c81b5d322d436132df5741c518f3823824fae0/smart_open-6.4.0-py3-none-any.whl.metadata\n",
      "  Downloading smart_open-6.4.0-py3-none-any.whl.metadata (21 kB)\n",
      "Requirement already satisfied: cython<3,>=0.27 in /usr/local/lib64/python3.7/site-packages (from hdbscan>=0.8.29->bertopic) (0.29.27)\n",
      "Requirement already satisfied: joblib>=1.0 in /usr/local/lib/python3.7/site-packages (from hdbscan>=0.8.29->bertopic) (1.1.0)\n",
      "Requirement already satisfied: python-dateutil>=2.7.3 in /usr/local/lib/python3.7/site-packages (from pandas>=1.1.5->bertopic) (2.8.2)\n",
      "Requirement already satisfied: pytz>=2017.3 in /usr/local/lib/python3.7/site-packages (from pandas>=1.1.5->bertopic) (2021.3)\n",
      "Collecting tenacity>=6.2.0 (from plotly>=4.7.0->bertopic)\n",
      "  Obtaining dependency information for tenacity>=6.2.0 from https://files.pythonhosted.org/packages/f4/f1/990741d5bb2487d529d20a433210ffa136a367751e454214013b441c4575/tenacity-8.2.3-py3-none-any.whl.metadata\n",
      "  Downloading tenacity-8.2.3-py3-none-any.whl.metadata (1.0 kB)\n",
      "Requirement already satisfied: packaging in /usr/local/lib/python3.7/site-packages (from plotly>=4.7.0->bertopic) (21.3)\n",
      "Requirement already satisfied: threadpoolctl>=2.0.0 in /usr/local/lib/python3.7/site-packages (from scikit-learn>=0.22.2.post1->bertopic) (3.1.0)\n",
      "Collecting transformers<5.0.0,>=4.6.0 (from sentence-transformers>=0.4.1->bertopic)\n",
      "  Obtaining dependency information for transformers<5.0.0,>=4.6.0 from https://files.pythonhosted.org/packages/5b/0b/e45d26ccd28568013523e04f325432ea88a442b4e3020b757cf4361f0120/transformers-4.30.2-py3-none-any.whl.metadata\n",
      "  Downloading transformers-4.30.2-py3-none-any.whl.metadata (113 kB)\n",
      "\u001b[2K     \u001b[90m━━━━━━━━━━━━━━━━━━━━━━━━━━━━━━━━━━━━━━\u001b[0m \u001b[32m113.6/113.6 kB\u001b[0m \u001b[31m30.3 MB/s\u001b[0m eta \u001b[36m0:00:00\u001b[0m\n",
      "\u001b[?25hRequirement already satisfied: torch>=1.6.0 in /usr/local/lib64/python3.7/site-packages (from sentence-transformers>=0.4.1->bertopic) (1.10.1)\n",
      "Requirement already satisfied: torchvision in /usr/local/lib64/python3.7/site-packages (from sentence-transformers>=0.4.1->bertopic) (0.11.2)\n",
      "Collecting nltk (from sentence-transformers>=0.4.1->bertopic)\n",
      "  Downloading nltk-3.8.1-py3-none-any.whl (1.5 MB)\n",
      "\u001b[2K     \u001b[90m━━━━━━━━━━━━━━━━━━━━━━━━━━━━━━━━━━━━━━━━\u001b[0m \u001b[32m1.5/1.5 MB\u001b[0m \u001b[31m4.2 MB/s\u001b[0m eta \u001b[36m0:00:00\u001b[0m0:00:01\u001b[0m\n",
      "\u001b[?25hCollecting sentencepiece (from sentence-transformers>=0.4.1->bertopic)\n",
      "  Downloading sentencepiece-0.1.99-cp37-cp37m-manylinux_2_17_x86_64.manylinux2014_x86_64.whl (1.3 MB)\n",
      "\u001b[2K     \u001b[90m━━━━━━━━━━━━━━━━━━━━━━━━━━━━━━━━━━━━━━━━\u001b[0m \u001b[32m1.3/1.3 MB\u001b[0m \u001b[31m5.0 MB/s\u001b[0m eta \u001b[36m0:00:00\u001b[0m0:00:01\u001b[0m\n",
      "\u001b[?25hCollecting huggingface-hub>=0.4.0 (from sentence-transformers>=0.4.1->bertopic)\n",
      "  Obtaining dependency information for huggingface-hub>=0.4.0 from https://files.pythonhosted.org/packages/7f/c4/adcbe9a696c135578cabcbdd7331332daad4d49b7c43688bc2d36b3a47d2/huggingface_hub-0.16.4-py3-none-any.whl.metadata\n",
      "  Downloading huggingface_hub-0.16.4-py3-none-any.whl.metadata (12 kB)\n",
      "Collecting numba>=0.51.2 (from umap-learn>=0.5.0->bertopic)\n",
      "  Downloading numba-0.56.4-cp37-cp37m-manylinux2014_x86_64.manylinux_2_17_x86_64.whl (3.5 MB)\n",
      "\u001b[2K     \u001b[90m━━━━━━━━━━━━━━━━━━━━━━━━━━━━━━━━━━━━━━━━\u001b[0m \u001b[32m3.5/3.5 MB\u001b[0m \u001b[31m5.4 MB/s\u001b[0m eta \u001b[36m0:00:00\u001b[0m0:00:01\u001b[0m\n",
      "\u001b[?25hCollecting pynndescent>=0.5 (from umap-learn>=0.5.0->bertopic)\n",
      "  Downloading pynndescent-0.5.10.tar.gz (1.1 MB)\n",
      "\u001b[2K     \u001b[90m━━━━━━━━━━━━━━━━━━━━━━━━━━━━━━━━━━━━━━━━\u001b[0m \u001b[32m1.1/1.1 MB\u001b[0m \u001b[31m6.7 MB/s\u001b[0m eta \u001b[36m0:00:00\u001b[0m0:00:01\u001b[0m\n",
      "\u001b[?25h  Preparing metadata (setup.py) ... \u001b[?25ldone\n",
      "\u001b[?25hCollecting tbb>=2019.0 (from umap-learn>=0.5.0->bertopic)\n",
      "  Obtaining dependency information for tbb>=2019.0 from https://files.pythonhosted.org/packages/79/a8/01ac205ff1f68f543aa73d69d6947218cd0973992a4b60cf0a4bfe507561/tbb-2021.10.0-py2.py3-none-manylinux1_x86_64.whl.metadata\n",
      "  Downloading tbb-2021.10.0-py2.py3-none-manylinux1_x86_64.whl.metadata (1.0 kB)\n",
      "Collecting filelock (from huggingface-hub>=0.4.0->sentence-transformers>=0.4.1->bertopic)\n",
      "  Obtaining dependency information for filelock from https://files.pythonhosted.org/packages/00/45/ec3407adf6f6b5bf867a4462b2b0af27597a26bd3cd6e2534cb6ab029938/filelock-3.12.2-py3-none-any.whl.metadata\n",
      "  Downloading filelock-3.12.2-py3-none-any.whl.metadata (2.7 kB)\n",
      "Collecting fsspec (from huggingface-hub>=0.4.0->sentence-transformers>=0.4.1->bertopic)\n",
      "  Downloading fsspec-2023.1.0-py3-none-any.whl (143 kB)\n",
      "\u001b[2K     \u001b[90m━━━━━━━━━━━━━━━━━━━━━━━━━━━━━━━━━━━━━\u001b[0m \u001b[32m143.0/143.0 kB\u001b[0m \u001b[31m978.4 kB/s\u001b[0m eta \u001b[36m0:00:00\u001b[0ma \u001b[36m0:00:01\u001b[0m\n",
      "\u001b[?25hRequirement already satisfied: requests in /usr/local/lib/python3.7/site-packages (from huggingface-hub>=0.4.0->sentence-transformers>=0.4.1->bertopic) (2.31.0)\n",
      "Requirement already satisfied: pyyaml>=5.1 in /usr/local/lib64/python3.7/site-packages (from huggingface-hub>=0.4.0->sentence-transformers>=0.4.1->bertopic) (5.4.1)\n",
      "Requirement already satisfied: typing-extensions>=3.7.4.3 in /usr/local/lib/python3.7/site-packages (from huggingface-hub>=0.4.0->sentence-transformers>=0.4.1->bertopic) (4.7.1)\n",
      "Requirement already satisfied: importlib-metadata in /usr/local/lib/python3.7/site-packages (from huggingface-hub>=0.4.0->sentence-transformers>=0.4.1->bertopic) (4.10.1)\n",
      "Collecting llvmlite<0.40,>=0.39.0dev0 (from numba>=0.51.2->umap-learn>=0.5.0->bertopic)\n",
      "  Downloading llvmlite-0.39.1-cp37-cp37m-manylinux_2_17_x86_64.manylinux2014_x86_64.whl (34.6 MB)\n",
      "\u001b[2K     \u001b[90m━━━━━━━━━━━━━━━━━━━━━━━━━━━━━━━━━━━━━━━━\u001b[0m \u001b[32m34.6/34.6 MB\u001b[0m \u001b[31m4.6 MB/s\u001b[0m eta \u001b[36m0:00:00\u001b[0m:00:01\u001b[0m00:01\u001b[0m\n",
      "\u001b[?25hRequirement already satisfied: setuptools in /usr/local/lib/python3.7/site-packages (from numba>=0.51.2->umap-learn>=0.5.0->bertopic) (60.8.2)\n",
      "Requirement already satisfied: pyparsing!=3.0.5,>=2.0.2 in /usr/local/lib/python3.7/site-packages (from packaging->plotly>=4.7.0->bertopic) (3.0.7)\n",
      "Requirement already satisfied: six>=1.5 in /usr/local/lib/python3.7/site-packages (from python-dateutil>=2.7.3->pandas>=1.1.5->bertopic) (1.16.0)\n",
      "Collecting regex!=2019.12.17 (from transformers<5.0.0,>=4.6.0->sentence-transformers>=0.4.1->bertopic)\n",
      "  Obtaining dependency information for regex!=2019.12.17 from https://files.pythonhosted.org/packages/63/78/ed291d95116695b8b5d7469a931d7c2e83d942df0853915ee504cee98bcf/regex-2023.8.8-cp37-cp37m-manylinux_2_17_x86_64.manylinux2014_x86_64.whl.metadata\n",
      "  Downloading regex-2023.8.8-cp37-cp37m-manylinux_2_17_x86_64.manylinux2014_x86_64.whl.metadata (40 kB)\n",
      "\u001b[2K     \u001b[90m━━━━━━━━━━━━━━━━━━━━━━━━━━━━━━━━━━━━━━━━\u001b[0m \u001b[32m40.9/40.9 kB\u001b[0m \u001b[31m12.5 MB/s\u001b[0m eta \u001b[36m0:00:00\u001b[0m\n",
      "\u001b[?25hCollecting tokenizers!=0.11.3,<0.14,>=0.11.1 (from transformers<5.0.0,>=4.6.0->sentence-transformers>=0.4.1->bertopic)\n",
      "  Downloading tokenizers-0.13.3-cp37-cp37m-manylinux_2_17_x86_64.manylinux2014_x86_64.whl (7.8 MB)\n",
      "\u001b[2K     \u001b[90m━━━━━━━━━━━━━━━━━━━━━━━━━━━━━━━━━━━━━━━━\u001b[0m \u001b[32m7.8/7.8 MB\u001b[0m \u001b[31m48.4 MB/s\u001b[0m eta \u001b[36m0:00:00\u001b[0m:00:01\u001b[0m00:01\u001b[0m\n",
      "\u001b[?25hCollecting safetensors>=0.3.1 (from transformers<5.0.0,>=4.6.0->sentence-transformers>=0.4.1->bertopic)\n",
      "  Obtaining dependency information for safetensors>=0.3.1 from https://files.pythonhosted.org/packages/a2/04/e55780fcb9e1a1e4bf22b881146087d9b13f60b9ab1a30c773dd398d5f65/safetensors-0.3.3-cp37-cp37m-manylinux_2_17_x86_64.manylinux2014_x86_64.whl.metadata\n",
      "  Downloading safetensors-0.3.3-cp37-cp37m-manylinux_2_17_x86_64.manylinux2014_x86_64.whl.metadata (4.7 kB)\n",
      "Requirement already satisfied: click in /usr/local/lib/python3.7/site-packages (from nltk->sentence-transformers>=0.4.1->bertopic) (8.0.3)\n",
      "Requirement already satisfied: pillow!=8.3.0,>=5.3.0 in /usr/local/lib64/python3.7/site-packages (from torchvision->sentence-transformers>=0.4.1->bertopic) (9.0.1)\n",
      "Requirement already satisfied: zipp>=0.5 in /usr/local/lib/python3.7/site-packages (from importlib-metadata->huggingface-hub>=0.4.0->sentence-transformers>=0.4.1->bertopic) (3.7.0)\n",
      "Requirement already satisfied: charset-normalizer<4,>=2 in /usr/local/lib/python3.7/site-packages (from requests->huggingface-hub>=0.4.0->sentence-transformers>=0.4.1->bertopic) (2.0.11)\n",
      "Requirement already satisfied: idna<4,>=2.5 in /usr/local/lib/python3.7/site-packages (from requests->huggingface-hub>=0.4.0->sentence-transformers>=0.4.1->bertopic) (3.3)\n",
      "Requirement already satisfied: urllib3<3,>=1.21.1 in /usr/local/lib/python3.7/site-packages (from requests->huggingface-hub>=0.4.0->sentence-transformers>=0.4.1->bertopic) (1.26.8)\n",
      "Requirement already satisfied: certifi>=2017.4.17 in /usr/local/lib/python3.7/site-packages (from requests->huggingface-hub>=0.4.0->sentence-transformers>=0.4.1->bertopic) (2021.10.8)\n",
      "Downloading bertopic-0.15.0-py2.py3-none-any.whl (143 kB)\n",
      "\u001b[2K   \u001b[90m━━━━━━━━━━━━━━━━━━━━━━━━━━━━━━━━━━━━━━━━\u001b[0m \u001b[32m143.4/143.4 kB\u001b[0m \u001b[31m1.3 MB/s\u001b[0m eta \u001b[36m0:00:00\u001b[0m:00:01\u001b[0m\n",
      "\u001b[?25hDownloading plotly-5.17.0-py2.py3-none-any.whl (15.6 MB)\n",
      "\u001b[2K   \u001b[90m━━━━━━━━━━━━━━━━━━━━━━━━━━━━━━━━━━━━━━━━\u001b[0m \u001b[32m15.6/15.6 MB\u001b[0m \u001b[31m8.7 MB/s\u001b[0m eta \u001b[36m0:00:00\u001b[0m0:00:01\u001b[0m00:01\u001b[0m\n",
      "\u001b[?25hDownloading smart_open-6.4.0-py3-none-any.whl (57 kB)\n",
      "\u001b[2K   \u001b[90m━━━━━━━━━━━━━━━━━━━━━━━━━━━━━━━━━━━━━━━━\u001b[0m \u001b[32m57.0/57.0 kB\u001b[0m \u001b[31m17.7 MB/s\u001b[0m eta \u001b[36m0:00:00\u001b[0m\n",
      "\u001b[?25hDownloading huggingface_hub-0.16.4-py3-none-any.whl (268 kB)\n",
      "\u001b[2K   \u001b[90m━━━━━━━━━━━━━━━━━━━━━━━━━━━━━━━━━━━━━━━━\u001b[0m \u001b[32m268.8/268.8 kB\u001b[0m \u001b[31m58.4 MB/s\u001b[0m eta \u001b[36m0:00:00\u001b[0m\n",
      "\u001b[?25hDownloading tbb-2021.10.0-py2.py3-none-manylinux1_x86_64.whl (4.4 MB)\n",
      "\u001b[2K   \u001b[90m━━━━━━━━━━━━━━━━━━━━━━━━━━━━━━━━━━━━━━━━\u001b[0m \u001b[32m4.4/4.4 MB\u001b[0m \u001b[31m85.8 MB/s\u001b[0m eta \u001b[36m0:00:00\u001b[0m:00:01\u001b[0m\n",
      "\u001b[?25hDownloading tenacity-8.2.3-py3-none-any.whl (24 kB)\n",
      "Downloading transformers-4.30.2-py3-none-any.whl (7.2 MB)\n",
      "\u001b[2K   \u001b[90m━━━━━━━━━━━━━━━━━━━━━━━━━━━━━━━━━━━━━━━━\u001b[0m \u001b[32m7.2/7.2 MB\u001b[0m \u001b[31m13.9 MB/s\u001b[0m eta \u001b[36m0:00:00\u001b[0m:00:01\u001b[0m00:01\u001b[0m\n",
      "\u001b[?25hDownloading regex-2023.8.8-cp37-cp37m-manylinux_2_17_x86_64.manylinux2014_x86_64.whl (758 kB)\n",
      "\u001b[2K   \u001b[90m━━━━━━━━━━━━━━━━━━━━━━━━━━━━━━━━━━━━━━━━\u001b[0m \u001b[32m759.0/759.0 kB\u001b[0m \u001b[31m3.3 MB/s\u001b[0m eta \u001b[36m0:00:00\u001b[0m:00:01\u001b[0m\n",
      "\u001b[?25hDownloading safetensors-0.3.3-cp37-cp37m-manylinux_2_17_x86_64.manylinux2014_x86_64.whl (1.3 MB)\n",
      "\u001b[2K   \u001b[90m━━━━━━━━━━━━━━━━━━━━━━━━━━━━━━━━━━━━━━━━\u001b[0m \u001b[32m1.3/1.3 MB\u001b[0m \u001b[31m17.6 MB/s\u001b[0m eta \u001b[36m0:00:00\u001b[0m:00:01\u001b[0m\n",
      "\u001b[?25hDownloading filelock-3.12.2-py3-none-any.whl (10 kB)\n",
      "Building wheels for collected packages: hdbscan, sentence-transformers, umap-learn, pynndescent\n",
      "  Building wheel for hdbscan (pyproject.toml) ... \u001b[?25ldone\n",
      "\u001b[?25h  Created wheel for hdbscan: filename=hdbscan-0.8.33-cp37-cp37m-linux_x86_64.whl size=2337973 sha256=536c91ec48a9d1e84cb1c9b17c8d6153c735a0860c0212146d9f12e9d84f3c73\n",
      "  Stored in directory: /home/ec2-user/.cache/pip/wheels/af/1f/71/ad36cf482247fc0725b271e8ce10f9ee5f84414d1783c875b2\n",
      "  Building wheel for sentence-transformers (setup.py) ... \u001b[?25ldone\n",
      "\u001b[?25h  Created wheel for sentence-transformers: filename=sentence_transformers-2.2.2-py3-none-any.whl size=125940 sha256=4d38677246345b28b7722552a1ed30c00678a2c0b2f60b4ce74232da5d3dd837\n",
      "  Stored in directory: /home/ec2-user/.cache/pip/wheels/bf/06/fb/d59c1e5bd1dac7f6cf61ec0036cc3a10ab8fecaa6b2c3d3ee9\n",
      "  Building wheel for umap-learn (setup.py) ... \u001b[?25ldone\n",
      "\u001b[?25h  Created wheel for umap-learn: filename=umap_learn-0.5.4-py3-none-any.whl size=86794 sha256=658545e11c2b901092d5172f1e54dc63f353b402f8e9283d5af2522a8ef29ead\n",
      "  Stored in directory: /home/ec2-user/.cache/pip/wheels/6f/40/5b/53326040d43108786ba65048baae2a4e8e5f4e69f9d9842c32\n",
      "  Building wheel for pynndescent (setup.py) ... \u001b[?25ldone\n",
      "\u001b[?25h  Created wheel for pynndescent: filename=pynndescent-0.5.10-py3-none-any.whl size=55638 sha256=86b975099469e7f6f6bc3234d6ccf93eb1bb1c56e03ed97a8239eef504ad014c\n",
      "  Stored in directory: /home/ec2-user/.cache/pip/wheels/e1/38/f7/4d18bfa0426d0a999e6fb3ed8622298ea40b3ba807f903cd02\n",
      "Successfully built hdbscan sentence-transformers umap-learn pynndescent\n",
      "Installing collected packages: tokenizers, tbb, sentencepiece, safetensors, tenacity, smart-open, regex, llvmlite, fsspec, filelock, plotly, numba, huggingface-hub, gensim, transformers, pynndescent, nltk, hdbscan, umap-learn, sentence-transformers, bertopic\n",
      "Successfully installed bertopic-0.15.0 filelock-3.12.2 fsspec-2023.1.0 gensim-4.2.0 hdbscan-0.8.33 huggingface-hub-0.16.4 llvmlite-0.39.1 nltk-3.8.1 numba-0.56.4 plotly-5.17.0 pynndescent-0.5.10 regex-2023.8.8 safetensors-0.3.3 sentence-transformers-2.2.2 sentencepiece-0.1.99 smart-open-6.4.0 tbb-2021.10.0 tenacity-8.2.3 tokenizers-0.13.3 transformers-4.30.2 umap-learn-0.5.4\n",
      "Note: you may need to restart the kernel to use updated packages.\n"
     ]
    }
   ],
   "source": [
    "%pip install bertopic gensim"
   ]
  },
  {
   "cell_type": "code",
   "execution_count": 1,
   "id": "19d0e2f1-d97b-4cd8-919d-ed145cbe2c8e",
   "metadata": {},
   "outputs": [
    {
     "name": "stdout",
     "output_type": "stream",
     "text": [
      "Note: you may need to restart the kernel to use updated packages.\n"
     ]
    }
   ],
   "source": [
    "pip freeze > requirements.txt"
   ]
  },
  {
   "cell_type": "code",
   "execution_count": 2,
   "id": "b13175c5-f665-408c-88e8-a9ae9e591a86",
   "metadata": {},
   "outputs": [
    {
     "name": "stderr",
     "output_type": "stream",
     "text": [
      "2023-09-24 03:46:12.552311: I tensorflow/core/platform/cpu_feature_guard.cc:193] This TensorFlow binary is optimized with oneAPI Deep Neural Network Library (oneDNN) to use the following CPU instructions in performance-critical operations:  AVX2 AVX512F AVX512_VNNI FMA\n",
      "To enable them in other operations, rebuild TensorFlow with the appropriate compiler flags.\n",
      "2023-09-24 03:46:25.055084: I tensorflow/core/util/port.cc:104] oneDNN custom operations are on. You may see slightly different numerical results due to floating-point round-off errors from different computation orders. To turn them off, set the environment variable `TF_ENABLE_ONEDNN_OPTS=0`.\n",
      "2023-09-24 03:47:14.232897: W tensorflow/compiler/xla/stream_executor/platform/default/dso_loader.cc:64] Could not load dynamic library 'libnvinfer.so.7'; dlerror: libnvinfer.so.7: cannot open shared object file: No such file or directory\n",
      "2023-09-24 03:47:14.233358: W tensorflow/compiler/xla/stream_executor/platform/default/dso_loader.cc:64] Could not load dynamic library 'libnvinfer_plugin.so.7'; dlerror: libnvinfer_plugin.so.7: cannot open shared object file: No such file or directory\n",
      "2023-09-24 03:47:14.233367: W tensorflow/compiler/tf2tensorrt/utils/py_utils.cc:38] TF-TRT Warning: Cannot dlopen some TensorRT libraries. If you would like to use Nvidia GPU with TensorRT, please make sure the missing libraries mentioned above are installed properly.\n",
      "Matplotlib is building the font cache; this may take a moment.\n"
     ]
    }
   ],
   "source": [
    "import pandas as pd\n",
    "import numpy as np\n",
    "\n",
    "import re\n",
    "\n",
    "import ast\n",
    "import csv\n",
    "import os\n",
    "import random\n",
    "import time\n",
    "import pickle\n",
    "from collections import Counter\n",
    "\n",
    "from glob import glob\n",
    "\n",
    "#NLP libraries\n",
    "from nltk import FreqDist\n",
    "from gensim.models import Word2Vec\n",
    "from gensim.utils import tokenize\n",
    "from gensim.models.phrases import Phrases\n",
    "from gensim.models.doc2vec import Doc2Vec, TaggedDocument\n",
    "from gensim.corpora.dictionary import Dictionary\n",
    "from gensim.models.coherencemodel import CoherenceModel\n",
    "\n",
    "from bertopic import BERTopic\n",
    "from bertopic.representation import MaximalMarginalRelevance, KeyBERTInspired\n",
    "from bertopic.vectorizers import  ClassTfidfTransformer\n",
    "from sentence_transformers import SentenceTransformer\n",
    "\n",
    "#for vis\n",
    "import matplotlib.pyplot as plt\n",
    "import plotly.io as pio\n",
    "pio.renderers.default = 'iframe'\n",
    "\n",
    "from umap import UMAP\n",
    "\n",
    "from sklearn.cluster import KMeans\n",
    "from sentence_transformers import SentenceTransformer\n",
    "from sklearn.feature_extraction.text import CountVectorizer\n",
    "from sklearn.metrics import silhouette_score\n",
    "\n",
    "from hdbscan import HDBSCAN"
   ]
  },
  {
   "cell_type": "code",
   "execution_count": 3,
   "id": "02bb3fab-d945-4078-ade0-03894b0f6ff7",
   "metadata": {},
   "outputs": [],
   "source": [
    "random.seed(880)  # Set the seed for Python's random module\n",
    "np.random.seed(880)  # Set the seed for NumPy's random module"
   ]
  },
  {
   "cell_type": "markdown",
   "id": "c0c248a3-a5d7-4db3-80b3-3a738f70bab5",
   "metadata": {},
   "source": [
    "<span style=\"color: orange; font-family: Calibri Light;\">\n",
    "  <h2><b>II. Load and Pre-process Data</b></h2>\n",
    "</span>"
   ]
  },
  {
   "cell_type": "code",
   "execution_count": 4,
   "id": "12bcf8d3-fa5e-4c5e-914e-88761e651963",
   "metadata": {},
   "outputs": [
    {
     "data": {
      "text/plain": [
       "['../../Data/comments.csv',\n",
       " '../../Data/emoji_subset.csv',\n",
       " '../../Data/full_posts.csv',\n",
       " '../../Data/bert_train_lemma.csv',\n",
       " '../../Data/bert_train_no_prep.csv',\n",
       " '../../Data/full_data_no_preprocessing.csv',\n",
       " '../../Data/subset_sample_no_label.csv',\n",
       " '../../Data/test_data_lemma.csv',\n",
       " '../../Data/bert-data-sw.csv']"
      ]
     },
     "execution_count": 4,
     "metadata": {},
     "output_type": "execute_result"
    }
   ],
   "source": [
    "#access dataset files\n",
    "folder_path = os.path.join(\"..\", \"../Data\")\n",
    "file_type = \"*.csv\"\n",
    "\n",
    "#list of dataset file paths\n",
    "document_path = glob(os.path.join(folder_path, file_type))\n",
    "\n",
    "document_path"
   ]
  },
  {
   "cell_type": "code",
   "execution_count": 5,
   "id": "ff592e7d-1d57-48c1-80cf-5281f1b59c6b",
   "metadata": {},
   "outputs": [
    {
     "data": {
      "text/html": [
       "<div>\n",
       "<style scoped>\n",
       "    .dataframe tbody tr th:only-of-type {\n",
       "        vertical-align: middle;\n",
       "    }\n",
       "\n",
       "    .dataframe tbody tr th {\n",
       "        vertical-align: top;\n",
       "    }\n",
       "\n",
       "    .dataframe thead th {\n",
       "        text-align: right;\n",
       "    }\n",
       "</style>\n",
       "<table border=\"1\" class=\"dataframe\">\n",
       "  <thead>\n",
       "    <tr style=\"text-align: right;\">\n",
       "      <th></th>\n",
       "      <th>text_type</th>\n",
       "      <th>ID</th>\n",
       "      <th>date_created</th>\n",
       "      <th>year</th>\n",
       "      <th>long_text</th>\n",
       "    </tr>\n",
       "  </thead>\n",
       "  <tbody>\n",
       "    <tr>\n",
       "      <th>0</th>\n",
       "      <td>comment</td>\n",
       "      <td>gtfo2hl</td>\n",
       "      <td>2021-04-05 13:00:32</td>\n",
       "      <td>2021</td>\n",
       "      <td>*Cuntry roads, take me hoem*</td>\n",
       "    </tr>\n",
       "    <tr>\n",
       "      <th>1</th>\n",
       "      <td>comment</td>\n",
       "      <td>gtfqkbv</td>\n",
       "      <td>2021-04-05 13:41:40</td>\n",
       "      <td>2021</td>\n",
       "      <td>That’s been there for several years, sent a pi...</td>\n",
       "    </tr>\n",
       "    <tr>\n",
       "      <th>2</th>\n",
       "      <td>comment</td>\n",
       "      <td>gtfou07</td>\n",
       "      <td>2021-04-05 13:13:23</td>\n",
       "      <td>2021</td>\n",
       "      <td>I am single and I have not traveled to any cun...</td>\n",
       "    </tr>\n",
       "    <tr>\n",
       "      <th>3</th>\n",
       "      <td>comment</td>\n",
       "      <td>gtfrgpe</td>\n",
       "      <td>2021-04-05 13:56:09</td>\n",
       "      <td>2021</td>\n",
       "      <td>What happens when you shop at dragon mart...</td>\n",
       "    </tr>\n",
       "    <tr>\n",
       "      <th>4</th>\n",
       "      <td>comment</td>\n",
       "      <td>gtg5mwv</td>\n",
       "      <td>2021-04-05 16:51:54</td>\n",
       "      <td>2021</td>\n",
       "      <td>I am cunting on them to do so 😅</td>\n",
       "    </tr>\n",
       "  </tbody>\n",
       "</table>\n",
       "</div>"
      ],
      "text/plain": [
       "  text_type       ID         date_created  year  \\\n",
       "0   comment  gtfo2hl  2021-04-05 13:00:32  2021   \n",
       "1   comment  gtfqkbv  2021-04-05 13:41:40  2021   \n",
       "2   comment  gtfou07  2021-04-05 13:13:23  2021   \n",
       "3   comment  gtfrgpe  2021-04-05 13:56:09  2021   \n",
       "4   comment  gtg5mwv  2021-04-05 16:51:54  2021   \n",
       "\n",
       "                                           long_text  \n",
       "0                       *Cuntry roads, take me hoem*  \n",
       "1  That’s been there for several years, sent a pi...  \n",
       "2  I am single and I have not traveled to any cun...  \n",
       "3       What happens when you shop at dragon mart...  \n",
       "4                    I am cunting on them to do so 😅  "
      ]
     },
     "execution_count": 5,
     "metadata": {},
     "output_type": "execute_result"
    }
   ],
   "source": [
    "#import cleaned data\n",
    "\n",
    "def list_converter(text):\n",
    "    #to revert list->str conversion from pd.read_csv\n",
    "    return ast.literal_eval(text)\n",
    "\n",
    "\n",
    "train_data = pd.read_csv('../../Data/bert_train_no_prep.csv', converters ={'tokens':list_converter})\n",
    "train_data = train_data.drop(columns = ['index'])\n",
    "train_data.head()"
   ]
  },
  {
   "cell_type": "code",
   "execution_count": 6,
   "id": "a6ff53e0-3a7b-4e24-9931-78190b4e9f5a",
   "metadata": {},
   "outputs": [
    {
     "name": "stdout",
     "output_type": "stream",
     "text": [
      "<class 'pandas.core.frame.DataFrame'>\n",
      "RangeIndex: 127686 entries, 0 to 127685\n",
      "Data columns (total 5 columns):\n",
      " #   Column        Non-Null Count   Dtype \n",
      "---  ------        --------------   ----- \n",
      " 0   text_type     127686 non-null  object\n",
      " 1   ID            127686 non-null  object\n",
      " 2   date_created  127686 non-null  object\n",
      " 3   year          127686 non-null  int64 \n",
      " 4   long_text     127686 non-null  object\n",
      "dtypes: int64(1), object(4)\n",
      "memory usage: 4.9+ MB\n"
     ]
    }
   ],
   "source": [
    "#sort by data created\n",
    "train_data.sort_values(by='date_created', inplace = True, ignore_index = True)\n",
    "train_data.info()"
   ]
  },
  {
   "cell_type": "code",
   "execution_count": 7,
   "id": "e4e93d18-ff0e-4f56-b3ad-fbdfef58a82b",
   "metadata": {},
   "outputs": [
    {
     "data": {
      "text/html": [
       "<div>\n",
       "<style scoped>\n",
       "    .dataframe tbody tr th:only-of-type {\n",
       "        vertical-align: middle;\n",
       "    }\n",
       "\n",
       "    .dataframe tbody tr th {\n",
       "        vertical-align: top;\n",
       "    }\n",
       "\n",
       "    .dataframe thead th {\n",
       "        text-align: right;\n",
       "    }\n",
       "</style>\n",
       "<table border=\"1\" class=\"dataframe\">\n",
       "  <thead>\n",
       "    <tr style=\"text-align: right;\">\n",
       "      <th></th>\n",
       "      <th>text_type</th>\n",
       "      <th>ID</th>\n",
       "      <th>date_created</th>\n",
       "      <th>year</th>\n",
       "      <th>long_text</th>\n",
       "    </tr>\n",
       "  </thead>\n",
       "  <tbody>\n",
       "    <tr>\n",
       "      <th>0</th>\n",
       "      <td>comment</td>\n",
       "      <td>c5c54q4</td>\n",
       "      <td>2012-07-11 00:50:58</td>\n",
       "      <td>2012</td>\n",
       "      <td>That dessert's a bit rich for me.</td>\n",
       "    </tr>\n",
       "    <tr>\n",
       "      <th>1</th>\n",
       "      <td>comment</td>\n",
       "      <td>c5edn0u</td>\n",
       "      <td>2012-07-15 21:59:34</td>\n",
       "      <td>2012</td>\n",
       "      <td>\"A SILVER one?! I HATE YOU DAD!\"</td>\n",
       "    </tr>\n",
       "    <tr>\n",
       "      <th>2</th>\n",
       "      <td>comment</td>\n",
       "      <td>c6d18gk</td>\n",
       "      <td>2012-09-25 07:57:13</td>\n",
       "      <td>2012</td>\n",
       "      <td>Yet i stared at the picture for a good 45 seco...</td>\n",
       "    </tr>\n",
       "    <tr>\n",
       "      <th>3</th>\n",
       "      <td>comment</td>\n",
       "      <td>c6d1cs1</td>\n",
       "      <td>2012-09-25 08:04:04</td>\n",
       "      <td>2012</td>\n",
       "      <td>seriously?</td>\n",
       "    </tr>\n",
       "    <tr>\n",
       "      <th>4</th>\n",
       "      <td>comment</td>\n",
       "      <td>c6d2fss</td>\n",
       "      <td>2012-09-25 09:13:23</td>\n",
       "      <td>2012</td>\n",
       "      <td>[FYSR] = from your sister subreddit.\\n\\nIMO, i...</td>\n",
       "    </tr>\n",
       "  </tbody>\n",
       "</table>\n",
       "</div>"
      ],
      "text/plain": [
       "  text_type       ID         date_created  year  \\\n",
       "0   comment  c5c54q4  2012-07-11 00:50:58  2012   \n",
       "1   comment  c5edn0u  2012-07-15 21:59:34  2012   \n",
       "2   comment  c6d18gk  2012-09-25 07:57:13  2012   \n",
       "3   comment  c6d1cs1  2012-09-25 08:04:04  2012   \n",
       "4   comment  c6d2fss  2012-09-25 09:13:23  2012   \n",
       "\n",
       "                                           long_text  \n",
       "0                  That dessert's a bit rich for me.  \n",
       "1                  \"A SILVER one?! I HATE YOU DAD!\"   \n",
       "2  Yet i stared at the picture for a good 45 seco...  \n",
       "3                                         seriously?  \n",
       "4  [FYSR] = from your sister subreddit.\\n\\nIMO, i...  "
      ]
     },
     "execution_count": 7,
     "metadata": {},
     "output_type": "execute_result"
    }
   ],
   "source": [
    "train_data.head()"
   ]
  },
  {
   "cell_type": "code",
   "execution_count": 8,
   "id": "992be478-3e13-4688-9664-3ba56869c670",
   "metadata": {},
   "outputs": [
    {
     "data": {
      "text/html": [
       "<div>\n",
       "<style scoped>\n",
       "    .dataframe tbody tr th:only-of-type {\n",
       "        vertical-align: middle;\n",
       "    }\n",
       "\n",
       "    .dataframe tbody tr th {\n",
       "        vertical-align: top;\n",
       "    }\n",
       "\n",
       "    .dataframe thead th {\n",
       "        text-align: right;\n",
       "    }\n",
       "</style>\n",
       "<table border=\"1\" class=\"dataframe\">\n",
       "  <thead>\n",
       "    <tr style=\"text-align: right;\">\n",
       "      <th></th>\n",
       "      <th>text_type</th>\n",
       "      <th>ID</th>\n",
       "      <th>date_created</th>\n",
       "      <th>year</th>\n",
       "      <th>long_text</th>\n",
       "    </tr>\n",
       "  </thead>\n",
       "  <tbody>\n",
       "  </tbody>\n",
       "</table>\n",
       "</div>"
      ],
      "text/plain": [
       "Empty DataFrame\n",
       "Columns: [text_type, ID, date_created, year, long_text]\n",
       "Index: []"
      ]
     },
     "execution_count": 8,
     "metadata": {},
     "output_type": "execute_result"
    }
   ],
   "source": [
    "#check for empty values\n",
    "train_data[train_data['long_text'].isna()]"
   ]
  },
  {
   "cell_type": "code",
   "execution_count": 9,
   "id": "877ab81c-6688-444b-85aa-b682a9211c2c",
   "metadata": {
    "tags": []
   },
   "outputs": [],
   "source": [
    "#remove HTML, URLs and newline and tab characters\n",
    "\n",
    "def text_preprocess(text):\n",
    "    #remove HTMLs and URLs\n",
    "    text = re.sub(r'<.*?>|http\\S+', '', text)\n",
    "    \n",
    "    #remove newline and tab characters\n",
    "    text = text.replace('\\n', ' ').replace ('\\t', ' ')\n",
    "    \n",
    "    #remove extra whitespace\n",
    "    text = re.sub(r'\\s+',' ', text)\n",
    "    \n",
    "    return text"
   ]
  },
  {
   "cell_type": "code",
   "execution_count": 10,
   "id": "77445837-4fd8-4f49-9239-9cf28a1fd809",
   "metadata": {},
   "outputs": [],
   "source": [
    "train_data['prep_text'] = train_data['long_text'].apply(text_preprocess)"
   ]
  },
  {
   "cell_type": "code",
   "execution_count": 11,
   "id": "1e1c4f90-7fae-446d-b541-bde0328f1c4d",
   "metadata": {},
   "outputs": [
    {
     "data": {
      "text/html": [
       "<div>\n",
       "<style scoped>\n",
       "    .dataframe tbody tr th:only-of-type {\n",
       "        vertical-align: middle;\n",
       "    }\n",
       "\n",
       "    .dataframe tbody tr th {\n",
       "        vertical-align: top;\n",
       "    }\n",
       "\n",
       "    .dataframe thead th {\n",
       "        text-align: right;\n",
       "    }\n",
       "</style>\n",
       "<table border=\"1\" class=\"dataframe\">\n",
       "  <thead>\n",
       "    <tr style=\"text-align: right;\">\n",
       "      <th></th>\n",
       "      <th>text_type</th>\n",
       "      <th>ID</th>\n",
       "      <th>date_created</th>\n",
       "      <th>year</th>\n",
       "      <th>long_text</th>\n",
       "      <th>prep_text</th>\n",
       "    </tr>\n",
       "  </thead>\n",
       "  <tbody>\n",
       "    <tr>\n",
       "      <th>0</th>\n",
       "      <td>comment</td>\n",
       "      <td>c5c54q4</td>\n",
       "      <td>2012-07-11 00:50:58</td>\n",
       "      <td>2012</td>\n",
       "      <td>That dessert's a bit rich for me.</td>\n",
       "      <td>That dessert's a bit rich for me.</td>\n",
       "    </tr>\n",
       "    <tr>\n",
       "      <th>1</th>\n",
       "      <td>comment</td>\n",
       "      <td>c5edn0u</td>\n",
       "      <td>2012-07-15 21:59:34</td>\n",
       "      <td>2012</td>\n",
       "      <td>\"A SILVER one?! I HATE YOU DAD!\"</td>\n",
       "      <td>\"A SILVER one?! I HATE YOU DAD!\"</td>\n",
       "    </tr>\n",
       "    <tr>\n",
       "      <th>2</th>\n",
       "      <td>comment</td>\n",
       "      <td>c6d18gk</td>\n",
       "      <td>2012-09-25 07:57:13</td>\n",
       "      <td>2012</td>\n",
       "      <td>Yet i stared at the picture for a good 45 seco...</td>\n",
       "      <td>Yet i stared at the picture for a good 45 seco...</td>\n",
       "    </tr>\n",
       "    <tr>\n",
       "      <th>3</th>\n",
       "      <td>comment</td>\n",
       "      <td>c6d1cs1</td>\n",
       "      <td>2012-09-25 08:04:04</td>\n",
       "      <td>2012</td>\n",
       "      <td>seriously?</td>\n",
       "      <td>seriously?</td>\n",
       "    </tr>\n",
       "    <tr>\n",
       "      <th>4</th>\n",
       "      <td>comment</td>\n",
       "      <td>c6d2fss</td>\n",
       "      <td>2012-09-25 09:13:23</td>\n",
       "      <td>2012</td>\n",
       "      <td>[FYSR] = from your sister subreddit.\\n\\nIMO, i...</td>\n",
       "      <td>[FYSR] = from your sister subreddit. IMO, its ...</td>\n",
       "    </tr>\n",
       "  </tbody>\n",
       "</table>\n",
       "</div>"
      ],
      "text/plain": [
       "  text_type       ID         date_created  year  \\\n",
       "0   comment  c5c54q4  2012-07-11 00:50:58  2012   \n",
       "1   comment  c5edn0u  2012-07-15 21:59:34  2012   \n",
       "2   comment  c6d18gk  2012-09-25 07:57:13  2012   \n",
       "3   comment  c6d1cs1  2012-09-25 08:04:04  2012   \n",
       "4   comment  c6d2fss  2012-09-25 09:13:23  2012   \n",
       "\n",
       "                                           long_text  \\\n",
       "0                  That dessert's a bit rich for me.   \n",
       "1                  \"A SILVER one?! I HATE YOU DAD!\"    \n",
       "2  Yet i stared at the picture for a good 45 seco...   \n",
       "3                                         seriously?   \n",
       "4  [FYSR] = from your sister subreddit.\\n\\nIMO, i...   \n",
       "\n",
       "                                           prep_text  \n",
       "0                  That dessert's a bit rich for me.  \n",
       "1                  \"A SILVER one?! I HATE YOU DAD!\"   \n",
       "2  Yet i stared at the picture for a good 45 seco...  \n",
       "3                                         seriously?  \n",
       "4  [FYSR] = from your sister subreddit. IMO, its ...  "
      ]
     },
     "execution_count": 11,
     "metadata": {},
     "output_type": "execute_result"
    }
   ],
   "source": [
    "train_data.head()"
   ]
  },
  {
   "cell_type": "code",
   "execution_count": 12,
   "id": "ca1446b5-adeb-4bcb-bca4-58d9506aa4fd",
   "metadata": {},
   "outputs": [],
   "source": [
    "#remove rows with less than 5 words\n",
    "train_data = train_data[train_data['prep_text'].apply(lambda x:len(x.split()) > 5)]"
   ]
  },
  {
   "cell_type": "code",
   "execution_count": 13,
   "id": "a46fbed6-e662-4fd9-a4a4-ec59f3c26fc4",
   "metadata": {},
   "outputs": [
    {
     "data": {
      "text/html": [
       "<div>\n",
       "<style scoped>\n",
       "    .dataframe tbody tr th:only-of-type {\n",
       "        vertical-align: middle;\n",
       "    }\n",
       "\n",
       "    .dataframe tbody tr th {\n",
       "        vertical-align: top;\n",
       "    }\n",
       "\n",
       "    .dataframe thead th {\n",
       "        text-align: right;\n",
       "    }\n",
       "</style>\n",
       "<table border=\"1\" class=\"dataframe\">\n",
       "  <thead>\n",
       "    <tr style=\"text-align: right;\">\n",
       "      <th></th>\n",
       "      <th>text_type</th>\n",
       "      <th>ID</th>\n",
       "      <th>date_created</th>\n",
       "      <th>year</th>\n",
       "      <th>long_text</th>\n",
       "      <th>prep_text</th>\n",
       "    </tr>\n",
       "  </thead>\n",
       "  <tbody>\n",
       "    <tr>\n",
       "      <th>0</th>\n",
       "      <td>comment</td>\n",
       "      <td>c5c54q4</td>\n",
       "      <td>2012-07-11 00:50:58</td>\n",
       "      <td>2012</td>\n",
       "      <td>That dessert's a bit rich for me.</td>\n",
       "      <td>That dessert's a bit rich for me.</td>\n",
       "    </tr>\n",
       "    <tr>\n",
       "      <th>1</th>\n",
       "      <td>comment</td>\n",
       "      <td>c5edn0u</td>\n",
       "      <td>2012-07-15 21:59:34</td>\n",
       "      <td>2012</td>\n",
       "      <td>\"A SILVER one?! I HATE YOU DAD!\"</td>\n",
       "      <td>\"A SILVER one?! I HATE YOU DAD!\"</td>\n",
       "    </tr>\n",
       "    <tr>\n",
       "      <th>2</th>\n",
       "      <td>comment</td>\n",
       "      <td>c6d18gk</td>\n",
       "      <td>2012-09-25 07:57:13</td>\n",
       "      <td>2012</td>\n",
       "      <td>Yet i stared at the picture for a good 45 seco...</td>\n",
       "      <td>Yet i stared at the picture for a good 45 seco...</td>\n",
       "    </tr>\n",
       "    <tr>\n",
       "      <th>4</th>\n",
       "      <td>comment</td>\n",
       "      <td>c6d2fss</td>\n",
       "      <td>2012-09-25 09:13:23</td>\n",
       "      <td>2012</td>\n",
       "      <td>[FYSR] = from your sister subreddit.\\n\\nIMO, i...</td>\n",
       "      <td>[FYSR] = from your sister subreddit. IMO, its ...</td>\n",
       "    </tr>\n",
       "    <tr>\n",
       "      <th>5</th>\n",
       "      <td>comment</td>\n",
       "      <td>c6d46es</td>\n",
       "      <td>2012-09-25 12:32:08</td>\n",
       "      <td>2012</td>\n",
       "      <td>common give prince william harry a break he ju...</td>\n",
       "      <td>common give prince william harry a break he ju...</td>\n",
       "    </tr>\n",
       "  </tbody>\n",
       "</table>\n",
       "</div>"
      ],
      "text/plain": [
       "  text_type       ID         date_created  year  \\\n",
       "0   comment  c5c54q4  2012-07-11 00:50:58  2012   \n",
       "1   comment  c5edn0u  2012-07-15 21:59:34  2012   \n",
       "2   comment  c6d18gk  2012-09-25 07:57:13  2012   \n",
       "4   comment  c6d2fss  2012-09-25 09:13:23  2012   \n",
       "5   comment  c6d46es  2012-09-25 12:32:08  2012   \n",
       "\n",
       "                                           long_text  \\\n",
       "0                  That dessert's a bit rich for me.   \n",
       "1                  \"A SILVER one?! I HATE YOU DAD!\"    \n",
       "2  Yet i stared at the picture for a good 45 seco...   \n",
       "4  [FYSR] = from your sister subreddit.\\n\\nIMO, i...   \n",
       "5  common give prince william harry a break he ju...   \n",
       "\n",
       "                                           prep_text  \n",
       "0                  That dessert's a bit rich for me.  \n",
       "1                  \"A SILVER one?! I HATE YOU DAD!\"   \n",
       "2  Yet i stared at the picture for a good 45 seco...  \n",
       "4  [FYSR] = from your sister subreddit. IMO, its ...  \n",
       "5  common give prince william harry a break he ju...  "
      ]
     },
     "execution_count": 13,
     "metadata": {},
     "output_type": "execute_result"
    }
   ],
   "source": [
    "train_data.head()"
   ]
  },
  {
   "cell_type": "code",
   "execution_count": 14,
   "id": "37c8d9c3-5b34-4ef9-8801-7b863464572f",
   "metadata": {},
   "outputs": [
    {
     "name": "stdout",
     "output_type": "stream",
     "text": [
      "<class 'pandas.core.frame.DataFrame'>\n",
      "Int64Index: 98957 entries, 0 to 127683\n",
      "Data columns (total 6 columns):\n",
      " #   Column        Non-Null Count  Dtype \n",
      "---  ------        --------------  ----- \n",
      " 0   text_type     98957 non-null  object\n",
      " 1   ID            98957 non-null  object\n",
      " 2   date_created  98957 non-null  object\n",
      " 3   year          98957 non-null  int64 \n",
      " 4   long_text     98957 non-null  object\n",
      " 5   prep_text     98957 non-null  object\n",
      "dtypes: int64(1), object(5)\n",
      "memory usage: 5.3+ MB\n"
     ]
    }
   ],
   "source": [
    "train_data.info()"
   ]
  },
  {
   "cell_type": "markdown",
   "id": "831008ab-0bd6-4f81-8e33-59fa94c35e2a",
   "metadata": {},
   "source": [
    "---"
   ]
  },
  {
   "cell_type": "markdown",
   "id": "64f9d806-b8a2-4452-a6e1-575bec63a4d9",
   "metadata": {},
   "source": [
    "<span style=\"color: orange; font-family: Calibri Light;\">\n",
    "  <h2><b>III. Train Model</b></h2>\n",
    "</span>\n",
    "<p>First, we will train the model using different nr_topics (5,10,15,20,25,50) and compare their performance using quantitative measures such as coherence and topic diversity. Also, introduce larger min_cluster in the HDBSCAN model to reduce the presence of outliers.<br>\n",
    "Coherence we will measure with 'c_v' and 'c_npmi', and topic diversity, we will measure uniqueness and exclusivity.</p>"
   ]
  },
  {
   "cell_type": "code",
   "execution_count": 15,
   "id": "a98adbe0-04ec-459f-8d89-099c2a876678",
   "metadata": {},
   "outputs": [],
   "source": [
    "#prepare data for bertopic model\n",
    "docs = train_data['prep_text'].values"
   ]
  },
  {
   "cell_type": "code",
   "execution_count": 16,
   "id": "a65730c6-ae35-4ca5-8711-c342ef1e0e33",
   "metadata": {},
   "outputs": [
    {
     "data": {
      "text/plain": [
       "array([\"That dessert's a bit rich for me.\",\n",
       "       '\"A SILVER one?! I HATE YOU DAD!\" ',\n",
       "       'Yet i stared at the picture for a good 45 seconds to see if I was missing something.',\n",
       "       '[FYSR] = from your sister subreddit. IMO, its mildly interesting to think about the chance events that had to happen for this thread to be possible. I mean, what are the odds that out of only 34 subscribers (some of whom might not be active) in a small subreddit in florida one of them would have a family connection to dubai? No one I know prior to my arrival had ever been here or had a desire to go. ',\n",
       "       'common give prince william harry a break he just wants to show off his cap'],\n",
       "      dtype=object)"
      ]
     },
     "execution_count": 16,
     "metadata": {},
     "output_type": "execute_result"
    }
   ],
   "source": [
    "docs[:5]"
   ]
  },
  {
   "cell_type": "code",
   "execution_count": 17,
   "id": "c72c438a-8b69-4a07-96ef-a1534936a26f",
   "metadata": {},
   "outputs": [
    {
     "data": {
      "text/html": [
       "<div>\n",
       "<style scoped>\n",
       "    .dataframe tbody tr th:only-of-type {\n",
       "        vertical-align: middle;\n",
       "    }\n",
       "\n",
       "    .dataframe tbody tr th {\n",
       "        vertical-align: top;\n",
       "    }\n",
       "\n",
       "    .dataframe thead th {\n",
       "        text-align: right;\n",
       "    }\n",
       "</style>\n",
       "<table border=\"1\" class=\"dataframe\">\n",
       "  <thead>\n",
       "    <tr style=\"text-align: right;\">\n",
       "      <th></th>\n",
       "      <th>text_type</th>\n",
       "      <th>ID</th>\n",
       "      <th>date_created</th>\n",
       "      <th>year</th>\n",
       "      <th>long_text</th>\n",
       "      <th>prep_text</th>\n",
       "    </tr>\n",
       "  </thead>\n",
       "  <tbody>\n",
       "  </tbody>\n",
       "</table>\n",
       "</div>"
      ],
      "text/plain": [
       "Empty DataFrame\n",
       "Columns: [text_type, ID, date_created, year, long_text, prep_text]\n",
       "Index: []"
      ]
     },
     "execution_count": 17,
     "metadata": {},
     "output_type": "execute_result"
    }
   ],
   "source": [
    "#check for empty values\n",
    "train_data[train_data['prep_text'].isna()]"
   ]
  },
  {
   "cell_type": "code",
   "execution_count": 17,
   "id": "b5f78a7b-2978-4d7f-842c-f8110814752a",
   "metadata": {
    "tags": []
   },
   "outputs": [
    {
     "data": {
      "application/vnd.jupyter.widget-view+json": {
       "model_id": "8f2aa9ab659647d3827ad0036cc58096",
       "version_major": 2,
       "version_minor": 0
      },
      "text/plain": [
       "Downloading (…)e9125/.gitattributes:   0%|          | 0.00/1.18k [00:00<?, ?B/s]"
      ]
     },
     "metadata": {},
     "output_type": "display_data"
    },
    {
     "data": {
      "application/vnd.jupyter.widget-view+json": {
       "model_id": "cf98119303064a9aa52ff2d9500f2438",
       "version_major": 2,
       "version_minor": 0
      },
      "text/plain": [
       "Downloading (…)_Pooling/config.json:   0%|          | 0.00/190 [00:00<?, ?B/s]"
      ]
     },
     "metadata": {},
     "output_type": "display_data"
    },
    {
     "data": {
      "application/vnd.jupyter.widget-view+json": {
       "model_id": "146a8bebb04e4553b053d3a5b05829be",
       "version_major": 2,
       "version_minor": 0
      },
      "text/plain": [
       "Downloading (…)7e55de9125/README.md:   0%|          | 0.00/10.6k [00:00<?, ?B/s]"
      ]
     },
     "metadata": {},
     "output_type": "display_data"
    },
    {
     "data": {
      "application/vnd.jupyter.widget-view+json": {
       "model_id": "1e45b61f9f394d3295983e4406cb080f",
       "version_major": 2,
       "version_minor": 0
      },
      "text/plain": [
       "Downloading (…)55de9125/config.json:   0%|          | 0.00/612 [00:00<?, ?B/s]"
      ]
     },
     "metadata": {},
     "output_type": "display_data"
    },
    {
     "data": {
      "application/vnd.jupyter.widget-view+json": {
       "model_id": "4a8511639bda44bdb2938b3387f11097",
       "version_major": 2,
       "version_minor": 0
      },
      "text/plain": [
       "Downloading (…)ce_transformers.json:   0%|          | 0.00/116 [00:00<?, ?B/s]"
      ]
     },
     "metadata": {},
     "output_type": "display_data"
    },
    {
     "data": {
      "application/vnd.jupyter.widget-view+json": {
       "model_id": "c1d25cd25b7d47d58eefc9a01b503926",
       "version_major": 2,
       "version_minor": 0
      },
      "text/plain": [
       "Downloading (…)125/data_config.json:   0%|          | 0.00/39.3k [00:00<?, ?B/s]"
      ]
     },
     "metadata": {},
     "output_type": "display_data"
    },
    {
     "data": {
      "application/vnd.jupyter.widget-view+json": {
       "model_id": "2437a58d1cd14249a804cc200a00af82",
       "version_major": 2,
       "version_minor": 0
      },
      "text/plain": [
       "Downloading pytorch_model.bin:   0%|          | 0.00/90.9M [00:00<?, ?B/s]"
      ]
     },
     "metadata": {},
     "output_type": "display_data"
    },
    {
     "data": {
      "application/vnd.jupyter.widget-view+json": {
       "model_id": "be810b9a97f64043a8a976ebf0f0a021",
       "version_major": 2,
       "version_minor": 0
      },
      "text/plain": [
       "Downloading (…)nce_bert_config.json:   0%|          | 0.00/53.0 [00:00<?, ?B/s]"
      ]
     },
     "metadata": {},
     "output_type": "display_data"
    },
    {
     "data": {
      "application/vnd.jupyter.widget-view+json": {
       "model_id": "bc7006ee803e4264be70f3084bbce9e8",
       "version_major": 2,
       "version_minor": 0
      },
      "text/plain": [
       "Downloading (…)cial_tokens_map.json:   0%|          | 0.00/112 [00:00<?, ?B/s]"
      ]
     },
     "metadata": {},
     "output_type": "display_data"
    },
    {
     "data": {
      "application/vnd.jupyter.widget-view+json": {
       "model_id": "86cdc27f8ba94e2ea62d2a813c71d169",
       "version_major": 2,
       "version_minor": 0
      },
      "text/plain": [
       "Downloading (…)e9125/tokenizer.json:   0%|          | 0.00/466k [00:00<?, ?B/s]"
      ]
     },
     "metadata": {},
     "output_type": "display_data"
    },
    {
     "data": {
      "application/vnd.jupyter.widget-view+json": {
       "model_id": "04b140eab63a46bc908af62e13f415af",
       "version_major": 2,
       "version_minor": 0
      },
      "text/plain": [
       "Downloading (…)okenizer_config.json:   0%|          | 0.00/350 [00:00<?, ?B/s]"
      ]
     },
     "metadata": {},
     "output_type": "display_data"
    },
    {
     "data": {
      "application/vnd.jupyter.widget-view+json": {
       "model_id": "d5191ec3c9b140a9a9d874a3edc6ac3c",
       "version_major": 2,
       "version_minor": 0
      },
      "text/plain": [
       "Downloading (…)9125/train_script.py:   0%|          | 0.00/13.2k [00:00<?, ?B/s]"
      ]
     },
     "metadata": {},
     "output_type": "display_data"
    },
    {
     "data": {
      "application/vnd.jupyter.widget-view+json": {
       "model_id": "9b2001cd74a741c3b1b38cc0d718bd2a",
       "version_major": 2,
       "version_minor": 0
      },
      "text/plain": [
       "Downloading (…)7e55de9125/vocab.txt:   0%|          | 0.00/232k [00:00<?, ?B/s]"
      ]
     },
     "metadata": {},
     "output_type": "display_data"
    },
    {
     "data": {
      "application/vnd.jupyter.widget-view+json": {
       "model_id": "394cc617a56e464ca44b7132c57ed78c",
       "version_major": 2,
       "version_minor": 0
      },
      "text/plain": [
       "Downloading (…)5de9125/modules.json:   0%|          | 0.00/349 [00:00<?, ?B/s]"
      ]
     },
     "metadata": {},
     "output_type": "display_data"
    },
    {
     "data": {
      "application/vnd.jupyter.widget-view+json": {
       "model_id": "2c5337ca21dc48129cc7653807397818",
       "version_major": 2,
       "version_minor": 0
      },
      "text/plain": [
       "Batches:   0%|          | 0/3093 [00:00<?, ?it/s]"
      ]
     },
     "metadata": {},
     "output_type": "display_data"
    }
   ],
   "source": [
    "#prepare sub-models\n",
    "umap_model = UMAP(n_neighbors=15, n_components=5, min_dist=0.0, metric='cosine', random_state=382)\n",
    "hdbscan_model = HDBSCAN(min_cluster_size = 80, min_samples = 10, metric = 'euclidean', prediction_data = True)\n",
    "vectorizer_model = CountVectorizer(max_df = 1000, min_df = 10, stop_words = 'english', ngram_range = (1,2))\n",
    "ctfidf_model = ClassTfidfTransformer(bm25_weighting= True, reduce_frequent_words=True)\n",
    "representation_model = MaximalMarginalRelevance(diversity = 0.5)\n",
    "sentence_model = SentenceTransformer(\"all-MiniLM-L6-v2\")\n",
    "embeddings = sentence_model.encode(docs, show_progress_bar=True)"
   ]
  },
  {
   "cell_type": "code",
   "execution_count": 18,
   "id": "1b98280a-c12d-4c03-8b5c-9433829fc7ad",
   "metadata": {
    "collapsed": true,
    "jupyter": {
     "outputs_hidden": true
    },
    "tags": []
   },
   "outputs": [
    {
     "name": "stdout",
     "output_type": "stream",
     "text": [
      "huggingface/tokenizers: The current process just got forked, after parallelism has already been used. Disabling parallelism to avoid deadlocks...\n",
      "To disable this warning, you can either:\n",
      "\t- Avoid using `tokenizers` before the fork if possible\n",
      "\t- Explicitly set the environment variable TOKENIZERS_PARALLELISM=(true | false)\n",
      "huggingface/tokenizers: The current process just got forked, after parallelism has already been used. Disabling parallelism to avoid deadlocks...\n",
      "To disable this warning, you can either:\n",
      "\t- Avoid using `tokenizers` before the fork if possible\n",
      "\t- Explicitly set the environment variable TOKENIZERS_PARALLELISM=(true | false)\n",
      "huggingface/tokenizers: The current process just got forked, after parallelism has already been used. Disabling parallelism to avoid deadlocks...\n",
      "To disable this warning, you can either:\n",
      "\t- Avoid using `tokenizers` before the fork if possible\n",
      "\t- Explicitly set the environment variable TOKENIZERS_PARALLELISM=(true | false)\n",
      "huggingface/tokenizers: The current process just got forked, after parallelism has already been used. Disabling parallelism to avoid deadlocks...\n",
      "To disable this warning, you can either:\n",
      "\t- Avoid using `tokenizers` before the fork if possible\n",
      "\t- Explicitly set the environment variable TOKENIZERS_PARALLELISM=(true | false)\n",
      "huggingface/tokenizers: The current process just got forked, after parallelism has already been used. Disabling parallelism to avoid deadlocks...\n",
      "To disable this warning, you can either:\n",
      "\t- Avoid using `tokenizers` before the fork if possible\n",
      "\t- Explicitly set the environment variable TOKENIZERS_PARALLELISM=(true | false)\n",
      "huggingface/tokenizers: The current process just got forked, after parallelism has already been used. Disabling parallelism to avoid deadlocks...\n",
      "To disable this warning, you can either:\n",
      "\t- Avoid using `tokenizers` before the fork if possible\n",
      "\t- Explicitly set the environment variable TOKENIZERS_PARALLELISM=(true | false)\n",
      "huggingface/tokenizers: The current process just got forked, after parallelism has already been used. Disabling parallelism to avoid deadlocks...\n",
      "To disable this warning, you can either:\n",
      "\t- Avoid using `tokenizers` before the fork if possible\n",
      "\t- Explicitly set the environment variable TOKENIZERS_PARALLELISM=(true | false)\n",
      "huggingface/tokenizers: The current process just got forked, after parallelism has already been used. Disabling parallelism to avoid deadlocks...\n",
      "To disable this warning, you can either:\n",
      "\t- Avoid using `tokenizers` before the fork if possible\n",
      "\t- Explicitly set the environment variable TOKENIZERS_PARALLELISM=(true | false)\n",
      "\t- Explicitly set the environment variable TOKENIZERS_PARALLELISM=(true | false)\n",
      "\t- Explicitly set the environment variable TOKENIZERS_PARALLELISM=(true | false)\n",
      "huggingface/tokenizers: The current process just got forked, after parallelism has already been used. Disabling parallelism to avoid deadlocks...\n",
      "To disable this warning, you can either:\n",
      "\t- Avoid using `tokenizers` before the fork if possible\n",
      "\t- Explicitly set the environment variable TOKENIZERS_PARALLELISM=(true | false)\n",
      "huggingface/tokenizers: The current process just got forked, after parallelism has already been used. Disabling parallelism to avoid deadlocks...\n",
      "To disable this warning, you can either:\n",
      "\t- Avoid using `tokenizers` before the fork if possible\n",
      "\t- Explicitly set the environment variable TOKENIZERS_PARALLELISM=(true | false)\n",
      "huggingface/tokenizers: The current process just got forked, after parallelism has already been used. Disabling parallelism to avoid deadlocks...\n",
      "To disable this warning, you can either:\n",
      "\t- Avoid using `tokenizers` before the fork if possible\n",
      "\t- Explicitly set the environment variable TOKENIZERS_PARALLELISM=(true | false)\n",
      "\t- Avoid using `tokenizers` before the fork if possible\n",
      "\t- Explicitly set the environment variable TOKENIZERS_PARALLELISM=(true | false)\n",
      "To disable this warning, you can either:\n",
      "\t- Avoid using `tokenizers` before the fork if possible\n",
      "\t- Explicitly set the environment variable TOKENIZERS_PARALLELISM=(true | false)\n",
      "For 20 topics:\n",
      "Coherence(c_v) = 0.3510076424822271,\n",
      "Coherence(c_npmi) = -0.20732926296551776,\n",
      "Topic Diversity-Uniquesness = 0.975,\n",
      "Topic Diversity-Exclusivity = 0.95\n",
      "huggingface/tokenizers: The current process just got forked, after parallelism has already been used. Disabling parallelism to avoid deadlocks...\n",
      "To disable this warning, you can either:\n",
      "\t- Avoid using `tokenizers` before the fork if possible\n",
      "\t- Explicitly set the environment variable TOKENIZERS_PARALLELISM=(true | false)\n",
      "huggingface/tokenizers: The current process just got forked, after parallelism has already been used. Disabling parallelism to avoid deadlocks...\n",
      "To disable this warning, you can either:\n",
      "\t- Avoid using `tokenizers` before the fork if possible\n",
      "\t- Explicitly set the environment variable TOKENIZERS_PARALLELISM=(true | false)\n",
      "huggingface/tokenizers: The current process just got forked, after parallelism has already been used. Disabling parallelism to avoid deadlocks...\n",
      "To disable this warning, you can either:\n",
      "\t- Avoid using `tokenizers` before the fork if possible\n",
      "\t- Explicitly set the environment variable TOKENIZERS_PARALLELISM=(true | false)\n",
      "huggingface/tokenizers: The current process just got forked, after parallelism has already been used. Disabling parallelism to avoid deadlocks...\n",
      "To disable this warning, you can either:\n",
      "\t- Avoid using `tokenizers` before the fork if possible\n",
      "\t- Explicitly set the environment variable TOKENIZERS_PARALLELISM=(true | false)\n",
      "huggingface/tokenizers: The current process just got forked, after parallelism has already been used. Disabling parallelism to avoid deadlocks...\n",
      "To disable this warning, you can either:\n",
      "\t- Avoid using `tokenizers` before the fork if possible\n",
      "\t- Explicitly set the environment variable TOKENIZERS_PARALLELISM=(true | false)\n",
      "huggingface/tokenizers: The current process just got forked, after parallelism has already been used. Disabling parallelism to avoid deadlocks...\n",
      "To disable this warning, you can either:\n",
      "\t- Avoid using `tokenizers` before the fork if possible\n",
      "\t- Explicitly set the environment variable TOKENIZERS_PARALLELISM=(true | false)\n",
      "\t- Explicitly set the environment variable TOKENIZERS_PARALLELISM=(true | false)\n",
      "\t- Explicitly set the environment variable TOKENIZERS_PARALLELISM=(true | false)\n",
      "For 30 topics:\n",
      "Coherence(c_v) = 0.34738536379342594,\n",
      "Coherence(c_npmi) = -0.2099453862236837,\n",
      "Topic Diversity-Uniquesness = 0.92,\n",
      "Topic Diversity-Exclusivity = 0.84\n",
      "huggingface/tokenizers: The current process just got forked, after parallelism has already been used. Disabling parallelism to avoid deadlocks...\n",
      "To disable this warning, you can either:\n",
      "\t- Avoid using `tokenizers` before the fork if possible\n",
      "\t- Explicitly set the environment variable TOKENIZERS_PARALLELISM=(true | false)\n",
      "huggingface/tokenizers: The current process just got forked, after parallelism has already been used. Disabling parallelism to avoid deadlocks...\n",
      "To disable this warning, you can either:\n",
      "\t- Avoid using `tokenizers` before the fork if possible\n",
      "\t- Explicitly set the environment variable TOKENIZERS_PARALLELISM=(true | false)\n",
      "huggingface/tokenizers: The current process just got forked, after parallelism has already been used. Disabling parallelism to avoid deadlocks...\n",
      "To disable this warning, you can either:\n",
      "\t- Avoid using `tokenizers` before the fork if possible\n",
      "\t- Explicitly set the environment variable TOKENIZERS_PARALLELISM=(true | false)\n",
      "\t- Explicitly set the environment variable TOKENIZERS_PARALLELISM=(true | false)\n",
      "huggingface/tokenizers: The current process just got forked, after parallelism has already been used. Disabling parallelism to avoid deadlocks...\n",
      "To disable this warning, you can either:\n",
      "\t- Avoid using `tokenizers` before the fork if possible\n",
      "\t- Explicitly set the environment variable TOKENIZERS_PARALLELISM=(true | false)\n",
      "huggingface/tokenizers: The current process just got forked, after parallelism has already been used. Disabling parallelism to avoid deadlocks...\n",
      "To disable this warning, you can either:\n",
      "\t- Avoid using `tokenizers` before the fork if possible\n",
      "\t- Explicitly set the environment variable TOKENIZERS_PARALLELISM=(true | false)\n",
      "huggingface/tokenizers: The current process just got forked, after parallelism has already been used. Disabling parallelism to avoid deadlocks...\n",
      "To disable this warning, you can either:\n",
      "\t- Avoid using `tokenizers` before the fork if possible\n",
      "\t- Explicitly set the environment variable TOKENIZERS_PARALLELISM=(true | false)\n",
      "For 50 topics:\n",
      "Coherence(c_v) = 0.3616217730443397,\n",
      "Coherence(c_npmi) = -0.22096904533644782,\n",
      "Topic Diversity-Uniquesness = 0.92,\n",
      "Topic Diversity-Exclusivity = 0.85\n",
      "This code took 10.81 minutes to execute\n"
     ]
    }
   ],
   "source": [
    "#train bert models\n",
    "\n",
    "topic_range = [20,30,50]\n",
    "cv_scores = []\n",
    "cnpmi_scores = []\n",
    "topic_uniqueness = []\n",
    "topic_exclusivity = []\n",
    "#loop over topics_range and calculate topic coherence and topic diversity\n",
    "\n",
    "start_time = time.time()\n",
    "for num_topics in topic_range:\n",
    "    #train bertopic model\n",
    "    model = BERTopic(embedding_model=sentence_model, umap_model=umap_model,\n",
    "                     hdbscan_model = hdbscan_model,vectorizer_model=vectorizer_model,\n",
    "                     ctfidf_model= ctfidf_model, representation_model = representation_model,nr_topics = num_topics)\n",
    "    \n",
    "    topics,_ = model.fit_transform(docs, embeddings)\n",
    "    \n",
    "    #calculate coherence score(c_v)\n",
    "    topic_reps = model.get_topic_info()\n",
    "    dictionary = Dictionary([words.split() for words in docs])\n",
    "    corpus = [dictionary.doc2bow(doc.split()) for doc in docs]\n",
    "    cv = CoherenceModel(topics = topic_reps['Representation'].tolist(),\n",
    "                       texts = [doc.split() for doc in train_data['prep_text'].values],\n",
    "                        dictionary = dictionary, coherence = 'c_v')\n",
    "    cv_coherence =cv.get_coherence()\n",
    "    cv_scores.append(cv_coherence)\n",
    "    \n",
    "    #calculate coherence score(c_npmi)\n",
    "    cnpmi = CoherenceModel(topics = topic_reps['Representation'].tolist(),\n",
    "                       texts = [doc.split() for doc in train_data['prep_text'].values],\n",
    "                        dictionary = dictionary, coherence = 'c_npmi')\n",
    "    cnpmi_coherence =cnpmi.get_coherence()\n",
    "    cnpmi_scores.append(cnpmi_coherence)\n",
    "    \n",
    "    #calculate topic diversity - exclusivity\n",
    "    n = 10\n",
    "    #unique topics\n",
    "    unique_topics = model.get_topic_freq()['Topic'].tolist()\n",
    "    #remove outlier topics\n",
    "    unique_topics = [topic for topic in unique_topics if topics != -1]\n",
    "    #get top_n words for each topic\n",
    "    topic_words = [model.get_topic(topic_id)[:n] for topic_id in unique_topics]\n",
    "    all_top_words = [word for topic in topic_words for word,_ in topic]\n",
    "    #calculate exclusivity\n",
    "    word_counts = Counter(all_top_words)\n",
    "    exclusivity = sum(1 for word, count in word_counts.items() if count == 1)/ len(all_top_words)\n",
    "    topic_exclusivity.append(exclusivity)\n",
    "    #calculate topic diversity - uniqueness\n",
    "    uniqueness = len(set(all_top_words))/ (n * len(unique_topics))\n",
    "    topic_uniqueness.append(uniqueness)\n",
    "    \n",
    "    \n",
    "    print(f\"For {num_topics} topics:\\nCoherence(c_v) = {cv_coherence},\\nCoherence(c_npmi) = {cnpmi_coherence},\\nTopic Diversity-Uniquesness = {uniqueness},\\nTopic Diversity-Exclusivity = {exclusivity}\")\n",
    "    \n",
    "print(f\"This code took {(time.time() - start_time)/60 :.2f} minutes to execute\")    "
   ]
  },
  {
   "cell_type": "code",
   "execution_count": 20,
   "id": "47fb48bb-fc60-4f44-a71f-a39bd0a470ea",
   "metadata": {},
   "outputs": [
    {
     "data": {
      "text/html": [
       "<div>\n",
       "<style scoped>\n",
       "    .dataframe tbody tr th:only-of-type {\n",
       "        vertical-align: middle;\n",
       "    }\n",
       "\n",
       "    .dataframe tbody tr th {\n",
       "        vertical-align: top;\n",
       "    }\n",
       "\n",
       "    .dataframe thead th {\n",
       "        text-align: right;\n",
       "    }\n",
       "</style>\n",
       "<table border=\"1\" class=\"dataframe\">\n",
       "  <thead>\n",
       "    <tr style=\"text-align: right;\">\n",
       "      <th></th>\n",
       "      <th>topics</th>\n",
       "      <th>coherence(c_v)</th>\n",
       "      <th>coherence(c_npmi)</th>\n",
       "      <th>topic_diveristy_uniqueness</th>\n",
       "      <th>topic_diversity_exclusivity</th>\n",
       "    </tr>\n",
       "  </thead>\n",
       "  <tbody>\n",
       "    <tr>\n",
       "      <th>0</th>\n",
       "      <td>20</td>\n",
       "      <td>0.351008</td>\n",
       "      <td>-0.207329</td>\n",
       "      <td>0.975</td>\n",
       "      <td>0.95</td>\n",
       "    </tr>\n",
       "    <tr>\n",
       "      <th>1</th>\n",
       "      <td>30</td>\n",
       "      <td>0.347385</td>\n",
       "      <td>-0.209945</td>\n",
       "      <td>0.920</td>\n",
       "      <td>0.84</td>\n",
       "    </tr>\n",
       "    <tr>\n",
       "      <th>2</th>\n",
       "      <td>50</td>\n",
       "      <td>0.361622</td>\n",
       "      <td>-0.220969</td>\n",
       "      <td>0.920</td>\n",
       "      <td>0.85</td>\n",
       "    </tr>\n",
       "  </tbody>\n",
       "</table>\n",
       "</div>"
      ],
      "text/plain": [
       "   topics  coherence(c_v)  coherence(c_npmi)  topic_diveristy_uniqueness  \\\n",
       "0      20        0.351008          -0.207329                       0.975   \n",
       "1      30        0.347385          -0.209945                       0.920   \n",
       "2      50        0.361622          -0.220969                       0.920   \n",
       "\n",
       "   topic_diversity_exclusivity  \n",
       "0                         0.95  \n",
       "1                         0.84  \n",
       "2                         0.85  "
      ]
     },
     "execution_count": 20,
     "metadata": {},
     "output_type": "execute_result"
    }
   ],
   "source": [
    "evals = {'topics': topic_range,'coherence(c_v)': cv_scores, 'coherence(c_npmi)':cnpmi_scores, 'topic_diveristy_uniqueness':topic_uniqueness, 'topic_diversity_exclusivity': topic_exclusivity}\n",
    "bert_default_raw_text_eval = pd.DataFrame(evals)\n",
    "\n",
    "bert_default_raw_text_eval.to_csv('training_results/bert_default_swords2_text_evals.csv')\n",
    "bert_default_raw_text_eval"
   ]
  },
  {
   "cell_type": "code",
   "execution_count": 21,
   "id": "f4a6852c-b8c4-4952-83aa-5eb1ef4229ea",
   "metadata": {},
   "outputs": [
    {
     "data": {
      "image/png": "[encoded data removed]",
      "text/plain": [
       "<Figure size 864x288 with 2 Axes>"
      ]
     },
     "metadata": {
      "needs_background": "light"
     },
     "output_type": "display_data"
    }
   ],
   "source": [
    "import matplotlib.pyplot as plt\n",
    "\n",
    "fig = plt.figure(figsize=(12, 4))\n",
    "fig.suptitle('Optimization of BERTopic, default params, with frequent words removed', fontsize=16, y=1.08)\n",
    "\n",
    "# Plot coherence scores\n",
    "ax1 = plt.subplot(1, 2, 1)\n",
    "ax1.plot(topic_range, cv_scores, marker='o', label = 'c_v')\n",
    "ax1.plot(topic_range, cnpmi_scores, marker='o', label = 'c_npmi')\n",
    "ax1.title.set_text('Coherence Scores')\n",
    "ax1.legend()\n",
    "ax1.set_xlabel('Number of Topics')\n",
    "ax1.set_ylabel('Coherence (c_v)')\n",
    "ax1.spines['right'].set_visible(False)\n",
    "ax1.spines['top'].set_visible(False)\n",
    "\n",
    "# Plot topic diversities\n",
    "ax2 = plt.subplot(1, 2, 2)\n",
    "ax2.plot(topic_range, topic_uniqueness, marker='o', label = 'unq')\n",
    "ax2.plot(topic_range, topic_exclusivity, marker='o', label = 'excl')\n",
    "ax2.title.set_text('Topic Diversities')\n",
    "ax2.legend()\n",
    "ax2.set_xlabel('Number of Topics')\n",
    "ax2.set_ylabel('Diversity')\n",
    "ax2.spines['right'].set_visible(False)\n",
    "ax2.spines['top'].set_visible(False)\n",
    "\n",
    "plt.tight_layout()\n",
    "\n",
    "# Save the figure\n",
    "fig.savefig('training_results/bertopic_default_params_sword_text_optimization2.png', bbox_inches='tight', dpi=300)\n",
    "\n",
    "plt.show()\n"
   ]
  },
  {
   "cell_type": "markdown",
   "id": "73aa9386-ae7c-4012-9baa-874ecef3c310",
   "metadata": {},
   "source": [
    "<span style=\"color: orange; font-family: Calibri Light;\">\n",
    "  <h2><b>IV. Select Optimal Model</b></h2>\n",
    "</span>"
   ]
  },
  {
   "cell_type": "code",
   "execution_count": 22,
   "id": "7f0b8e29-2772-480b-8d3b-89d510c1e1ee",
   "metadata": {
    "tags": []
   },
   "outputs": [
    {
     "name": "stdout",
     "output_type": "stream",
     "text": [
      "huggingface/tokenizers: The current process just got forked, after parallelism has already been used. Disabling parallelism to avoid deadlocks...\n",
      "To disable this warning, you can either:\n",
      "\t- Avoid using `tokenizers` before the fork if possible\n",
      "\t- Explicitly set the environment variable TOKENIZERS_PARALLELISM=(true | false)\n",
      "huggingface/tokenizers: The current process just got forked, after parallelism has already been used. Disabling parallelism to avoid deadlocks...\n",
      "To disable this warning, you can either:\n",
      "\t- Avoid using `tokenizers` before the fork if possible\n",
      "\t- Explicitly set the environment variable TOKENIZERS_PARALLELISM=(true | false)\n",
      "huggingface/tokenizers: The current process just got forked, after parallelism has already been used. Disabling parallelism to avoid deadlocks...\n",
      "To disable this warning, you can either:\n",
      "\t- Avoid using `tokenizers` before the fork if possible\n",
      "\t- Explicitly set the environment variable TOKENIZERS_PARALLELISM=(true | false)\n",
      "huggingface/tokenizers: The current process just got forked, after parallelism has already been used. Disabling parallelism to avoid deadlocks...\n",
      "To disable this warning, you can either:\n",
      "\t- Avoid using `tokenizers` before the fork if possible\n",
      "\t- Explicitly set the environment variable TOKENIZERS_PARALLELISM=(true | false)\n",
      "This project took 2.98 minutes to complete\n"
     ]
    }
   ],
   "source": [
    "# Prepare data, extract embeddings, and prepare sub-models\n",
    "#docs = train_data['long_text'].values\n",
    "\n",
    "#umap_model = UMAP(n_neighbors=15, n_components=5, min_dist=0.0, metric='cosine', random_state=142)\n",
    "#hdbscan_model = HDBSCAN(min_cluster_size = 80, min_samples = 10, metric = 'euclidean', prediction_data = True)\n",
    "#vectorizer_model = CountVectorizer(stop_words=\"english\", ngram_range=(1,2), max_df = 0.75, min_df = 10)\n",
    "#sentence_model = SentenceTransformer(\"all-MiniLM-L6-v2\")\n",
    "#embeddings = sentence_model.encode(docs, show_progress_bar=True)\n",
    "#representation_model = MaximalMarginalRelevance(diversity = 0.8)\n",
    "\n",
    "\n",
    "# We reduce our embeddings to 2D as it will allows us to quickly iterate later on\n",
    "reduced_embeddings = UMAP(n_neighbors=10, n_components=2, \n",
    "                          min_dist=0.0, metric='cosine').fit_transform(embeddings)\n",
    "\n",
    "start_time = time.time()\n",
    "\n",
    "# Train our topic model\n",
    "model = BERTopic(embedding_model=sentence_model, umap_model=umap_model, \n",
    "                 hdbscan_model = hdbscan_model,vectorizer_model=vectorizer_model,\n",
    "                 ctfidf_model=ctfidf_model, representation_model=representation_model,\n",
    "                 nr_topics=50)\n",
    "\n",
    "topics,_ = model.fit_transform(docs, embeddings)\n",
    "print (f\"This project took {(time.time() - start_time)/60 :.2f} minutes to complete\")"
   ]
  },
  {
   "cell_type": "code",
   "execution_count": 34,
   "id": "656bbc4f-b615-4ab3-b4ca-dd53f397a0cd",
   "metadata": {},
   "outputs": [
    {
     "name": "stderr",
     "output_type": "stream",
     "text": [
      "/usr/local/lib64/python3.7/site-packages/scipy/sparse/_index.py:125: SparseEfficiencyWarning:\n",
      "\n",
      "Changing the sparsity structure of a csr_matrix is expensive. lil_matrix is more efficient.\n",
      "\n"
     ]
    },
    {
     "name": "stdout",
     "output_type": "stream",
     "text": [
      "model saved\n"
     ]
    }
   ],
   "source": [
    "#save model\n",
    "model.save(\"../bertopic_models/model4_default_sw_text_2\")\n",
    "print ('model saved')"
   ]
  },
  {
   "cell_type": "code",
   "execution_count": 20,
   "id": "1df2dfef-b2ee-4fc1-b9d0-8025c15e747a",
   "metadata": {},
   "outputs": [],
   "source": [
    "#load model\n",
    "model = BERTopic.load(\"../bertopic_models/model4_default_sw_text_2\")"
   ]
  },
  {
   "cell_type": "code",
   "execution_count": 21,
   "id": "ba5efa88-9274-468d-9b99-8d3c8925e066",
   "metadata": {},
   "outputs": [
    {
     "data": {
      "text/html": [
       "<div>\n",
       "<style scoped>\n",
       "    .dataframe tbody tr th:only-of-type {\n",
       "        vertical-align: middle;\n",
       "    }\n",
       "\n",
       "    .dataframe tbody tr th {\n",
       "        vertical-align: top;\n",
       "    }\n",
       "\n",
       "    .dataframe thead th {\n",
       "        text-align: right;\n",
       "    }\n",
       "</style>\n",
       "<table border=\"1\" class=\"dataframe\">\n",
       "  <thead>\n",
       "    <tr style=\"text-align: right;\">\n",
       "      <th></th>\n",
       "      <th>Topic</th>\n",
       "      <th>Count</th>\n",
       "      <th>Name</th>\n",
       "      <th>Representation</th>\n",
       "      <th>Representative_Docs</th>\n",
       "    </tr>\n",
       "  </thead>\n",
       "  <tbody>\n",
       "    <tr>\n",
       "      <th>0</th>\n",
       "      <td>-1</td>\n",
       "      <td>49024</td>\n",
       "      <td>-1_life_uae_city_didn</td>\n",
       "      <td>[life, uae, city, didn, lol, say, company, yes...</td>\n",
       "      <td>[I got hired through my work and referrals, be...</td>\n",
       "    </tr>\n",
       "    <tr>\n",
       "      <th>1</th>\n",
       "      <td>0</td>\n",
       "      <td>6786</td>\n",
       "      <td>0_sharjah_uae_muslim_dubai police</td>\n",
       "      <td>[sharjah, uae, muslim, dubai police, ramadan, ...</td>\n",
       "      <td>[Tailgating is a serious issue here in the UAE...</td>\n",
       "    </tr>\n",
       "    <tr>\n",
       "      <th>2</th>\n",
       "      <td>1</td>\n",
       "      <td>3478</td>\n",
       "      <td>1_expo_weather_summer_ac</td>\n",
       "      <td>[expo, weather, summer, ac, burj khalifa, metr...</td>\n",
       "      <td>[Dudeee it’s the same here. Humidity is f*cked...</td>\n",
       "    </tr>\n",
       "    <tr>\n",
       "      <th>3</th>\n",
       "      <td>2</td>\n",
       "      <td>2244</td>\n",
       "      <td>2_vat_maid_years experience_5k</td>\n",
       "      <td>[vat, maid, years experience, 5k, cv, salaries...</td>\n",
       "      <td>[Why cant i find any job?! I have been despera...</td>\n",
       "    </tr>\n",
       "    <tr>\n",
       "      <th>4</th>\n",
       "      <td>3</td>\n",
       "      <td>2233</td>\n",
       "      <td>3_tip_talabat_deliveroo_zomato</td>\n",
       "      <td>[tip, talabat, deliveroo, zomato, restaurants,...</td>\n",
       "      <td>[Totally agree with the crazy tip asking. In g...</td>\n",
       "    </tr>\n",
       "  </tbody>\n",
       "</table>\n",
       "</div>"
      ],
      "text/plain": [
       "   Topic  Count                               Name  \\\n",
       "0     -1  49024              -1_life_uae_city_didn   \n",
       "1      0   6786  0_sharjah_uae_muslim_dubai police   \n",
       "2      1   3478           1_expo_weather_summer_ac   \n",
       "3      2   2244     2_vat_maid_years experience_5k   \n",
       "4      3   2233     3_tip_talabat_deliveroo_zomato   \n",
       "\n",
       "                                      Representation  \\\n",
       "0  [life, uae, city, didn, lol, say, company, yes...   \n",
       "1  [sharjah, uae, muslim, dubai police, ramadan, ...   \n",
       "2  [expo, weather, summer, ac, burj khalifa, metr...   \n",
       "3  [vat, maid, years experience, 5k, cv, salaries...   \n",
       "4  [tip, talabat, deliveroo, zomato, restaurants,...   \n",
       "\n",
       "                                 Representative_Docs  \n",
       "0  [I got hired through my work and referrals, be...  \n",
       "1  [Tailgating is a serious issue here in the UAE...  \n",
       "2  [Dudeee it’s the same here. Humidity is f*cked...  \n",
       "3  [Why cant i find any job?! I have been despera...  \n",
       "4  [Totally agree with the crazy tip asking. In g...  "
      ]
     },
     "execution_count": 21,
     "metadata": {},
     "output_type": "execute_result"
    }
   ],
   "source": [
    "topics_df = model.get_topic_info()\n",
    "topics_df.head()"
   ]
  },
  {
   "cell_type": "code",
   "execution_count": 25,
   "id": "a4afb75b-360d-48b3-ac60-5b2e9e378df9",
   "metadata": {},
   "outputs": [],
   "source": [
    "topics_df.to_csv('training_results/bert_default_sw2 _text_topics_term.csv')"
   ]
  },
  {
   "cell_type": "code",
   "execution_count": 22,
   "id": "78063d69-1eb9-4d51-b58d-efa495533d7b",
   "metadata": {
    "tags": []
   },
   "outputs": [
    {
     "data": {
      "text/html": [
       "<div>\n",
       "<style scoped>\n",
       "    .dataframe tbody tr th:only-of-type {\n",
       "        vertical-align: middle;\n",
       "    }\n",
       "\n",
       "    .dataframe tbody tr th {\n",
       "        vertical-align: top;\n",
       "    }\n",
       "\n",
       "    .dataframe thead th {\n",
       "        text-align: right;\n",
       "    }\n",
       "</style>\n",
       "<table border=\"1\" class=\"dataframe\">\n",
       "  <thead>\n",
       "    <tr style=\"text-align: right;\">\n",
       "      <th></th>\n",
       "      <th>Topic</th>\n",
       "      <th>Count</th>\n",
       "    </tr>\n",
       "  </thead>\n",
       "  <tbody>\n",
       "    <tr>\n",
       "      <th>0</th>\n",
       "      <td>-1</td>\n",
       "      <td>49024</td>\n",
       "    </tr>\n",
       "    <tr>\n",
       "      <th>3</th>\n",
       "      <td>0</td>\n",
       "      <td>6786</td>\n",
       "    </tr>\n",
       "    <tr>\n",
       "      <th>4</th>\n",
       "      <td>1</td>\n",
       "      <td>3478</td>\n",
       "    </tr>\n",
       "    <tr>\n",
       "      <th>27</th>\n",
       "      <td>2</td>\n",
       "      <td>2244</td>\n",
       "    </tr>\n",
       "    <tr>\n",
       "      <th>7</th>\n",
       "      <td>3</td>\n",
       "      <td>2233</td>\n",
       "    </tr>\n",
       "    <tr>\n",
       "      <th>30</th>\n",
       "      <td>4</td>\n",
       "      <td>2224</td>\n",
       "    </tr>\n",
       "    <tr>\n",
       "      <th>12</th>\n",
       "      <td>5</td>\n",
       "      <td>2181</td>\n",
       "    </tr>\n",
       "    <tr>\n",
       "      <th>14</th>\n",
       "      <td>6</td>\n",
       "      <td>2058</td>\n",
       "    </tr>\n",
       "    <tr>\n",
       "      <th>15</th>\n",
       "      <td>7</td>\n",
       "      <td>2018</td>\n",
       "    </tr>\n",
       "    <tr>\n",
       "      <th>22</th>\n",
       "      <td>8</td>\n",
       "      <td>1839</td>\n",
       "    </tr>\n",
       "    <tr>\n",
       "      <th>9</th>\n",
       "      <td>9</td>\n",
       "      <td>1380</td>\n",
       "    </tr>\n",
       "    <tr>\n",
       "      <th>21</th>\n",
       "      <td>10</td>\n",
       "      <td>1284</td>\n",
       "    </tr>\n",
       "    <tr>\n",
       "      <th>29</th>\n",
       "      <td>11</td>\n",
       "      <td>1272</td>\n",
       "    </tr>\n",
       "    <tr>\n",
       "      <th>35</th>\n",
       "      <td>12</td>\n",
       "      <td>1266</td>\n",
       "    </tr>\n",
       "    <tr>\n",
       "      <th>19</th>\n",
       "      <td>13</td>\n",
       "      <td>1190</td>\n",
       "    </tr>\n",
       "    <tr>\n",
       "      <th>1</th>\n",
       "      <td>14</td>\n",
       "      <td>1185</td>\n",
       "    </tr>\n",
       "    <tr>\n",
       "      <th>36</th>\n",
       "      <td>15</td>\n",
       "      <td>1141</td>\n",
       "    </tr>\n",
       "    <tr>\n",
       "      <th>13</th>\n",
       "      <td>16</td>\n",
       "      <td>1052</td>\n",
       "    </tr>\n",
       "    <tr>\n",
       "      <th>26</th>\n",
       "      <td>17</td>\n",
       "      <td>1046</td>\n",
       "    </tr>\n",
       "    <tr>\n",
       "      <th>2</th>\n",
       "      <td>18</td>\n",
       "      <td>1003</td>\n",
       "    </tr>\n",
       "    <tr>\n",
       "      <th>11</th>\n",
       "      <td>19</td>\n",
       "      <td>989</td>\n",
       "    </tr>\n",
       "    <tr>\n",
       "      <th>20</th>\n",
       "      <td>20</td>\n",
       "      <td>970</td>\n",
       "    </tr>\n",
       "    <tr>\n",
       "      <th>10</th>\n",
       "      <td>21</td>\n",
       "      <td>950</td>\n",
       "    </tr>\n",
       "    <tr>\n",
       "      <th>32</th>\n",
       "      <td>22</td>\n",
       "      <td>885</td>\n",
       "    </tr>\n",
       "    <tr>\n",
       "      <th>37</th>\n",
       "      <td>23</td>\n",
       "      <td>843</td>\n",
       "    </tr>\n",
       "    <tr>\n",
       "      <th>28</th>\n",
       "      <td>24</td>\n",
       "      <td>824</td>\n",
       "    </tr>\n",
       "    <tr>\n",
       "      <th>38</th>\n",
       "      <td>25</td>\n",
       "      <td>686</td>\n",
       "    </tr>\n",
       "    <tr>\n",
       "      <th>18</th>\n",
       "      <td>26</td>\n",
       "      <td>620</td>\n",
       "    </tr>\n",
       "    <tr>\n",
       "      <th>5</th>\n",
       "      <td>27</td>\n",
       "      <td>596</td>\n",
       "    </tr>\n",
       "    <tr>\n",
       "      <th>46</th>\n",
       "      <td>28</td>\n",
       "      <td>591</td>\n",
       "    </tr>\n",
       "    <tr>\n",
       "      <th>31</th>\n",
       "      <td>29</td>\n",
       "      <td>529</td>\n",
       "    </tr>\n",
       "    <tr>\n",
       "      <th>43</th>\n",
       "      <td>30</td>\n",
       "      <td>391</td>\n",
       "    </tr>\n",
       "    <tr>\n",
       "      <th>8</th>\n",
       "      <td>31</td>\n",
       "      <td>358</td>\n",
       "    </tr>\n",
       "    <tr>\n",
       "      <th>23</th>\n",
       "      <td>32</td>\n",
       "      <td>348</td>\n",
       "    </tr>\n",
       "    <tr>\n",
       "      <th>17</th>\n",
       "      <td>33</td>\n",
       "      <td>302</td>\n",
       "    </tr>\n",
       "    <tr>\n",
       "      <th>45</th>\n",
       "      <td>34</td>\n",
       "      <td>294</td>\n",
       "    </tr>\n",
       "    <tr>\n",
       "      <th>49</th>\n",
       "      <td>35</td>\n",
       "      <td>283</td>\n",
       "    </tr>\n",
       "    <tr>\n",
       "      <th>44</th>\n",
       "      <td>36</td>\n",
       "      <td>279</td>\n",
       "    </tr>\n",
       "    <tr>\n",
       "      <th>41</th>\n",
       "      <td>37</td>\n",
       "      <td>278</td>\n",
       "    </tr>\n",
       "    <tr>\n",
       "      <th>42</th>\n",
       "      <td>38</td>\n",
       "      <td>278</td>\n",
       "    </tr>\n",
       "    <tr>\n",
       "      <th>6</th>\n",
       "      <td>39</td>\n",
       "      <td>272</td>\n",
       "    </tr>\n",
       "    <tr>\n",
       "      <th>47</th>\n",
       "      <td>40</td>\n",
       "      <td>252</td>\n",
       "    </tr>\n",
       "    <tr>\n",
       "      <th>25</th>\n",
       "      <td>41</td>\n",
       "      <td>216</td>\n",
       "    </tr>\n",
       "    <tr>\n",
       "      <th>24</th>\n",
       "      <td>42</td>\n",
       "      <td>205</td>\n",
       "    </tr>\n",
       "    <tr>\n",
       "      <th>16</th>\n",
       "      <td>43</td>\n",
       "      <td>186</td>\n",
       "    </tr>\n",
       "    <tr>\n",
       "      <th>40</th>\n",
       "      <td>44</td>\n",
       "      <td>159</td>\n",
       "    </tr>\n",
       "    <tr>\n",
       "      <th>39</th>\n",
       "      <td>45</td>\n",
       "      <td>142</td>\n",
       "    </tr>\n",
       "    <tr>\n",
       "      <th>33</th>\n",
       "      <td>46</td>\n",
       "      <td>122</td>\n",
       "    </tr>\n",
       "    <tr>\n",
       "      <th>48</th>\n",
       "      <td>47</td>\n",
       "      <td>106</td>\n",
       "    </tr>\n",
       "    <tr>\n",
       "      <th>34</th>\n",
       "      <td>48</td>\n",
       "      <td>99</td>\n",
       "    </tr>\n",
       "  </tbody>\n",
       "</table>\n",
       "</div>"
      ],
      "text/plain": [
       "    Topic  Count\n",
       "0      -1  49024\n",
       "3       0   6786\n",
       "4       1   3478\n",
       "27      2   2244\n",
       "7       3   2233\n",
       "30      4   2224\n",
       "12      5   2181\n",
       "14      6   2058\n",
       "15      7   2018\n",
       "22      8   1839\n",
       "9       9   1380\n",
       "21     10   1284\n",
       "29     11   1272\n",
       "35     12   1266\n",
       "19     13   1190\n",
       "1      14   1185\n",
       "36     15   1141\n",
       "13     16   1052\n",
       "26     17   1046\n",
       "2      18   1003\n",
       "11     19    989\n",
       "20     20    970\n",
       "10     21    950\n",
       "32     22    885\n",
       "37     23    843\n",
       "28     24    824\n",
       "38     25    686\n",
       "18     26    620\n",
       "5      27    596\n",
       "46     28    591\n",
       "31     29    529\n",
       "43     30    391\n",
       "8      31    358\n",
       "23     32    348\n",
       "17     33    302\n",
       "45     34    294\n",
       "49     35    283\n",
       "44     36    279\n",
       "41     37    278\n",
       "42     38    278\n",
       "6      39    272\n",
       "47     40    252\n",
       "25     41    216\n",
       "24     42    205\n",
       "16     43    186\n",
       "40     44    159\n",
       "39     45    142\n",
       "33     46    122\n",
       "48     47    106\n",
       "34     48     99"
      ]
     },
     "execution_count": 22,
     "metadata": {},
     "output_type": "execute_result"
    }
   ],
   "source": [
    "top_freq = model.get_topic_freq()\n",
    "top_freq"
   ]
  },
  {
   "cell_type": "code",
   "execution_count": null,
   "id": "d6083af4-5960-48d5-9260-bf4ab241ee13",
   "metadata": {
    "tags": []
   },
   "outputs": [],
   "source": [
    "model.visualize_documents(docs, reduced_embeddings=reduced_embeddings, \n",
    "                                hide_document_hover=True, hide_annotations=True)"
   ]
  },
  {
   "cell_type": "code",
   "execution_count": 46,
   "id": "d36ff1a5-fdb9-4f3a-8401-bc82624ef008",
   "metadata": {
    "tags": []
   },
   "outputs": [
    {
     "data": {
      "text/html": [
       "<iframe\n",
       "    scrolling=\"no\"\n",
       "    width=\"1020px\"\n",
       "    height=\"3270\"\n",
       "    src=\"iframe_figures/figure_46.html\"\n",
       "    frameborder=\"0\"\n",
       "    allowfullscreen\n",
       "></iframe>\n"
      ]
     },
     "metadata": {},
     "output_type": "display_data"
    }
   ],
   "source": [
    "model.visualize_barchart(top_n_topics = 50, n_words = 10)"
   ]
  },
  {
   "cell_type": "code",
   "execution_count": 102,
   "id": "793f8418-7632-4040-99c2-b7a51e97e763",
   "metadata": {},
   "outputs": [
    {
     "data": {
      "text/html": [
       "<iframe\n",
       "    scrolling=\"no\"\n",
       "    width=\"1020px\"\n",
       "    height=\"520\"\n",
       "    src=\"iframe_figures/figure_15.html\"\n",
       "    frameborder=\"0\"\n",
       "    allowfullscreen\n",
       "></iframe>\n"
      ]
     },
     "metadata": {},
     "output_type": "display_data"
    }
   ],
   "source": [
    "model.visualize_barchart(topics = [6,12,1,4,2,33])\n"
   ]
  },
  {
   "cell_type": "markdown",
   "id": "d9c9ba68-f5e3-4607-b452-18fc77a9127a",
   "metadata": {
    "tags": []
   },
   "source": [
    "<span style=\"color: orange; font-family: Calibri Light;\">\n",
    "  <h2><b>V. Retrieve Data with Topic Assignments</b></h2>\n",
    "</span>"
   ]
  },
  {
   "cell_type": "code",
   "execution_count": 25,
   "id": "dfcf31ea-8086-429b-840e-fb80d6a151fb",
   "metadata": {},
   "outputs": [
    {
     "data": {
      "text/html": [
       "<div>\n",
       "<style scoped>\n",
       "    .dataframe tbody tr th:only-of-type {\n",
       "        vertical-align: middle;\n",
       "    }\n",
       "\n",
       "    .dataframe tbody tr th {\n",
       "        vertical-align: top;\n",
       "    }\n",
       "\n",
       "    .dataframe thead th {\n",
       "        text-align: right;\n",
       "    }\n",
       "</style>\n",
       "<table border=\"1\" class=\"dataframe\">\n",
       "  <thead>\n",
       "    <tr style=\"text-align: right;\">\n",
       "      <th></th>\n",
       "      <th>Document</th>\n",
       "      <th>Topic</th>\n",
       "      <th>Name</th>\n",
       "      <th>Representation</th>\n",
       "      <th>Representative_Docs</th>\n",
       "      <th>Top_n_words</th>\n",
       "      <th>Probability</th>\n",
       "      <th>Representative_document</th>\n",
       "    </tr>\n",
       "  </thead>\n",
       "  <tbody>\n",
       "    <tr>\n",
       "      <th>0</th>\n",
       "      <td>That dessert's a bit rich for me.</td>\n",
       "      <td>-1</td>\n",
       "      <td>-1_life_uae_city_didn</td>\n",
       "      <td>[life, uae, city, didn, lol, say, company, yes...</td>\n",
       "      <td>[I got hired through my work and referrals, be...</td>\n",
       "      <td>life - uae - city - didn - lol - say - company...</td>\n",
       "      <td>0.000000</td>\n",
       "      <td>False</td>\n",
       "    </tr>\n",
       "    <tr>\n",
       "      <th>1</th>\n",
       "      <td>\"A SILVER one?! I HATE YOU DAD!\"</td>\n",
       "      <td>14</td>\n",
       "      <td>14_award_god bless_wholesome_luck</td>\n",
       "      <td>[award, god bless, wholesome, luck, prayers, w...</td>\n",
       "      <td>[You are such an amazing person!! Thank you so...</td>\n",
       "      <td>award - god bless - wholesome - luck - prayers...</td>\n",
       "      <td>0.980537</td>\n",
       "      <td>False</td>\n",
       "    </tr>\n",
       "    <tr>\n",
       "      <th>2</th>\n",
       "      <td>Yet i stared at the picture for a good 45 seco...</td>\n",
       "      <td>18</td>\n",
       "      <td>18_font_instagram_painting_camera</td>\n",
       "      <td>[font, instagram, painting, camera, pics, 1k, ...</td>\n",
       "      <td>[Hey, congrats on first 1000 so soon! Can I pl...</td>\n",
       "      <td>font - instagram - painting - camera - pics - ...</td>\n",
       "      <td>0.472592</td>\n",
       "      <td>False</td>\n",
       "    </tr>\n",
       "    <tr>\n",
       "      <th>3</th>\n",
       "      <td>[FYSR] = from your sister subreddit. IMO, its ...</td>\n",
       "      <td>0</td>\n",
       "      <td>0_sharjah_uae_muslim_dubai police</td>\n",
       "      <td>[sharjah, uae, muslim, dubai police, ramadan, ...</td>\n",
       "      <td>[Tailgating is a serious issue here in the UAE...</td>\n",
       "      <td>sharjah - uae - muslim - dubai police - ramada...</td>\n",
       "      <td>1.000000</td>\n",
       "      <td>False</td>\n",
       "    </tr>\n",
       "    <tr>\n",
       "      <th>4</th>\n",
       "      <td>common give prince william harry a break he ju...</td>\n",
       "      <td>-1</td>\n",
       "      <td>-1_life_uae_city_didn</td>\n",
       "      <td>[life, uae, city, didn, lol, say, company, yes...</td>\n",
       "      <td>[I got hired through my work and referrals, be...</td>\n",
       "      <td>life - uae - city - didn - lol - say - company...</td>\n",
       "      <td>0.000000</td>\n",
       "      <td>False</td>\n",
       "    </tr>\n",
       "  </tbody>\n",
       "</table>\n",
       "</div>"
      ],
      "text/plain": [
       "                                            Document  Topic  \\\n",
       "0                  That dessert's a bit rich for me.     -1   \n",
       "1                  \"A SILVER one?! I HATE YOU DAD!\"      14   \n",
       "2  Yet i stared at the picture for a good 45 seco...     18   \n",
       "3  [FYSR] = from your sister subreddit. IMO, its ...      0   \n",
       "4  common give prince william harry a break he ju...     -1   \n",
       "\n",
       "                                Name  \\\n",
       "0              -1_life_uae_city_didn   \n",
       "1  14_award_god bless_wholesome_luck   \n",
       "2  18_font_instagram_painting_camera   \n",
       "3  0_sharjah_uae_muslim_dubai police   \n",
       "4              -1_life_uae_city_didn   \n",
       "\n",
       "                                      Representation  \\\n",
       "0  [life, uae, city, didn, lol, say, company, yes...   \n",
       "1  [award, god bless, wholesome, luck, prayers, w...   \n",
       "2  [font, instagram, painting, camera, pics, 1k, ...   \n",
       "3  [sharjah, uae, muslim, dubai police, ramadan, ...   \n",
       "4  [life, uae, city, didn, lol, say, company, yes...   \n",
       "\n",
       "                                 Representative_Docs  \\\n",
       "0  [I got hired through my work and referrals, be...   \n",
       "1  [You are such an amazing person!! Thank you so...   \n",
       "2  [Hey, congrats on first 1000 so soon! Can I pl...   \n",
       "3  [Tailgating is a serious issue here in the UAE...   \n",
       "4  [I got hired through my work and referrals, be...   \n",
       "\n",
       "                                         Top_n_words  Probability  \\\n",
       "0  life - uae - city - didn - lol - say - company...     0.000000   \n",
       "1  award - god bless - wholesome - luck - prayers...     0.980537   \n",
       "2  font - instagram - painting - camera - pics - ...     0.472592   \n",
       "3  sharjah - uae - muslim - dubai police - ramada...     1.000000   \n",
       "4  life - uae - city - didn - lol - say - company...     0.000000   \n",
       "\n",
       "   Representative_document  \n",
       "0                    False  \n",
       "1                    False  \n",
       "2                    False  \n",
       "3                    False  \n",
       "4                    False  "
      ]
     },
     "execution_count": 25,
     "metadata": {},
     "output_type": "execute_result"
    }
   ],
   "source": [
    "#create dataframe with topic assignments\n",
    "t_df = model.get_document_info(docs)\n",
    "t_df.head()"
   ]
  },
  {
   "cell_type": "code",
   "execution_count": 26,
   "id": "19f80022-3490-4329-8948-58c76f4c39be",
   "metadata": {},
   "outputs": [
    {
     "name": "stdout",
     "output_type": "stream",
     "text": [
      "<class 'pandas.core.frame.DataFrame'>\n",
      "Int64Index: 98957 entries, 0 to 98956\n",
      "Data columns (total 8 columns):\n",
      " #   Column                   Non-Null Count  Dtype  \n",
      "---  ------                   --------------  -----  \n",
      " 0   Document                 98957 non-null  object \n",
      " 1   Topic                    98957 non-null  int64  \n",
      " 2   Name                     98957 non-null  object \n",
      " 3   Representation           98957 non-null  object \n",
      " 4   Representative_Docs      98957 non-null  object \n",
      " 5   Top_n_words              98957 non-null  object \n",
      " 6   Probability              98957 non-null  float64\n",
      " 7   Representative_document  98957 non-null  bool   \n",
      "dtypes: bool(1), float64(1), int64(1), object(5)\n",
      "memory usage: 6.1+ MB\n"
     ]
    }
   ],
   "source": [
    "t_df.info()"
   ]
  },
  {
   "cell_type": "code",
   "execution_count": 82,
   "id": "d42892fb-0e68-4ccd-b25d-ebad08fda29c",
   "metadata": {},
   "outputs": [
    {
     "name": "stdout",
     "output_type": "stream",
     "text": [
      "<class 'pandas.core.frame.DataFrame'>\n",
      "Int64Index: 98957 entries, 0 to 98956\n",
      "Data columns (total 2 columns):\n",
      " #   Column  Non-Null Count  Dtype \n",
      "---  ------  --------------  ----- \n",
      " 0   Topic   98957 non-null  int64 \n",
      " 1   Name    98957 non-null  object\n",
      "dtypes: int64(1), object(1)\n",
      "memory usage: 4.3+ MB\n"
     ]
    }
   ],
   "source": [
    "#topic assignment column subset\n",
    "assigned_topics = t_df[['Topic', 'Name']].copy()\n",
    "assigned_topics.info()"
   ]
  },
  {
   "cell_type": "code",
   "execution_count": 94,
   "id": "eb9167c0-337e-4d54-87ec-baf0cc19bd9f",
   "metadata": {},
   "outputs": [],
   "source": [
    "train_data_label = train_data.copy() #create copy of training data"
   ]
  },
  {
   "cell_type": "code",
   "execution_count": 95,
   "id": "f19aba15-b35d-4245-b98f-333521ab9c88",
   "metadata": {},
   "outputs": [],
   "source": [
    "train_data_label.reset_index(drop = True, inplace = True) #reindex to match topic assignemtn index"
   ]
  },
  {
   "cell_type": "code",
   "execution_count": 96,
   "id": "6fe33dd5-dbc4-4612-a2e0-0e70162c8ec4",
   "metadata": {},
   "outputs": [],
   "source": [
    "train_data_label[['topic', 'topic_name']] = assigned_topics #merge data"
   ]
  },
  {
   "cell_type": "code",
   "execution_count": 97,
   "id": "b961dd8c-36d2-4691-a766-5d4b45a0a7c4",
   "metadata": {},
   "outputs": [
    {
     "data": {
      "text/html": [
       "<div>\n",
       "<style scoped>\n",
       "    .dataframe tbody tr th:only-of-type {\n",
       "        vertical-align: middle;\n",
       "    }\n",
       "\n",
       "    .dataframe tbody tr th {\n",
       "        vertical-align: top;\n",
       "    }\n",
       "\n",
       "    .dataframe thead th {\n",
       "        text-align: right;\n",
       "    }\n",
       "</style>\n",
       "<table border=\"1\" class=\"dataframe\">\n",
       "  <thead>\n",
       "    <tr style=\"text-align: right;\">\n",
       "      <th></th>\n",
       "      <th>text_type</th>\n",
       "      <th>ID</th>\n",
       "      <th>date_created</th>\n",
       "      <th>year</th>\n",
       "      <th>long_text</th>\n",
       "      <th>prep_text</th>\n",
       "      <th>topic</th>\n",
       "      <th>topic_name</th>\n",
       "    </tr>\n",
       "  </thead>\n",
       "  <tbody>\n",
       "    <tr>\n",
       "      <th>0</th>\n",
       "      <td>comment</td>\n",
       "      <td>c5c54q4</td>\n",
       "      <td>2012-07-11 00:50:58</td>\n",
       "      <td>2012</td>\n",
       "      <td>That dessert's a bit rich for me.</td>\n",
       "      <td>That dessert's a bit rich for me.</td>\n",
       "      <td>-1</td>\n",
       "      <td>-1_life_uae_city_didn</td>\n",
       "    </tr>\n",
       "    <tr>\n",
       "      <th>1</th>\n",
       "      <td>comment</td>\n",
       "      <td>c5edn0u</td>\n",
       "      <td>2012-07-15 21:59:34</td>\n",
       "      <td>2012</td>\n",
       "      <td>\"A SILVER one?! I HATE YOU DAD!\"</td>\n",
       "      <td>\"A SILVER one?! I HATE YOU DAD!\"</td>\n",
       "      <td>14</td>\n",
       "      <td>14_award_god bless_wholesome_luck</td>\n",
       "    </tr>\n",
       "    <tr>\n",
       "      <th>2</th>\n",
       "      <td>comment</td>\n",
       "      <td>c6d18gk</td>\n",
       "      <td>2012-09-25 07:57:13</td>\n",
       "      <td>2012</td>\n",
       "      <td>Yet i stared at the picture for a good 45 seco...</td>\n",
       "      <td>Yet i stared at the picture for a good 45 seco...</td>\n",
       "      <td>18</td>\n",
       "      <td>18_font_instagram_painting_camera</td>\n",
       "    </tr>\n",
       "    <tr>\n",
       "      <th>3</th>\n",
       "      <td>comment</td>\n",
       "      <td>c6d2fss</td>\n",
       "      <td>2012-09-25 09:13:23</td>\n",
       "      <td>2012</td>\n",
       "      <td>[FYSR] = from your sister subreddit.\\n\\nIMO, i...</td>\n",
       "      <td>[FYSR] = from your sister subreddit. IMO, its ...</td>\n",
       "      <td>0</td>\n",
       "      <td>0_sharjah_uae_muslim_dubai police</td>\n",
       "    </tr>\n",
       "    <tr>\n",
       "      <th>4</th>\n",
       "      <td>comment</td>\n",
       "      <td>c6d46es</td>\n",
       "      <td>2012-09-25 12:32:08</td>\n",
       "      <td>2012</td>\n",
       "      <td>common give prince william harry a break he ju...</td>\n",
       "      <td>common give prince william harry a break he ju...</td>\n",
       "      <td>-1</td>\n",
       "      <td>-1_life_uae_city_didn</td>\n",
       "    </tr>\n",
       "  </tbody>\n",
       "</table>\n",
       "</div>"
      ],
      "text/plain": [
       "  text_type       ID         date_created  year  \\\n",
       "0   comment  c5c54q4  2012-07-11 00:50:58  2012   \n",
       "1   comment  c5edn0u  2012-07-15 21:59:34  2012   \n",
       "2   comment  c6d18gk  2012-09-25 07:57:13  2012   \n",
       "3   comment  c6d2fss  2012-09-25 09:13:23  2012   \n",
       "4   comment  c6d46es  2012-09-25 12:32:08  2012   \n",
       "\n",
       "                                           long_text  \\\n",
       "0                  That dessert's a bit rich for me.   \n",
       "1                  \"A SILVER one?! I HATE YOU DAD!\"    \n",
       "2  Yet i stared at the picture for a good 45 seco...   \n",
       "3  [FYSR] = from your sister subreddit.\\n\\nIMO, i...   \n",
       "4  common give prince william harry a break he ju...   \n",
       "\n",
       "                                           prep_text  topic  \\\n",
       "0                  That dessert's a bit rich for me.     -1   \n",
       "1                  \"A SILVER one?! I HATE YOU DAD!\"      14   \n",
       "2  Yet i stared at the picture for a good 45 seco...     18   \n",
       "3  [FYSR] = from your sister subreddit. IMO, its ...      0   \n",
       "4  common give prince william harry a break he ju...     -1   \n",
       "\n",
       "                          topic_name  \n",
       "0              -1_life_uae_city_didn  \n",
       "1  14_award_god bless_wholesome_luck  \n",
       "2  18_font_instagram_painting_camera  \n",
       "3  0_sharjah_uae_muslim_dubai police  \n",
       "4              -1_life_uae_city_didn  "
      ]
     },
     "execution_count": 97,
     "metadata": {},
     "output_type": "execute_result"
    }
   ],
   "source": [
    "train_data_label.head()"
   ]
  },
  {
   "cell_type": "code",
   "execution_count": 98,
   "id": "a1ec90e1-07a0-49bd-bf39-b8d45f85b5b6",
   "metadata": {},
   "outputs": [
    {
     "name": "stdout",
     "output_type": "stream",
     "text": [
      "<class 'pandas.core.frame.DataFrame'>\n",
      "RangeIndex: 98957 entries, 0 to 98956\n",
      "Data columns (total 8 columns):\n",
      " #   Column        Non-Null Count  Dtype \n",
      "---  ------        --------------  ----- \n",
      " 0   text_type     98957 non-null  object\n",
      " 1   ID            98957 non-null  object\n",
      " 2   date_created  98957 non-null  object\n",
      " 3   year          98957 non-null  int64 \n",
      " 4   long_text     98957 non-null  object\n",
      " 5   prep_text     98957 non-null  object\n",
      " 6   topic         98957 non-null  int64 \n",
      " 7   topic_name    98957 non-null  object\n",
      "dtypes: int64(2), object(6)\n",
      "memory usage: 6.0+ MB\n"
     ]
    }
   ],
   "source": [
    "train_data_label.info()"
   ]
  },
  {
   "cell_type": "code",
   "execution_count": 100,
   "id": "12962f0e-dfc6-4d10-a930-38465d7c4ce3",
   "metadata": {},
   "outputs": [],
   "source": [
    "train_data_label.to_csv('training_results/bert_model_2_labelled_train_data.csv') #save training data with topic labels"
   ]
  },
  {
   "cell_type": "code",
   "execution_count": null,
   "id": "6503841e-5b08-4e2a-9dba-8c5dc063d1af",
   "metadata": {},
   "outputs": [],
   "source": []
  }
 ],
 "metadata": {
  "kernelspec": {
   "display_name": "Python 3 (ipykernel)",
   "language": "python",
   "name": "python3"
  },
  "language_info": {
   "codemirror_mode": {
    "name": "ipython",
    "version": 3
   },
   "file_extension": ".py",
   "mimetype": "text/x-python",
   "name": "python",
   "nbconvert_exporter": "python",
   "pygments_lexer": "ipython3",
   "version": "3.9.7"
  }
 },
 "nbformat": 4,
 "nbformat_minor": 5
}
