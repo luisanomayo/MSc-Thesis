{
 "cells": [
  {
   "cell_type": "code",
   "execution_count": null,
   "id": "3e1c6a00-3a6b-4141-914b-8e4ab67feeb4",
   "metadata": {},
   "outputs": [],
   "source": [
    "import pandas as pd\n",
    "import ast\n",
    "import time\n",
    "import csv\n",
    "from octis.dataset.dataset import Dataset\n",
    "from octis.models.LDA import LDA\n",
    "from octis.optimization.optimizer import Optimizer\n",
    "from skopt.space.space import Real, Categorical, Integer\n",
    "from octis.evaluation_metrics.coherence_metrics import Coherence\n",
    "from octis.evaluation_metrics.diversity_metrics import TopicDiversity"
   ]
  },
  {
   "cell_type": "code",
   "execution_count": null,
   "id": "164a7106-b6e8-4655-9a69-ea2330a0fc51",
   "metadata": {},
   "outputs": [],
   "source": [
    "#import cleaned data\n",
    "\n",
    "def list_converter(text):\n",
    "    #to revert list->str conversion from pd.read_csv\n",
    "    return ast.literal_eval(text)\n",
    "\n",
    "\n",
    "data = pd.read_csv('../Data/lda_train.csv', converters ={'tokens':list_converter})\n",
    "data = data.drop(columns = ['index'])\n",
    "data.head()"
   ]
  },
  {
   "cell_type": "code",
   "execution_count": null,
   "id": "3c999908-77bc-4504-a55d-cbaa0801a4c7",
   "metadata": {},
   "outputs": [],
   "source": [
    "#octis expects a folder with two files.\n",
    "#The corpus in a .tsv file and vocabulary in a .txt file, with each word on a different line"
   ]
  },
  {
   "cell_type": "code",
   "execution_count": null,
   "id": "431d5d61-04b2-4df0-9c83-2f805d1d44c0",
   "metadata": {},
   "outputs": [],
   "source": [
    "#create tsv file and 'label', 80% as train, 20% as validation data"
   ]
  },
  {
   "cell_type": "code",
   "execution_count": null,
   "id": "e45312c1-3b57-4b95-8b41-0361c35c9194",
   "metadata": {},
   "outputs": [],
   "source": [
    "#data\n",
    "text = data['clean_text']\n",
    "#create labels \n",
    "label = ['train'] * len(text)\n",
    "\n",
    "#store data in .tsv file\n",
    "corpus_tsv = pd.DataFrame({'text': text, 'label': label})\n",
    "corpus_tsv.to_csv('../octis_data/corpus.tsv', sep = '\\t', header = False, index = False)"
   ]
  },
  {
   "cell_type": "code",
   "execution_count": null,
   "id": "869ad039-976c-402b-b343-6b373121cf51",
   "metadata": {},
   "outputs": [],
   "source": [
    "#create .txt vocabulary file\n",
    "all_words = ' '.join(text).split()\n",
    "vocabulary = set(all_words)\n",
    "\n",
    "with open('../octis_data/vocabulary.txt', 'w') as file:\n",
    "    for word in vocabulary:\n",
    "        file.write (f'{word}\\n')"
   ]
  },
  {
   "cell_type": "code",
   "execution_count": null,
   "id": "a059bf75-06c6-4158-a6d9-684236618bf5",
   "metadata": {},
   "outputs": [],
   "source": [
    "#build octis pipeline"
   ]
  },
  {
   "cell_type": "code",
   "execution_count": null,
   "id": "c0f7eb31-bf17-40c2-b396-b89a085b4085",
   "metadata": {},
   "outputs": [],
   "source": [
    "dataset = Dataset()\n",
    "dataset.load_custom_dataset_from_folder('../octis_data')"
   ]
  },
  {
   "cell_type": "code",
   "execution_count": null,
   "id": "f13acba7-d9de-4bb6-a84e-8d6becb0aedb",
   "metadata": {},
   "outputs": [],
   "source": [
    "#initiate model\n",
    "lda_model = LDA(passes = 10,\n",
    "                chunksize = 5000,\n",
    "                eval_every = None,\n",
    "                iterations = 400, \n",
    "                random_state = 45\n",
    "               )"
   ]
  },
  {
   "cell_type": "code",
   "execution_count": null,
   "id": "2311a3ac-743a-4a4c-9d52-febde574f13b",
   "metadata": {
    "tags": []
   },
   "outputs": [],
   "source": [
    "#hyperparameter optimization to get best model\n",
    "search_space = {\n",
    "    \"num_topics\":Categorical({5,10,15,20,25,30}),\n",
    "    \"eta\": Real(low=0.01, high = 5.0),\n",
    "    \"alpha\": Real(low=0.01, high = 5.0)\n",
    "}\n",
    "\n",
    "npmi = Coherence(texts = dataset.get_corpus(), topk = 10, measure = 'c_npmi')\n",
    "cv = Coherence(texts = dataset.get_corpus(), topk = 10, measure = 'c_v')\n",
    "diversity = TopicDiversity(topk = 10)\n",
    "\n",
    "extra_metric = [diversity]\n",
    "\n",
    "##\n",
    "start_time = time.time() #start counter for training time\n",
    "\n",
    "optimizer = Optimizer()\n",
    "\n",
    "optimization_result = optimizer.optimize(lda_model, dataset,\n",
    "                                         search_space = search_space,\n",
    "                                         metric = cv,\n",
    "                                         model_runs = 5, number_of_call = 45,\n",
    "                                         extra_metrics = extra_metric,\n",
    "                                         save_models = False,\n",
    "                                         save_path = \"results/lda/\",\n",
    "                                         plot_best_seen = True\n",
    "                                            )\n",
    "\n",
    "print(f\"This model took {(time.time() - start_time)/60 :.2f} minutes to train\")\n",
    "\n",
    "optimization_result.save_to_csv(\"lda_results.csv\")\n",
    "\n",
    "print (\"results saved\")"
   ]
  },
  {
   "cell_type": "code",
   "execution_count": null,
   "id": "121d6ad4-4bad-48ed-b61c-d387565a26fd",
   "metadata": {
    "tags": []
   },
   "outputs": [],
   "source": [
    "optimizer?"
   ]
  },
  {
   "cell_type": "code",
   "execution_count": null,
   "id": "de8776ae-1fe8-4ff7-8ae7-af50dc2c61ff",
   "metadata": {
    "tags": []
   },
   "outputs": [],
   "source": [
    "LDA?"
   ]
  },
  {
   "cell_type": "code",
   "execution_count": null,
   "id": "b7a6015c-84cf-41fa-9e48-6aee33de502f",
   "metadata": {},
   "outputs": [],
   "source": [
    "print((1,3))"
   ]
  },
  {
   "cell_type": "code",
   "execution_count": null,
   "id": "0826a121-6dff-4b65-91cc-80bf512da034",
   "metadata": {},
   "outputs": [],
   "source": [
    "Categorical?"
   ]
  },
  {
   "cell_type": "code",
   "execution_count": null,
   "id": "fa727ff9-64f7-4f3e-9098-f30544240260",
   "metadata": {},
   "outputs": [],
   "source": []
  }
 ],
 "metadata": {
  "kernelspec": {
   "display_name": "octisenv",
   "language": "python",
   "name": "octisenv"
  },
  "language_info": {
   "codemirror_mode": {
    "name": "ipython",
    "version": 3
   },
   "file_extension": ".py",
   "mimetype": "text/x-python",
   "name": "python",
   "nbconvert_exporter": "python",
   "pygments_lexer": "ipython3",
   "version": "3.10.1"
  }
 },
 "nbformat": 4,
 "nbformat_minor": 5
}
