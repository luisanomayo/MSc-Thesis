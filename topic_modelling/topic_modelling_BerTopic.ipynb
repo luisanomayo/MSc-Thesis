{
 "cells": [
  {
   "cell_type": "markdown",
   "id": "9f14a2eb-c911-483a-befe-b69c4a79b654",
   "metadata": {
    "tags": []
   },
   "source": [
    "<span style=\"color: red; font-family: Calibri Light;\">\n",
    "  <h1><b>Topic Modelling with BerTopic</b></h1>\n",
    "</span>"
   ]
  },
  {
   "cell_type": "markdown",
   "id": "e12d0561-a790-4664-a7ea-99b936d0acfa",
   "metadata": {},
   "source": [
    "---"
   ]
  },
  {
   "cell_type": "code",
   "execution_count": null,
   "id": "af2ed482-a838-4f92-9a19-68b9ee6ea22c",
   "metadata": {},
   "outputs": [],
   "source": []
  }
 ],
 "metadata": {
  "kernelspec": {
   "display_name": "projectenv",
   "language": "python",
   "name": "projectenv"
  },
  "language_info": {
   "codemirror_mode": {
    "name": "ipython",
    "version": 3
   },
   "file_extension": ".py",
   "mimetype": "text/x-python",
   "name": "python",
   "nbconvert_exporter": "python",
   "pygments_lexer": "ipython3",
   "version": "3.10.1"
  }
 },
 "nbformat": 4,
 "nbformat_minor": 5
}
