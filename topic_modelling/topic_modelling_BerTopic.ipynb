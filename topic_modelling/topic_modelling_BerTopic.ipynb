{
 "cells": [
  {
   "cell_type": "code",
   "execution_count": 1,
   "id": "aaeb79e2-0a76-4f5f-9d88-97210b43a08b",
   "metadata": {},
   "outputs": [],
   "source": [
    "#pip freeze > modelenv_requirements.txt"
   ]
  },
  {
   "cell_type": "code",
   "execution_count": 2,
   "id": "5ac7674f-113e-46d8-84a0-ebe7a2498cb7",
   "metadata": {},
   "outputs": [],
   "source": [
    "#using a new virtual environments for bertopic modelling specially. install all the necessary packages, including bertopic"
   ]
  },
  {
   "cell_type": "markdown",
   "id": "9f14a2eb-c911-483a-befe-b69c4a79b654",
   "metadata": {
    "tags": []
   },
   "source": [
    "<span style=\"color: red; font-family: Calibri Light;\">\n",
    "  <h1><b>Topic Modelling with BerTopic</b></h1>\n",
    "</span>"
   ]
  },
  {
   "cell_type": "markdown",
   "id": "e12d0561-a790-4664-a7ea-99b936d0acfa",
   "metadata": {},
   "source": [
    "---"
   ]
  },
  {
   "cell_type": "markdown",
   "id": "4231218b-6399-488a-9e30-2a9afbfe830b",
   "metadata": {},
   "source": [
    "<span style=\"color: red; font-family: Calibri Light;\">\n",
    "  <h2><b>I. Setting Up Environment</b></h2>\n",
    "</span>"
   ]
  },
  {
   "cell_type": "code",
   "execution_count": 1,
   "id": "cae7bb74-ddeb-4352-a723-0dc3648b5f54",
   "metadata": {},
   "outputs": [
    {
     "name": "stderr",
     "output_type": "stream",
     "text": [
      "/Users/amenaghawon/Documents/modelenv/lib/python3.9/site-packages/umap/distances.py:1063: NumbaDeprecationWarning: The 'nopython' keyword argument was not supplied to the 'numba.jit' decorator. The implicit default value for this argument is currently False, but it will be changed to True in Numba 0.59.0. See https://numba.readthedocs.io/en/stable/reference/deprecation.html#deprecation-of-object-mode-fall-back-behaviour-when-using-jit for details.\n",
      "  @numba.jit()\n",
      "/Users/amenaghawon/Documents/modelenv/lib/python3.9/site-packages/umap/distances.py:1071: NumbaDeprecationWarning: The 'nopython' keyword argument was not supplied to the 'numba.jit' decorator. The implicit default value for this argument is currently False, but it will be changed to True in Numba 0.59.0. See https://numba.readthedocs.io/en/stable/reference/deprecation.html#deprecation-of-object-mode-fall-back-behaviour-when-using-jit for details.\n",
      "  @numba.jit()\n",
      "/Users/amenaghawon/Documents/modelenv/lib/python3.9/site-packages/umap/distances.py:1086: NumbaDeprecationWarning: The 'nopython' keyword argument was not supplied to the 'numba.jit' decorator. The implicit default value for this argument is currently False, but it will be changed to True in Numba 0.59.0. See https://numba.readthedocs.io/en/stable/reference/deprecation.html#deprecation-of-object-mode-fall-back-behaviour-when-using-jit for details.\n",
      "  @numba.jit()\n",
      "/Users/amenaghawon/Documents/modelenv/lib/python3.9/site-packages/umap/umap_.py:660: NumbaDeprecationWarning: The 'nopython' keyword argument was not supplied to the 'numba.jit' decorator. The implicit default value for this argument is currently False, but it will be changed to True in Numba 0.59.0. See https://numba.readthedocs.io/en/stable/reference/deprecation.html#deprecation-of-object-mode-fall-back-behaviour-when-using-jit for details.\n",
      "  @numba.jit()\n"
     ]
    }
   ],
   "source": [
    "import pandas as pd\n",
    "import numpy as np\n",
    "\n",
    "import ast\n",
    "import csv\n",
    "import os\n",
    "import random\n",
    "import time\n",
    "\n",
    "from glob import glob\n",
    "\n",
    "#NLP libraries\n",
    "from bertopic import BERTopic\n",
    "\n",
    "#for vis\n",
    "import matplotlib.pyplot as plt"
   ]
  },
  {
   "cell_type": "markdown",
   "id": "39fa212b-db7c-44e0-92eb-9bd1088cd6af",
   "metadata": {},
   "source": [
    "---"
   ]
  },
  {
   "cell_type": "markdown",
   "id": "05d44fab-e404-4445-9510-4df9543b811f",
   "metadata": {},
   "source": [
    "<span style=\"color: red; font-family: Calibri Light;\">\n",
    "  <h2><b>II. Import Data into DataFrame</b></h2>\n",
    "</span>"
   ]
  },
  {
   "cell_type": "code",
   "execution_count": 17,
   "id": "ef09ec0c-e75e-4447-821a-e49f4f55fd30",
   "metadata": {},
   "outputs": [],
   "source": [
    "def clean_comments (filepath):\n",
    "    \"\"\"\n",
    "    import comments from csv file into pandas dataframe,\n",
    "    \n",
    "    and carry out initial cleaning including removing deleted comments,\n",
    "    \n",
    "    correcting datetime data type, remove unwanted columns like `isSubmitter`,\n",
    "    \n",
    "    remove duplicates, etc\n",
    "    \n",
    "    \"\"\"\n",
    "    #import data\n",
    "    df = pd.read_csv(filepath, low_memory = False)\n",
    "    \n",
    "    #remove deleted comments if any\n",
    "    df = df[df.Body != '[deleted]']\n",
    "    df = df[df.Body != '[removed]']\n",
    "    df = df.dropna(subset=['Body'])\n",
    "    \n",
    "    #remove comments with missing id\n",
    "    drop_index = df[df.isSubmitter.isnull()].index\n",
    "    df.drop(drop_index, inplace = True)\n",
    "    \n",
    "    #remove duplicates if any\n",
    "    df = df.drop_duplicates(subset =['ID'], ignore_index = True)\n",
    "    df.reset_index (drop = True, inplace = True)\n",
    "    \n",
    "    #correct data types and column label\n",
    "    df['Date_Created'] = pd.to_datetime(df['Date_Created'])\n",
    "    df['year'] = df['Date_Created'].dt.year\n",
    "    df['Score'] = df['Score'].astype('int') \n",
    "    df.rename(columns = {'Author_ID': \"Author\"}, inplace = True) \n",
    "    \n",
    "    #rename 'Body' column to text\n",
    "    df.rename(columns = {'Body': 'long_text',\n",
    "                        'Date_Created': 'date_created'}, inplace = True)\n",
    "    \n",
    "    #remove unnecessary columns\n",
    "    df.drop(columns = ['Unnamed: 0', 'Author', 'Score',\n",
    "       'Parent_ID', 'Submission_ID', 'Subreddit', 'isParent', 'isSubmitter'], inplace = True)\n",
    "    \n",
    "    #remove any extra whitespace in column labels\n",
    "    df.columns = df.columns.str.strip()\n",
    "    \n",
    "    #include column to denote row is comment entry\n",
    "    df['text_type'] = 'comment'\n",
    "    \n",
    "    #rearrange column order\n",
    "    df = df[['text_type','ID','date_created', 'year', 'long_text']]\n",
    "    \n",
    "    \n",
    "        \n",
    "    return df\n",
    "\n",
    "def clean_submissions(filepath):\n",
    "    \"\"\"\n",
    "    import submissions/posts from csv file into pandas dataframe,\n",
    "    \n",
    "    and carry out initial cleaning including removing deleted comments,\n",
    "    \n",
    "    correcting datetime data type, remove unwanted columns like `Unnamed`,\n",
    "    \n",
    "    remove duplicates, etc\n",
    "    \n",
    "    \"\"\"\n",
    "    df = pd.read_csv(filepath, low_memory = False)\n",
    "    \n",
    "    #drop duplicate posts\n",
    "    df = df.drop_duplicates(subset =['ID'], ignore_index = True)\n",
    "    df.reset_index (drop = True, inplace = True)\n",
    "    \n",
    "    #create column for post title + post text\n",
    "    df['long_text'] = df['Title']+ \" \" +df['Post Text'].fillna('')\n",
    "    \n",
    "    #adjust data types\n",
    "    df['Date Created'] = pd.to_datetime(df['Date Created'])\n",
    "    df['year'] = df['year'].astype('int')\n",
    "    \n",
    "    #rename columns\n",
    "    df.rename(columns = {'Date Created': 'date_created'}, inplace = True)\n",
    "    \n",
    "    #remove unwanted columns\n",
    "    df = df.drop(columns = ['Unnamed: 0', 'Title','Post Text', 'Score',\n",
    "       'Total Comments', 'Post URL', 'SubReddit','Unnamed: 0.1'])\n",
    "    \n",
    "    #include column to denote row is comment entry\n",
    "    df['text_type'] = 'submission'\n",
    "    \n",
    "    #reorder columns - 'ID', 'Post Text'\n",
    "    df  = df[['text_type','ID', 'date_created','year', 'long_text']]\n",
    "    \n",
    "    return df\n",
    "    "
   ]
  },
  {
   "cell_type": "code",
   "execution_count": 18,
   "id": "c1cb8645-3018-4a7f-b6c6-aee2eeec4a84",
   "metadata": {},
   "outputs": [
    {
     "data": {
      "text/plain": [
       "['../Data/corpus_v5.csv',\n",
       " '../Data/corpus_v4.csv',\n",
       " '../Data/filtered_corpus.csv',\n",
       " '../Data/corpus_v3.csv',\n",
       " '../Data/corpus_v2.csv',\n",
       " '../Data/full_posts.csv',\n",
       " '../Data/training_data.csv',\n",
       " '../Data/vocabulary.csv',\n",
       " '../Data/emoji_subset.csv',\n",
       " '../Data/sampled_subset.csv',\n",
       " '../Data/training_corpus.csv',\n",
       " '../Data/comments.csv',\n",
       " '../Data/corpus.csv']"
      ]
     },
     "execution_count": 18,
     "metadata": {},
     "output_type": "execute_result"
    }
   ],
   "source": [
    "#access dataset files\n",
    "folder_path = os.path.join(\"..\", \"Data\")\n",
    "file_type = \"*.csv\"\n",
    "\n",
    "#list of dataset file paths\n",
    "document_path = glob(os.path.join(folder_path, file_type))\n",
    "\n",
    "document_path"
   ]
  },
  {
   "cell_type": "code",
   "execution_count": 19,
   "id": "ddf06b44-afb9-44e5-ab70-4607d0f1fa3e",
   "metadata": {},
   "outputs": [
    {
     "data": {
      "text/html": [
       "<div>\n",
       "<style scoped>\n",
       "    .dataframe tbody tr th:only-of-type {\n",
       "        vertical-align: middle;\n",
       "    }\n",
       "\n",
       "    .dataframe tbody tr th {\n",
       "        vertical-align: top;\n",
       "    }\n",
       "\n",
       "    .dataframe thead th {\n",
       "        text-align: right;\n",
       "    }\n",
       "</style>\n",
       "<table border=\"1\" class=\"dataframe\">\n",
       "  <thead>\n",
       "    <tr style=\"text-align: right;\">\n",
       "      <th></th>\n",
       "      <th>text_type</th>\n",
       "      <th>ID</th>\n",
       "      <th>date_created</th>\n",
       "      <th>year</th>\n",
       "      <th>long_text</th>\n",
       "    </tr>\n",
       "  </thead>\n",
       "  <tbody>\n",
       "    <tr>\n",
       "      <th>0</th>\n",
       "      <td>comment</td>\n",
       "      <td>gtfo2hl</td>\n",
       "      <td>2021-04-05 13:00:32</td>\n",
       "      <td>2021</td>\n",
       "      <td>*Cuntry roads, take me hoem*</td>\n",
       "    </tr>\n",
       "    <tr>\n",
       "      <th>1</th>\n",
       "      <td>comment</td>\n",
       "      <td>gtfqkbv</td>\n",
       "      <td>2021-04-05 13:41:40</td>\n",
       "      <td>2021</td>\n",
       "      <td>That’s been there for several years, sent a pi...</td>\n",
       "    </tr>\n",
       "    <tr>\n",
       "      <th>2</th>\n",
       "      <td>comment</td>\n",
       "      <td>gtfou07</td>\n",
       "      <td>2021-04-05 13:13:23</td>\n",
       "      <td>2021</td>\n",
       "      <td>I am single and I have not traveled to any cun...</td>\n",
       "    </tr>\n",
       "    <tr>\n",
       "      <th>3</th>\n",
       "      <td>comment</td>\n",
       "      <td>gtfrgpe</td>\n",
       "      <td>2021-04-05 13:56:09</td>\n",
       "      <td>2021</td>\n",
       "      <td>What happens when you shop at dragon mart...</td>\n",
       "    </tr>\n",
       "    <tr>\n",
       "      <th>4</th>\n",
       "      <td>comment</td>\n",
       "      <td>gtg5mwv</td>\n",
       "      <td>2021-04-05 16:51:54</td>\n",
       "      <td>2021</td>\n",
       "      <td>I am cunting on them to do so 😅</td>\n",
       "    </tr>\n",
       "    <tr>\n",
       "      <th>...</th>\n",
       "      <td>...</td>\n",
       "      <td>...</td>\n",
       "      <td>...</td>\n",
       "      <td>...</td>\n",
       "      <td>...</td>\n",
       "    </tr>\n",
       "    <tr>\n",
       "      <th>128878</th>\n",
       "      <td>submission</td>\n",
       "      <td>14f46ji</td>\n",
       "      <td>2023-06-21 14:40:54</td>\n",
       "      <td>2023</td>\n",
       "      <td>Best beauty saloons in Dubai? Hello fellas, I ...</td>\n",
       "    </tr>\n",
       "    <tr>\n",
       "      <th>128879</th>\n",
       "      <td>submission</td>\n",
       "      <td>14f4uyi</td>\n",
       "      <td>2023-06-21 15:15:27</td>\n",
       "      <td>2023</td>\n",
       "      <td>Found the r/dubai redditors who kept telling m...</td>\n",
       "    </tr>\n",
       "    <tr>\n",
       "      <th>128880</th>\n",
       "      <td>submission</td>\n",
       "      <td>14f4ri3</td>\n",
       "      <td>2023-06-21 15:10:25</td>\n",
       "      <td>2023</td>\n",
       "      <td>Scam ? Healthy.line My sister has a CBD debit ...</td>\n",
       "    </tr>\n",
       "    <tr>\n",
       "      <th>128881</th>\n",
       "      <td>submission</td>\n",
       "      <td>14f4k3r</td>\n",
       "      <td>2023-06-21 15:00:34</td>\n",
       "      <td>2023</td>\n",
       "      <td>Thoughts on Expo City properties? Anyone else ...</td>\n",
       "    </tr>\n",
       "    <tr>\n",
       "      <th>128882</th>\n",
       "      <td>submission</td>\n",
       "      <td>14f8d30</td>\n",
       "      <td>2023-06-21 17:53:14</td>\n",
       "      <td>2023</td>\n",
       "      <td>What to do when the neighbour parks like this?...</td>\n",
       "    </tr>\n",
       "  </tbody>\n",
       "</table>\n",
       "<p>128883 rows × 5 columns</p>\n",
       "</div>"
      ],
      "text/plain": [
       "         text_type       ID        date_created  year  \\\n",
       "0          comment  gtfo2hl 2021-04-05 13:00:32  2021   \n",
       "1          comment  gtfqkbv 2021-04-05 13:41:40  2021   \n",
       "2          comment  gtfou07 2021-04-05 13:13:23  2021   \n",
       "3          comment  gtfrgpe 2021-04-05 13:56:09  2021   \n",
       "4          comment  gtg5mwv 2021-04-05 16:51:54  2021   \n",
       "...            ...      ...                 ...   ...   \n",
       "128878  submission  14f46ji 2023-06-21 14:40:54  2023   \n",
       "128879  submission  14f4uyi 2023-06-21 15:15:27  2023   \n",
       "128880  submission  14f4ri3 2023-06-21 15:10:25  2023   \n",
       "128881  submission  14f4k3r 2023-06-21 15:00:34  2023   \n",
       "128882  submission  14f8d30 2023-06-21 17:53:14  2023   \n",
       "\n",
       "                                                long_text  \n",
       "0                            *Cuntry roads, take me hoem*  \n",
       "1       That’s been there for several years, sent a pi...  \n",
       "2       I am single and I have not traveled to any cun...  \n",
       "3            What happens when you shop at dragon mart...  \n",
       "4                         I am cunting on them to do so 😅  \n",
       "...                                                   ...  \n",
       "128878  Best beauty saloons in Dubai? Hello fellas, I ...  \n",
       "128879  Found the r/dubai redditors who kept telling m...  \n",
       "128880  Scam ? Healthy.line My sister has a CBD debit ...  \n",
       "128881  Thoughts on Expo City properties? Anyone else ...  \n",
       "128882  What to do when the neighbour parks like this?...  \n",
       "\n",
       "[128883 rows x 5 columns]"
      ]
     },
     "execution_count": 19,
     "metadata": {},
     "output_type": "execute_result"
    }
   ],
   "source": [
    "comments_filepath = '../Data/comments.csv'\n",
    "submissions_filepath = '../Data/full_posts.csv'\n",
    "\n",
    "\n",
    "data = pd.concat([clean_comments(comments_filepath), clean_submissions(submissions_filepath)], ignore_index = True)\n",
    "\n",
    "data"
   ]
  },
  {
   "cell_type": "markdown",
   "id": "ea1dd40c-9efa-4165-909e-6e32bf35f476",
   "metadata": {},
   "source": [
    "<span style=\"color: red; font-family: Calibri Light;\">\n",
    "  <h2><b>III. Train Model</b></h2>\n",
    "</span>"
   ]
  },
  {
   "cell_type": "code",
   "execution_count": 7,
   "id": "1e8ed4d2-4d76-4a5d-bfe4-2deccfa508b8",
   "metadata": {},
   "outputs": [],
   "source": [
    "#https://hackernoon.com/nlp-tutorial-topic-modeling-in-python-with-bertopic-372w35l9\n",
    "\n",
    "#instantiate model\n",
    "model = BERTopic(verbose = True)\n"
   ]
  },
  {
   "cell_type": "code",
   "execution_count": 8,
   "id": "5625e245-1c21-47d6-bf30-8098bdc3122e",
   "metadata": {},
   "outputs": [],
   "source": [
    "#convert text data to list\n",
    "docs = data['long_text'].to_list()"
   ]
  },
  {
   "cell_type": "code",
   "execution_count": null,
   "id": "0aebc1fc-f417-4fa0-8ac6-e7a7e6cec7c2",
   "metadata": {},
   "outputs": [
    {
     "name": "stderr",
     "output_type": "stream",
     "text": [
      "Batches: 100%|██████████| 4065/4065 [35:45<00:00,  1.89it/s]  \n",
      "2023-08-12 12:43:18,637 - BERTopic - Transformed documents to Embeddings\n",
      "/Users/amenaghawon/Documents/modelenv/lib/python3.9/site-packages/numba/np/ufunc/parallel.py:371: NumbaWarning: The TBB threading layer requires TBB version 2021 update 6 or later i.e., TBB_INTERFACE_VERSION >= 12060. Found TBB_INTERFACE_VERSION = 12040. The TBB threading layer is disabled.\n",
      "  warnings.warn(problem)\n",
      "OMP: Info #271: omp_set_nested routine deprecated, please use omp_set_max_active_levels instead.\n"
     ]
    }
   ],
   "source": [
    "start_time = time.time()\n",
    "\n",
    "#train model\n",
    "topics, probabilities = model.fit_transform(docs)\n",
    "\n",
    "print (f\"This project took {(time.time() - start_time)/60 :.2f} minutes to complete\")"
   ]
  },
  {
   "cell_type": "code",
   "execution_count": 1,
   "id": "3532d1d3-9ba3-460a-89b6-d8913142a542",
   "metadata": {},
   "outputs": [
    {
     "ename": "NameError",
     "evalue": "name 'topics' is not defined",
     "output_type": "error",
     "traceback": [
      "\u001b[0;31m---------------------------------------------------------------------------\u001b[0m",
      "\u001b[0;31mNameError\u001b[0m                                 Traceback (most recent call last)",
      "Cell \u001b[0;32mIn[1], line 1\u001b[0m\n\u001b[0;32m----> 1\u001b[0m \u001b[43mtopics\u001b[49m\n",
      "\u001b[0;31mNameError\u001b[0m: name 'topics' is not defined"
     ]
    }
   ],
   "source": [
    "topics"
   ]
  },
  {
   "cell_type": "code",
   "execution_count": null,
   "id": "d3e50d51-cc9a-4280-b070-225447684210",
   "metadata": {},
   "outputs": [],
   "source": []
  }
 ],
 "metadata": {
  "kernelspec": {
   "display_name": "modelenv",
   "language": "python",
   "name": "modelenv"
  },
  "language_info": {
   "codemirror_mode": {
    "name": "ipython",
    "version": 3
   },
   "file_extension": ".py",
   "mimetype": "text/x-python",
   "name": "python",
   "nbconvert_exporter": "python",
   "pygments_lexer": "ipython3",
   "version": "3.9.7"
  }
 },
 "nbformat": 4,
 "nbformat_minor": 5
}
