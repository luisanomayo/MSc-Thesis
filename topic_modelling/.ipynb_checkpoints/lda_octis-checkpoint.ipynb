{
 "cells": [
  {
   "cell_type": "code",
   "execution_count": 1,
   "id": "3e1c6a00-3a6b-4141-914b-8e4ab67feeb4",
   "metadata": {},
   "outputs": [],
   "source": [
    "import pandas as pd\n",
    "import ast\n",
    "import time\n",
    "import csv\n",
    "from octis.dataset.dataset import Dataset\n",
    "from octis.models.LDA import LDA\n",
    "from octis.optimization.optimizer import Optimizer\n",
    "from skopt.space.space import Real, Categorical, Integer\n",
    "from octis.evaluation_metrics.coherence_metrics import Coherence\n",
    "from octis.evaluation_metrics.diversity_metrics import TopicDiversity"
   ]
  },
  {
   "cell_type": "code",
   "execution_count": 2,
   "id": "164a7106-b6e8-4655-9a69-ea2330a0fc51",
   "metadata": {
    "tags": []
   },
   "outputs": [
    {
     "data": {
      "text/html": [
       "<div>\n",
       "<style scoped>\n",
       "    .dataframe tbody tr th:only-of-type {\n",
       "        vertical-align: middle;\n",
       "    }\n",
       "\n",
       "    .dataframe tbody tr th {\n",
       "        vertical-align: top;\n",
       "    }\n",
       "\n",
       "    .dataframe thead th {\n",
       "        text-align: right;\n",
       "    }\n",
       "</style>\n",
       "<table border=\"1\" class=\"dataframe\">\n",
       "  <thead>\n",
       "    <tr style=\"text-align: right;\">\n",
       "      <th></th>\n",
       "      <th>text_type</th>\n",
       "      <th>ID</th>\n",
       "      <th>date_created</th>\n",
       "      <th>year</th>\n",
       "      <th>long_text</th>\n",
       "      <th>clean_text</th>\n",
       "      <th>tokens</th>\n",
       "      <th>word_count</th>\n",
       "    </tr>\n",
       "  </thead>\n",
       "  <tbody>\n",
       "    <tr>\n",
       "      <th>0</th>\n",
       "      <td>comment</td>\n",
       "      <td>gtfou07</td>\n",
       "      <td>2021-04-05 13:13:23</td>\n",
       "      <td>2021</td>\n",
       "      <td>I am single and I have not traveled to any cun...</td>\n",
       "      <td>single travel cuntry past</td>\n",
       "      <td>[single, travel, cuntry, past]</td>\n",
       "      <td>4</td>\n",
       "    </tr>\n",
       "    <tr>\n",
       "      <th>1</th>\n",
       "      <td>comment</td>\n",
       "      <td>gthiiwi</td>\n",
       "      <td>2021-04-05 23:18:56</td>\n",
       "      <td>2021</td>\n",
       "      <td>That’s just absolutely hilarious, is this in t...</td>\n",
       "      <td>absolutely hilarious spring souk</td>\n",
       "      <td>[absolutely, hilarious, spring, souk]</td>\n",
       "      <td>4</td>\n",
       "    </tr>\n",
       "    <tr>\n",
       "      <th>2</th>\n",
       "      <td>comment</td>\n",
       "      <td>gtgfl4c</td>\n",
       "      <td>2021-04-05 18:21:42</td>\n",
       "      <td>2021</td>\n",
       "      <td>Is reel cinema and roxy part of emaar?</td>\n",
       "      <td>reel cinema roxy emaar</td>\n",
       "      <td>[reel, cinema, roxy, emaar]</td>\n",
       "      <td>4</td>\n",
       "    </tr>\n",
       "    <tr>\n",
       "      <th>3</th>\n",
       "      <td>comment</td>\n",
       "      <td>gth5wdv</td>\n",
       "      <td>2021-04-05 21:42:41</td>\n",
       "      <td>2021</td>\n",
       "      <td>An innocent redditor here...can someone pls ex...</td>\n",
       "      <td>innocent redditor explain everyday</td>\n",
       "      <td>[innocent, redditor, explain, everyday]</td>\n",
       "      <td>4</td>\n",
       "    </tr>\n",
       "    <tr>\n",
       "      <th>4</th>\n",
       "      <td>comment</td>\n",
       "      <td>gtfs2hs</td>\n",
       "      <td>2021-04-05 14:05:30</td>\n",
       "      <td>2021</td>\n",
       "      <td>Really? In springs souk? I never noticed it be...</td>\n",
       "      <td>spring souk notice cinema covid</td>\n",
       "      <td>[spring, souk, notice, cinema, covid]</td>\n",
       "      <td>5</td>\n",
       "    </tr>\n",
       "  </tbody>\n",
       "</table>\n",
       "</div>"
      ],
      "text/plain": [
       "  text_type       ID         date_created  year  \\\n",
       "0   comment  gtfou07  2021-04-05 13:13:23  2021   \n",
       "1   comment  gthiiwi  2021-04-05 23:18:56  2021   \n",
       "2   comment  gtgfl4c  2021-04-05 18:21:42  2021   \n",
       "3   comment  gth5wdv  2021-04-05 21:42:41  2021   \n",
       "4   comment  gtfs2hs  2021-04-05 14:05:30  2021   \n",
       "\n",
       "                                           long_text  \\\n",
       "0  I am single and I have not traveled to any cun...   \n",
       "1  That’s just absolutely hilarious, is this in t...   \n",
       "2             Is reel cinema and roxy part of emaar?   \n",
       "3  An innocent redditor here...can someone pls ex...   \n",
       "4  Really? In springs souk? I never noticed it be...   \n",
       "\n",
       "                           clean_text  \\\n",
       "0           single travel cuntry past   \n",
       "1    absolutely hilarious spring souk   \n",
       "2              reel cinema roxy emaar   \n",
       "3  innocent redditor explain everyday   \n",
       "4     spring souk notice cinema covid   \n",
       "\n",
       "                                    tokens  word_count  \n",
       "0           [single, travel, cuntry, past]           4  \n",
       "1    [absolutely, hilarious, spring, souk]           4  \n",
       "2              [reel, cinema, roxy, emaar]           4  \n",
       "3  [innocent, redditor, explain, everyday]           4  \n",
       "4    [spring, souk, notice, cinema, covid]           5  "
      ]
     },
     "execution_count": 2,
     "metadata": {},
     "output_type": "execute_result"
    }
   ],
   "source": [
    "#import cleaned data\n",
    "\n",
    "def list_converter(text):\n",
    "    #to revert list->str conversion from pd.read_csv\n",
    "    return ast.literal_eval(text)\n",
    "\n",
    "\n",
    "data = pd.read_csv('../Data/lda_train.csv', converters ={'tokens':list_converter})\n",
    "data = data.drop(columns = ['index'])\n",
    "data.head()"
   ]
  },
  {
   "cell_type": "code",
   "execution_count": null,
   "id": "3c999908-77bc-4504-a55d-cbaa0801a4c7",
   "metadata": {},
   "outputs": [],
   "source": [
    "#octis expects a folder with two files.\n",
    "#The corpus in a .tsv file and vocabulary in a .txt file, with each word on a different line"
   ]
  },
  {
   "cell_type": "code",
   "execution_count": null,
   "id": "431d5d61-04b2-4df0-9c83-2f805d1d44c0",
   "metadata": {},
   "outputs": [],
   "source": [
    "#create tsv file and 'label', 80% as train, 20% as validation data"
   ]
  },
  {
   "cell_type": "code",
   "execution_count": 3,
   "id": "e45312c1-3b57-4b95-8b41-0361c35c9194",
   "metadata": {},
   "outputs": [],
   "source": [
    "#data\n",
    "text = data['clean_text']\n",
    "#create labels \n",
    "label = ['train'] * len(text)\n",
    "\n",
    "#store data in .tsv file\n",
    "corpus_tsv = pd.DataFrame({'text': text, 'label': label})\n",
    "corpus_tsv.to_csv('../octis_data/corpus.tsv', sep = '\\t', header = False, index = False)"
   ]
  },
  {
   "cell_type": "code",
   "execution_count": 4,
   "id": "869ad039-976c-402b-b343-6b373121cf51",
   "metadata": {},
   "outputs": [],
   "source": [
    "#create .txt vocabulary file\n",
    "all_words = ' '.join(text).split()\n",
    "vocabulary = set(all_words)\n",
    "\n",
    "with open('../octis_data/vocabulary.txt', 'w') as file:\n",
    "    for word in vocabulary:\n",
    "        file.write (f'{word}\\n')"
   ]
  },
  {
   "cell_type": "code",
   "execution_count": null,
   "id": "a059bf75-06c6-4158-a6d9-684236618bf5",
   "metadata": {},
   "outputs": [],
   "source": [
    "#build octis pipeline"
   ]
  },
  {
   "cell_type": "code",
   "execution_count": 5,
   "id": "c0f7eb31-bf17-40c2-b396-b89a085b4085",
   "metadata": {},
   "outputs": [],
   "source": [
    "dataset = Dataset()\n",
    "dataset.load_custom_dataset_from_folder('../octis_data')"
   ]
  },
  {
   "cell_type": "code",
   "execution_count": 6,
   "id": "f13acba7-d9de-4bb6-a84e-8d6becb0aedb",
   "metadata": {},
   "outputs": [],
   "source": [
    "#initiate model\n",
    "lda_model = LDA(passes = 10,\n",
    "                chunksize = 5000,\n",
    "                eval_every = None,\n",
    "                iterations = 400, \n",
    "                random_state = 45\n",
    "               )"
   ]
  },
  {
   "cell_type": "code",
   "execution_count": 7,
   "id": "2311a3ac-743a-4a4c-9d52-febde574f13b",
   "metadata": {
    "collapsed": true,
    "jupyter": {
     "outputs_hidden": true
    },
    "tags": []
   },
   "outputs": [
    {
     "name": "stdout",
     "output_type": "stream",
     "text": [
      "Current call:  0\n",
      "Current call:  1\n",
      "Current call:  2\n",
      "Current call:  3\n",
      "Current call:  4\n",
      "Current call:  5\n",
      "Current call:  6\n",
      "Current call:  7\n",
      "Current call:  8\n",
      "Current call:  9\n",
      "Current call:  10\n",
      "Current call:  11\n",
      "Current call:  12\n",
      "Current call:  13\n",
      "Current call:  14\n",
      "Current call:  15\n",
      "Current call:  16\n",
      "Current call:  17\n",
      "Current call:  18\n",
      "Current call:  19\n",
      "Current call:  20\n",
      "Current call:  21\n",
      "Current call:  22\n",
      "Current call:  23\n",
      "Current call:  24\n",
      "Current call:  25\n",
      "Current call:  26\n",
      "Current call:  27\n",
      "Current call:  28\n",
      "Current call:  29\n",
      "Current call:  30\n",
      "Current call:  31\n",
      "Current call:  32\n",
      "Current call:  33\n",
      "Current call:  34\n",
      "Current call:  35\n",
      "Current call:  36\n",
      "Current call:  37\n",
      "Current call:  38\n",
      "Current call:  39\n",
      "Current call:  40\n",
      "Current call:  41\n",
      "Current call:  42\n",
      "Current call:  43\n",
      "Current call:  44\n",
      "This model took 675.14 minutes to train\n",
      "results saved\n"
     ]
    }
   ],
   "source": [
    "#hyperparameter optimization to get best model\n",
    "search_space = {\n",
    "    \"num_topics\":Categorical({5,10,15,20,25,30}),\n",
    "    \"eta\": Real(low=0.01, high = 1.0),\n",
    "    \"alpha\": Real(low=0.01, high = 1.0)\n",
    "}\n",
    "\n",
    "npmi = Coherence(texts = dataset.get_corpus(), topk = 10, measure = 'c_npmi')\n",
    "cv = Coherence(texts = dataset.get_corpus(), topk = 10, measure = 'c_v')\n",
    "diversity = TopicDiversity(topk = 10)\n",
    "\n",
    "extra_metric = [diversity]\n",
    "\n",
    "##\n",
    "start_time = time.time() #start counter for training time\n",
    "\n",
    "optimizer = Optimizer()\n",
    "\n",
    "optimization_result = optimizer.optimize(lda_model, dataset,\n",
    "                                         search_space = search_space,\n",
    "                                         metric = cv,\n",
    "                                         model_runs = 5, number_of_call = 45,\n",
    "                                         extra_metrics = extra_metric,\n",
    "                                         save_models = False,\n",
    "                                         save_path = \"results/lda/\",\n",
    "                                         plot_best_seen = True\n",
    "                                            )\n",
    "\n",
    "print(f\"This model took {(time.time() - start_time)/60 :.2f} minutes to train\")\n",
    "\n",
    "optimization_result.save_to_csv(\"lda_results.csv\")\n",
    "\n",
    "print (\"results saved\")"
   ]
  },
  {
   "cell_type": "code",
   "execution_count": 18,
   "id": "121d6ad4-4bad-48ed-b61c-d387565a26fd",
   "metadata": {
    "tags": []
   },
   "outputs": [
    {
     "name": "stdout",
     "output_type": "stream",
     "text": [
      "dict_keys(['dataset_name', 'dataset_path', 'is_cached', 'kernel', 'acq_func', 'surrogate_model', 'optimization_type', 'model_runs', 'save_models', 'save_step', 'save_name', 'save_path', 'early_stop', 'early_step', 'plot_model', 'plot_best_seen', 'plot_name', 'log_scale_plot', 'search_space', 'model_name', 'model_attributes', 'use_partitioning', 'metric_name', 'extra_metric_names', 'metric_attributes', 'extra_metric_attributes', 'current_call', 'number_of_call', 'random_state', 'x0', 'y0', 'n_random_starts', 'initial_point_generator', 'topk', 'time_eval', 'dict_model_runs', 'f_val', 'x_iters'])\n"
     ]
    }
   ],
   "source": [
    "import json\n",
    "results = json.load(open(\"results/lda/result.json\",'r'))\n",
    "print(results.keys())"
   ]
  },
  {
   "cell_type": "code",
   "execution_count": 19,
   "id": "de8776ae-1fe8-4ff7-8ae7-af50dc2c61ff",
   "metadata": {
    "tags": []
   },
   "outputs": [
    {
     "data": {
      "image/png": "[encoded data removed]",
      "text/plain": [
       "<Figure size 640x480 with 1 Axes>"
      ]
     },
     "metadata": {},
     "output_type": "display_data"
    }
   ],
   "source": [
    "import matplotlib.pyplot as plt\n",
    "plt.xlabel('Iteration')\n",
    "plt.ylabel('Coherence score (c_v)')\n",
    "plt.title('Median coherence score per iteration')\n",
    "plt.plot(results['f_val'])\n",
    "plt.show()"
   ]
  },
  {
   "cell_type": "code",
   "execution_count": 27,
   "id": "b7a6015c-84cf-41fa-9e48-6aee33de502f",
   "metadata": {},
   "outputs": [
    {
     "data": {
      "text/plain": [
       "36"
      ]
     },
     "execution_count": 27,
     "metadata": {},
     "output_type": "execute_result"
    }
   ],
   "source": [
    "results['f_val'].index(max(results['f_val']))"
   ]
  },
  {
   "cell_type": "code",
   "execution_count": 23,
   "id": "0826a121-6dff-4b65-91cc-80bf512da034",
   "metadata": {},
   "outputs": [
    {
     "data": {
      "text/plain": [
       "0.6871464303824902"
      ]
     },
     "execution_count": 23,
     "metadata": {},
     "output_type": "execute_result"
    }
   ],
   "source": [
    "results[\"f_val\"][36]"
   ]
  },
  {
   "cell_type": "code",
   "execution_count": 25,
   "id": "fa727ff9-64f7-4f3e-9098-f30544240260",
   "metadata": {},
   "outputs": [
    {
     "data": {
      "text/plain": [
       "dict_keys(['alpha', 'eta', 'num_topics'])"
      ]
     },
     "execution_count": 25,
     "metadata": {},
     "output_type": "execute_result"
    }
   ],
   "source": [
    "results['x_iters'].keys()"
   ]
  },
  {
   "cell_type": "code",
   "execution_count": 26,
   "id": "c5780ac5-843c-4a3a-83b0-294f007c228b",
   "metadata": {},
   "outputs": [
    {
     "name": "stdout",
     "output_type": "stream",
     "text": [
      "[0.05236474439958801, 0.5045144722678522, 10]\n"
     ]
    }
   ],
   "source": [
    "print([results['x_iters'][parameter][36] for parameter in results['x_iters'].keys()])"
   ]
  },
  {
   "cell_type": "code",
   "execution_count": null,
   "id": "75e01933-8d91-4c06-9125-a4e9a76ceda0",
   "metadata": {},
   "outputs": [],
   "source": []
  }
 ],
 "metadata": {
  "kernelspec": {
   "display_name": "octisenv",
   "language": "python",
   "name": "octisenv"
  },
  "language_info": {
   "codemirror_mode": {
    "name": "ipython",
    "version": 3
   },
   "file_extension": ".py",
   "mimetype": "text/x-python",
   "name": "python",
   "nbconvert_exporter": "python",
   "pygments_lexer": "ipython3",
   "version": "3.10.1"
  }
 },
 "nbformat": 4,
 "nbformat_minor": 5
}
