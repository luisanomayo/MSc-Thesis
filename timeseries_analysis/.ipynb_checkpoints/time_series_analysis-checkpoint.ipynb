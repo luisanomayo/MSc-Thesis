{
 "cells": [
  {
   "cell_type": "markdown",
   "id": "c1087650-4daa-4034-965a-b14f7041e3b1",
   "metadata": {},
   "source": [
    "<span style=\"color: orange; font-family: Calibri Light;\">\n",
    "  <h1><b>TIME SERIES ANALYSIS</b></h1>\n",
    "</span>\n",
    "<span style = \"font-family: Calibri Light\">"
   ]
  },
  {
   "cell_type": "markdown",
   "id": "e97cf9da-7b18-4105-86b9-66323baecc0f",
   "metadata": {},
   "source": [
    "<span style=\"color: orange; font-family: Calibri Light;\">\n",
    "  <h2><b>I. Setting Up Environment</b></h2>\n",
    "</span>"
   ]
  },
  {
   "cell_type": "code",
   "execution_count": 175,
   "id": "e27aa65f-bc9e-4f8b-958f-c60882fb2e65",
   "metadata": {},
   "outputs": [],
   "source": [
    "import pandas as pd\n",
    "import numpy as np\n",
    "import ast\n",
    "import pickle\n",
    "import csv\n",
    "\n",
    "import datetime\n",
    "import os\n",
    "from glob import glob\n",
    "\n",
    "from gensim import corpora\n",
    "from gensim.models import Phrases\n",
    "from gensim.models import LdaModel, CoherenceModel, LdaMulticore\n",
    "\n",
    "from statsmodels.tsa.seasonal import seasonal_decompose\n",
    "\n",
    "import matplotlib as mpl\n",
    "from matplotlib import pyplot as plt\n",
    "from matplotlib import colors as mcolors\n",
    "\n",
    "import plotly.express as px\n",
    "import plotly.io as pio\n",
    "import plotly.graph_objects as go\n",
    "from plotly.subplots import make_subplots\n",
    "\n",
    "import seaborn as sns\n",
    "\n",
    "\n",
    "from PIL import Image\n",
    "from wordcloud import WordCloud, STOPWORDS, ImageColorGenerator\n",
    "\n",
    "from cycler import cycler\n",
    "\n",
    "\n",
    "\n",
    "pio.templates.default = \"plotly_white\""
   ]
  },
  {
   "cell_type": "markdown",
   "id": "0a911f52-449a-401b-af1b-85dda8a9bda6",
   "metadata": {},
   "source": [
    "<span style=\"color: orange; font-family: Calibri Light;\">\n",
    "  <h2><b>II. Load & Transform Datasets</b></h2>\n",
    "</span>"
   ]
  },
  {
   "cell_type": "code",
   "execution_count": 2,
   "id": "f68ec266-6073-4aa1-b060-1c2aba02b643",
   "metadata": {},
   "outputs": [
    {
     "data": {
      "text/plain": [
       "['../bert_model_data/bert_default_raw_text_topics_term.csv',\n",
       " '../bert_model_data/test_data_bert_raw_label.csv',\n",
       " '../bert_model_data/bert_train_lemma.csv',\n",
       " '../bert_model_data/human_and_bert_raw_labels.csv',\n",
       " '../bert_model_data/bert_default_raw_text_topics_term_labelled.csv',\n",
       " '../bert_model_data/bert_kmeans_lemma_topics_terms.csv',\n",
       " '../bert_model_data/test_data_human_label_bert_raw.csv',\n",
       " '../bert_model_data/posts_upvote_ratio.csv',\n",
       " '../bert_model_data/bert_train_no_prep.csv',\n",
       " '../bert_model_data/bert_model_1_label_train_data.csv',\n",
       " '../bert_model_data/test_data_lemma.csv']"
      ]
     },
     "execution_count": 2,
     "metadata": {},
     "output_type": "execute_result"
    }
   ],
   "source": [
    "# Access dataset files\n",
    "folder_path = os.path.join( \"..\", \"bert_model_data\") \n",
    "file_type = \"*.csv\"\n",
    "\n",
    "# List of dataset file paths\n",
    "document_path = glob(os.path.join(folder_path, file_type))\n",
    "\n",
    "document_path"
   ]
  },
  {
   "cell_type": "code",
   "execution_count": 3,
   "id": "36786ddd-6711-49cc-8a51-a49842d27dca",
   "metadata": {},
   "outputs": [],
   "source": [
    "def list_converter(text):\n",
    "    #to revert list->str conversion from pd.read_csv\n",
    "    return ast.literal_eval(text)"
   ]
  },
  {
   "cell_type": "code",
   "execution_count": 4,
   "id": "2a17cbfe-02dc-40e3-8132-0d6863083f1a",
   "metadata": {},
   "outputs": [
    {
     "data": {
      "text/html": [
       "<div>\n",
       "<style scoped>\n",
       "    .dataframe tbody tr th:only-of-type {\n",
       "        vertical-align: middle;\n",
       "    }\n",
       "\n",
       "    .dataframe tbody tr th {\n",
       "        vertical-align: top;\n",
       "    }\n",
       "\n",
       "    .dataframe thead th {\n",
       "        text-align: right;\n",
       "    }\n",
       "</style>\n",
       "<table border=\"1\" class=\"dataframe\">\n",
       "  <thead>\n",
       "    <tr style=\"text-align: right;\">\n",
       "      <th></th>\n",
       "      <th>text_type</th>\n",
       "      <th>ID</th>\n",
       "      <th>date_created</th>\n",
       "      <th>year</th>\n",
       "      <th>long_text</th>\n",
       "      <th>Topic</th>\n",
       "      <th>Name</th>\n",
       "    </tr>\n",
       "  </thead>\n",
       "  <tbody>\n",
       "    <tr>\n",
       "      <th>0</th>\n",
       "      <td>comment</td>\n",
       "      <td>c5c54q4</td>\n",
       "      <td>2012-07-11 00:50:58</td>\n",
       "      <td>2012</td>\n",
       "      <td>That dessert's a bit rich for me.</td>\n",
       "      <td>-1</td>\n",
       "      <td>-1_dubai_people_just_like</td>\n",
       "    </tr>\n",
       "    <tr>\n",
       "      <th>1</th>\n",
       "      <td>comment</td>\n",
       "      <td>c5edn0u</td>\n",
       "      <td>2012-07-15 21:59:34</td>\n",
       "      <td>2012</td>\n",
       "      <td>\"A SILVER one?! I HATE YOU DAD!\"</td>\n",
       "      <td>-1</td>\n",
       "      <td>-1_dubai_people_just_like</td>\n",
       "    </tr>\n",
       "    <tr>\n",
       "      <th>2</th>\n",
       "      <td>comment</td>\n",
       "      <td>c6d18gk</td>\n",
       "      <td>2012-09-25 07:57:13</td>\n",
       "      <td>2012</td>\n",
       "      <td>Yet i stared at the picture for a good 45 seco...</td>\n",
       "      <td>-1</td>\n",
       "      <td>-1_dubai_people_just_like</td>\n",
       "    </tr>\n",
       "    <tr>\n",
       "      <th>3</th>\n",
       "      <td>comment</td>\n",
       "      <td>c6d1cs1</td>\n",
       "      <td>2012-09-25 08:04:04</td>\n",
       "      <td>2012</td>\n",
       "      <td>seriously?</td>\n",
       "      <td>-1</td>\n",
       "      <td>-1_dubai_people_just_like</td>\n",
       "    </tr>\n",
       "    <tr>\n",
       "      <th>4</th>\n",
       "      <td>comment</td>\n",
       "      <td>c6d2fss</td>\n",
       "      <td>2012-09-25 09:13:23</td>\n",
       "      <td>2012</td>\n",
       "      <td>[FYSR] = from your sister subreddit.\\n\\nIMO, i...</td>\n",
       "      <td>1</td>\n",
       "      <td>1_dubai_uae_arabic_people</td>\n",
       "    </tr>\n",
       "  </tbody>\n",
       "</table>\n",
       "</div>"
      ],
      "text/plain": [
       "  text_type       ID         date_created  year  \\\n",
       "0   comment  c5c54q4  2012-07-11 00:50:58  2012   \n",
       "1   comment  c5edn0u  2012-07-15 21:59:34  2012   \n",
       "2   comment  c6d18gk  2012-09-25 07:57:13  2012   \n",
       "3   comment  c6d1cs1  2012-09-25 08:04:04  2012   \n",
       "4   comment  c6d2fss  2012-09-25 09:13:23  2012   \n",
       "\n",
       "                                           long_text  Topic  \\\n",
       "0                  That dessert's a bit rich for me.     -1   \n",
       "1                  \"A SILVER one?! I HATE YOU DAD!\"      -1   \n",
       "2  Yet i stared at the picture for a good 45 seco...     -1   \n",
       "3                                         seriously?     -1   \n",
       "4  [FYSR] = from your sister subreddit.\\n\\nIMO, i...      1   \n",
       "\n",
       "                        Name  \n",
       "0  -1_dubai_people_just_like  \n",
       "1  -1_dubai_people_just_like  \n",
       "2  -1_dubai_people_just_like  \n",
       "3  -1_dubai_people_just_like  \n",
       "4  1_dubai_uae_arabic_people  "
      ]
     },
     "execution_count": 4,
     "metadata": {},
     "output_type": "execute_result"
    }
   ],
   "source": [
    "#import cleaned data\n",
    "train_data = pd.read_csv('../bert_model_data/bert_model_1_label_train_data.csv')#, converters ={'tokens':list_converter})\n",
    "train_data = train_data.drop(columns = ['Unnamed: 0'])\n",
    "train_data.head()"
   ]
  },
  {
   "cell_type": "code",
   "execution_count": 5,
   "id": "ba0d3909-6cf1-480e-ab7d-f8ae3e8ac366",
   "metadata": {},
   "outputs": [
    {
     "data": {
      "text/html": [
       "<div>\n",
       "<style scoped>\n",
       "    .dataframe tbody tr th:only-of-type {\n",
       "        vertical-align: middle;\n",
       "    }\n",
       "\n",
       "    .dataframe tbody tr th {\n",
       "        vertical-align: top;\n",
       "    }\n",
       "\n",
       "    .dataframe thead th {\n",
       "        text-align: right;\n",
       "    }\n",
       "</style>\n",
       "<table border=\"1\" class=\"dataframe\">\n",
       "  <thead>\n",
       "    <tr style=\"text-align: right;\">\n",
       "      <th></th>\n",
       "      <th>text_type</th>\n",
       "      <th>ID</th>\n",
       "      <th>date_created</th>\n",
       "      <th>long_text</th>\n",
       "      <th>Topic</th>\n",
       "    </tr>\n",
       "  </thead>\n",
       "  <tbody>\n",
       "    <tr>\n",
       "      <th>0</th>\n",
       "      <td>comment</td>\n",
       "      <td>c5c54q4</td>\n",
       "      <td>2012-07-11 00:50:58</td>\n",
       "      <td>That dessert's a bit rich for me.</td>\n",
       "      <td>-1</td>\n",
       "    </tr>\n",
       "    <tr>\n",
       "      <th>1</th>\n",
       "      <td>comment</td>\n",
       "      <td>c5edn0u</td>\n",
       "      <td>2012-07-15 21:59:34</td>\n",
       "      <td>\"A SILVER one?! I HATE YOU DAD!\"</td>\n",
       "      <td>-1</td>\n",
       "    </tr>\n",
       "    <tr>\n",
       "      <th>2</th>\n",
       "      <td>comment</td>\n",
       "      <td>c6d18gk</td>\n",
       "      <td>2012-09-25 07:57:13</td>\n",
       "      <td>Yet i stared at the picture for a good 45 seco...</td>\n",
       "      <td>-1</td>\n",
       "    </tr>\n",
       "    <tr>\n",
       "      <th>3</th>\n",
       "      <td>comment</td>\n",
       "      <td>c6d1cs1</td>\n",
       "      <td>2012-09-25 08:04:04</td>\n",
       "      <td>seriously?</td>\n",
       "      <td>-1</td>\n",
       "    </tr>\n",
       "    <tr>\n",
       "      <th>4</th>\n",
       "      <td>comment</td>\n",
       "      <td>c6d2fss</td>\n",
       "      <td>2012-09-25 09:13:23</td>\n",
       "      <td>[FYSR] = from your sister subreddit.\\n\\nIMO, i...</td>\n",
       "      <td>1</td>\n",
       "    </tr>\n",
       "  </tbody>\n",
       "</table>\n",
       "</div>"
      ],
      "text/plain": [
       "  text_type       ID         date_created  \\\n",
       "0   comment  c5c54q4  2012-07-11 00:50:58   \n",
       "1   comment  c5edn0u  2012-07-15 21:59:34   \n",
       "2   comment  c6d18gk  2012-09-25 07:57:13   \n",
       "3   comment  c6d1cs1  2012-09-25 08:04:04   \n",
       "4   comment  c6d2fss  2012-09-25 09:13:23   \n",
       "\n",
       "                                           long_text  Topic  \n",
       "0                  That dessert's a bit rich for me.     -1  \n",
       "1                  \"A SILVER one?! I HATE YOU DAD!\"      -1  \n",
       "2  Yet i stared at the picture for a good 45 seco...     -1  \n",
       "3                                         seriously?     -1  \n",
       "4  [FYSR] = from your sister subreddit.\\n\\nIMO, i...      1  "
      ]
     },
     "execution_count": 5,
     "metadata": {},
     "output_type": "execute_result"
    }
   ],
   "source": [
    "train_data.drop(columns = ['year', 'Name'], inplace = True)\n",
    "train_data.head()"
   ]
  },
  {
   "cell_type": "code",
   "execution_count": 6,
   "id": "6c584f54-a85b-4e12-ab77-fab70a2ec091",
   "metadata": {
    "tags": []
   },
   "outputs": [
    {
     "name": "stdout",
     "output_type": "stream",
     "text": [
      "<class 'pandas.core.frame.DataFrame'>\n",
      "RangeIndex: 127686 entries, 0 to 127685\n",
      "Data columns (total 5 columns):\n",
      " #   Column        Non-Null Count   Dtype \n",
      "---  ------        --------------   ----- \n",
      " 0   text_type     127686 non-null  object\n",
      " 1   ID            127686 non-null  object\n",
      " 2   date_created  127686 non-null  object\n",
      " 3   long_text     127683 non-null  object\n",
      " 4   Topic         127686 non-null  int64 \n",
      "dtypes: int64(1), object(4)\n",
      "memory usage: 4.9+ MB\n"
     ]
    }
   ],
   "source": [
    "train_data.info()"
   ]
  },
  {
   "cell_type": "code",
   "execution_count": 7,
   "id": "2bf9856c-0a07-4798-baa6-8ca4f4344994",
   "metadata": {},
   "outputs": [
    {
     "data": {
      "text/html": [
       "<div>\n",
       "<style scoped>\n",
       "    .dataframe tbody tr th:only-of-type {\n",
       "        vertical-align: middle;\n",
       "    }\n",
       "\n",
       "    .dataframe tbody tr th {\n",
       "        vertical-align: top;\n",
       "    }\n",
       "\n",
       "    .dataframe thead th {\n",
       "        text-align: right;\n",
       "    }\n",
       "</style>\n",
       "<table border=\"1\" class=\"dataframe\">\n",
       "  <thead>\n",
       "    <tr style=\"text-align: right;\">\n",
       "      <th></th>\n",
       "      <th>text_type</th>\n",
       "      <th>ID</th>\n",
       "      <th>date_created</th>\n",
       "      <th>long_text</th>\n",
       "      <th>model_topic_no</th>\n",
       "    </tr>\n",
       "  </thead>\n",
       "  <tbody>\n",
       "    <tr>\n",
       "      <th>0</th>\n",
       "      <td>submission</td>\n",
       "      <td>10embj</td>\n",
       "      <td>2012-09-24 23:02:05</td>\n",
       "      <td>Dubai cap my dad brought me! [FYSR]</td>\n",
       "      <td>1</td>\n",
       "    </tr>\n",
       "    <tr>\n",
       "      <th>1</th>\n",
       "      <td>submission</td>\n",
       "      <td>13ch705</td>\n",
       "      <td>2023-05-09 10:04:19</td>\n",
       "      <td>Anyone here have any idea where I can park my ...</td>\n",
       "      <td>10</td>\n",
       "    </tr>\n",
       "    <tr>\n",
       "      <th>2</th>\n",
       "      <td>submission</td>\n",
       "      <td>13cpma4</td>\n",
       "      <td>2023-05-09 17:17:49</td>\n",
       "      <td>UAE real estate agents and brokers, I need you...</td>\n",
       "      <td>1</td>\n",
       "    </tr>\n",
       "    <tr>\n",
       "      <th>3</th>\n",
       "      <td>submission</td>\n",
       "      <td>13p1nlq</td>\n",
       "      <td>2023-05-23 00:07:39</td>\n",
       "      <td>A Well Deserved Shout-out I posted in this sub...</td>\n",
       "      <td>7</td>\n",
       "    </tr>\n",
       "    <tr>\n",
       "      <th>4</th>\n",
       "      <td>submission</td>\n",
       "      <td>14d7052</td>\n",
       "      <td>2023-06-19 10:52:36</td>\n",
       "      <td>Furnished apartments… bedding/pots and pans Hi...</td>\n",
       "      <td>24</td>\n",
       "    </tr>\n",
       "    <tr>\n",
       "      <th>...</th>\n",
       "      <td>...</td>\n",
       "      <td>...</td>\n",
       "      <td>...</td>\n",
       "      <td>...</td>\n",
       "      <td>...</td>\n",
       "    </tr>\n",
       "    <tr>\n",
       "      <th>1195</th>\n",
       "      <td>submission</td>\n",
       "      <td>wbwik</td>\n",
       "      <td>2012-07-10 19:11:08</td>\n",
       "      <td>Only in Dubai! R8: BRAND NEW 2012 Audi R8 V8 -...</td>\n",
       "      <td>1</td>\n",
       "    </tr>\n",
       "    <tr>\n",
       "      <th>1196</th>\n",
       "      <td>submission</td>\n",
       "      <td>x9rwby</td>\n",
       "      <td>2022-09-09 14:27:16</td>\n",
       "      <td>Where have all the saris gone ? Was having a c...</td>\n",
       "      <td>23</td>\n",
       "    </tr>\n",
       "    <tr>\n",
       "      <th>1197</th>\n",
       "      <td>submission</td>\n",
       "      <td>ye87w0</td>\n",
       "      <td>2022-10-27 00:35:22</td>\n",
       "      <td>Yeah those vox movies somehow also got affecte...</td>\n",
       "      <td>9</td>\n",
       "    </tr>\n",
       "    <tr>\n",
       "      <th>1198</th>\n",
       "      <td>submission</td>\n",
       "      <td>z1qtro</td>\n",
       "      <td>2022-11-22 15:06:04</td>\n",
       "      <td>Unbaked croissant Any idea where you can buy u...</td>\n",
       "      <td>-1</td>\n",
       "    </tr>\n",
       "    <tr>\n",
       "      <th>1199</th>\n",
       "      <td>submission</td>\n",
       "      <td>zy0ue1</td>\n",
       "      <td>2022-12-29 13:09:35</td>\n",
       "      <td>POV: you’re on Sheikh Zayed road</td>\n",
       "      <td>-1</td>\n",
       "    </tr>\n",
       "  </tbody>\n",
       "</table>\n",
       "<p>1200 rows × 5 columns</p>\n",
       "</div>"
      ],
      "text/plain": [
       "       text_type       ID         date_created  \\\n",
       "0     submission   10embj  2012-09-24 23:02:05   \n",
       "1     submission  13ch705  2023-05-09 10:04:19   \n",
       "2     submission  13cpma4  2023-05-09 17:17:49   \n",
       "3     submission  13p1nlq  2023-05-23 00:07:39   \n",
       "4     submission  14d7052  2023-06-19 10:52:36   \n",
       "...          ...      ...                  ...   \n",
       "1195  submission    wbwik  2012-07-10 19:11:08   \n",
       "1196  submission   x9rwby  2022-09-09 14:27:16   \n",
       "1197  submission   ye87w0  2022-10-27 00:35:22   \n",
       "1198  submission   z1qtro  2022-11-22 15:06:04   \n",
       "1199  submission   zy0ue1  2022-12-29 13:09:35   \n",
       "\n",
       "                                              long_text  model_topic_no  \n",
       "0                  Dubai cap my dad brought me! [FYSR]                1  \n",
       "1     Anyone here have any idea where I can park my ...              10  \n",
       "2     UAE real estate agents and brokers, I need you...               1  \n",
       "3     A Well Deserved Shout-out I posted in this sub...               7  \n",
       "4     Furnished apartments… bedding/pots and pans Hi...              24  \n",
       "...                                                 ...             ...  \n",
       "1195  Only in Dubai! R8: BRAND NEW 2012 Audi R8 V8 -...               1  \n",
       "1196  Where have all the saris gone ? Was having a c...              23  \n",
       "1197  Yeah those vox movies somehow also got affecte...               9  \n",
       "1198  Unbaked croissant Any idea where you can buy u...              -1  \n",
       "1199                  POV: you’re on Sheikh Zayed road               -1  \n",
       "\n",
       "[1200 rows x 5 columns]"
      ]
     },
     "execution_count": 7,
     "metadata": {},
     "output_type": "execute_result"
    }
   ],
   "source": [
    "test_data = pd.read_csv('../bert_model_data/human_and_bert_raw_labels.csv')\n",
    "test_data.drop(columns = ['Unnamed: 0','human_topic_desc', 'human_topic_no','model_topic_desc'],inplace = True)\n",
    "\n",
    "test_data"
   ]
  },
  {
   "cell_type": "code",
   "execution_count": 13,
   "id": "4b98e70d-0a89-421c-a4f4-9691dd9e37d8",
   "metadata": {
    "collapsed": true,
    "jupyter": {
     "outputs_hidden": true
    },
    "tags": []
   },
   "outputs": [
    {
     "data": {
      "text/plain": [
       "\u001b[0;31mSignature:\u001b[0m\n",
       "\u001b[0mts_data\u001b[0m\u001b[0;34m.\u001b[0m\u001b[0mdropna\u001b[0m\u001b[0;34m(\u001b[0m\u001b[0;34m\u001b[0m\n",
       "\u001b[0;34m\u001b[0m    \u001b[0;34m*\u001b[0m\u001b[0;34m,\u001b[0m\u001b[0;34m\u001b[0m\n",
       "\u001b[0;34m\u001b[0m    \u001b[0maxis\u001b[0m\u001b[0;34m:\u001b[0m \u001b[0;34m'Axis'\u001b[0m \u001b[0;34m=\u001b[0m \u001b[0;36m0\u001b[0m\u001b[0;34m,\u001b[0m\u001b[0;34m\u001b[0m\n",
       "\u001b[0;34m\u001b[0m    \u001b[0mhow\u001b[0m\u001b[0;34m:\u001b[0m \u001b[0;34m'AnyAll | NoDefault'\u001b[0m \u001b[0;34m=\u001b[0m \u001b[0;34m<\u001b[0m\u001b[0mno_default\u001b[0m\u001b[0;34m>\u001b[0m\u001b[0;34m,\u001b[0m\u001b[0;34m\u001b[0m\n",
       "\u001b[0;34m\u001b[0m    \u001b[0mthresh\u001b[0m\u001b[0;34m:\u001b[0m \u001b[0;34m'int | NoDefault'\u001b[0m \u001b[0;34m=\u001b[0m \u001b[0;34m<\u001b[0m\u001b[0mno_default\u001b[0m\u001b[0;34m>\u001b[0m\u001b[0;34m,\u001b[0m\u001b[0;34m\u001b[0m\n",
       "\u001b[0;34m\u001b[0m    \u001b[0msubset\u001b[0m\u001b[0;34m:\u001b[0m \u001b[0;34m'IndexLabel'\u001b[0m \u001b[0;34m=\u001b[0m \u001b[0;32mNone\u001b[0m\u001b[0;34m,\u001b[0m\u001b[0;34m\u001b[0m\n",
       "\u001b[0;34m\u001b[0m    \u001b[0minplace\u001b[0m\u001b[0;34m:\u001b[0m \u001b[0;34m'bool'\u001b[0m \u001b[0;34m=\u001b[0m \u001b[0;32mFalse\u001b[0m\u001b[0;34m,\u001b[0m\u001b[0;34m\u001b[0m\n",
       "\u001b[0;34m\u001b[0m    \u001b[0mignore_index\u001b[0m\u001b[0;34m:\u001b[0m \u001b[0;34m'bool'\u001b[0m \u001b[0;34m=\u001b[0m \u001b[0;32mFalse\u001b[0m\u001b[0;34m,\u001b[0m\u001b[0;34m\u001b[0m\n",
       "\u001b[0;34m\u001b[0m\u001b[0;34m)\u001b[0m \u001b[0;34m->\u001b[0m \u001b[0;34m'DataFrame | None'\u001b[0m\u001b[0;34m\u001b[0m\u001b[0;34m\u001b[0m\u001b[0m\n",
       "\u001b[0;31mDocstring:\u001b[0m\n",
       "Remove missing values.\n",
       "\n",
       "See the :ref:`User Guide <missing_data>` for more on which values are\n",
       "considered missing, and how to work with missing data.\n",
       "\n",
       "Parameters\n",
       "----------\n",
       "axis : {0 or 'index', 1 or 'columns'}, default 0\n",
       "    Determine if rows or columns which contain missing values are\n",
       "    removed.\n",
       "\n",
       "    * 0, or 'index' : Drop rows which contain missing values.\n",
       "    * 1, or 'columns' : Drop columns which contain missing value.\n",
       "\n",
       "    Pass tuple or list to drop on multiple axes.\n",
       "    Only a single axis is allowed.\n",
       "\n",
       "how : {'any', 'all'}, default 'any'\n",
       "    Determine if row or column is removed from DataFrame, when we have\n",
       "    at least one NA or all NA.\n",
       "\n",
       "    * 'any' : If any NA values are present, drop that row or column.\n",
       "    * 'all' : If all values are NA, drop that row or column.\n",
       "\n",
       "thresh : int, optional\n",
       "    Require that many non-NA values. Cannot be combined with how.\n",
       "subset : column label or sequence of labels, optional\n",
       "    Labels along other axis to consider, e.g. if you are dropping rows\n",
       "    these would be a list of columns to include.\n",
       "inplace : bool, default False\n",
       "    Whether to modify the DataFrame rather than creating a new one.\n",
       "ignore_index : bool, default ``False``\n",
       "    If ``True``, the resulting axis will be labeled 0, 1, …, n - 1.\n",
       "\n",
       "    .. versionadded:: 2.0.0\n",
       "\n",
       "Returns\n",
       "-------\n",
       "DataFrame or None\n",
       "    DataFrame with NA entries dropped from it or None if ``inplace=True``.\n",
       "\n",
       "See Also\n",
       "--------\n",
       "DataFrame.isna: Indicate missing values.\n",
       "DataFrame.notna : Indicate existing (non-missing) values.\n",
       "DataFrame.fillna : Replace missing values.\n",
       "Series.dropna : Drop missing values.\n",
       "Index.dropna : Drop missing indices.\n",
       "\n",
       "Examples\n",
       "--------\n",
       ">>> df = pd.DataFrame({\"name\": ['Alfred', 'Batman', 'Catwoman'],\n",
       "...                    \"toy\": [np.nan, 'Batmobile', 'Bullwhip'],\n",
       "...                    \"born\": [pd.NaT, pd.Timestamp(\"1940-04-25\"),\n",
       "...                             pd.NaT]})\n",
       ">>> df\n",
       "       name        toy       born\n",
       "0    Alfred        NaN        NaT\n",
       "1    Batman  Batmobile 1940-04-25\n",
       "2  Catwoman   Bullwhip        NaT\n",
       "\n",
       "Drop the rows where at least one element is missing.\n",
       "\n",
       ">>> df.dropna()\n",
       "     name        toy       born\n",
       "1  Batman  Batmobile 1940-04-25\n",
       "\n",
       "Drop the columns where at least one element is missing.\n",
       "\n",
       ">>> df.dropna(axis='columns')\n",
       "       name\n",
       "0    Alfred\n",
       "1    Batman\n",
       "2  Catwoman\n",
       "\n",
       "Drop the rows where all elements are missing.\n",
       "\n",
       ">>> df.dropna(how='all')\n",
       "       name        toy       born\n",
       "0    Alfred        NaN        NaT\n",
       "1    Batman  Batmobile 1940-04-25\n",
       "2  Catwoman   Bullwhip        NaT\n",
       "\n",
       "Keep only the rows with at least 2 non-NA values.\n",
       "\n",
       ">>> df.dropna(thresh=2)\n",
       "       name        toy       born\n",
       "1    Batman  Batmobile 1940-04-25\n",
       "2  Catwoman   Bullwhip        NaT\n",
       "\n",
       "Define in which columns to look for missing values.\n",
       "\n",
       ">>> df.dropna(subset=['name', 'toy'])\n",
       "       name        toy       born\n",
       "1    Batman  Batmobile 1940-04-25\n",
       "2  Catwoman   Bullwhip        NaT\n",
       "\u001b[0;31mFile:\u001b[0m      ~/Documents/projectenv/lib/python3.10/site-packages/pandas/core/frame.py\n",
       "\u001b[0;31mType:\u001b[0m      method"
      ]
     },
     "metadata": {},
     "output_type": "display_data"
    }
   ],
   "source": [
    "ts_data.dropna?"
   ]
  },
  {
   "cell_type": "code",
   "execution_count": 14,
   "id": "a4d9109f-9b47-4f16-bcc7-c35ca1467d1e",
   "metadata": {},
   "outputs": [
    {
     "data": {
      "text/html": [
       "<div>\n",
       "<style scoped>\n",
       "    .dataframe tbody tr th:only-of-type {\n",
       "        vertical-align: middle;\n",
       "    }\n",
       "\n",
       "    .dataframe tbody tr th {\n",
       "        vertical-align: top;\n",
       "    }\n",
       "\n",
       "    .dataframe thead th {\n",
       "        text-align: right;\n",
       "    }\n",
       "</style>\n",
       "<table border=\"1\" class=\"dataframe\">\n",
       "  <thead>\n",
       "    <tr style=\"text-align: right;\">\n",
       "      <th></th>\n",
       "      <th>text_type</th>\n",
       "      <th>ID</th>\n",
       "      <th>date_created</th>\n",
       "      <th>long_text</th>\n",
       "      <th>Topic</th>\n",
       "    </tr>\n",
       "  </thead>\n",
       "  <tbody>\n",
       "    <tr>\n",
       "      <th>0</th>\n",
       "      <td>comment</td>\n",
       "      <td>c5c54q4</td>\n",
       "      <td>2012-07-11 00:50:58</td>\n",
       "      <td>That dessert's a bit rich for me.</td>\n",
       "      <td>-1</td>\n",
       "    </tr>\n",
       "    <tr>\n",
       "      <th>1</th>\n",
       "      <td>comment</td>\n",
       "      <td>c5edn0u</td>\n",
       "      <td>2012-07-15 21:59:34</td>\n",
       "      <td>\"A SILVER one?! I HATE YOU DAD!\"</td>\n",
       "      <td>-1</td>\n",
       "    </tr>\n",
       "    <tr>\n",
       "      <th>2</th>\n",
       "      <td>comment</td>\n",
       "      <td>c6d18gk</td>\n",
       "      <td>2012-09-25 07:57:13</td>\n",
       "      <td>Yet i stared at the picture for a good 45 seco...</td>\n",
       "      <td>-1</td>\n",
       "    </tr>\n",
       "    <tr>\n",
       "      <th>3</th>\n",
       "      <td>comment</td>\n",
       "      <td>c6d1cs1</td>\n",
       "      <td>2012-09-25 08:04:04</td>\n",
       "      <td>seriously?</td>\n",
       "      <td>-1</td>\n",
       "    </tr>\n",
       "    <tr>\n",
       "      <th>4</th>\n",
       "      <td>comment</td>\n",
       "      <td>c6d2fss</td>\n",
       "      <td>2012-09-25 09:13:23</td>\n",
       "      <td>[FYSR] = from your sister subreddit.\\n\\nIMO, i...</td>\n",
       "      <td>1</td>\n",
       "    </tr>\n",
       "  </tbody>\n",
       "</table>\n",
       "</div>"
      ],
      "text/plain": [
       "  text_type       ID         date_created  \\\n",
       "0   comment  c5c54q4  2012-07-11 00:50:58   \n",
       "1   comment  c5edn0u  2012-07-15 21:59:34   \n",
       "2   comment  c6d18gk  2012-09-25 07:57:13   \n",
       "3   comment  c6d1cs1  2012-09-25 08:04:04   \n",
       "4   comment  c6d2fss  2012-09-25 09:13:23   \n",
       "\n",
       "                                           long_text  Topic  \n",
       "0                  That dessert's a bit rich for me.     -1  \n",
       "1                  \"A SILVER one?! I HATE YOU DAD!\"      -1  \n",
       "2  Yet i stared at the picture for a good 45 seco...     -1  \n",
       "3                                         seriously?     -1  \n",
       "4  [FYSR] = from your sister subreddit.\\n\\nIMO, i...      1  "
      ]
     },
     "execution_count": 14,
     "metadata": {},
     "output_type": "execute_result"
    }
   ],
   "source": [
    "test_data.rename(columns = {'model_topic_no': 'Topic'}, inplace = True)\n",
    "ts_data = pd.concat([train_data, test_data], axis = 0, ignore_index = True)\n",
    "\n",
    "ts_data.dropna(inplace = True, ignore_index = True)\n",
    "ts_data.head()"
   ]
  },
  {
   "cell_type": "code",
   "execution_count": 15,
   "id": "18c61a6b-4ac9-4b90-a08d-8659943e5fb2",
   "metadata": {},
   "outputs": [
    {
     "name": "stdout",
     "output_type": "stream",
     "text": [
      "<class 'pandas.core.frame.DataFrame'>\n",
      "RangeIndex: 128883 entries, 0 to 128882\n",
      "Data columns (total 5 columns):\n",
      " #   Column        Non-Null Count   Dtype \n",
      "---  ------        --------------   ----- \n",
      " 0   text_type     128883 non-null  object\n",
      " 1   ID            128883 non-null  object\n",
      " 2   date_created  128883 non-null  object\n",
      " 3   long_text     128883 non-null  object\n",
      " 4   Topic         128883 non-null  int64 \n",
      "dtypes: int64(1), object(4)\n",
      "memory usage: 4.9+ MB\n"
     ]
    }
   ],
   "source": [
    "ts_data.info()"
   ]
  },
  {
   "cell_type": "code",
   "execution_count": 17,
   "id": "e2e3de8f-41cb-47be-adbb-a3a7f56d9ef6",
   "metadata": {
    "tags": []
   },
   "outputs": [
    {
     "data": {
      "text/html": [
       "<div>\n",
       "<style scoped>\n",
       "    .dataframe tbody tr th:only-of-type {\n",
       "        vertical-align: middle;\n",
       "    }\n",
       "\n",
       "    .dataframe tbody tr th {\n",
       "        vertical-align: top;\n",
       "    }\n",
       "\n",
       "    .dataframe thead th {\n",
       "        text-align: right;\n",
       "    }\n",
       "</style>\n",
       "<table border=\"1\" class=\"dataframe\">\n",
       "  <thead>\n",
       "    <tr style=\"text-align: right;\">\n",
       "      <th></th>\n",
       "      <th>Topic</th>\n",
       "      <th>Representation</th>\n",
       "      <th>human_labels</th>\n",
       "    </tr>\n",
       "  </thead>\n",
       "  <tbody>\n",
       "    <tr>\n",
       "      <th>0</th>\n",
       "      <td>-1</td>\n",
       "      <td>['dubai', 'people', 'just', 'like', 'don', 'ua...</td>\n",
       "      <td>undefined</td>\n",
       "    </tr>\n",
       "    <tr>\n",
       "      <th>1</th>\n",
       "      <td>0</td>\n",
       "      <td>['lol', 'bot', 'true', 'comment', 'yes', 'post...</td>\n",
       "      <td>reddit_usage</td>\n",
       "    </tr>\n",
       "    <tr>\n",
       "      <th>2</th>\n",
       "      <td>1</td>\n",
       "      <td>['dubai', 'uae', 'arabic', 'people', 'sharjah'...</td>\n",
       "      <td>uae_cities_region</td>\n",
       "    </tr>\n",
       "    <tr>\n",
       "      <th>3</th>\n",
       "      <td>2</td>\n",
       "      <td>['thank', 'thanks', 'dm', 'instagram', 'great'...</td>\n",
       "      <td>unrelated_theme</td>\n",
       "    </tr>\n",
       "    <tr>\n",
       "      <th>4</th>\n",
       "      <td>3</td>\n",
       "      <td>['racism', 'english', 'racist', 'indian', 'peo...</td>\n",
       "      <td>diversity_inclusion.race/nationality</td>\n",
       "    </tr>\n",
       "  </tbody>\n",
       "</table>\n",
       "</div>"
      ],
      "text/plain": [
       "   Topic                                     Representation  \\\n",
       "0     -1  ['dubai', 'people', 'just', 'like', 'don', 'ua...   \n",
       "1      0  ['lol', 'bot', 'true', 'comment', 'yes', 'post...   \n",
       "2      1  ['dubai', 'uae', 'arabic', 'people', 'sharjah'...   \n",
       "3      2  ['thank', 'thanks', 'dm', 'instagram', 'great'...   \n",
       "4      3  ['racism', 'english', 'racist', 'indian', 'peo...   \n",
       "\n",
       "                           human_labels  \n",
       "0                             undefined  \n",
       "1                          reddit_usage  \n",
       "2                     uae_cities_region  \n",
       "3                       unrelated_theme  \n",
       "4  diversity_inclusion.race/nationality  "
      ]
     },
     "execution_count": 17,
     "metadata": {},
     "output_type": "execute_result"
    }
   ],
   "source": [
    "#get the label pairing: topic_no --> topic_description\n",
    "label_data = pd.read_csv('../bert_model_data/bert_default_raw_text_topics_term_labelled.csv', converters ={'tokens':list_converter})\n",
    "label_data = label_data[['Topic','Representation', 'human_labels']]\n",
    "label_data.head()"
   ]
  },
  {
   "cell_type": "code",
   "execution_count": 18,
   "id": "7999102b-bc8c-4b97-a529-8cfd47b8657d",
   "metadata": {},
   "outputs": [],
   "source": [
    "# Create a mapping dictionary \n",
    "topic_mapping = label_data.set_index('Topic')[['Representation', 'human_labels']].to_dict(orient='index')\n",
    "\n",
    "# Map the values from label_data to train_data based on the 'Topic' column\n",
    "ts_data['Representation'] = ts_data['Topic'].map(lambda x: topic_mapping[x]['Representation'])\n",
    "ts_data['human_labels'] = ts_data['Topic'].map(lambda x: topic_mapping[x]['human_labels'])"
   ]
  },
  {
   "cell_type": "code",
   "execution_count": 20,
   "id": "693818af-4c43-40be-8c40-fbf25887f1a6",
   "metadata": {},
   "outputs": [
    {
     "data": {
      "text/html": [
       "<div>\n",
       "<style scoped>\n",
       "    .dataframe tbody tr th:only-of-type {\n",
       "        vertical-align: middle;\n",
       "    }\n",
       "\n",
       "    .dataframe tbody tr th {\n",
       "        vertical-align: top;\n",
       "    }\n",
       "\n",
       "    .dataframe thead th {\n",
       "        text-align: right;\n",
       "    }\n",
       "</style>\n",
       "<table border=\"1\" class=\"dataframe\">\n",
       "  <thead>\n",
       "    <tr style=\"text-align: right;\">\n",
       "      <th></th>\n",
       "      <th>text_type</th>\n",
       "      <th>ID</th>\n",
       "      <th>date_created</th>\n",
       "      <th>long_text</th>\n",
       "      <th>Topic</th>\n",
       "      <th>Representation</th>\n",
       "      <th>human_labels</th>\n",
       "    </tr>\n",
       "  </thead>\n",
       "  <tbody>\n",
       "    <tr>\n",
       "      <th>65249</th>\n",
       "      <td>comment</td>\n",
       "      <td>hqsewmg</td>\n",
       "      <td>2022-01-01 13:03:26</td>\n",
       "      <td>How has the weekend change been viewed among E...</td>\n",
       "      <td>-1</td>\n",
       "      <td>['dubai', 'people', 'just', 'like', 'don', 'ua...</td>\n",
       "      <td>undefined</td>\n",
       "    </tr>\n",
       "    <tr>\n",
       "      <th>78549</th>\n",
       "      <td>comment</td>\n",
       "      <td>ics77t2</td>\n",
       "      <td>2022-06-18 05:13:06</td>\n",
       "      <td>And caprisone for elite class kids🤣</td>\n",
       "      <td>0</td>\n",
       "      <td>['lol', 'bot', 'true', 'comment', 'yes', 'post...</td>\n",
       "      <td>reddit_usage</td>\n",
       "    </tr>\n",
       "    <tr>\n",
       "      <th>31462</th>\n",
       "      <td>comment</td>\n",
       "      <td>gatlfuo</td>\n",
       "      <td>2020-11-01 23:38:52</td>\n",
       "      <td>You just made me aware of an issue I never kne...</td>\n",
       "      <td>-1</td>\n",
       "      <td>['dubai', 'people', 'just', 'like', 'don', 'ua...</td>\n",
       "      <td>undefined</td>\n",
       "    </tr>\n",
       "    <tr>\n",
       "      <th>123491</th>\n",
       "      <td>comment</td>\n",
       "      <td>jof88w7</td>\n",
       "      <td>2023-06-17 05:41:50</td>\n",
       "      <td>r/seashell</td>\n",
       "      <td>0</td>\n",
       "      <td>['lol', 'bot', 'true', 'comment', 'yes', 'post...</td>\n",
       "      <td>reddit_usage</td>\n",
       "    </tr>\n",
       "    <tr>\n",
       "      <th>43220</th>\n",
       "      <td>submission</td>\n",
       "      <td>ltph5r</td>\n",
       "      <td>2021-02-27 18:41:12</td>\n",
       "      <td>Selling an acer nitro 5 2020, 15.6”, 144hz dis...</td>\n",
       "      <td>27</td>\n",
       "      <td>['app', 'iphone', 'apple', 'games', 'pro', 'ps...</td>\n",
       "      <td>unrelated_theme</td>\n",
       "    </tr>\n",
       "    <tr>\n",
       "      <th>110612</th>\n",
       "      <td>comment</td>\n",
       "      <td>jg7w20b</td>\n",
       "      <td>2023-04-14 16:11:47</td>\n",
       "      <td>spills karak everywhere</td>\n",
       "      <td>33</td>\n",
       "      <td>['karak', 'chamak', 'chammak', 'chammaks', 'ch...</td>\n",
       "      <td>dining_services.food_teas</td>\n",
       "    </tr>\n",
       "    <tr>\n",
       "      <th>111250</th>\n",
       "      <td>comment</td>\n",
       "      <td>jgz70z3</td>\n",
       "      <td>2023-04-20 08:40:42</td>\n",
       "      <td>magicpashu is a CPA actually</td>\n",
       "      <td>-1</td>\n",
       "      <td>['dubai', 'people', 'just', 'like', 'don', 'ua...</td>\n",
       "      <td>undefined</td>\n",
       "    </tr>\n",
       "    <tr>\n",
       "      <th>25729</th>\n",
       "      <td>comment</td>\n",
       "      <td>g1c1ckp</td>\n",
       "      <td>2020-08-13 19:06:51</td>\n",
       "      <td>Joint Statement of the United States, the Stat...</td>\n",
       "      <td>1</td>\n",
       "      <td>['dubai', 'uae', 'arabic', 'people', 'sharjah'...</td>\n",
       "      <td>uae_cities_region</td>\n",
       "    </tr>\n",
       "    <tr>\n",
       "      <th>84749</th>\n",
       "      <td>comment</td>\n",
       "      <td>ijyft6d</td>\n",
       "      <td>2022-08-12 08:48:56</td>\n",
       "      <td>Lol.....but dont hear much about it here.</td>\n",
       "      <td>-1</td>\n",
       "      <td>['dubai', 'people', 'just', 'like', 'don', 'ua...</td>\n",
       "      <td>undefined</td>\n",
       "    </tr>\n",
       "    <tr>\n",
       "      <th>127364</th>\n",
       "      <td>comment</td>\n",
       "      <td>joyig29</td>\n",
       "      <td>2023-06-21 17:24:32</td>\n",
       "      <td>Thank you for sharing this! I have applied min...</td>\n",
       "      <td>18</td>\n",
       "      <td>['visa', 'passport', 'citizenship', 'golden', ...</td>\n",
       "      <td>immigration</td>\n",
       "    </tr>\n",
       "  </tbody>\n",
       "</table>\n",
       "</div>"
      ],
      "text/plain": [
       "         text_type       ID         date_created  \\\n",
       "65249      comment  hqsewmg  2022-01-01 13:03:26   \n",
       "78549      comment  ics77t2  2022-06-18 05:13:06   \n",
       "31462      comment  gatlfuo  2020-11-01 23:38:52   \n",
       "123491     comment  jof88w7  2023-06-17 05:41:50   \n",
       "43220   submission   ltph5r  2021-02-27 18:41:12   \n",
       "110612     comment  jg7w20b  2023-04-14 16:11:47   \n",
       "111250     comment  jgz70z3  2023-04-20 08:40:42   \n",
       "25729      comment  g1c1ckp  2020-08-13 19:06:51   \n",
       "84749      comment  ijyft6d  2022-08-12 08:48:56   \n",
       "127364     comment  joyig29  2023-06-21 17:24:32   \n",
       "\n",
       "                                                long_text  Topic  \\\n",
       "65249   How has the weekend change been viewed among E...     -1   \n",
       "78549                 And caprisone for elite class kids🤣      0   \n",
       "31462   You just made me aware of an issue I never kne...     -1   \n",
       "123491                                         r/seashell      0   \n",
       "43220   Selling an acer nitro 5 2020, 15.6”, 144hz dis...     27   \n",
       "110612                            spills karak everywhere     33   \n",
       "111250                       magicpashu is a CPA actually     -1   \n",
       "25729   Joint Statement of the United States, the Stat...      1   \n",
       "84749           Lol.....but dont hear much about it here.     -1   \n",
       "127364  Thank you for sharing this! I have applied min...     18   \n",
       "\n",
       "                                           Representation  \\\n",
       "65249   ['dubai', 'people', 'just', 'like', 'don', 'ua...   \n",
       "78549   ['lol', 'bot', 'true', 'comment', 'yes', 'post...   \n",
       "31462   ['dubai', 'people', 'just', 'like', 'don', 'ua...   \n",
       "123491  ['lol', 'bot', 'true', 'comment', 'yes', 'post...   \n",
       "43220   ['app', 'iphone', 'apple', 'games', 'pro', 'ps...   \n",
       "110612  ['karak', 'chamak', 'chammak', 'chammaks', 'ch...   \n",
       "111250  ['dubai', 'people', 'just', 'like', 'don', 'ua...   \n",
       "25729   ['dubai', 'uae', 'arabic', 'people', 'sharjah'...   \n",
       "84749   ['dubai', 'people', 'just', 'like', 'don', 'ua...   \n",
       "127364  ['visa', 'passport', 'citizenship', 'golden', ...   \n",
       "\n",
       "                     human_labels  \n",
       "65249                   undefined  \n",
       "78549                reddit_usage  \n",
       "31462                   undefined  \n",
       "123491               reddit_usage  \n",
       "43220             unrelated_theme  \n",
       "110612  dining_services.food_teas  \n",
       "111250                  undefined  \n",
       "25729           uae_cities_region  \n",
       "84749                   undefined  \n",
       "127364                immigration  "
      ]
     },
     "execution_count": 20,
     "metadata": {},
     "output_type": "execute_result"
    }
   ],
   "source": [
    "ts_data.sample(n=10)"
   ]
  },
  {
   "cell_type": "code",
   "execution_count": 26,
   "id": "0125c0f1-06ec-43d4-b654-bd6498850ca1",
   "metadata": {},
   "outputs": [
    {
     "data": {
      "text/html": [
       "<div>\n",
       "<style scoped>\n",
       "    .dataframe tbody tr th:only-of-type {\n",
       "        vertical-align: middle;\n",
       "    }\n",
       "\n",
       "    .dataframe tbody tr th {\n",
       "        vertical-align: top;\n",
       "    }\n",
       "\n",
       "    .dataframe thead th {\n",
       "        text-align: right;\n",
       "    }\n",
       "</style>\n",
       "<table border=\"1\" class=\"dataframe\">\n",
       "  <thead>\n",
       "    <tr style=\"text-align: right;\">\n",
       "      <th></th>\n",
       "      <th>text_type</th>\n",
       "      <th>ID</th>\n",
       "      <th>date_created</th>\n",
       "      <th>long_text</th>\n",
       "      <th>Topic</th>\n",
       "      <th>Representation</th>\n",
       "      <th>human_labels</th>\n",
       "    </tr>\n",
       "  </thead>\n",
       "  <tbody>\n",
       "  </tbody>\n",
       "</table>\n",
       "</div>"
      ],
      "text/plain": [
       "Empty DataFrame\n",
       "Columns: [text_type, ID, date_created, long_text, Topic, Representation, human_labels]\n",
       "Index: []"
      ]
     },
     "execution_count": 26,
     "metadata": {},
     "output_type": "execute_result"
    }
   ],
   "source": [
    "#check for duplicates\n",
    "ts_data[ts_data.duplicated()]"
   ]
  },
  {
   "cell_type": "code",
   "execution_count": 82,
   "id": "a16b1741-7d08-444b-ab6d-e1833fdb406a",
   "metadata": {
    "tags": []
   },
   "outputs": [],
   "source": [
    "#extract submissions\n",
    "submissions = ts_data[ts_data.text_type == 'submission'].copy().reset_index()"
   ]
  },
  {
   "cell_type": "code",
   "execution_count": 83,
   "id": "01b8fa9b-44a6-4c69-9078-d4b531096248",
   "metadata": {},
   "outputs": [
    {
     "data": {
      "text/html": [
       "<div>\n",
       "<style scoped>\n",
       "    .dataframe tbody tr th:only-of-type {\n",
       "        vertical-align: middle;\n",
       "    }\n",
       "\n",
       "    .dataframe tbody tr th {\n",
       "        vertical-align: top;\n",
       "    }\n",
       "\n",
       "    .dataframe thead th {\n",
       "        text-align: right;\n",
       "    }\n",
       "</style>\n",
       "<table border=\"1\" class=\"dataframe\">\n",
       "  <thead>\n",
       "    <tr style=\"text-align: right;\">\n",
       "      <th></th>\n",
       "      <th>text_type</th>\n",
       "      <th>ID</th>\n",
       "      <th>date_created</th>\n",
       "      <th>long_text</th>\n",
       "      <th>Topic</th>\n",
       "      <th>Representation</th>\n",
       "      <th>human_labels</th>\n",
       "    </tr>\n",
       "  </thead>\n",
       "  <tbody>\n",
       "    <tr>\n",
       "      <th>0</th>\n",
       "      <td>submission</td>\n",
       "      <td>1gupc3</td>\n",
       "      <td>2013-06-22 16:20:29</td>\n",
       "      <td>Dubai — World's Most Luxurious Places To Visit...</td>\n",
       "      <td>1</td>\n",
       "      <td>['dubai', 'uae', 'arabic', 'people', 'sharjah'...</td>\n",
       "      <td>uae_cities_region</td>\n",
       "    </tr>\n",
       "    <tr>\n",
       "      <th>1</th>\n",
       "      <td>submission</td>\n",
       "      <td>1sur9h</td>\n",
       "      <td>2013-12-14 11:02:08</td>\n",
       "      <td>Took this image of the Burj Khalifa from Souk ...</td>\n",
       "      <td>5</td>\n",
       "      <td>['expo', 'beach', 'building', 'khalifa', 'burj...</td>\n",
       "      <td>infrastructure.landmarks</td>\n",
       "    </tr>\n",
       "    <tr>\n",
       "      <th>2</th>\n",
       "      <td>submission</td>\n",
       "      <td>25d076</td>\n",
       "      <td>2014-05-12 18:29:48</td>\n",
       "      <td>Dubai Rock Fest - May 23 @ Domeland Arena / Al...</td>\n",
       "      <td>-1</td>\n",
       "      <td>['dubai', 'people', 'just', 'like', 'don', 'ua...</td>\n",
       "      <td>undefined</td>\n",
       "    </tr>\n",
       "    <tr>\n",
       "      <th>3</th>\n",
       "      <td>submission</td>\n",
       "      <td>273rf6</td>\n",
       "      <td>2014-06-02 15:49:56</td>\n",
       "      <td>PSA: When you see someone waving on the side o...</td>\n",
       "      <td>6</td>\n",
       "      <td>['rain', 'summer', 'heat', 'weather', 'ac', 'h...</td>\n",
       "      <td>weather_conditions</td>\n",
       "    </tr>\n",
       "    <tr>\n",
       "      <th>4</th>\n",
       "      <td>submission</td>\n",
       "      <td>2aygyw</td>\n",
       "      <td>2014-07-17 18:44:26</td>\n",
       "      <td>This just hit me</td>\n",
       "      <td>-1</td>\n",
       "      <td>['dubai', 'people', 'just', 'like', 'don', 'ua...</td>\n",
       "      <td>undefined</td>\n",
       "    </tr>\n",
       "  </tbody>\n",
       "</table>\n",
       "</div>"
      ],
      "text/plain": [
       "    text_type      ID         date_created  \\\n",
       "0  submission  1gupc3  2013-06-22 16:20:29   \n",
       "1  submission  1sur9h  2013-12-14 11:02:08   \n",
       "2  submission  25d076  2014-05-12 18:29:48   \n",
       "3  submission  273rf6  2014-06-02 15:49:56   \n",
       "4  submission  2aygyw  2014-07-17 18:44:26   \n",
       "\n",
       "                                           long_text  Topic  \\\n",
       "0  Dubai — World's Most Luxurious Places To Visit...      1   \n",
       "1  Took this image of the Burj Khalifa from Souk ...      5   \n",
       "2  Dubai Rock Fest - May 23 @ Domeland Arena / Al...     -1   \n",
       "3  PSA: When you see someone waving on the side o...      6   \n",
       "4                                  This just hit me      -1   \n",
       "\n",
       "                                      Representation              human_labels  \n",
       "0  ['dubai', 'uae', 'arabic', 'people', 'sharjah'...         uae_cities_region  \n",
       "1  ['expo', 'beach', 'building', 'khalifa', 'burj...  infrastructure.landmarks  \n",
       "2  ['dubai', 'people', 'just', 'like', 'don', 'ua...                 undefined  \n",
       "3  ['rain', 'summer', 'heat', 'weather', 'ac', 'h...        weather_conditions  \n",
       "4  ['dubai', 'people', 'just', 'like', 'don', 'ua...                 undefined  "
      ]
     },
     "execution_count": 83,
     "metadata": {},
     "output_type": "execute_result"
    }
   ],
   "source": [
    "submissions.drop(columns = ['index'], axis = 1, inplace = True)\n",
    "submissions.head()"
   ]
  },
  {
   "cell_type": "code",
   "execution_count": 28,
   "id": "01c4440d-850a-4fce-a0c4-a033b8d23ada",
   "metadata": {
    "tags": []
   },
   "outputs": [],
   "source": [
    "#submissions ID\n",
    "sub_id = submissions['ID'].tolist()"
   ]
  },
  {
   "cell_type": "code",
   "execution_count": 85,
   "id": "f6d051d1-c77e-4b8a-ae36-848abe292d12",
   "metadata": {},
   "outputs": [],
   "source": [
    "upvotes = pd.read_csv('../Data/posts_upvote_ratio.csv').drop(columns = ['Unnamed: 0'])\n",
    "upvotes_mapping = upvotes.set_index('ID')['upvote_ratio'].to_dict()"
   ]
  },
  {
   "cell_type": "code",
   "execution_count": 88,
   "id": "bf17f6f6-5536-4046-a1da-a39e162031a7",
   "metadata": {},
   "outputs": [
    {
     "name": "stdout",
     "output_type": "stream",
     "text": [
      "<class 'pandas.core.frame.DataFrame'>\n",
      "RangeIndex: 4255 entries, 0 to 4254\n",
      "Data columns (total 2 columns):\n",
      " #   Column        Non-Null Count  Dtype  \n",
      "---  ------        --------------  -----  \n",
      " 0   ID            4255 non-null   object \n",
      " 1   upvote_ratio  4255 non-null   float64\n",
      "dtypes: float64(1), object(1)\n",
      "memory usage: 66.6+ KB\n"
     ]
    }
   ],
   "source": [
    "upvotes.info()"
   ]
  },
  {
   "cell_type": "code",
   "execution_count": 90,
   "id": "e0f474c5-bfc6-478b-99b5-a2b7aafb15e5",
   "metadata": {
    "tags": []
   },
   "outputs": [
    {
     "data": {
      "text/html": [
       "<div>\n",
       "<style scoped>\n",
       "    .dataframe tbody tr th:only-of-type {\n",
       "        vertical-align: middle;\n",
       "    }\n",
       "\n",
       "    .dataframe tbody tr th {\n",
       "        vertical-align: top;\n",
       "    }\n",
       "\n",
       "    .dataframe thead th {\n",
       "        text-align: right;\n",
       "    }\n",
       "</style>\n",
       "<table border=\"1\" class=\"dataframe\">\n",
       "  <thead>\n",
       "    <tr style=\"text-align: right;\">\n",
       "      <th></th>\n",
       "      <th>text_type</th>\n",
       "      <th>ID</th>\n",
       "      <th>date_created</th>\n",
       "      <th>long_text</th>\n",
       "      <th>Topic</th>\n",
       "      <th>Representation</th>\n",
       "      <th>human_labels</th>\n",
       "      <th>upvote_ratio</th>\n",
       "    </tr>\n",
       "  </thead>\n",
       "  <tbody>\n",
       "    <tr>\n",
       "      <th>0</th>\n",
       "      <td>submission</td>\n",
       "      <td>1gupc3</td>\n",
       "      <td>2013-06-22 16:20:29</td>\n",
       "      <td>Dubai — World's Most Luxurious Places To Visit...</td>\n",
       "      <td>1</td>\n",
       "      <td>['dubai', 'uae', 'arabic', 'people', 'sharjah'...</td>\n",
       "      <td>uae_cities_region</td>\n",
       "      <td>0.50</td>\n",
       "    </tr>\n",
       "    <tr>\n",
       "      <th>1</th>\n",
       "      <td>submission</td>\n",
       "      <td>1sur9h</td>\n",
       "      <td>2013-12-14 11:02:08</td>\n",
       "      <td>Took this image of the Burj Khalifa from Souk ...</td>\n",
       "      <td>5</td>\n",
       "      <td>['expo', 'beach', 'building', 'khalifa', 'burj...</td>\n",
       "      <td>infrastructure.landmarks</td>\n",
       "      <td>0.50</td>\n",
       "    </tr>\n",
       "    <tr>\n",
       "      <th>2</th>\n",
       "      <td>submission</td>\n",
       "      <td>25d076</td>\n",
       "      <td>2014-05-12 18:29:48</td>\n",
       "      <td>Dubai Rock Fest - May 23 @ Domeland Arena / Al...</td>\n",
       "      <td>-1</td>\n",
       "      <td>['dubai', 'people', 'just', 'like', 'don', 'ua...</td>\n",
       "      <td>undefined</td>\n",
       "      <td>0.56</td>\n",
       "    </tr>\n",
       "    <tr>\n",
       "      <th>3</th>\n",
       "      <td>submission</td>\n",
       "      <td>273rf6</td>\n",
       "      <td>2014-06-02 15:49:56</td>\n",
       "      <td>PSA: When you see someone waving on the side o...</td>\n",
       "      <td>6</td>\n",
       "      <td>['rain', 'summer', 'heat', 'weather', 'ac', 'h...</td>\n",
       "      <td>weather_conditions</td>\n",
       "      <td>0.55</td>\n",
       "    </tr>\n",
       "    <tr>\n",
       "      <th>4</th>\n",
       "      <td>submission</td>\n",
       "      <td>2aygyw</td>\n",
       "      <td>2014-07-17 18:44:26</td>\n",
       "      <td>This just hit me</td>\n",
       "      <td>-1</td>\n",
       "      <td>['dubai', 'people', 'just', 'like', 'don', 'ua...</td>\n",
       "      <td>undefined</td>\n",
       "      <td>0.50</td>\n",
       "    </tr>\n",
       "  </tbody>\n",
       "</table>\n",
       "</div>"
      ],
      "text/plain": [
       "    text_type      ID         date_created  \\\n",
       "0  submission  1gupc3  2013-06-22 16:20:29   \n",
       "1  submission  1sur9h  2013-12-14 11:02:08   \n",
       "2  submission  25d076  2014-05-12 18:29:48   \n",
       "3  submission  273rf6  2014-06-02 15:49:56   \n",
       "4  submission  2aygyw  2014-07-17 18:44:26   \n",
       "\n",
       "                                           long_text  Topic  \\\n",
       "0  Dubai — World's Most Luxurious Places To Visit...      1   \n",
       "1  Took this image of the Burj Khalifa from Souk ...      5   \n",
       "2  Dubai Rock Fest - May 23 @ Domeland Arena / Al...     -1   \n",
       "3  PSA: When you see someone waving on the side o...      6   \n",
       "4                                  This just hit me      -1   \n",
       "\n",
       "                                      Representation  \\\n",
       "0  ['dubai', 'uae', 'arabic', 'people', 'sharjah'...   \n",
       "1  ['expo', 'beach', 'building', 'khalifa', 'burj...   \n",
       "2  ['dubai', 'people', 'just', 'like', 'don', 'ua...   \n",
       "3  ['rain', 'summer', 'heat', 'weather', 'ac', 'h...   \n",
       "4  ['dubai', 'people', 'just', 'like', 'don', 'ua...   \n",
       "\n",
       "               human_labels  upvote_ratio  \n",
       "0         uae_cities_region          0.50  \n",
       "1  infrastructure.landmarks          0.50  \n",
       "2                 undefined          0.56  \n",
       "3        weather_conditions          0.55  \n",
       "4                 undefined          0.50  "
      ]
     },
     "execution_count": 90,
     "metadata": {},
     "output_type": "execute_result"
    }
   ],
   "source": [
    "sub_upvotes = submissions.merge(upvotes, on = 'ID', how = 'left')\n",
    "\n",
    "sub_upvotes.head()"
   ]
  },
  {
   "cell_type": "code",
   "execution_count": 93,
   "id": "ff34ebdc-7245-41d7-bb81-0baf78deb737",
   "metadata": {},
   "outputs": [
    {
     "data": {
      "text/html": [
       "<div>\n",
       "<style scoped>\n",
       "    .dataframe tbody tr th:only-of-type {\n",
       "        vertical-align: middle;\n",
       "    }\n",
       "\n",
       "    .dataframe tbody tr th {\n",
       "        vertical-align: top;\n",
       "    }\n",
       "\n",
       "    .dataframe thead th {\n",
       "        text-align: right;\n",
       "    }\n",
       "</style>\n",
       "<table border=\"1\" class=\"dataframe\">\n",
       "  <thead>\n",
       "    <tr style=\"text-align: right;\">\n",
       "      <th></th>\n",
       "      <th>text_type</th>\n",
       "      <th>ID</th>\n",
       "      <th>date_created</th>\n",
       "      <th>long_text</th>\n",
       "      <th>Topic</th>\n",
       "      <th>Representation</th>\n",
       "      <th>human_labels</th>\n",
       "      <th>upvote_ratio</th>\n",
       "    </tr>\n",
       "  </thead>\n",
       "  <tbody>\n",
       "  </tbody>\n",
       "</table>\n",
       "</div>"
      ],
      "text/plain": [
       "Empty DataFrame\n",
       "Columns: [text_type, ID, date_created, long_text, Topic, Representation, human_labels, upvote_ratio]\n",
       "Index: []"
      ]
     },
     "execution_count": 93,
     "metadata": {},
     "output_type": "execute_result"
    }
   ],
   "source": [
    "sub_upvotes[sub_upvotes['upvote_ratio'].isna()]"
   ]
  },
  {
   "cell_type": "code",
   "execution_count": 95,
   "id": "f4bb9a4f-9fab-45fc-b9a0-9b2ee1d756fc",
   "metadata": {},
   "outputs": [],
   "source": [
    "raw_submissions = pd.read_csv('../Data/full_posts.csv')\n",
    "raw_submissions = raw_submissions[['ID', 'Score', 'Total Comments']].copy()"
   ]
  },
  {
   "cell_type": "code",
   "execution_count": 96,
   "id": "e0190dd8-6cc2-49cd-be9a-1f4b5c9f0202",
   "metadata": {},
   "outputs": [
    {
     "data": {
      "text/html": [
       "<div>\n",
       "<style scoped>\n",
       "    .dataframe tbody tr th:only-of-type {\n",
       "        vertical-align: middle;\n",
       "    }\n",
       "\n",
       "    .dataframe tbody tr th {\n",
       "        vertical-align: top;\n",
       "    }\n",
       "\n",
       "    .dataframe thead th {\n",
       "        text-align: right;\n",
       "    }\n",
       "</style>\n",
       "<table border=\"1\" class=\"dataframe\">\n",
       "  <thead>\n",
       "    <tr style=\"text-align: right;\">\n",
       "      <th></th>\n",
       "      <th>text_type</th>\n",
       "      <th>ID</th>\n",
       "      <th>date_created</th>\n",
       "      <th>long_text</th>\n",
       "      <th>Topic</th>\n",
       "      <th>Representation</th>\n",
       "      <th>human_labels</th>\n",
       "      <th>upvote_ratio</th>\n",
       "      <th>Score</th>\n",
       "      <th>Total Comments</th>\n",
       "    </tr>\n",
       "  </thead>\n",
       "  <tbody>\n",
       "    <tr>\n",
       "      <th>0</th>\n",
       "      <td>submission</td>\n",
       "      <td>1gupc3</td>\n",
       "      <td>2013-06-22 16:20:29</td>\n",
       "      <td>Dubai — World's Most Luxurious Places To Visit...</td>\n",
       "      <td>1</td>\n",
       "      <td>['dubai', 'uae', 'arabic', 'people', 'sharjah'...</td>\n",
       "      <td>uae_cities_region</td>\n",
       "      <td>0.50</td>\n",
       "      <td>0</td>\n",
       "      <td>4</td>\n",
       "    </tr>\n",
       "    <tr>\n",
       "      <th>1</th>\n",
       "      <td>submission</td>\n",
       "      <td>1sur9h</td>\n",
       "      <td>2013-12-14 11:02:08</td>\n",
       "      <td>Took this image of the Burj Khalifa from Souk ...</td>\n",
       "      <td>5</td>\n",
       "      <td>['expo', 'beach', 'building', 'khalifa', 'burj...</td>\n",
       "      <td>infrastructure.landmarks</td>\n",
       "      <td>0.50</td>\n",
       "      <td>1</td>\n",
       "      <td>4</td>\n",
       "    </tr>\n",
       "    <tr>\n",
       "      <th>2</th>\n",
       "      <td>submission</td>\n",
       "      <td>25d076</td>\n",
       "      <td>2014-05-12 18:29:48</td>\n",
       "      <td>Dubai Rock Fest - May 23 @ Domeland Arena / Al...</td>\n",
       "      <td>-1</td>\n",
       "      <td>['dubai', 'people', 'just', 'like', 'don', 'ua...</td>\n",
       "      <td>undefined</td>\n",
       "      <td>0.56</td>\n",
       "      <td>1</td>\n",
       "      <td>6</td>\n",
       "    </tr>\n",
       "    <tr>\n",
       "      <th>3</th>\n",
       "      <td>submission</td>\n",
       "      <td>273rf6</td>\n",
       "      <td>2014-06-02 15:49:56</td>\n",
       "      <td>PSA: When you see someone waving on the side o...</td>\n",
       "      <td>6</td>\n",
       "      <td>['rain', 'summer', 'heat', 'weather', 'ac', 'h...</td>\n",
       "      <td>weather_conditions</td>\n",
       "      <td>0.55</td>\n",
       "      <td>4</td>\n",
       "      <td>5</td>\n",
       "    </tr>\n",
       "    <tr>\n",
       "      <th>4</th>\n",
       "      <td>submission</td>\n",
       "      <td>2aygyw</td>\n",
       "      <td>2014-07-17 18:44:26</td>\n",
       "      <td>This just hit me</td>\n",
       "      <td>-1</td>\n",
       "      <td>['dubai', 'people', 'just', 'like', 'don', 'ua...</td>\n",
       "      <td>undefined</td>\n",
       "      <td>0.50</td>\n",
       "      <td>1</td>\n",
       "      <td>5</td>\n",
       "    </tr>\n",
       "  </tbody>\n",
       "</table>\n",
       "</div>"
      ],
      "text/plain": [
       "    text_type      ID         date_created  \\\n",
       "0  submission  1gupc3  2013-06-22 16:20:29   \n",
       "1  submission  1sur9h  2013-12-14 11:02:08   \n",
       "2  submission  25d076  2014-05-12 18:29:48   \n",
       "3  submission  273rf6  2014-06-02 15:49:56   \n",
       "4  submission  2aygyw  2014-07-17 18:44:26   \n",
       "\n",
       "                                           long_text  Topic  \\\n",
       "0  Dubai — World's Most Luxurious Places To Visit...      1   \n",
       "1  Took this image of the Burj Khalifa from Souk ...      5   \n",
       "2  Dubai Rock Fest - May 23 @ Domeland Arena / Al...     -1   \n",
       "3  PSA: When you see someone waving on the side o...      6   \n",
       "4                                  This just hit me      -1   \n",
       "\n",
       "                                      Representation  \\\n",
       "0  ['dubai', 'uae', 'arabic', 'people', 'sharjah'...   \n",
       "1  ['expo', 'beach', 'building', 'khalifa', 'burj...   \n",
       "2  ['dubai', 'people', 'just', 'like', 'don', 'ua...   \n",
       "3  ['rain', 'summer', 'heat', 'weather', 'ac', 'h...   \n",
       "4  ['dubai', 'people', 'just', 'like', 'don', 'ua...   \n",
       "\n",
       "               human_labels  upvote_ratio  Score  Total Comments  \n",
       "0         uae_cities_region          0.50      0               4  \n",
       "1  infrastructure.landmarks          0.50      1               4  \n",
       "2                 undefined          0.56      1               6  \n",
       "3        weather_conditions          0.55      4               5  \n",
       "4                 undefined          0.50      1               5  "
      ]
     },
     "execution_count": 96,
     "metadata": {},
     "output_type": "execute_result"
    }
   ],
   "source": [
    "sub_upvotes =sub_upvotes.merge(raw_submissions, on = 'ID', how = 'left')\n",
    "sub_upvotes.head()"
   ]
  },
  {
   "cell_type": "code",
   "execution_count": 173,
   "id": "08bf5f9b-a197-4d6b-acea-899fe0ab6475",
   "metadata": {},
   "outputs": [
    {
     "name": "stdout",
     "output_type": "stream",
     "text": [
      "<class 'pandas.core.frame.DataFrame'>\n",
      "RangeIndex: 4255 entries, 0 to 4254\n",
      "Data columns (total 10 columns):\n",
      " #   Column          Non-Null Count  Dtype  \n",
      "---  ------          --------------  -----  \n",
      " 0   text_type       4255 non-null   object \n",
      " 1   ID              4255 non-null   object \n",
      " 2   date_created    4255 non-null   object \n",
      " 3   long_text       4255 non-null   object \n",
      " 4   Topic           4255 non-null   int64  \n",
      " 5   Representation  4255 non-null   object \n",
      " 6   human_labels    4255 non-null   object \n",
      " 7   upvote_ratio    4255 non-null   float64\n",
      " 8   Score           4255 non-null   int64  \n",
      " 9   Total Comments  4255 non-null   int64  \n",
      "dtypes: float64(1), int64(3), object(6)\n",
      "memory usage: 332.5+ KB\n"
     ]
    }
   ],
   "source": [
    "sub_upvotes.info()"
   ]
  },
  {
   "cell_type": "code",
   "execution_count": 177,
   "id": "c6de5aac-5689-4a37-a597-91feffd8d0d7",
   "metadata": {},
   "outputs": [],
   "source": [
    "sub_upvotes['date_created'] = pd.to_datetime(sub_upvotes['date_created'])\n",
    "sub_upvotes['year'] = sub_upvotes['date_created'].dt.year"
   ]
  },
  {
   "cell_type": "code",
   "execution_count": 179,
   "id": "7e99ab67-c36c-4032-8b58-25ed01880884",
   "metadata": {},
   "outputs": [
    {
     "name": "stdout",
     "output_type": "stream",
     "text": [
      "<class 'pandas.core.frame.DataFrame'>\n",
      "RangeIndex: 4255 entries, 0 to 4254\n",
      "Data columns (total 11 columns):\n",
      " #   Column          Non-Null Count  Dtype         \n",
      "---  ------          --------------  -----         \n",
      " 0   text_type       4255 non-null   object        \n",
      " 1   ID              4255 non-null   object        \n",
      " 2   date_created    4255 non-null   datetime64[ns]\n",
      " 3   long_text       4255 non-null   object        \n",
      " 4   Topic           4255 non-null   int64         \n",
      " 5   Representation  4255 non-null   object        \n",
      " 6   human_labels    4255 non-null   object        \n",
      " 7   upvote_ratio    4255 non-null   float64       \n",
      " 8   Score           4255 non-null   int64         \n",
      " 9   Total Comments  4255 non-null   int64         \n",
      " 10  year            4255 non-null   int32         \n",
      "dtypes: datetime64[ns](1), float64(1), int32(1), int64(3), object(5)\n",
      "memory usage: 349.2+ KB\n"
     ]
    }
   ],
   "source": [
    "sub_upvotes.info()"
   ]
  },
  {
   "cell_type": "code",
   "execution_count": 180,
   "id": "406ea201-f473-4888-9930-0b5a1aafa057",
   "metadata": {},
   "outputs": [
    {
     "data": {
      "text/html": [
       "<div>\n",
       "<style scoped>\n",
       "    .dataframe tbody tr th:only-of-type {\n",
       "        vertical-align: middle;\n",
       "    }\n",
       "\n",
       "    .dataframe tbody tr th {\n",
       "        vertical-align: top;\n",
       "    }\n",
       "\n",
       "    .dataframe thead th {\n",
       "        text-align: right;\n",
       "    }\n",
       "</style>\n",
       "<table border=\"1\" class=\"dataframe\">\n",
       "  <thead>\n",
       "    <tr style=\"text-align: right;\">\n",
       "      <th></th>\n",
       "      <th>text_type</th>\n",
       "      <th>ID</th>\n",
       "      <th>date_created</th>\n",
       "      <th>long_text</th>\n",
       "      <th>Topic</th>\n",
       "      <th>Representation</th>\n",
       "      <th>human_labels</th>\n",
       "      <th>upvote_ratio</th>\n",
       "      <th>Score</th>\n",
       "      <th>Total Comments</th>\n",
       "      <th>year</th>\n",
       "    </tr>\n",
       "  </thead>\n",
       "  <tbody>\n",
       "    <tr>\n",
       "      <th>0</th>\n",
       "      <td>submission</td>\n",
       "      <td>1gupc3</td>\n",
       "      <td>2013-06-22 16:20:29</td>\n",
       "      <td>Dubai — World's Most Luxurious Places To Visit...</td>\n",
       "      <td>1</td>\n",
       "      <td>['dubai', 'uae', 'arabic', 'people', 'sharjah'...</td>\n",
       "      <td>uae_cities_region</td>\n",
       "      <td>0.50</td>\n",
       "      <td>0</td>\n",
       "      <td>4</td>\n",
       "      <td>2013</td>\n",
       "    </tr>\n",
       "    <tr>\n",
       "      <th>1</th>\n",
       "      <td>submission</td>\n",
       "      <td>1sur9h</td>\n",
       "      <td>2013-12-14 11:02:08</td>\n",
       "      <td>Took this image of the Burj Khalifa from Souk ...</td>\n",
       "      <td>5</td>\n",
       "      <td>['expo', 'beach', 'building', 'khalifa', 'burj...</td>\n",
       "      <td>infrastructure.landmarks</td>\n",
       "      <td>0.50</td>\n",
       "      <td>1</td>\n",
       "      <td>4</td>\n",
       "      <td>2013</td>\n",
       "    </tr>\n",
       "    <tr>\n",
       "      <th>2</th>\n",
       "      <td>submission</td>\n",
       "      <td>25d076</td>\n",
       "      <td>2014-05-12 18:29:48</td>\n",
       "      <td>Dubai Rock Fest - May 23 @ Domeland Arena / Al...</td>\n",
       "      <td>-1</td>\n",
       "      <td>['dubai', 'people', 'just', 'like', 'don', 'ua...</td>\n",
       "      <td>undefined</td>\n",
       "      <td>0.56</td>\n",
       "      <td>1</td>\n",
       "      <td>6</td>\n",
       "      <td>2014</td>\n",
       "    </tr>\n",
       "    <tr>\n",
       "      <th>3</th>\n",
       "      <td>submission</td>\n",
       "      <td>273rf6</td>\n",
       "      <td>2014-06-02 15:49:56</td>\n",
       "      <td>PSA: When you see someone waving on the side o...</td>\n",
       "      <td>6</td>\n",
       "      <td>['rain', 'summer', 'heat', 'weather', 'ac', 'h...</td>\n",
       "      <td>weather_conditions</td>\n",
       "      <td>0.55</td>\n",
       "      <td>4</td>\n",
       "      <td>5</td>\n",
       "      <td>2014</td>\n",
       "    </tr>\n",
       "    <tr>\n",
       "      <th>4</th>\n",
       "      <td>submission</td>\n",
       "      <td>2aygyw</td>\n",
       "      <td>2014-07-17 18:44:26</td>\n",
       "      <td>This just hit me</td>\n",
       "      <td>-1</td>\n",
       "      <td>['dubai', 'people', 'just', 'like', 'don', 'ua...</td>\n",
       "      <td>undefined</td>\n",
       "      <td>0.50</td>\n",
       "      <td>1</td>\n",
       "      <td>5</td>\n",
       "      <td>2014</td>\n",
       "    </tr>\n",
       "  </tbody>\n",
       "</table>\n",
       "</div>"
      ],
      "text/plain": [
       "    text_type      ID        date_created  \\\n",
       "0  submission  1gupc3 2013-06-22 16:20:29   \n",
       "1  submission  1sur9h 2013-12-14 11:02:08   \n",
       "2  submission  25d076 2014-05-12 18:29:48   \n",
       "3  submission  273rf6 2014-06-02 15:49:56   \n",
       "4  submission  2aygyw 2014-07-17 18:44:26   \n",
       "\n",
       "                                           long_text  Topic  \\\n",
       "0  Dubai — World's Most Luxurious Places To Visit...      1   \n",
       "1  Took this image of the Burj Khalifa from Souk ...      5   \n",
       "2  Dubai Rock Fest - May 23 @ Domeland Arena / Al...     -1   \n",
       "3  PSA: When you see someone waving on the side o...      6   \n",
       "4                                  This just hit me      -1   \n",
       "\n",
       "                                      Representation  \\\n",
       "0  ['dubai', 'uae', 'arabic', 'people', 'sharjah'...   \n",
       "1  ['expo', 'beach', 'building', 'khalifa', 'burj...   \n",
       "2  ['dubai', 'people', 'just', 'like', 'don', 'ua...   \n",
       "3  ['rain', 'summer', 'heat', 'weather', 'ac', 'h...   \n",
       "4  ['dubai', 'people', 'just', 'like', 'don', 'ua...   \n",
       "\n",
       "               human_labels  upvote_ratio  Score  Total Comments  year  \n",
       "0         uae_cities_region          0.50      0               4  2013  \n",
       "1  infrastructure.landmarks          0.50      1               4  2013  \n",
       "2                 undefined          0.56      1               6  2014  \n",
       "3        weather_conditions          0.55      4               5  2014  \n",
       "4                 undefined          0.50      1               5  2014  "
      ]
     },
     "execution_count": 180,
     "metadata": {},
     "output_type": "execute_result"
    }
   ],
   "source": [
    "sub_upvotes.head()"
   ]
  },
  {
   "cell_type": "code",
   "execution_count": 181,
   "id": "5c115cc1-9131-4360-811f-578a9232575c",
   "metadata": {},
   "outputs": [],
   "source": [
    "sub_upvotes.to_csv('../Data/sub_upvotes.csv')"
   ]
  },
  {
   "cell_type": "markdown",
   "id": "56fa5019-1049-42de-af9c-18b0c2267a15",
   "metadata": {},
   "source": [
    "<span style=\"color: orange; font-family: Calibri Light;\">\n",
    "  <h2><b>III. Time Series Analysis</b></h2>\n",
    "</span>"
   ]
  },
  {
   "cell_type": "markdown",
   "id": "aabc8803-7c8a-4db2-be19-41c500ee750d",
   "metadata": {},
   "source": [
    "<span style = \"font-family: Calibri Light\">\n",
    "<p> We undertake a time-series analysis of the topics to understand the following phenomena:\n",
    "    <ul>\n",
    "    <li>Topic Popularity:\n",
    "        Here will look at the trends of certain topics over the period, and this would be measured in a number of ways:\n",
    "        <ul>\n",
    "            <li>Volume of posts: topics vs. number of posts for those topics</li>\n",
    "            <li>Topic Engagement: topics vs. total number of comments</li>\n",
    "            <li> Sentiment: measured using the upvote ratio as an indirect measure of sentiment</li>\n",
    "        </ul>\n",
    "    <li> Topic Consistency:\n",
    "        <ul>\n",
    "            <li>Evergreen topics: topics consistently appearing every year, or at least two years</li>\n",
    "            <li>flash in the pans: topics that are only popular in a particular year</li>\n",
    "        </ul>\n",
    "        </li>\n",
    "    <li>Diversity of Discussion: how many topics discussed in a year.</li>\n",
    "    <li>Peak Analysis: years where particular topics peaked, does it correlated to real-world events?</li>\n",
    "    <li>Comparative analysis: how are popularity measures looking against each other? high engagement but negative sentiments? or what?</li>\n",
    "        <li>Topic Relationship: do topics trend together?</li>   \n",
    "</ul>\n",
    "</p>\n",
    "</span>"
   ]
  },
  {
   "cell_type": "markdown",
   "id": "a645a5bf-6f63-4f7b-bc2e-da30a5d11191",
   "metadata": {},
   "source": [
    "<span style=\"color: orange; font-family: Calibri Light;\">\n",
    "  <h3><b>a. Topic Popularity</b></h3>\n",
    "</span>"
   ]
  },
  {
   "cell_type": "markdown",
   "id": "166bcbb9-ca14-4ad7-bfe5-07ed32fa29ce",
   "metadata": {},
   "source": [
    "<span style=\"color: orange; font-family: Calibri Light;\">\n",
    "  <h4><b>i. Volume of Posts:</b></h4>\n",
    "</span>\n",
    "<span style = 'font-family: Calibri Light'>\n",
    "    total number of posts for top 10 topics in the period</span>"
   ]
  },
  {
   "cell_type": "code",
   "execution_count": 289,
   "id": "74c3a479-e67b-41fb-84ea-e8cee091c9d2",
   "metadata": {},
   "outputs": [
    {
     "name": "stdout",
     "output_type": "stream",
     "text": [
      "year\n",
      "2012      2\n",
      "2013      2\n",
      "2014      6\n",
      "2015      5\n",
      "2016     10\n",
      "2017     17\n",
      "2018     29\n",
      "2019     71\n",
      "2020    419\n",
      "2021    422\n",
      "2022    400\n",
      "2023    427\n",
      "dtype: int64\n"
     ]
    }
   ],
   "source": [
    "#exclude unwanted topics\n",
    "#check total number of entries per year\n",
    "\n",
    "data = pd.read_csv('../Data/sub_upvotes.csv') #load dataset\n",
    "\n",
    "#exclude unwanted_topics\n",
    "filter_mask = data['human_labels'].isin(['undefined', 'unrelated_theme', 'reddit_usage'])\n",
    "filtered_data = data[~filter_mask]\n",
    "\n",
    "#check total number of entries per year\n",
    "entries_count = filtered_data.groupby('year').size()\n",
    "print(entries_count)"
   ]
  },
  {
   "cell_type": "code",
   "execution_count": 292,
   "id": "61d56b04-a1d0-4c41-83bd-365446b68267",
   "metadata": {},
   "outputs": [
    {
     "data": {
      "text/plain": [
       "numpy.int64"
      ]
     },
     "execution_count": 292,
     "metadata": {},
     "output_type": "execute_result"
    }
   ],
   "source": [
    "type(filtered_data['year'][0])"
   ]
  },
  {
   "cell_type": "code",
   "execution_count": 295,
   "id": "5d7d86f6-d1aa-4066-b9f4-0c9af62a94d7",
   "metadata": {},
   "outputs": [
    {
     "data": {
      "text/html": [
       "<div>\n",
       "<style scoped>\n",
       "    .dataframe tbody tr th:only-of-type {\n",
       "        vertical-align: middle;\n",
       "    }\n",
       "\n",
       "    .dataframe tbody tr th {\n",
       "        vertical-align: top;\n",
       "    }\n",
       "\n",
       "    .dataframe thead th {\n",
       "        text-align: right;\n",
       "    }\n",
       "</style>\n",
       "<table border=\"1\" class=\"dataframe\">\n",
       "  <thead>\n",
       "    <tr style=\"text-align: right;\">\n",
       "      <th></th>\n",
       "      <th>Unnamed: 0</th>\n",
       "      <th>text_type</th>\n",
       "      <th>ID</th>\n",
       "      <th>date_created</th>\n",
       "      <th>long_text</th>\n",
       "      <th>Topic</th>\n",
       "      <th>Representation</th>\n",
       "      <th>human_labels</th>\n",
       "      <th>upvote_ratio</th>\n",
       "      <th>Score</th>\n",
       "      <th>Total Comments</th>\n",
       "      <th>year</th>\n",
       "    </tr>\n",
       "  </thead>\n",
       "  <tbody>\n",
       "    <tr>\n",
       "      <th>72</th>\n",
       "      <td>72</td>\n",
       "      <td>submission</td>\n",
       "      <td>7ntjdt</td>\n",
       "      <td>2018-01-03 13:12:09</td>\n",
       "      <td>Is your personal time better in winter than in...</td>\n",
       "      <td>6</td>\n",
       "      <td>['rain', 'summer', 'heat', 'weather', 'ac', 'h...</td>\n",
       "      <td>weather_conditions</td>\n",
       "      <td>0.53</td>\n",
       "      <td>1</td>\n",
       "      <td>20</td>\n",
       "      <td>2018</td>\n",
       "    </tr>\n",
       "    <tr>\n",
       "      <th>73</th>\n",
       "      <td>73</td>\n",
       "      <td>submission</td>\n",
       "      <td>7o0trg</td>\n",
       "      <td>2018-01-04 09:22:17</td>\n",
       "      <td>How much TAX would you pay back home? Let's th...</td>\n",
       "      <td>8</td>\n",
       "      <td>['tip', 'salary', 'tipping', 'pay', 'tax', 'ti...</td>\n",
       "      <td>income/tax</td>\n",
       "      <td>0.48</td>\n",
       "      <td>0</td>\n",
       "      <td>23</td>\n",
       "      <td>2018</td>\n",
       "    </tr>\n",
       "    <tr>\n",
       "      <th>74</th>\n",
       "      <td>74</td>\n",
       "      <td>submission</td>\n",
       "      <td>7p7057</td>\n",
       "      <td>2018-01-09 17:14:53</td>\n",
       "      <td>Dating in dubai Hi guys, so dating for a girl ...</td>\n",
       "      <td>1</td>\n",
       "      <td>['dubai', 'uae', 'arabic', 'people', 'sharjah'...</td>\n",
       "      <td>uae_cities_region</td>\n",
       "      <td>0.50</td>\n",
       "      <td>3</td>\n",
       "      <td>93</td>\n",
       "      <td>2018</td>\n",
       "    </tr>\n",
       "    <tr>\n",
       "      <th>75</th>\n",
       "      <td>75</td>\n",
       "      <td>submission</td>\n",
       "      <td>7q08qq</td>\n",
       "      <td>2018-01-13 02:22:20</td>\n",
       "      <td>Any of you got a call from your ISP warning yo...</td>\n",
       "      <td>15</td>\n",
       "      <td>['etisalat', 'whatsapp', 'vpn', 'du', 'voip', ...</td>\n",
       "      <td>infrastructure.mobile_communication_internet</td>\n",
       "      <td>0.48</td>\n",
       "      <td>3</td>\n",
       "      <td>20</td>\n",
       "      <td>2018</td>\n",
       "    </tr>\n",
       "    <tr>\n",
       "      <th>76</th>\n",
       "      <td>76</td>\n",
       "      <td>submission</td>\n",
       "      <td>7qmbwr</td>\n",
       "      <td>2018-01-15 23:58:27</td>\n",
       "      <td>Etisalat is 🔥</td>\n",
       "      <td>15</td>\n",
       "      <td>['etisalat', 'whatsapp', 'vpn', 'du', 'voip', ...</td>\n",
       "      <td>infrastructure.mobile_communication_internet</td>\n",
       "      <td>0.99</td>\n",
       "      <td>371</td>\n",
       "      <td>57</td>\n",
       "      <td>2018</td>\n",
       "    </tr>\n",
       "  </tbody>\n",
       "</table>\n",
       "</div>"
      ],
      "text/plain": [
       "    Unnamed: 0   text_type      ID         date_created  \\\n",
       "72          72  submission  7ntjdt  2018-01-03 13:12:09   \n",
       "73          73  submission  7o0trg  2018-01-04 09:22:17   \n",
       "74          74  submission  7p7057  2018-01-09 17:14:53   \n",
       "75          75  submission  7q08qq  2018-01-13 02:22:20   \n",
       "76          76  submission  7qmbwr  2018-01-15 23:58:27   \n",
       "\n",
       "                                            long_text  Topic  \\\n",
       "72  Is your personal time better in winter than in...      6   \n",
       "73  How much TAX would you pay back home? Let's th...      8   \n",
       "74  Dating in dubai Hi guys, so dating for a girl ...      1   \n",
       "75  Any of you got a call from your ISP warning yo...     15   \n",
       "76                                     Etisalat is 🔥      15   \n",
       "\n",
       "                                       Representation  \\\n",
       "72  ['rain', 'summer', 'heat', 'weather', 'ac', 'h...   \n",
       "73  ['tip', 'salary', 'tipping', 'pay', 'tax', 'ti...   \n",
       "74  ['dubai', 'uae', 'arabic', 'people', 'sharjah'...   \n",
       "75  ['etisalat', 'whatsapp', 'vpn', 'du', 'voip', ...   \n",
       "76  ['etisalat', 'whatsapp', 'vpn', 'du', 'voip', ...   \n",
       "\n",
       "                                    human_labels  upvote_ratio  Score  \\\n",
       "72                            weather_conditions          0.53      1   \n",
       "73                                    income/tax          0.48      0   \n",
       "74                             uae_cities_region          0.50      3   \n",
       "75  infrastructure.mobile_communication_internet          0.48      3   \n",
       "76  infrastructure.mobile_communication_internet          0.99    371   \n",
       "\n",
       "    Total Comments  year  \n",
       "72              20  2018  \n",
       "73              23  2018  \n",
       "74              93  2018  \n",
       "75              20  2018  \n",
       "76              57  2018  "
      ]
     },
     "execution_count": 295,
     "metadata": {},
     "output_type": "execute_result"
    }
   ],
   "source": [
    "#exclude years with sparse data\n",
    "\n",
    "\n",
    "filter_year_mask = filtered_data['year']<2018\n",
    "df = filtered_data[~filter_year_mask]\n",
    "df.head()"
   ]
  },
  {
   "cell_type": "code",
   "execution_count": 296,
   "id": "08af3bb7-4808-4cc6-8f86-20015aea7efa",
   "metadata": {},
   "outputs": [
    {
     "data": {
      "text/plain": [
       "human_labels\n",
       "uae_cities_region                                646\n",
       "health.covid                                     164\n",
       "infrastructure.landmarks                         129\n",
       "pets_animal_welfare                               85\n",
       "weather_conditions                                73\n",
       "dining_services.restaurants/delivery_services     67\n",
       "infrastructure.mobile_communication_internet      65\n",
       "banking_financial_services_fraud                  49\n",
       "entertainment                                     47\n",
       "dining_services.food                              47\n",
       "Name: count, dtype: int64"
      ]
     },
     "execution_count": 296,
     "metadata": {},
     "output_type": "execute_result"
    }
   ],
   "source": [
    "#filter for top 5 most popular topics through out the period\n",
    "top_topics = df['human_labels'].value_counts().head(10)\n",
    "\n",
    "top_topics"
   ]
  },
  {
   "cell_type": "code",
   "execution_count": 300,
   "id": "980e0334-6d80-4b83-9921-1692f8b14698",
   "metadata": {},
   "outputs": [
    {
     "data": {
      "application/vnd.plotly.v1+json": {
       "config": {
        "plotlyServerURL": "https://plotly.com"
       },
       "data": [
        {
         "line": {
          "dash": "solid",
          "width": 3.2
         },
         "mode": "lines",
         "name": "banking_financial_services_fraud",
         "type": "scatter",
         "visible": "legendonly",
         "x": [
          2018,
          2019,
          2020,
          2021,
          2022,
          2023
         ],
         "y": [
          1,
          1,
          6,
          6,
          11,
          24
         ]
        },
        {
         "line": {
          "dash": "dot",
          "width": 3.2
         },
         "mode": "lines",
         "name": "dining_services.food",
         "type": "scatter",
         "visible": "legendonly",
         "x": [
          2018,
          2019,
          2020,
          2021,
          2022,
          2023
         ],
         "y": [
          0,
          1,
          15,
          11,
          9,
          11
         ]
        },
        {
         "line": {
          "dash": "dash",
          "width": 3.2
         },
         "mode": "lines",
         "name": "dining_services.restaurants/delivery_services",
         "type": "scatter",
         "visible": "legendonly",
         "x": [
          2018,
          2019,
          2020,
          2021,
          2022,
          2023
         ],
         "y": [
          1,
          2,
          10,
          6,
          29,
          19
         ]
        },
        {
         "line": {
          "dash": "dashdot",
          "width": 3.2
         },
         "mode": "lines",
         "name": "entertainment",
         "type": "scatter",
         "visible": "legendonly",
         "x": [
          2018,
          2019,
          2020,
          2021,
          2022,
          2023
         ],
         "y": [
          0,
          4,
          9,
          8,
          14,
          12
         ]
        },
        {
         "line": {
          "dash": "longdash",
          "width": 3.2
         },
         "mode": "lines",
         "name": "health.covid",
         "type": "scatter",
         "visible": true,
         "x": [
          2018,
          2019,
          2020,
          2021,
          2022,
          2023
         ],
         "y": [
          0,
          0,
          65,
          68,
          24,
          7
         ]
        },
        {
         "line": {
          "dash": "longdashdot",
          "width": 3.2
         },
         "mode": "lines",
         "name": "infrastructure.landmarks",
         "type": "scatter",
         "visible": "legendonly",
         "x": [
          2018,
          2019,
          2020,
          2021,
          2022,
          2023
         ],
         "y": [
          1,
          11,
          24,
          34,
          28,
          31
         ]
        },
        {
         "line": {
          "dash": "solid",
          "width": 3.2
         },
         "mode": "lines",
         "name": "infrastructure.mobile_communication_internet",
         "type": "scatter",
         "visible": "legendonly",
         "x": [
          2018,
          2019,
          2020,
          2021,
          2022,
          2023
         ],
         "y": [
          4,
          1,
          17,
          9,
          11,
          23
         ]
        },
        {
         "line": {
          "dash": "dot",
          "width": 3.2
         },
         "mode": "lines",
         "name": "pets_animal_welfare",
         "type": "scatter",
         "visible": "legendonly",
         "x": [
          2018,
          2019,
          2020,
          2021,
          2022,
          2023
         ],
         "y": [
          0,
          1,
          18,
          25,
          24,
          17
         ]
        },
        {
         "line": {
          "dash": "dash",
          "width": 3.2
         },
         "mode": "lines",
         "name": "uae_cities_region",
         "type": "scatter",
         "visible": "legendonly",
         "x": [
          2018,
          2019,
          2020,
          2021,
          2022,
          2023
         ],
         "y": [
          8,
          28,
          152,
          162,
          144,
          152
         ]
        },
        {
         "line": {
          "dash": "dashdot",
          "width": 3.2
         },
         "mode": "lines",
         "name": "weather_conditions",
         "type": "scatter",
         "visible": "legendonly",
         "x": [
          2018,
          2019,
          2020,
          2021,
          2022,
          2023
         ],
         "y": [
          5,
          9,
          14,
          14,
          16,
          15
         ]
        }
       ],
       "layout": {
        "autosize": false,
        "height": 550,
        "legend": {
         "title": {
          "text": "Topics"
         },
         "x": 1.03,
         "y": 1
        },
        "template": {
         "data": {
          "bar": [
           {
            "error_x": {
             "color": "#2a3f5f"
            },
            "error_y": {
             "color": "#2a3f5f"
            },
            "marker": {
             "line": {
              "color": "white",
              "width": 0.5
             },
             "pattern": {
              "fillmode": "overlay",
              "size": 10,
              "solidity": 0.2
             }
            },
            "type": "bar"
           }
          ],
          "barpolar": [
           {
            "marker": {
             "line": {
              "color": "white",
              "width": 0.5
             },
             "pattern": {
              "fillmode": "overlay",
              "size": 10,
              "solidity": 0.2
             }
            },
            "type": "barpolar"
           }
          ],
          "carpet": [
           {
            "aaxis": {
             "endlinecolor": "#2a3f5f",
             "gridcolor": "#C8D4E3",
             "linecolor": "#C8D4E3",
             "minorgridcolor": "#C8D4E3",
             "startlinecolor": "#2a3f5f"
            },
            "baxis": {
             "endlinecolor": "#2a3f5f",
             "gridcolor": "#C8D4E3",
             "linecolor": "#C8D4E3",
             "minorgridcolor": "#C8D4E3",
             "startlinecolor": "#2a3f5f"
            },
            "type": "carpet"
           }
          ],
          "choropleth": [
           {
            "colorbar": {
             "outlinewidth": 0,
             "ticks": ""
            },
            "type": "choropleth"
           }
          ],
          "contour": [
           {
            "colorbar": {
             "outlinewidth": 0,
             "ticks": ""
            },
            "colorscale": [
             [
              0,
              "#0d0887"
             ],
             [
              0.1111111111111111,
              "#46039f"
             ],
             [
              0.2222222222222222,
              "#7201a8"
             ],
             [
              0.3333333333333333,
              "#9c179e"
             ],
             [
              0.4444444444444444,
              "#bd3786"
             ],
             [
              0.5555555555555556,
              "#d8576b"
             ],
             [
              0.6666666666666666,
              "#ed7953"
             ],
             [
              0.7777777777777778,
              "#fb9f3a"
             ],
             [
              0.8888888888888888,
              "#fdca26"
             ],
             [
              1,
              "#f0f921"
             ]
            ],
            "type": "contour"
           }
          ],
          "contourcarpet": [
           {
            "colorbar": {
             "outlinewidth": 0,
             "ticks": ""
            },
            "type": "contourcarpet"
           }
          ],
          "heatmap": [
           {
            "colorbar": {
             "outlinewidth": 0,
             "ticks": ""
            },
            "colorscale": [
             [
              0,
              "#0d0887"
             ],
             [
              0.1111111111111111,
              "#46039f"
             ],
             [
              0.2222222222222222,
              "#7201a8"
             ],
             [
              0.3333333333333333,
              "#9c179e"
             ],
             [
              0.4444444444444444,
              "#bd3786"
             ],
             [
              0.5555555555555556,
              "#d8576b"
             ],
             [
              0.6666666666666666,
              "#ed7953"
             ],
             [
              0.7777777777777778,
              "#fb9f3a"
             ],
             [
              0.8888888888888888,
              "#fdca26"
             ],
             [
              1,
              "#f0f921"
             ]
            ],
            "type": "heatmap"
           }
          ],
          "heatmapgl": [
           {
            "colorbar": {
             "outlinewidth": 0,
             "ticks": ""
            },
            "colorscale": [
             [
              0,
              "#0d0887"
             ],
             [
              0.1111111111111111,
              "#46039f"
             ],
             [
              0.2222222222222222,
              "#7201a8"
             ],
             [
              0.3333333333333333,
              "#9c179e"
             ],
             [
              0.4444444444444444,
              "#bd3786"
             ],
             [
              0.5555555555555556,
              "#d8576b"
             ],
             [
              0.6666666666666666,
              "#ed7953"
             ],
             [
              0.7777777777777778,
              "#fb9f3a"
             ],
             [
              0.8888888888888888,
              "#fdca26"
             ],
             [
              1,
              "#f0f921"
             ]
            ],
            "type": "heatmapgl"
           }
          ],
          "histogram": [
           {
            "marker": {
             "pattern": {
              "fillmode": "overlay",
              "size": 10,
              "solidity": 0.2
             }
            },
            "type": "histogram"
           }
          ],
          "histogram2d": [
           {
            "colorbar": {
             "outlinewidth": 0,
             "ticks": ""
            },
            "colorscale": [
             [
              0,
              "#0d0887"
             ],
             [
              0.1111111111111111,
              "#46039f"
             ],
             [
              0.2222222222222222,
              "#7201a8"
             ],
             [
              0.3333333333333333,
              "#9c179e"
             ],
             [
              0.4444444444444444,
              "#bd3786"
             ],
             [
              0.5555555555555556,
              "#d8576b"
             ],
             [
              0.6666666666666666,
              "#ed7953"
             ],
             [
              0.7777777777777778,
              "#fb9f3a"
             ],
             [
              0.8888888888888888,
              "#fdca26"
             ],
             [
              1,
              "#f0f921"
             ]
            ],
            "type": "histogram2d"
           }
          ],
          "histogram2dcontour": [
           {
            "colorbar": {
             "outlinewidth": 0,
             "ticks": ""
            },
            "colorscale": [
             [
              0,
              "#0d0887"
             ],
             [
              0.1111111111111111,
              "#46039f"
             ],
             [
              0.2222222222222222,
              "#7201a8"
             ],
             [
              0.3333333333333333,
              "#9c179e"
             ],
             [
              0.4444444444444444,
              "#bd3786"
             ],
             [
              0.5555555555555556,
              "#d8576b"
             ],
             [
              0.6666666666666666,
              "#ed7953"
             ],
             [
              0.7777777777777778,
              "#fb9f3a"
             ],
             [
              0.8888888888888888,
              "#fdca26"
             ],
             [
              1,
              "#f0f921"
             ]
            ],
            "type": "histogram2dcontour"
           }
          ],
          "mesh3d": [
           {
            "colorbar": {
             "outlinewidth": 0,
             "ticks": ""
            },
            "type": "mesh3d"
           }
          ],
          "parcoords": [
           {
            "line": {
             "colorbar": {
              "outlinewidth": 0,
              "ticks": ""
             }
            },
            "type": "parcoords"
           }
          ],
          "pie": [
           {
            "automargin": true,
            "type": "pie"
           }
          ],
          "scatter": [
           {
            "fillpattern": {
             "fillmode": "overlay",
             "size": 10,
             "solidity": 0.2
            },
            "type": "scatter"
           }
          ],
          "scatter3d": [
           {
            "line": {
             "colorbar": {
              "outlinewidth": 0,
              "ticks": ""
             }
            },
            "marker": {
             "colorbar": {
              "outlinewidth": 0,
              "ticks": ""
             }
            },
            "type": "scatter3d"
           }
          ],
          "scattercarpet": [
           {
            "marker": {
             "colorbar": {
              "outlinewidth": 0,
              "ticks": ""
             }
            },
            "type": "scattercarpet"
           }
          ],
          "scattergeo": [
           {
            "marker": {
             "colorbar": {
              "outlinewidth": 0,
              "ticks": ""
             }
            },
            "type": "scattergeo"
           }
          ],
          "scattergl": [
           {
            "marker": {
             "colorbar": {
              "outlinewidth": 0,
              "ticks": ""
             }
            },
            "type": "scattergl"
           }
          ],
          "scattermapbox": [
           {
            "marker": {
             "colorbar": {
              "outlinewidth": 0,
              "ticks": ""
             }
            },
            "type": "scattermapbox"
           }
          ],
          "scatterpolar": [
           {
            "marker": {
             "colorbar": {
              "outlinewidth": 0,
              "ticks": ""
             }
            },
            "type": "scatterpolar"
           }
          ],
          "scatterpolargl": [
           {
            "marker": {
             "colorbar": {
              "outlinewidth": 0,
              "ticks": ""
             }
            },
            "type": "scatterpolargl"
           }
          ],
          "scatterternary": [
           {
            "marker": {
             "colorbar": {
              "outlinewidth": 0,
              "ticks": ""
             }
            },
            "type": "scatterternary"
           }
          ],
          "surface": [
           {
            "colorbar": {
             "outlinewidth": 0,
             "ticks": ""
            },
            "colorscale": [
             [
              0,
              "#0d0887"
             ],
             [
              0.1111111111111111,
              "#46039f"
             ],
             [
              0.2222222222222222,
              "#7201a8"
             ],
             [
              0.3333333333333333,
              "#9c179e"
             ],
             [
              0.4444444444444444,
              "#bd3786"
             ],
             [
              0.5555555555555556,
              "#d8576b"
             ],
             [
              0.6666666666666666,
              "#ed7953"
             ],
             [
              0.7777777777777778,
              "#fb9f3a"
             ],
             [
              0.8888888888888888,
              "#fdca26"
             ],
             [
              1,
              "#f0f921"
             ]
            ],
            "type": "surface"
           }
          ],
          "table": [
           {
            "cells": {
             "fill": {
              "color": "#EBF0F8"
             },
             "line": {
              "color": "white"
             }
            },
            "header": {
             "fill": {
              "color": "#C8D4E3"
             },
             "line": {
              "color": "white"
             }
            },
            "type": "table"
           }
          ]
         },
         "layout": {
          "annotationdefaults": {
           "arrowcolor": "#2a3f5f",
           "arrowhead": 0,
           "arrowwidth": 1
          },
          "autotypenumbers": "strict",
          "coloraxis": {
           "colorbar": {
            "outlinewidth": 0,
            "ticks": ""
           }
          },
          "colorscale": {
           "diverging": [
            [
             0,
             "#8e0152"
            ],
            [
             0.1,
             "#c51b7d"
            ],
            [
             0.2,
             "#de77ae"
            ],
            [
             0.3,
             "#f1b6da"
            ],
            [
             0.4,
             "#fde0ef"
            ],
            [
             0.5,
             "#f7f7f7"
            ],
            [
             0.6,
             "#e6f5d0"
            ],
            [
             0.7,
             "#b8e186"
            ],
            [
             0.8,
             "#7fbc41"
            ],
            [
             0.9,
             "#4d9221"
            ],
            [
             1,
             "#276419"
            ]
           ],
           "sequential": [
            [
             0,
             "#0d0887"
            ],
            [
             0.1111111111111111,
             "#46039f"
            ],
            [
             0.2222222222222222,
             "#7201a8"
            ],
            [
             0.3333333333333333,
             "#9c179e"
            ],
            [
             0.4444444444444444,
             "#bd3786"
            ],
            [
             0.5555555555555556,
             "#d8576b"
            ],
            [
             0.6666666666666666,
             "#ed7953"
            ],
            [
             0.7777777777777778,
             "#fb9f3a"
            ],
            [
             0.8888888888888888,
             "#fdca26"
            ],
            [
             1,
             "#f0f921"
            ]
           ],
           "sequentialminus": [
            [
             0,
             "#0d0887"
            ],
            [
             0.1111111111111111,
             "#46039f"
            ],
            [
             0.2222222222222222,
             "#7201a8"
            ],
            [
             0.3333333333333333,
             "#9c179e"
            ],
            [
             0.4444444444444444,
             "#bd3786"
            ],
            [
             0.5555555555555556,
             "#d8576b"
            ],
            [
             0.6666666666666666,
             "#ed7953"
            ],
            [
             0.7777777777777778,
             "#fb9f3a"
            ],
            [
             0.8888888888888888,
             "#fdca26"
            ],
            [
             1,
             "#f0f921"
            ]
           ]
          },
          "colorway": [
           "#636efa",
           "#EF553B",
           "#00cc96",
           "#ab63fa",
           "#FFA15A",
           "#19d3f3",
           "#FF6692",
           "#B6E880",
           "#FF97FF",
           "#FECB52"
          ],
          "font": {
           "color": "#2a3f5f"
          },
          "geo": {
           "bgcolor": "white",
           "lakecolor": "white",
           "landcolor": "white",
           "showlakes": true,
           "showland": true,
           "subunitcolor": "#C8D4E3"
          },
          "hoverlabel": {
           "align": "left"
          },
          "hovermode": "closest",
          "mapbox": {
           "style": "light"
          },
          "paper_bgcolor": "white",
          "plot_bgcolor": "white",
          "polar": {
           "angularaxis": {
            "gridcolor": "#EBF0F8",
            "linecolor": "#EBF0F8",
            "ticks": ""
           },
           "bgcolor": "white",
           "radialaxis": {
            "gridcolor": "#EBF0F8",
            "linecolor": "#EBF0F8",
            "ticks": ""
           }
          },
          "scene": {
           "xaxis": {
            "backgroundcolor": "white",
            "gridcolor": "#DFE8F3",
            "gridwidth": 2,
            "linecolor": "#EBF0F8",
            "showbackground": true,
            "ticks": "",
            "zerolinecolor": "#EBF0F8"
           },
           "yaxis": {
            "backgroundcolor": "white",
            "gridcolor": "#DFE8F3",
            "gridwidth": 2,
            "linecolor": "#EBF0F8",
            "showbackground": true,
            "ticks": "",
            "zerolinecolor": "#EBF0F8"
           },
           "zaxis": {
            "backgroundcolor": "white",
            "gridcolor": "#DFE8F3",
            "gridwidth": 2,
            "linecolor": "#EBF0F8",
            "showbackground": true,
            "ticks": "",
            "zerolinecolor": "#EBF0F8"
           }
          },
          "shapedefaults": {
           "line": {
            "color": "#2a3f5f"
           }
          },
          "ternary": {
           "aaxis": {
            "gridcolor": "#DFE8F3",
            "linecolor": "#A2B1C6",
            "ticks": ""
           },
           "baxis": {
            "gridcolor": "#DFE8F3",
            "linecolor": "#A2B1C6",
            "ticks": ""
           },
           "bgcolor": "white",
           "caxis": {
            "gridcolor": "#DFE8F3",
            "linecolor": "#A2B1C6",
            "ticks": ""
           }
          },
          "title": {
           "x": 0.05
          },
          "xaxis": {
           "automargin": true,
           "gridcolor": "#EBF0F8",
           "linecolor": "#EBF0F8",
           "ticks": "",
           "title": {
            "standoff": 15
           },
           "zerolinecolor": "#EBF0F8",
           "zerolinewidth": 2
          },
          "yaxis": {
           "automargin": true,
           "gridcolor": "#EBF0F8",
           "linecolor": "#EBF0F8",
           "ticks": "",
           "title": {
            "standoff": 15
           },
           "zerolinecolor": "#EBF0F8",
           "zerolinewidth": 2
          }
         }
        },
        "title": {
         "text": "Volume of Posts for Top 10 Topics",
         "x": 0.3
        },
        "width": 1200,
        "xaxis": {
         "autorange": true,
         "range": [
          2018,
          2023
         ],
         "showgrid": false,
         "title": {
          "text": "Year"
         },
         "type": "linear",
         "zeroline": false
        },
        "yaxis": {
         "autorange": true,
         "range": [
          -3.7777777777777777,
          71.77777777777777
         ],
         "title": {
          "text": "Volume"
         },
         "type": "linear"
        }
       }
      },
      "image/png": "[encoded data removed]",
      "text/html": [
       "<div>                            <div id=\"2b13d823-eb28-4132-8bc4-caec78eba0f5\" class=\"plotly-graph-div\" style=\"height:550px; width:1200px;\"></div>            <script type=\"text/javascript\">                require([\"plotly\"], function(Plotly) {                    window.PLOTLYENV=window.PLOTLYENV || {};                                    if (document.getElementById(\"2b13d823-eb28-4132-8bc4-caec78eba0f5\")) {                    Plotly.newPlot(                        \"2b13d823-eb28-4132-8bc4-caec78eba0f5\",                        [{\"mode\":\"lines\",\"name\":\"banking_financial_services_fraud\",\"x\":[2018,2019,2020,2021,2022,2023],\"y\":[1.0,1.0,6.0,6.0,11.0,24.0],\"type\":\"scatter\",\"line\":{\"dash\":\"solid\",\"width\":3.2}},{\"mode\":\"lines\",\"name\":\"dining_services.food\",\"x\":[2018,2019,2020,2021,2022,2023],\"y\":[0.0,1.0,15.0,11.0,9.0,11.0],\"type\":\"scatter\",\"line\":{\"dash\":\"dot\",\"width\":3.2}},{\"mode\":\"lines\",\"name\":\"dining_services.restaurants\\u002fdelivery_services\",\"x\":[2018,2019,2020,2021,2022,2023],\"y\":[1.0,2.0,10.0,6.0,29.0,19.0],\"type\":\"scatter\",\"line\":{\"dash\":\"dash\",\"width\":3.2}},{\"mode\":\"lines\",\"name\":\"entertainment\",\"x\":[2018,2019,2020,2021,2022,2023],\"y\":[0.0,4.0,9.0,8.0,14.0,12.0],\"type\":\"scatter\",\"line\":{\"dash\":\"dashdot\",\"width\":3.2}},{\"mode\":\"lines\",\"name\":\"health.covid\",\"x\":[2018,2019,2020,2021,2022,2023],\"y\":[0.0,0.0,65.0,68.0,24.0,7.0],\"type\":\"scatter\",\"line\":{\"dash\":\"longdash\",\"width\":3.2}},{\"mode\":\"lines\",\"name\":\"infrastructure.landmarks\",\"x\":[2018,2019,2020,2021,2022,2023],\"y\":[1.0,11.0,24.0,34.0,28.0,31.0],\"type\":\"scatter\",\"line\":{\"dash\":\"longdashdot\",\"width\":3.2}},{\"mode\":\"lines\",\"name\":\"infrastructure.mobile_communication_internet\",\"x\":[2018,2019,2020,2021,2022,2023],\"y\":[4.0,1.0,17.0,9.0,11.0,23.0],\"type\":\"scatter\",\"line\":{\"dash\":\"solid\",\"width\":3.2}},{\"mode\":\"lines\",\"name\":\"pets_animal_welfare\",\"x\":[2018,2019,2020,2021,2022,2023],\"y\":[0.0,1.0,18.0,25.0,24.0,17.0],\"type\":\"scatter\",\"line\":{\"dash\":\"dot\",\"width\":3.2}},{\"mode\":\"lines\",\"name\":\"uae_cities_region\",\"x\":[2018,2019,2020,2021,2022,2023],\"y\":[8.0,28.0,152.0,162.0,144.0,152.0],\"type\":\"scatter\",\"line\":{\"dash\":\"dash\",\"width\":3.2}},{\"mode\":\"lines\",\"name\":\"weather_conditions\",\"x\":[2018,2019,2020,2021,2022,2023],\"y\":[5.0,9.0,14.0,14.0,16.0,15.0],\"type\":\"scatter\",\"line\":{\"dash\":\"dashdot\",\"width\":3.2}}],                        {\"template\":{\"data\":{\"histogram2dcontour\":[{\"type\":\"histogram2dcontour\",\"colorbar\":{\"outlinewidth\":0,\"ticks\":\"\"},\"colorscale\":[[0.0,\"#0d0887\"],[0.1111111111111111,\"#46039f\"],[0.2222222222222222,\"#7201a8\"],[0.3333333333333333,\"#9c179e\"],[0.4444444444444444,\"#bd3786\"],[0.5555555555555556,\"#d8576b\"],[0.6666666666666666,\"#ed7953\"],[0.7777777777777778,\"#fb9f3a\"],[0.8888888888888888,\"#fdca26\"],[1.0,\"#f0f921\"]]}],\"choropleth\":[{\"type\":\"choropleth\",\"colorbar\":{\"outlinewidth\":0,\"ticks\":\"\"}}],\"histogram2d\":[{\"type\":\"histogram2d\",\"colorbar\":{\"outlinewidth\":0,\"ticks\":\"\"},\"colorscale\":[[0.0,\"#0d0887\"],[0.1111111111111111,\"#46039f\"],[0.2222222222222222,\"#7201a8\"],[0.3333333333333333,\"#9c179e\"],[0.4444444444444444,\"#bd3786\"],[0.5555555555555556,\"#d8576b\"],[0.6666666666666666,\"#ed7953\"],[0.7777777777777778,\"#fb9f3a\"],[0.8888888888888888,\"#fdca26\"],[1.0,\"#f0f921\"]]}],\"heatmap\":[{\"type\":\"heatmap\",\"colorbar\":{\"outlinewidth\":0,\"ticks\":\"\"},\"colorscale\":[[0.0,\"#0d0887\"],[0.1111111111111111,\"#46039f\"],[0.2222222222222222,\"#7201a8\"],[0.3333333333333333,\"#9c179e\"],[0.4444444444444444,\"#bd3786\"],[0.5555555555555556,\"#d8576b\"],[0.6666666666666666,\"#ed7953\"],[0.7777777777777778,\"#fb9f3a\"],[0.8888888888888888,\"#fdca26\"],[1.0,\"#f0f921\"]]}],\"heatmapgl\":[{\"type\":\"heatmapgl\",\"colorbar\":{\"outlinewidth\":0,\"ticks\":\"\"},\"colorscale\":[[0.0,\"#0d0887\"],[0.1111111111111111,\"#46039f\"],[0.2222222222222222,\"#7201a8\"],[0.3333333333333333,\"#9c179e\"],[0.4444444444444444,\"#bd3786\"],[0.5555555555555556,\"#d8576b\"],[0.6666666666666666,\"#ed7953\"],[0.7777777777777778,\"#fb9f3a\"],[0.8888888888888888,\"#fdca26\"],[1.0,\"#f0f921\"]]}],\"contourcarpet\":[{\"type\":\"contourcarpet\",\"colorbar\":{\"outlinewidth\":0,\"ticks\":\"\"}}],\"contour\":[{\"type\":\"contour\",\"colorbar\":{\"outlinewidth\":0,\"ticks\":\"\"},\"colorscale\":[[0.0,\"#0d0887\"],[0.1111111111111111,\"#46039f\"],[0.2222222222222222,\"#7201a8\"],[0.3333333333333333,\"#9c179e\"],[0.4444444444444444,\"#bd3786\"],[0.5555555555555556,\"#d8576b\"],[0.6666666666666666,\"#ed7953\"],[0.7777777777777778,\"#fb9f3a\"],[0.8888888888888888,\"#fdca26\"],[1.0,\"#f0f921\"]]}],\"surface\":[{\"type\":\"surface\",\"colorbar\":{\"outlinewidth\":0,\"ticks\":\"\"},\"colorscale\":[[0.0,\"#0d0887\"],[0.1111111111111111,\"#46039f\"],[0.2222222222222222,\"#7201a8\"],[0.3333333333333333,\"#9c179e\"],[0.4444444444444444,\"#bd3786\"],[0.5555555555555556,\"#d8576b\"],[0.6666666666666666,\"#ed7953\"],[0.7777777777777778,\"#fb9f3a\"],[0.8888888888888888,\"#fdca26\"],[1.0,\"#f0f921\"]]}],\"mesh3d\":[{\"type\":\"mesh3d\",\"colorbar\":{\"outlinewidth\":0,\"ticks\":\"\"}}],\"scatter\":[{\"fillpattern\":{\"fillmode\":\"overlay\",\"size\":10,\"solidity\":0.2},\"type\":\"scatter\"}],\"parcoords\":[{\"type\":\"parcoords\",\"line\":{\"colorbar\":{\"outlinewidth\":0,\"ticks\":\"\"}}}],\"scatterpolargl\":[{\"type\":\"scatterpolargl\",\"marker\":{\"colorbar\":{\"outlinewidth\":0,\"ticks\":\"\"}}}],\"bar\":[{\"error_x\":{\"color\":\"#2a3f5f\"},\"error_y\":{\"color\":\"#2a3f5f\"},\"marker\":{\"line\":{\"color\":\"white\",\"width\":0.5},\"pattern\":{\"fillmode\":\"overlay\",\"size\":10,\"solidity\":0.2}},\"type\":\"bar\"}],\"scattergeo\":[{\"type\":\"scattergeo\",\"marker\":{\"colorbar\":{\"outlinewidth\":0,\"ticks\":\"\"}}}],\"scatterpolar\":[{\"type\":\"scatterpolar\",\"marker\":{\"colorbar\":{\"outlinewidth\":0,\"ticks\":\"\"}}}],\"histogram\":[{\"marker\":{\"pattern\":{\"fillmode\":\"overlay\",\"size\":10,\"solidity\":0.2}},\"type\":\"histogram\"}],\"scattergl\":[{\"type\":\"scattergl\",\"marker\":{\"colorbar\":{\"outlinewidth\":0,\"ticks\":\"\"}}}],\"scatter3d\":[{\"type\":\"scatter3d\",\"line\":{\"colorbar\":{\"outlinewidth\":0,\"ticks\":\"\"}},\"marker\":{\"colorbar\":{\"outlinewidth\":0,\"ticks\":\"\"}}}],\"scattermapbox\":[{\"type\":\"scattermapbox\",\"marker\":{\"colorbar\":{\"outlinewidth\":0,\"ticks\":\"\"}}}],\"scatterternary\":[{\"type\":\"scatterternary\",\"marker\":{\"colorbar\":{\"outlinewidth\":0,\"ticks\":\"\"}}}],\"scattercarpet\":[{\"type\":\"scattercarpet\",\"marker\":{\"colorbar\":{\"outlinewidth\":0,\"ticks\":\"\"}}}],\"carpet\":[{\"aaxis\":{\"endlinecolor\":\"#2a3f5f\",\"gridcolor\":\"#C8D4E3\",\"linecolor\":\"#C8D4E3\",\"minorgridcolor\":\"#C8D4E3\",\"startlinecolor\":\"#2a3f5f\"},\"baxis\":{\"endlinecolor\":\"#2a3f5f\",\"gridcolor\":\"#C8D4E3\",\"linecolor\":\"#C8D4E3\",\"minorgridcolor\":\"#C8D4E3\",\"startlinecolor\":\"#2a3f5f\"},\"type\":\"carpet\"}],\"table\":[{\"cells\":{\"fill\":{\"color\":\"#EBF0F8\"},\"line\":{\"color\":\"white\"}},\"header\":{\"fill\":{\"color\":\"#C8D4E3\"},\"line\":{\"color\":\"white\"}},\"type\":\"table\"}],\"barpolar\":[{\"marker\":{\"line\":{\"color\":\"white\",\"width\":0.5},\"pattern\":{\"fillmode\":\"overlay\",\"size\":10,\"solidity\":0.2}},\"type\":\"barpolar\"}],\"pie\":[{\"automargin\":true,\"type\":\"pie\"}]},\"layout\":{\"autotypenumbers\":\"strict\",\"colorway\":[\"#636efa\",\"#EF553B\",\"#00cc96\",\"#ab63fa\",\"#FFA15A\",\"#19d3f3\",\"#FF6692\",\"#B6E880\",\"#FF97FF\",\"#FECB52\"],\"font\":{\"color\":\"#2a3f5f\"},\"hovermode\":\"closest\",\"hoverlabel\":{\"align\":\"left\"},\"paper_bgcolor\":\"white\",\"plot_bgcolor\":\"white\",\"polar\":{\"bgcolor\":\"white\",\"angularaxis\":{\"gridcolor\":\"#EBF0F8\",\"linecolor\":\"#EBF0F8\",\"ticks\":\"\"},\"radialaxis\":{\"gridcolor\":\"#EBF0F8\",\"linecolor\":\"#EBF0F8\",\"ticks\":\"\"}},\"ternary\":{\"bgcolor\":\"white\",\"aaxis\":{\"gridcolor\":\"#DFE8F3\",\"linecolor\":\"#A2B1C6\",\"ticks\":\"\"},\"baxis\":{\"gridcolor\":\"#DFE8F3\",\"linecolor\":\"#A2B1C6\",\"ticks\":\"\"},\"caxis\":{\"gridcolor\":\"#DFE8F3\",\"linecolor\":\"#A2B1C6\",\"ticks\":\"\"}},\"coloraxis\":{\"colorbar\":{\"outlinewidth\":0,\"ticks\":\"\"}},\"colorscale\":{\"sequential\":[[0.0,\"#0d0887\"],[0.1111111111111111,\"#46039f\"],[0.2222222222222222,\"#7201a8\"],[0.3333333333333333,\"#9c179e\"],[0.4444444444444444,\"#bd3786\"],[0.5555555555555556,\"#d8576b\"],[0.6666666666666666,\"#ed7953\"],[0.7777777777777778,\"#fb9f3a\"],[0.8888888888888888,\"#fdca26\"],[1.0,\"#f0f921\"]],\"sequentialminus\":[[0.0,\"#0d0887\"],[0.1111111111111111,\"#46039f\"],[0.2222222222222222,\"#7201a8\"],[0.3333333333333333,\"#9c179e\"],[0.4444444444444444,\"#bd3786\"],[0.5555555555555556,\"#d8576b\"],[0.6666666666666666,\"#ed7953\"],[0.7777777777777778,\"#fb9f3a\"],[0.8888888888888888,\"#fdca26\"],[1.0,\"#f0f921\"]],\"diverging\":[[0,\"#8e0152\"],[0.1,\"#c51b7d\"],[0.2,\"#de77ae\"],[0.3,\"#f1b6da\"],[0.4,\"#fde0ef\"],[0.5,\"#f7f7f7\"],[0.6,\"#e6f5d0\"],[0.7,\"#b8e186\"],[0.8,\"#7fbc41\"],[0.9,\"#4d9221\"],[1,\"#276419\"]]},\"xaxis\":{\"gridcolor\":\"#EBF0F8\",\"linecolor\":\"#EBF0F8\",\"ticks\":\"\",\"title\":{\"standoff\":15},\"zerolinecolor\":\"#EBF0F8\",\"automargin\":true,\"zerolinewidth\":2},\"yaxis\":{\"gridcolor\":\"#EBF0F8\",\"linecolor\":\"#EBF0F8\",\"ticks\":\"\",\"title\":{\"standoff\":15},\"zerolinecolor\":\"#EBF0F8\",\"automargin\":true,\"zerolinewidth\":2},\"scene\":{\"xaxis\":{\"backgroundcolor\":\"white\",\"gridcolor\":\"#DFE8F3\",\"linecolor\":\"#EBF0F8\",\"showbackground\":true,\"ticks\":\"\",\"zerolinecolor\":\"#EBF0F8\",\"gridwidth\":2},\"yaxis\":{\"backgroundcolor\":\"white\",\"gridcolor\":\"#DFE8F3\",\"linecolor\":\"#EBF0F8\",\"showbackground\":true,\"ticks\":\"\",\"zerolinecolor\":\"#EBF0F8\",\"gridwidth\":2},\"zaxis\":{\"backgroundcolor\":\"white\",\"gridcolor\":\"#DFE8F3\",\"linecolor\":\"#EBF0F8\",\"showbackground\":true,\"ticks\":\"\",\"zerolinecolor\":\"#EBF0F8\",\"gridwidth\":2}},\"shapedefaults\":{\"line\":{\"color\":\"#2a3f5f\"}},\"annotationdefaults\":{\"arrowcolor\":\"#2a3f5f\",\"arrowhead\":0,\"arrowwidth\":1},\"geo\":{\"bgcolor\":\"white\",\"landcolor\":\"white\",\"subunitcolor\":\"#C8D4E3\",\"showland\":true,\"showlakes\":true,\"lakecolor\":\"white\"},\"title\":{\"x\":0.05},\"mapbox\":{\"style\":\"light\"}}},\"title\":{\"text\":\"Volume of Posts for Top 10 Topics\",\"x\":0.3},\"legend\":{\"title\":{\"text\":\"Topics\"},\"x\":1.03},\"xaxis\":{\"title\":{\"text\":\"Year\"},\"showgrid\":false,\"zeroline\":false},\"yaxis\":{\"title\":{\"text\":\"Volume\"}},\"width\":1200,\"height\":550,\"autosize\":false},                        {\"responsive\": true}                    ).then(function(){\n",
       "                            \n",
       "var gd = document.getElementById('2b13d823-eb28-4132-8bc4-caec78eba0f5');\n",
       "var x = new MutationObserver(function (mutations, observer) {{\n",
       "        var display = window.getComputedStyle(gd).display;\n",
       "        if (!display || display === 'none') {{\n",
       "            console.log([gd, 'removed!']);\n",
       "            Plotly.purge(gd);\n",
       "            observer.disconnect();\n",
       "        }}\n",
       "}});\n",
       "\n",
       "// Listen for the removal of the full notebook cells\n",
       "var notebookContainer = gd.closest('#notebook-container');\n",
       "if (notebookContainer) {{\n",
       "    x.observe(notebookContainer, {childList: true});\n",
       "}}\n",
       "\n",
       "// Listen for the clearing of the current output cell\n",
       "var outputEl = gd.closest('.output');\n",
       "if (outputEl) {{\n",
       "    x.observe(outputEl, {childList: true});\n",
       "}}\n",
       "\n",
       "                        })                };                });            </script>        </div>"
      ]
     },
     "metadata": {},
     "output_type": "display_data"
    }
   ],
   "source": [
    "#visualize volume over the years\n",
    "top_topics_data = df[df['human_labels'].isin(top_topics.index)]\n",
    "\n",
    "#volume for each topic\n",
    "volume = top_topics_data.groupby(['year', 'human_labels']).size().unstack().fillna(0)\n",
    "\n",
    "#create figure\n",
    "fig = go.Figure()\n",
    "\n",
    "#linestyles for each topic\n",
    "line_styles = ['solid', 'dot', 'dash', 'dashdot', 'longdash', 'longdashdot']\n",
    "\n",
    "#plot line graphs\n",
    "for idx,topic in enumerate(volume):\n",
    "    fig.add_trace(go.Scatter(x = volume.index, y = volume[topic], mode = 'lines', name = topic))\n",
    "\n",
    "for idx,trace in enumerate(fig.data):\n",
    "    trace.update(line=dict(dash=line_styles[idx % len(line_styles)]))\n",
    "    \n",
    "fig.update_traces(patch = {'line':{'width':3.2}})\n",
    "# update the figure\n",
    "fig.update_layout(\n",
    "    title={\"text\": \"Volume of Posts for Top 10 Topics\", \"x\": 0.3},  # add title and center it\n",
    "    xaxis_title=\"Year\",  # add x_axix label\n",
    "    yaxis_title=\"Volume\",\n",
    "    legend=dict(title =\"Topics\",x=1.03),  # add legend title\n",
    "    xaxis_showgrid=False,  # remove x_axis grid lines\n",
    "    xaxis=dict(zeroline=False),\n",
    "    width=1200,\n",
    "    height=550,\n",
    "    autosize=False\n",
    ")\n",
    "\n",
    "fig.show()"
   ]
  },
  {
   "cell_type": "markdown",
   "id": "34d9ac27-4105-4f11-adfe-20a087bf6c5c",
   "metadata": {},
   "source": [
    "<span style=\"color: orange; font-family: Calibri Light;\">\n",
    "  <h4><b>ii. Top Engagements:</b></h4>\n",
    "</span>\n",
    "<span style = 'font-family: Calibri Light'>\n",
    "    total number of posts for top 10 topics in the period</span>"
   ]
  },
  {
   "cell_type": "code",
   "execution_count": 336,
   "id": "79c1bebd-a434-443e-b7f3-2e9d3b50f4ce",
   "metadata": {},
   "outputs": [
    {
     "data": {
      "text/plain": [
       "human_labels\n",
       "uae_cities_region                               16603\n",
       "entertainment                                    3230\n",
       "pets_animal_welfare                              3013\n",
       "infrastructure.landmarks                         2644\n",
       "dining_services.food                             2592\n",
       "weather_conditions                               2480\n",
       "health.covid                                     2428\n",
       "urban_mobility.traffic_regulations               1605\n",
       "infrastructure.mobile_communication_internet     1554\n",
       "income/tax                                       1307\n",
       "Name: Total Comments, dtype: int64"
      ]
     },
     "execution_count": 336,
     "metadata": {},
     "output_type": "execute_result"
    }
   ],
   "source": [
    "#group by year and comments\n",
    "comments = df.groupby('human_labels')['Total Comments'].sum()\n",
    "top_comments = comments.sort_values(ascending = False).head(10)\n",
    "\n",
    "top_comments"
   ]
  },
  {
   "cell_type": "code",
   "execution_count": 341,
   "id": "45ae903d-2d74-4f97-9376-6fdba7ca051e",
   "metadata": {},
   "outputs": [
    {
     "data": {
      "application/vnd.plotly.v1+json": {
       "config": {
        "plotlyServerURL": "https://plotly.com"
       },
       "data": [
        {
         "line": {
          "dash": "solid",
          "width": 3.2
         },
         "mode": "lines",
         "name": "dining_services.food",
         "type": "scatter",
         "visible": "legendonly",
         "x": [
          2018,
          2019,
          2020,
          2021,
          2022,
          2023
         ],
         "y": [
          0,
          17,
          640,
          254,
          526,
          1155
         ]
        },
        {
         "line": {
          "dash": "dot",
          "width": 3.2
         },
         "mode": "lines",
         "name": "entertainment",
         "type": "scatter",
         "visible": "legendonly",
         "x": [
          2018,
          2019,
          2020,
          2021,
          2022,
          2023
         ],
         "y": [
          0,
          65,
          160,
          573,
          1118,
          1314
         ]
        },
        {
         "line": {
          "dash": "dash",
          "width": 3.2
         },
         "mode": "lines",
         "name": "health.covid",
         "type": "scatter",
         "visible": "legendonly",
         "x": [
          2018,
          2019,
          2020,
          2021,
          2022,
          2023
         ],
         "y": [
          0,
          0,
          1333,
          967,
          100,
          28
         ]
        },
        {
         "line": {
          "dash": "dashdot",
          "width": 3.2
         },
         "mode": "lines",
         "name": "income/tax",
         "type": "scatter",
         "visible": "legendonly",
         "x": [
          2018,
          2019,
          2020,
          2021,
          2022,
          2023
         ],
         "y": [
          23,
          0,
          292,
          0,
          538,
          454
         ]
        },
        {
         "line": {
          "dash": "longdash",
          "width": 3.2
         },
         "mode": "lines",
         "name": "infrastructure.landmarks",
         "type": "scatter",
         "visible": "legendonly",
         "x": [
          2018,
          2019,
          2020,
          2021,
          2022,
          2023
         ],
         "y": [
          80,
          208,
          531,
          754,
          816,
          255
         ]
        },
        {
         "line": {
          "dash": "longdashdot",
          "width": 3.2
         },
         "mode": "lines",
         "name": "infrastructure.mobile_communication_internet",
         "type": "scatter",
         "visible": "legendonly",
         "x": [
          2018,
          2019,
          2020,
          2021,
          2022,
          2023
         ],
         "y": [
          92,
          26,
          887,
          274,
          142,
          133
         ]
        },
        {
         "line": {
          "dash": "solid",
          "width": 3.2
         },
         "mode": "lines",
         "name": "pets_animal_welfare",
         "type": "scatter",
         "visible": true,
         "x": [
          2018,
          2019,
          2020,
          2021,
          2022,
          2023
         ],
         "y": [
          0,
          42,
          812,
          1091,
          800,
          268
         ]
        },
        {
         "line": {
          "dash": "dot",
          "width": 3.2
         },
         "mode": "lines",
         "name": "uae_cities_region",
         "type": "scatter",
         "visible": "legendonly",
         "x": [
          2018,
          2019,
          2020,
          2021,
          2022,
          2023
         ],
         "y": [
          240,
          576,
          3549,
          3656,
          5095,
          3487
         ]
        },
        {
         "line": {
          "dash": "dash",
          "width": 3.2
         },
         "mode": "lines",
         "name": "urban_mobility.traffic_regulations",
         "type": "scatter",
         "visible": "legendonly",
         "x": [
          2018,
          2019,
          2020,
          2021,
          2022,
          2023
         ],
         "y": [
          65,
          42,
          180,
          132,
          83,
          1103
         ]
        },
        {
         "line": {
          "dash": "dashdot",
          "width": 3.2
         },
         "mode": "lines",
         "name": "weather_conditions",
         "type": "scatter",
         "visible": "legendonly",
         "x": [
          2018,
          2019,
          2020,
          2021,
          2022,
          2023
         ],
         "y": [
          92,
          194,
          398,
          717,
          596,
          483
         ]
        }
       ],
       "layout": {
        "autosize": false,
        "height": 550,
        "legend": {
         "title": {
          "text": "Topics"
         },
         "x": 1.03,
         "y": 1
        },
        "template": {
         "data": {
          "bar": [
           {
            "error_x": {
             "color": "#2a3f5f"
            },
            "error_y": {
             "color": "#2a3f5f"
            },
            "marker": {
             "line": {
              "color": "white",
              "width": 0.5
             },
             "pattern": {
              "fillmode": "overlay",
              "size": 10,
              "solidity": 0.2
             }
            },
            "type": "bar"
           }
          ],
          "barpolar": [
           {
            "marker": {
             "line": {
              "color": "white",
              "width": 0.5
             },
             "pattern": {
              "fillmode": "overlay",
              "size": 10,
              "solidity": 0.2
             }
            },
            "type": "barpolar"
           }
          ],
          "carpet": [
           {
            "aaxis": {
             "endlinecolor": "#2a3f5f",
             "gridcolor": "#C8D4E3",
             "linecolor": "#C8D4E3",
             "minorgridcolor": "#C8D4E3",
             "startlinecolor": "#2a3f5f"
            },
            "baxis": {
             "endlinecolor": "#2a3f5f",
             "gridcolor": "#C8D4E3",
             "linecolor": "#C8D4E3",
             "minorgridcolor": "#C8D4E3",
             "startlinecolor": "#2a3f5f"
            },
            "type": "carpet"
           }
          ],
          "choropleth": [
           {
            "colorbar": {
             "outlinewidth": 0,
             "ticks": ""
            },
            "type": "choropleth"
           }
          ],
          "contour": [
           {
            "colorbar": {
             "outlinewidth": 0,
             "ticks": ""
            },
            "colorscale": [
             [
              0,
              "#0d0887"
             ],
             [
              0.1111111111111111,
              "#46039f"
             ],
             [
              0.2222222222222222,
              "#7201a8"
             ],
             [
              0.3333333333333333,
              "#9c179e"
             ],
             [
              0.4444444444444444,
              "#bd3786"
             ],
             [
              0.5555555555555556,
              "#d8576b"
             ],
             [
              0.6666666666666666,
              "#ed7953"
             ],
             [
              0.7777777777777778,
              "#fb9f3a"
             ],
             [
              0.8888888888888888,
              "#fdca26"
             ],
             [
              1,
              "#f0f921"
             ]
            ],
            "type": "contour"
           }
          ],
          "contourcarpet": [
           {
            "colorbar": {
             "outlinewidth": 0,
             "ticks": ""
            },
            "type": "contourcarpet"
           }
          ],
          "heatmap": [
           {
            "colorbar": {
             "outlinewidth": 0,
             "ticks": ""
            },
            "colorscale": [
             [
              0,
              "#0d0887"
             ],
             [
              0.1111111111111111,
              "#46039f"
             ],
             [
              0.2222222222222222,
              "#7201a8"
             ],
             [
              0.3333333333333333,
              "#9c179e"
             ],
             [
              0.4444444444444444,
              "#bd3786"
             ],
             [
              0.5555555555555556,
              "#d8576b"
             ],
             [
              0.6666666666666666,
              "#ed7953"
             ],
             [
              0.7777777777777778,
              "#fb9f3a"
             ],
             [
              0.8888888888888888,
              "#fdca26"
             ],
             [
              1,
              "#f0f921"
             ]
            ],
            "type": "heatmap"
           }
          ],
          "heatmapgl": [
           {
            "colorbar": {
             "outlinewidth": 0,
             "ticks": ""
            },
            "colorscale": [
             [
              0,
              "#0d0887"
             ],
             [
              0.1111111111111111,
              "#46039f"
             ],
             [
              0.2222222222222222,
              "#7201a8"
             ],
             [
              0.3333333333333333,
              "#9c179e"
             ],
             [
              0.4444444444444444,
              "#bd3786"
             ],
             [
              0.5555555555555556,
              "#d8576b"
             ],
             [
              0.6666666666666666,
              "#ed7953"
             ],
             [
              0.7777777777777778,
              "#fb9f3a"
             ],
             [
              0.8888888888888888,
              "#fdca26"
             ],
             [
              1,
              "#f0f921"
             ]
            ],
            "type": "heatmapgl"
           }
          ],
          "histogram": [
           {
            "marker": {
             "pattern": {
              "fillmode": "overlay",
              "size": 10,
              "solidity": 0.2
             }
            },
            "type": "histogram"
           }
          ],
          "histogram2d": [
           {
            "colorbar": {
             "outlinewidth": 0,
             "ticks": ""
            },
            "colorscale": [
             [
              0,
              "#0d0887"
             ],
             [
              0.1111111111111111,
              "#46039f"
             ],
             [
              0.2222222222222222,
              "#7201a8"
             ],
             [
              0.3333333333333333,
              "#9c179e"
             ],
             [
              0.4444444444444444,
              "#bd3786"
             ],
             [
              0.5555555555555556,
              "#d8576b"
             ],
             [
              0.6666666666666666,
              "#ed7953"
             ],
             [
              0.7777777777777778,
              "#fb9f3a"
             ],
             [
              0.8888888888888888,
              "#fdca26"
             ],
             [
              1,
              "#f0f921"
             ]
            ],
            "type": "histogram2d"
           }
          ],
          "histogram2dcontour": [
           {
            "colorbar": {
             "outlinewidth": 0,
             "ticks": ""
            },
            "colorscale": [
             [
              0,
              "#0d0887"
             ],
             [
              0.1111111111111111,
              "#46039f"
             ],
             [
              0.2222222222222222,
              "#7201a8"
             ],
             [
              0.3333333333333333,
              "#9c179e"
             ],
             [
              0.4444444444444444,
              "#bd3786"
             ],
             [
              0.5555555555555556,
              "#d8576b"
             ],
             [
              0.6666666666666666,
              "#ed7953"
             ],
             [
              0.7777777777777778,
              "#fb9f3a"
             ],
             [
              0.8888888888888888,
              "#fdca26"
             ],
             [
              1,
              "#f0f921"
             ]
            ],
            "type": "histogram2dcontour"
           }
          ],
          "mesh3d": [
           {
            "colorbar": {
             "outlinewidth": 0,
             "ticks": ""
            },
            "type": "mesh3d"
           }
          ],
          "parcoords": [
           {
            "line": {
             "colorbar": {
              "outlinewidth": 0,
              "ticks": ""
             }
            },
            "type": "parcoords"
           }
          ],
          "pie": [
           {
            "automargin": true,
            "type": "pie"
           }
          ],
          "scatter": [
           {
            "fillpattern": {
             "fillmode": "overlay",
             "size": 10,
             "solidity": 0.2
            },
            "type": "scatter"
           }
          ],
          "scatter3d": [
           {
            "line": {
             "colorbar": {
              "outlinewidth": 0,
              "ticks": ""
             }
            },
            "marker": {
             "colorbar": {
              "outlinewidth": 0,
              "ticks": ""
             }
            },
            "type": "scatter3d"
           }
          ],
          "scattercarpet": [
           {
            "marker": {
             "colorbar": {
              "outlinewidth": 0,
              "ticks": ""
             }
            },
            "type": "scattercarpet"
           }
          ],
          "scattergeo": [
           {
            "marker": {
             "colorbar": {
              "outlinewidth": 0,
              "ticks": ""
             }
            },
            "type": "scattergeo"
           }
          ],
          "scattergl": [
           {
            "marker": {
             "colorbar": {
              "outlinewidth": 0,
              "ticks": ""
             }
            },
            "type": "scattergl"
           }
          ],
          "scattermapbox": [
           {
            "marker": {
             "colorbar": {
              "outlinewidth": 0,
              "ticks": ""
             }
            },
            "type": "scattermapbox"
           }
          ],
          "scatterpolar": [
           {
            "marker": {
             "colorbar": {
              "outlinewidth": 0,
              "ticks": ""
             }
            },
            "type": "scatterpolar"
           }
          ],
          "scatterpolargl": [
           {
            "marker": {
             "colorbar": {
              "outlinewidth": 0,
              "ticks": ""
             }
            },
            "type": "scatterpolargl"
           }
          ],
          "scatterternary": [
           {
            "marker": {
             "colorbar": {
              "outlinewidth": 0,
              "ticks": ""
             }
            },
            "type": "scatterternary"
           }
          ],
          "surface": [
           {
            "colorbar": {
             "outlinewidth": 0,
             "ticks": ""
            },
            "colorscale": [
             [
              0,
              "#0d0887"
             ],
             [
              0.1111111111111111,
              "#46039f"
             ],
             [
              0.2222222222222222,
              "#7201a8"
             ],
             [
              0.3333333333333333,
              "#9c179e"
             ],
             [
              0.4444444444444444,
              "#bd3786"
             ],
             [
              0.5555555555555556,
              "#d8576b"
             ],
             [
              0.6666666666666666,
              "#ed7953"
             ],
             [
              0.7777777777777778,
              "#fb9f3a"
             ],
             [
              0.8888888888888888,
              "#fdca26"
             ],
             [
              1,
              "#f0f921"
             ]
            ],
            "type": "surface"
           }
          ],
          "table": [
           {
            "cells": {
             "fill": {
              "color": "#EBF0F8"
             },
             "line": {
              "color": "white"
             }
            },
            "header": {
             "fill": {
              "color": "#C8D4E3"
             },
             "line": {
              "color": "white"
             }
            },
            "type": "table"
           }
          ]
         },
         "layout": {
          "annotationdefaults": {
           "arrowcolor": "#2a3f5f",
           "arrowhead": 0,
           "arrowwidth": 1
          },
          "autotypenumbers": "strict",
          "coloraxis": {
           "colorbar": {
            "outlinewidth": 0,
            "ticks": ""
           }
          },
          "colorscale": {
           "diverging": [
            [
             0,
             "#8e0152"
            ],
            [
             0.1,
             "#c51b7d"
            ],
            [
             0.2,
             "#de77ae"
            ],
            [
             0.3,
             "#f1b6da"
            ],
            [
             0.4,
             "#fde0ef"
            ],
            [
             0.5,
             "#f7f7f7"
            ],
            [
             0.6,
             "#e6f5d0"
            ],
            [
             0.7,
             "#b8e186"
            ],
            [
             0.8,
             "#7fbc41"
            ],
            [
             0.9,
             "#4d9221"
            ],
            [
             1,
             "#276419"
            ]
           ],
           "sequential": [
            [
             0,
             "#0d0887"
            ],
            [
             0.1111111111111111,
             "#46039f"
            ],
            [
             0.2222222222222222,
             "#7201a8"
            ],
            [
             0.3333333333333333,
             "#9c179e"
            ],
            [
             0.4444444444444444,
             "#bd3786"
            ],
            [
             0.5555555555555556,
             "#d8576b"
            ],
            [
             0.6666666666666666,
             "#ed7953"
            ],
            [
             0.7777777777777778,
             "#fb9f3a"
            ],
            [
             0.8888888888888888,
             "#fdca26"
            ],
            [
             1,
             "#f0f921"
            ]
           ],
           "sequentialminus": [
            [
             0,
             "#0d0887"
            ],
            [
             0.1111111111111111,
             "#46039f"
            ],
            [
             0.2222222222222222,
             "#7201a8"
            ],
            [
             0.3333333333333333,
             "#9c179e"
            ],
            [
             0.4444444444444444,
             "#bd3786"
            ],
            [
             0.5555555555555556,
             "#d8576b"
            ],
            [
             0.6666666666666666,
             "#ed7953"
            ],
            [
             0.7777777777777778,
             "#fb9f3a"
            ],
            [
             0.8888888888888888,
             "#fdca26"
            ],
            [
             1,
             "#f0f921"
            ]
           ]
          },
          "colorway": [
           "#636efa",
           "#EF553B",
           "#00cc96",
           "#ab63fa",
           "#FFA15A",
           "#19d3f3",
           "#FF6692",
           "#B6E880",
           "#FF97FF",
           "#FECB52"
          ],
          "font": {
           "color": "#2a3f5f"
          },
          "geo": {
           "bgcolor": "white",
           "lakecolor": "white",
           "landcolor": "white",
           "showlakes": true,
           "showland": true,
           "subunitcolor": "#C8D4E3"
          },
          "hoverlabel": {
           "align": "left"
          },
          "hovermode": "closest",
          "mapbox": {
           "style": "light"
          },
          "paper_bgcolor": "white",
          "plot_bgcolor": "white",
          "polar": {
           "angularaxis": {
            "gridcolor": "#EBF0F8",
            "linecolor": "#EBF0F8",
            "ticks": ""
           },
           "bgcolor": "white",
           "radialaxis": {
            "gridcolor": "#EBF0F8",
            "linecolor": "#EBF0F8",
            "ticks": ""
           }
          },
          "scene": {
           "xaxis": {
            "backgroundcolor": "white",
            "gridcolor": "#DFE8F3",
            "gridwidth": 2,
            "linecolor": "#EBF0F8",
            "showbackground": true,
            "ticks": "",
            "zerolinecolor": "#EBF0F8"
           },
           "yaxis": {
            "backgroundcolor": "white",
            "gridcolor": "#DFE8F3",
            "gridwidth": 2,
            "linecolor": "#EBF0F8",
            "showbackground": true,
            "ticks": "",
            "zerolinecolor": "#EBF0F8"
           },
           "zaxis": {
            "backgroundcolor": "white",
            "gridcolor": "#DFE8F3",
            "gridwidth": 2,
            "linecolor": "#EBF0F8",
            "showbackground": true,
            "ticks": "",
            "zerolinecolor": "#EBF0F8"
           }
          },
          "shapedefaults": {
           "line": {
            "color": "#2a3f5f"
           }
          },
          "ternary": {
           "aaxis": {
            "gridcolor": "#DFE8F3",
            "linecolor": "#A2B1C6",
            "ticks": ""
           },
           "baxis": {
            "gridcolor": "#DFE8F3",
            "linecolor": "#A2B1C6",
            "ticks": ""
           },
           "bgcolor": "white",
           "caxis": {
            "gridcolor": "#DFE8F3",
            "linecolor": "#A2B1C6",
            "ticks": ""
           }
          },
          "title": {
           "x": 0.05
          },
          "xaxis": {
           "automargin": true,
           "gridcolor": "#EBF0F8",
           "linecolor": "#EBF0F8",
           "ticks": "",
           "title": {
            "standoff": 15
           },
           "zerolinecolor": "#EBF0F8",
           "zerolinewidth": 2
          },
          "yaxis": {
           "automargin": true,
           "gridcolor": "#EBF0F8",
           "linecolor": "#EBF0F8",
           "ticks": "",
           "title": {
            "standoff": 15
           },
           "zerolinecolor": "#EBF0F8",
           "zerolinewidth": 2
          }
         }
        },
        "title": {
         "text": "Top Topics' Engagement",
         "x": 0.3
        },
        "width": 1200,
        "xaxis": {
         "autorange": true,
         "range": [
          2018,
          2023
         ],
         "showgrid": false,
         "title": {
          "text": "Year"
         },
         "type": "linear",
         "zeroline": false
        },
        "yaxis": {
         "autorange": true,
         "range": [
          -60.611111111111114,
          1151.611111111111
         ],
         "title": {
          "text": "Total Comments"
         },
         "type": "linear"
        }
       }
      },
      "image/png": "[encoded data removed]",
      "text/html": [
       "<div>                            <div id=\"f2e8c87b-69fa-4c3f-9b9f-4b70ce39690f\" class=\"plotly-graph-div\" style=\"height:550px; width:1200px;\"></div>            <script type=\"text/javascript\">                require([\"plotly\"], function(Plotly) {                    window.PLOTLYENV=window.PLOTLYENV || {};                                    if (document.getElementById(\"f2e8c87b-69fa-4c3f-9b9f-4b70ce39690f\")) {                    Plotly.newPlot(                        \"f2e8c87b-69fa-4c3f-9b9f-4b70ce39690f\",                        [{\"mode\":\"lines\",\"name\":\"dining_services.food\",\"x\":[2018,2019,2020,2021,2022,2023],\"y\":[0.0,17.0,640.0,254.0,526.0,1155.0],\"type\":\"scatter\",\"line\":{\"dash\":\"solid\",\"width\":3.2}},{\"mode\":\"lines\",\"name\":\"entertainment\",\"x\":[2018,2019,2020,2021,2022,2023],\"y\":[0.0,65.0,160.0,573.0,1118.0,1314.0],\"type\":\"scatter\",\"line\":{\"dash\":\"dot\",\"width\":3.2}},{\"mode\":\"lines\",\"name\":\"health.covid\",\"x\":[2018,2019,2020,2021,2022,2023],\"y\":[0.0,0.0,1333.0,967.0,100.0,28.0],\"type\":\"scatter\",\"line\":{\"dash\":\"dash\",\"width\":3.2}},{\"mode\":\"lines\",\"name\":\"income\\u002ftax\",\"x\":[2018,2019,2020,2021,2022,2023],\"y\":[23.0,0.0,292.0,0.0,538.0,454.0],\"type\":\"scatter\",\"line\":{\"dash\":\"dashdot\",\"width\":3.2}},{\"mode\":\"lines\",\"name\":\"infrastructure.landmarks\",\"x\":[2018,2019,2020,2021,2022,2023],\"y\":[80.0,208.0,531.0,754.0,816.0,255.0],\"type\":\"scatter\",\"line\":{\"dash\":\"longdash\",\"width\":3.2}},{\"mode\":\"lines\",\"name\":\"infrastructure.mobile_communication_internet\",\"x\":[2018,2019,2020,2021,2022,2023],\"y\":[92.0,26.0,887.0,274.0,142.0,133.0],\"type\":\"scatter\",\"line\":{\"dash\":\"longdashdot\",\"width\":3.2}},{\"mode\":\"lines\",\"name\":\"pets_animal_welfare\",\"x\":[2018,2019,2020,2021,2022,2023],\"y\":[0.0,42.0,812.0,1091.0,800.0,268.0],\"type\":\"scatter\",\"line\":{\"dash\":\"solid\",\"width\":3.2}},{\"mode\":\"lines\",\"name\":\"uae_cities_region\",\"x\":[2018,2019,2020,2021,2022,2023],\"y\":[240.0,576.0,3549.0,3656.0,5095.0,3487.0],\"type\":\"scatter\",\"line\":{\"dash\":\"dot\",\"width\":3.2}},{\"mode\":\"lines\",\"name\":\"urban_mobility.traffic_regulations\",\"x\":[2018,2019,2020,2021,2022,2023],\"y\":[65.0,42.0,180.0,132.0,83.0,1103.0],\"type\":\"scatter\",\"line\":{\"dash\":\"dash\",\"width\":3.2}},{\"mode\":\"lines\",\"name\":\"weather_conditions\",\"x\":[2018,2019,2020,2021,2022,2023],\"y\":[92.0,194.0,398.0,717.0,596.0,483.0],\"type\":\"scatter\",\"line\":{\"dash\":\"dashdot\",\"width\":3.2}}],                        {\"template\":{\"data\":{\"histogram2dcontour\":[{\"type\":\"histogram2dcontour\",\"colorbar\":{\"outlinewidth\":0,\"ticks\":\"\"},\"colorscale\":[[0.0,\"#0d0887\"],[0.1111111111111111,\"#46039f\"],[0.2222222222222222,\"#7201a8\"],[0.3333333333333333,\"#9c179e\"],[0.4444444444444444,\"#bd3786\"],[0.5555555555555556,\"#d8576b\"],[0.6666666666666666,\"#ed7953\"],[0.7777777777777778,\"#fb9f3a\"],[0.8888888888888888,\"#fdca26\"],[1.0,\"#f0f921\"]]}],\"choropleth\":[{\"type\":\"choropleth\",\"colorbar\":{\"outlinewidth\":0,\"ticks\":\"\"}}],\"histogram2d\":[{\"type\":\"histogram2d\",\"colorbar\":{\"outlinewidth\":0,\"ticks\":\"\"},\"colorscale\":[[0.0,\"#0d0887\"],[0.1111111111111111,\"#46039f\"],[0.2222222222222222,\"#7201a8\"],[0.3333333333333333,\"#9c179e\"],[0.4444444444444444,\"#bd3786\"],[0.5555555555555556,\"#d8576b\"],[0.6666666666666666,\"#ed7953\"],[0.7777777777777778,\"#fb9f3a\"],[0.8888888888888888,\"#fdca26\"],[1.0,\"#f0f921\"]]}],\"heatmap\":[{\"type\":\"heatmap\",\"colorbar\":{\"outlinewidth\":0,\"ticks\":\"\"},\"colorscale\":[[0.0,\"#0d0887\"],[0.1111111111111111,\"#46039f\"],[0.2222222222222222,\"#7201a8\"],[0.3333333333333333,\"#9c179e\"],[0.4444444444444444,\"#bd3786\"],[0.5555555555555556,\"#d8576b\"],[0.6666666666666666,\"#ed7953\"],[0.7777777777777778,\"#fb9f3a\"],[0.8888888888888888,\"#fdca26\"],[1.0,\"#f0f921\"]]}],\"heatmapgl\":[{\"type\":\"heatmapgl\",\"colorbar\":{\"outlinewidth\":0,\"ticks\":\"\"},\"colorscale\":[[0.0,\"#0d0887\"],[0.1111111111111111,\"#46039f\"],[0.2222222222222222,\"#7201a8\"],[0.3333333333333333,\"#9c179e\"],[0.4444444444444444,\"#bd3786\"],[0.5555555555555556,\"#d8576b\"],[0.6666666666666666,\"#ed7953\"],[0.7777777777777778,\"#fb9f3a\"],[0.8888888888888888,\"#fdca26\"],[1.0,\"#f0f921\"]]}],\"contourcarpet\":[{\"type\":\"contourcarpet\",\"colorbar\":{\"outlinewidth\":0,\"ticks\":\"\"}}],\"contour\":[{\"type\":\"contour\",\"colorbar\":{\"outlinewidth\":0,\"ticks\":\"\"},\"colorscale\":[[0.0,\"#0d0887\"],[0.1111111111111111,\"#46039f\"],[0.2222222222222222,\"#7201a8\"],[0.3333333333333333,\"#9c179e\"],[0.4444444444444444,\"#bd3786\"],[0.5555555555555556,\"#d8576b\"],[0.6666666666666666,\"#ed7953\"],[0.7777777777777778,\"#fb9f3a\"],[0.8888888888888888,\"#fdca26\"],[1.0,\"#f0f921\"]]}],\"surface\":[{\"type\":\"surface\",\"colorbar\":{\"outlinewidth\":0,\"ticks\":\"\"},\"colorscale\":[[0.0,\"#0d0887\"],[0.1111111111111111,\"#46039f\"],[0.2222222222222222,\"#7201a8\"],[0.3333333333333333,\"#9c179e\"],[0.4444444444444444,\"#bd3786\"],[0.5555555555555556,\"#d8576b\"],[0.6666666666666666,\"#ed7953\"],[0.7777777777777778,\"#fb9f3a\"],[0.8888888888888888,\"#fdca26\"],[1.0,\"#f0f921\"]]}],\"mesh3d\":[{\"type\":\"mesh3d\",\"colorbar\":{\"outlinewidth\":0,\"ticks\":\"\"}}],\"scatter\":[{\"fillpattern\":{\"fillmode\":\"overlay\",\"size\":10,\"solidity\":0.2},\"type\":\"scatter\"}],\"parcoords\":[{\"type\":\"parcoords\",\"line\":{\"colorbar\":{\"outlinewidth\":0,\"ticks\":\"\"}}}],\"scatterpolargl\":[{\"type\":\"scatterpolargl\",\"marker\":{\"colorbar\":{\"outlinewidth\":0,\"ticks\":\"\"}}}],\"bar\":[{\"error_x\":{\"color\":\"#2a3f5f\"},\"error_y\":{\"color\":\"#2a3f5f\"},\"marker\":{\"line\":{\"color\":\"white\",\"width\":0.5},\"pattern\":{\"fillmode\":\"overlay\",\"size\":10,\"solidity\":0.2}},\"type\":\"bar\"}],\"scattergeo\":[{\"type\":\"scattergeo\",\"marker\":{\"colorbar\":{\"outlinewidth\":0,\"ticks\":\"\"}}}],\"scatterpolar\":[{\"type\":\"scatterpolar\",\"marker\":{\"colorbar\":{\"outlinewidth\":0,\"ticks\":\"\"}}}],\"histogram\":[{\"marker\":{\"pattern\":{\"fillmode\":\"overlay\",\"size\":10,\"solidity\":0.2}},\"type\":\"histogram\"}],\"scattergl\":[{\"type\":\"scattergl\",\"marker\":{\"colorbar\":{\"outlinewidth\":0,\"ticks\":\"\"}}}],\"scatter3d\":[{\"type\":\"scatter3d\",\"line\":{\"colorbar\":{\"outlinewidth\":0,\"ticks\":\"\"}},\"marker\":{\"colorbar\":{\"outlinewidth\":0,\"ticks\":\"\"}}}],\"scattermapbox\":[{\"type\":\"scattermapbox\",\"marker\":{\"colorbar\":{\"outlinewidth\":0,\"ticks\":\"\"}}}],\"scatterternary\":[{\"type\":\"scatterternary\",\"marker\":{\"colorbar\":{\"outlinewidth\":0,\"ticks\":\"\"}}}],\"scattercarpet\":[{\"type\":\"scattercarpet\",\"marker\":{\"colorbar\":{\"outlinewidth\":0,\"ticks\":\"\"}}}],\"carpet\":[{\"aaxis\":{\"endlinecolor\":\"#2a3f5f\",\"gridcolor\":\"#C8D4E3\",\"linecolor\":\"#C8D4E3\",\"minorgridcolor\":\"#C8D4E3\",\"startlinecolor\":\"#2a3f5f\"},\"baxis\":{\"endlinecolor\":\"#2a3f5f\",\"gridcolor\":\"#C8D4E3\",\"linecolor\":\"#C8D4E3\",\"minorgridcolor\":\"#C8D4E3\",\"startlinecolor\":\"#2a3f5f\"},\"type\":\"carpet\"}],\"table\":[{\"cells\":{\"fill\":{\"color\":\"#EBF0F8\"},\"line\":{\"color\":\"white\"}},\"header\":{\"fill\":{\"color\":\"#C8D4E3\"},\"line\":{\"color\":\"white\"}},\"type\":\"table\"}],\"barpolar\":[{\"marker\":{\"line\":{\"color\":\"white\",\"width\":0.5},\"pattern\":{\"fillmode\":\"overlay\",\"size\":10,\"solidity\":0.2}},\"type\":\"barpolar\"}],\"pie\":[{\"automargin\":true,\"type\":\"pie\"}]},\"layout\":{\"autotypenumbers\":\"strict\",\"colorway\":[\"#636efa\",\"#EF553B\",\"#00cc96\",\"#ab63fa\",\"#FFA15A\",\"#19d3f3\",\"#FF6692\",\"#B6E880\",\"#FF97FF\",\"#FECB52\"],\"font\":{\"color\":\"#2a3f5f\"},\"hovermode\":\"closest\",\"hoverlabel\":{\"align\":\"left\"},\"paper_bgcolor\":\"white\",\"plot_bgcolor\":\"white\",\"polar\":{\"bgcolor\":\"white\",\"angularaxis\":{\"gridcolor\":\"#EBF0F8\",\"linecolor\":\"#EBF0F8\",\"ticks\":\"\"},\"radialaxis\":{\"gridcolor\":\"#EBF0F8\",\"linecolor\":\"#EBF0F8\",\"ticks\":\"\"}},\"ternary\":{\"bgcolor\":\"white\",\"aaxis\":{\"gridcolor\":\"#DFE8F3\",\"linecolor\":\"#A2B1C6\",\"ticks\":\"\"},\"baxis\":{\"gridcolor\":\"#DFE8F3\",\"linecolor\":\"#A2B1C6\",\"ticks\":\"\"},\"caxis\":{\"gridcolor\":\"#DFE8F3\",\"linecolor\":\"#A2B1C6\",\"ticks\":\"\"}},\"coloraxis\":{\"colorbar\":{\"outlinewidth\":0,\"ticks\":\"\"}},\"colorscale\":{\"sequential\":[[0.0,\"#0d0887\"],[0.1111111111111111,\"#46039f\"],[0.2222222222222222,\"#7201a8\"],[0.3333333333333333,\"#9c179e\"],[0.4444444444444444,\"#bd3786\"],[0.5555555555555556,\"#d8576b\"],[0.6666666666666666,\"#ed7953\"],[0.7777777777777778,\"#fb9f3a\"],[0.8888888888888888,\"#fdca26\"],[1.0,\"#f0f921\"]],\"sequentialminus\":[[0.0,\"#0d0887\"],[0.1111111111111111,\"#46039f\"],[0.2222222222222222,\"#7201a8\"],[0.3333333333333333,\"#9c179e\"],[0.4444444444444444,\"#bd3786\"],[0.5555555555555556,\"#d8576b\"],[0.6666666666666666,\"#ed7953\"],[0.7777777777777778,\"#fb9f3a\"],[0.8888888888888888,\"#fdca26\"],[1.0,\"#f0f921\"]],\"diverging\":[[0,\"#8e0152\"],[0.1,\"#c51b7d\"],[0.2,\"#de77ae\"],[0.3,\"#f1b6da\"],[0.4,\"#fde0ef\"],[0.5,\"#f7f7f7\"],[0.6,\"#e6f5d0\"],[0.7,\"#b8e186\"],[0.8,\"#7fbc41\"],[0.9,\"#4d9221\"],[1,\"#276419\"]]},\"xaxis\":{\"gridcolor\":\"#EBF0F8\",\"linecolor\":\"#EBF0F8\",\"ticks\":\"\",\"title\":{\"standoff\":15},\"zerolinecolor\":\"#EBF0F8\",\"automargin\":true,\"zerolinewidth\":2},\"yaxis\":{\"gridcolor\":\"#EBF0F8\",\"linecolor\":\"#EBF0F8\",\"ticks\":\"\",\"title\":{\"standoff\":15},\"zerolinecolor\":\"#EBF0F8\",\"automargin\":true,\"zerolinewidth\":2},\"scene\":{\"xaxis\":{\"backgroundcolor\":\"white\",\"gridcolor\":\"#DFE8F3\",\"linecolor\":\"#EBF0F8\",\"showbackground\":true,\"ticks\":\"\",\"zerolinecolor\":\"#EBF0F8\",\"gridwidth\":2},\"yaxis\":{\"backgroundcolor\":\"white\",\"gridcolor\":\"#DFE8F3\",\"linecolor\":\"#EBF0F8\",\"showbackground\":true,\"ticks\":\"\",\"zerolinecolor\":\"#EBF0F8\",\"gridwidth\":2},\"zaxis\":{\"backgroundcolor\":\"white\",\"gridcolor\":\"#DFE8F3\",\"linecolor\":\"#EBF0F8\",\"showbackground\":true,\"ticks\":\"\",\"zerolinecolor\":\"#EBF0F8\",\"gridwidth\":2}},\"shapedefaults\":{\"line\":{\"color\":\"#2a3f5f\"}},\"annotationdefaults\":{\"arrowcolor\":\"#2a3f5f\",\"arrowhead\":0,\"arrowwidth\":1},\"geo\":{\"bgcolor\":\"white\",\"landcolor\":\"white\",\"subunitcolor\":\"#C8D4E3\",\"showland\":true,\"showlakes\":true,\"lakecolor\":\"white\"},\"title\":{\"x\":0.05},\"mapbox\":{\"style\":\"light\"}}},\"title\":{\"text\":\"Top Topics' Engagement\",\"x\":0.3},\"legend\":{\"title\":{\"text\":\"Topics\"},\"x\":1.03},\"xaxis\":{\"title\":{\"text\":\"Year\"},\"showgrid\":false,\"zeroline\":false},\"yaxis\":{\"title\":{\"text\":\"Total Comments\"}},\"width\":1200,\"height\":550,\"autosize\":false},                        {\"responsive\": true}                    ).then(function(){\n",
       "                            \n",
       "var gd = document.getElementById('f2e8c87b-69fa-4c3f-9b9f-4b70ce39690f');\n",
       "var x = new MutationObserver(function (mutations, observer) {{\n",
       "        var display = window.getComputedStyle(gd).display;\n",
       "        if (!display || display === 'none') {{\n",
       "            console.log([gd, 'removed!']);\n",
       "            Plotly.purge(gd);\n",
       "            observer.disconnect();\n",
       "        }}\n",
       "}});\n",
       "\n",
       "// Listen for the removal of the full notebook cells\n",
       "var notebookContainer = gd.closest('#notebook-container');\n",
       "if (notebookContainer) {{\n",
       "    x.observe(notebookContainer, {childList: true});\n",
       "}}\n",
       "\n",
       "// Listen for the clearing of the current output cell\n",
       "var outputEl = gd.closest('.output');\n",
       "if (outputEl) {{\n",
       "    x.observe(outputEl, {childList: true});\n",
       "}}\n",
       "\n",
       "                        })                };                });            </script>        </div>"
      ]
     },
     "metadata": {},
     "output_type": "display_data"
    }
   ],
   "source": [
    "#data to plot\n",
    "top_comments_data = df[df['human_labels'].isin(top_comments.index)]\n",
    "\n",
    "comments = top_comments_data.groupby(['year','human_labels'])['Total Comments'].sum().unstack().fillna(0)\n",
    "\n",
    "#create figure\n",
    "fig = go.Figure()\n",
    "\n",
    "#linestyles for each topic\n",
    "line_styles = ['solid', 'dot', 'dash', 'dashdot', 'longdash', 'longdashdot']\n",
    "\n",
    "#plot line graphs\n",
    "for idx,topic in enumerate(comments.columns):\n",
    "    fig.add_trace(go.Scatter(x = comments.index, y = comments[topic], mode = 'lines', name = topic))\n",
    "\n",
    "for idx,trace in enumerate(fig.data):\n",
    "    trace.update(line=dict(dash=line_styles[idx % len(line_styles)]))\n",
    "    \n",
    "fig.update_traces(patch = {'line':{'width':3.2}})\n",
    "# update the figure\n",
    "fig.update_layout(\n",
    "    title={\"text\": \"Top Topics' Engagement\", \"x\": 0.3},  # add title and center it\n",
    "    xaxis_title=\"Year\",  # add x_axix label\n",
    "    yaxis_title=\"Total Comments\",\n",
    "    legend=dict(title =\"Topics\",x=1.03),  # add legend title\n",
    "    xaxis_showgrid=False,  # remove x_axis grid lines\n",
    "    xaxis=dict(zeroline=False),\n",
    "    width=1200,\n",
    "    height=550,\n",
    "    autosize=False\n",
    ")\n",
    "\n",
    "fig.show()"
   ]
  },
  {
   "cell_type": "markdown",
   "id": "f40fe007-836c-4ea6-b706-b8d3f654f794",
   "metadata": {},
   "source": [
    "## **LOAD MODEL AND CORPUS**"
   ]
  },
  {
   "cell_type": "code",
   "execution_count": 31,
   "id": "c74c4cfb-08a9-4a42-85c2-af3eb7f2688a",
   "metadata": {},
   "outputs": [],
   "source": [
    "model = LdaModel.load(\"../topic_modelling/lda_model_1\")"
   ]
  },
  {
   "cell_type": "code",
   "execution_count": 35,
   "id": "372a0e61-f775-44d1-9d15-bbd717de497c",
   "metadata": {},
   "outputs": [
    {
     "name": "stdout",
     "output_type": "stream",
     "text": [
      "Number of unique tokens: 5000\n",
      "Number of documents: 65987\n"
     ]
    }
   ],
   "source": [
    "#convert df['tokens'] to list of strings for bag-of-words model\n",
    "docs = data['tokens'].tolist()\n",
    "\n",
    "#from gensim bag of words documentation page\n",
    "\n",
    "# Add bigrams and trigrams to docs (only ones that appear 20 times or more).\n",
    "bigram = Phrases(docs, min_count=20)\n",
    "for idx in range(len(docs)):\n",
    "    for token in bigram[docs[idx]]:\n",
    "        if '_' in token:\n",
    "            # Token is a bigram, add to document.\n",
    "            docs[idx].append(token)\n",
    "\n",
    "# Create a dictionary representation of the documents.\n",
    "dictionary = corpora.Dictionary(docs)\n",
    "\n",
    "# Filter out words that occur less than 20 documents, or more than 50% of the documents.\n",
    "dictionary.filter_extremes(no_below=20, no_above=0.5)\n",
    "\n",
    "# Bag-of-words representation of the documents.\n",
    "corpus = [dictionary.doc2bow(doc) for doc in docs]\n",
    "\n",
    "print('Number of unique tokens: %d' % len(dictionary))\n",
    "print('Number of documents: %d' % len(corpus))"
   ]
  },
  {
   "cell_type": "code",
   "execution_count": 36,
   "id": "1b554957-7c55-4145-86ed-2e9ff1b7764b",
   "metadata": {
    "tags": []
   },
   "outputs": [
    {
     "data": {
      "text/plain": [
       "[(0,\n",
       "  '0.026*\"police\" + 0.015*\"building\" + 0.014*\"family\" + 0.012*\"parent\" + 0.012*\"wife\" + 0.011*\"area\" + 0.011*\"parking\" + 0.011*\"metro\" + 0.011*\"child\" + 0.010*\"station\"'),\n",
       " (1,\n",
       "  '0.039*\"visa\" + 0.021*\"card\" + 0.014*\"apply\" + 0.013*\"bank\" + 0.013*\"visit\" + 0.013*\"travel\" + 0.012*\"website\" + 0.010*\"book\" + 0.010*\"plan\" + 0.010*\"cancel\"'),\n",
       " (2,\n",
       "  '0.017*\"price\" + 0.017*\"buy\" + 0.016*\"salary\" + 0.015*\"cost\" + 0.014*\"rent\" + 0.012*\"property\" + 0.012*\"market\" + 0.010*\"aed\" + 0.010*\"sell\" + 0.009*\"offer\"'),\n",
       " (3,\n",
       "  '0.020*\"law\" + 0.018*\"government\" + 0.016*\"local\" + 0.014*\"muslim\" + 0.011*\"culture\" + 0.011*\"arab\" + 0.010*\"rule\" + 0.009*\"community\" + 0.009*\"expat\" + 0.008*\"citizenship\"'),\n",
       " (4,\n",
       "  '0.036*\"covid\" + 0.030*\"test\" + 0.024*\"fine\" + 0.013*\"vaccine\" + 0.012*\"worker\" + 0.012*\"stop\" + 0.012*\"mask\" + 0.010*\"medical\" + 0.010*\"hospital\" + 0.010*\"pandemic\"'),\n",
       " (5,\n",
       "  '0.036*\"food\" + 0.027*\"order\" + 0.024*\"buy\" + 0.022*\"restaurant\" + 0.022*\"tip\" + 0.022*\"service\" + 0.021*\"delivery\" + 0.013*\"noon\" + 0.011*\"amazon\" + 0.011*\"customer\"'),\n",
       " (6,\n",
       "  '0.053*\"drive\" + 0.035*\"road\" + 0.028*\"lane\" + 0.017*\"fast\" + 0.017*\"speed\" + 0.015*\"pass\" + 0.015*\"light\" + 0.014*\"traffic\" + 0.012*\"driver\" + 0.011*\"vehicle\"'),\n",
       " (7,\n",
       "  '0.023*\"water\" + 0.014*\"beach\" + 0.013*\"movie\" + 0.013*\"summer\" + 0.013*\"cat\" + 0.013*\"ban\" + 0.011*\"hot\" + 0.011*\"taste\" + 0.010*\"chicken\" + 0.010*\"dog\"'),\n",
       " (8,\n",
       "  '0.015*\"indian\" + 0.015*\"arabic\" + 0.012*\"middle\" + 0.011*\"passport\" + 0.010*\"school\" + 0.010*\"university\" + 0.009*\"language\" + 0.008*\"canada\" + 0.008*\"nationality\" + 0.008*\"europe\"'),\n",
       " (9,\n",
       "  '0.019*\"night\" + 0.018*\"mall\" + 0.016*\"walk\" + 0.014*\"hotel\" + 0.011*\"room\" + 0.011*\"area\" + 0.010*\"drink\" + 0.008*\"visit\" + 0.008*\"marina\" + 0.008*\"social\"')]"
      ]
     },
     "execution_count": 36,
     "metadata": {},
     "output_type": "execute_result"
    }
   ],
   "source": [
    "model.print_topics()"
   ]
  },
  {
   "cell_type": "code",
   "execution_count": 67,
   "id": "7dc70162-24b5-4428-b73d-939dcdee9ad6",
   "metadata": {},
   "outputs": [],
   "source": [
    "#topic label\n",
    "\n",
    "topic_label ={\n",
    "    0: \"infrastructure\",\n",
    "    1: \"travel\",\n",
    "    2: \"accomodation and rental\",\n",
    "    3: \"locals and culture\",\n",
    "    4: \"covid\",\n",
    "    5: \"food and dining\",\n",
    "    6: \"driving and road safety\",\n",
    "    7: \"weather and outdoors\",\n",
    "    8: \"education and educational facilities\",\n",
    "    9: \"entertainment and recreation\"\n",
    "    \n",
    "}"
   ]
  },
  {
   "cell_type": "code",
   "execution_count": 68,
   "id": "bbe2174f-5d87-4a05-a411-c108750aba45",
   "metadata": {},
   "outputs": [
    {
     "data": {
      "text/html": [
       "<div>\n",
       "<style scoped>\n",
       "    .dataframe tbody tr th:only-of-type {\n",
       "        vertical-align: middle;\n",
       "    }\n",
       "\n",
       "    .dataframe tbody tr th {\n",
       "        vertical-align: top;\n",
       "    }\n",
       "\n",
       "    .dataframe thead th {\n",
       "        text-align: right;\n",
       "    }\n",
       "</style>\n",
       "<table border=\"1\" class=\"dataframe\">\n",
       "  <thead>\n",
       "    <tr style=\"text-align: right;\">\n",
       "      <th></th>\n",
       "      <th>topic</th>\n",
       "      <th>words</th>\n",
       "      <th>label</th>\n",
       "    </tr>\n",
       "  </thead>\n",
       "  <tbody>\n",
       "    <tr>\n",
       "      <th>0</th>\n",
       "      <td>0</td>\n",
       "      <td>[police, building, family, parent, wife, area,...</td>\n",
       "      <td>infrastructure</td>\n",
       "    </tr>\n",
       "    <tr>\n",
       "      <th>1</th>\n",
       "      <td>1</td>\n",
       "      <td>[visa, card, apply, bank, visit, travel, websi...</td>\n",
       "      <td>travel</td>\n",
       "    </tr>\n",
       "    <tr>\n",
       "      <th>2</th>\n",
       "      <td>2</td>\n",
       "      <td>[price, buy, salary, cost, rent, property, mar...</td>\n",
       "      <td>accomodation and rental</td>\n",
       "    </tr>\n",
       "    <tr>\n",
       "      <th>3</th>\n",
       "      <td>3</td>\n",
       "      <td>[law, government, local, muslim, culture, arab...</td>\n",
       "      <td>locals and culture</td>\n",
       "    </tr>\n",
       "    <tr>\n",
       "      <th>4</th>\n",
       "      <td>4</td>\n",
       "      <td>[covid, test, fine, vaccine, worker, stop, mas...</td>\n",
       "      <td>covid</td>\n",
       "    </tr>\n",
       "    <tr>\n",
       "      <th>5</th>\n",
       "      <td>5</td>\n",
       "      <td>[food, order, buy, restaurant, tip, service, d...</td>\n",
       "      <td>food and dining</td>\n",
       "    </tr>\n",
       "    <tr>\n",
       "      <th>6</th>\n",
       "      <td>6</td>\n",
       "      <td>[drive, road, lane, fast, speed, pass, light, ...</td>\n",
       "      <td>driving and road safety</td>\n",
       "    </tr>\n",
       "    <tr>\n",
       "      <th>7</th>\n",
       "      <td>7</td>\n",
       "      <td>[water, beach, movie, summer, cat, ban, hot, t...</td>\n",
       "      <td>weather and outdoors</td>\n",
       "    </tr>\n",
       "    <tr>\n",
       "      <th>8</th>\n",
       "      <td>8</td>\n",
       "      <td>[indian, arabic, middle, passport, school, uni...</td>\n",
       "      <td>education and educational facilities</td>\n",
       "    </tr>\n",
       "    <tr>\n",
       "      <th>9</th>\n",
       "      <td>9</td>\n",
       "      <td>[night, mall, walk, hotel, room, area, drink, ...</td>\n",
       "      <td>entertainment and recreation</td>\n",
       "    </tr>\n",
       "  </tbody>\n",
       "</table>\n",
       "</div>"
      ],
      "text/plain": [
       "   topic                                              words  \\\n",
       "0      0  [police, building, family, parent, wife, area,...   \n",
       "1      1  [visa, card, apply, bank, visit, travel, websi...   \n",
       "2      2  [price, buy, salary, cost, rent, property, mar...   \n",
       "3      3  [law, government, local, muslim, culture, arab...   \n",
       "4      4  [covid, test, fine, vaccine, worker, stop, mas...   \n",
       "5      5  [food, order, buy, restaurant, tip, service, d...   \n",
       "6      6  [drive, road, lane, fast, speed, pass, light, ...   \n",
       "7      7  [water, beach, movie, summer, cat, ban, hot, t...   \n",
       "8      8  [indian, arabic, middle, passport, school, uni...   \n",
       "9      9  [night, mall, walk, hotel, room, area, drink, ...   \n",
       "\n",
       "                                  label  \n",
       "0                        infrastructure  \n",
       "1                                travel  \n",
       "2               accomodation and rental  \n",
       "3                    locals and culture  \n",
       "4                                 covid  \n",
       "5                       food and dining  \n",
       "6               driving and road safety  \n",
       "7                  weather and outdoors  \n",
       "8  education and educational facilities  \n",
       "9          entertainment and recreation  "
      ]
     },
     "execution_count": 68,
     "metadata": {},
     "output_type": "execute_result"
    }
   ],
   "source": [
    "#dataset of topcis and topic representation\n",
    "num_topics = model.num_topics\n",
    "\n",
    "topics_words = []\n",
    "\n",
    "for topic in range(num_topics):\n",
    "    topic_words = model.show_topic(topic, topn = 10)\n",
    "    words = [word[0] for word in topic_words]\n",
    "    topics_words.append({\"topic\": topic, \"words\": words, \"label\":topic_label[topic]})\n",
    "    \n",
    "\n",
    "#create a dataframe\n",
    "topics_df = pd.DataFrame(topics_words)\n",
    "\n",
    "topics_df\n",
    "    \n"
   ]
  },
  {
   "cell_type": "code",
   "execution_count": 45,
   "id": "2e89b927-9356-496f-a6b9-1397a805b70d",
   "metadata": {
    "tags": []
   },
   "outputs": [],
   "source": [
    "#include column for most probable topic for each entry\n",
    "\n",
    "top_topic_per_document = []\n",
    "\n",
    "for doc in corpus:\n",
    "    topics = model.get_document_topics(doc)\n",
    "    top_topic = sorted(topics, key=lambda x: x[1], reverse = True)[0][0]\n",
    "    top_topic_per_document.append(top_topic)\n",
    "    \n",
    "#add column to data dataframe for the selected topic\n",
    "data['top_topic'] = top_topic_per_document    "
   ]
  },
  {
   "cell_type": "code",
   "execution_count": 74,
   "id": "8d909e47-32fa-4c34-b3cb-e344159b7648",
   "metadata": {},
   "outputs": [
    {
     "data": {
      "text/html": [
       "<div>\n",
       "<style scoped>\n",
       "    .dataframe tbody tr th:only-of-type {\n",
       "        vertical-align: middle;\n",
       "    }\n",
       "\n",
       "    .dataframe tbody tr th {\n",
       "        vertical-align: top;\n",
       "    }\n",
       "\n",
       "    .dataframe thead th {\n",
       "        text-align: right;\n",
       "    }\n",
       "</style>\n",
       "<table border=\"1\" class=\"dataframe\">\n",
       "  <thead>\n",
       "    <tr style=\"text-align: right;\">\n",
       "      <th></th>\n",
       "      <th>text_type</th>\n",
       "      <th>ID</th>\n",
       "      <th>date_created</th>\n",
       "      <th>year</th>\n",
       "      <th>long_text</th>\n",
       "      <th>clean_text</th>\n",
       "      <th>tokens</th>\n",
       "      <th>word_count</th>\n",
       "      <th>top_topic</th>\n",
       "      <th>topic</th>\n",
       "      <th>words</th>\n",
       "      <th>label</th>\n",
       "    </tr>\n",
       "  </thead>\n",
       "  <tbody>\n",
       "    <tr>\n",
       "      <th>0</th>\n",
       "      <td>comment</td>\n",
       "      <td>gtfou07</td>\n",
       "      <td>2021-04-05 13:13:23</td>\n",
       "      <td>2021</td>\n",
       "      <td>I am single and I have not traveled to any cun...</td>\n",
       "      <td>single travel past</td>\n",
       "      <td>[single, travel, past]</td>\n",
       "      <td>3</td>\n",
       "      <td>9</td>\n",
       "      <td>9</td>\n",
       "      <td>[night, mall, walk, hotel, room, area, drink, ...</td>\n",
       "      <td>entertainment and recreation</td>\n",
       "    </tr>\n",
       "    <tr>\n",
       "      <th>1</th>\n",
       "      <td>comment</td>\n",
       "      <td>gtgfl4c</td>\n",
       "      <td>2021-04-05 18:21:42</td>\n",
       "      <td>2021</td>\n",
       "      <td>Is reel cinema and roxy part of emaar?</td>\n",
       "      <td>reel cinema roxy emaar</td>\n",
       "      <td>[reel, cinema, roxy, emaar]</td>\n",
       "      <td>4</td>\n",
       "      <td>9</td>\n",
       "      <td>9</td>\n",
       "      <td>[night, mall, walk, hotel, room, area, drink, ...</td>\n",
       "      <td>entertainment and recreation</td>\n",
       "    </tr>\n",
       "    <tr>\n",
       "      <th>2</th>\n",
       "      <td>comment</td>\n",
       "      <td>gtfs2hs</td>\n",
       "      <td>2021-04-05 14:05:30</td>\n",
       "      <td>2021</td>\n",
       "      <td>Really? In springs souk? I never noticed it be...</td>\n",
       "      <td>souk cinema covid</td>\n",
       "      <td>[souk, cinema, covid]</td>\n",
       "      <td>3</td>\n",
       "      <td>9</td>\n",
       "      <td>9</td>\n",
       "      <td>[night, mall, walk, hotel, room, area, drink, ...</td>\n",
       "      <td>entertainment and recreation</td>\n",
       "    </tr>\n",
       "    <tr>\n",
       "      <th>3</th>\n",
       "      <td>comment</td>\n",
       "      <td>gtghuux</td>\n",
       "      <td>2021-04-05 18:40:31</td>\n",
       "      <td>2021</td>\n",
       "      <td>Reel cinema is, dont know of roxy</td>\n",
       "      <td>reel cinema roxy</td>\n",
       "      <td>[reel, cinema, roxy]</td>\n",
       "      <td>3</td>\n",
       "      <td>9</td>\n",
       "      <td>9</td>\n",
       "      <td>[night, mall, walk, hotel, room, area, drink, ...</td>\n",
       "      <td>entertainment and recreation</td>\n",
       "    </tr>\n",
       "    <tr>\n",
       "      <th>4</th>\n",
       "      <td>comment</td>\n",
       "      <td>gth2mea</td>\n",
       "      <td>2021-04-05 21:18:14</td>\n",
       "      <td>2021</td>\n",
       "      <td>It’s a simple “joke” but I couldn’t resist. In...</td>\n",
       "      <td>resist mildly amusing misspell language offens...</td>\n",
       "      <td>[resist, mildly, amusing, misspell, language, ...</td>\n",
       "      <td>9</td>\n",
       "      <td>9</td>\n",
       "      <td>9</td>\n",
       "      <td>[night, mall, walk, hotel, room, area, drink, ...</td>\n",
       "      <td>entertainment and recreation</td>\n",
       "    </tr>\n",
       "    <tr>\n",
       "      <th>...</th>\n",
       "      <td>...</td>\n",
       "      <td>...</td>\n",
       "      <td>...</td>\n",
       "      <td>...</td>\n",
       "      <td>...</td>\n",
       "      <td>...</td>\n",
       "      <td>...</td>\n",
       "      <td>...</td>\n",
       "      <td>...</td>\n",
       "      <td>...</td>\n",
       "      <td>...</td>\n",
       "      <td>...</td>\n",
       "    </tr>\n",
       "    <tr>\n",
       "      <th>65982</th>\n",
       "      <td>submission</td>\n",
       "      <td>14d6x2j</td>\n",
       "      <td>2023-06-19 10:47:32</td>\n",
       "      <td>2023</td>\n",
       "      <td>Eid Al Adha 2023 holidays announced for privat...</td>\n",
       "      <td>eid holiday announce private sector</td>\n",
       "      <td>[eid, holiday, announce, private, sector, priv...</td>\n",
       "      <td>5</td>\n",
       "      <td>3</td>\n",
       "      <td>3</td>\n",
       "      <td>[law, government, local, muslim, culture, arab...</td>\n",
       "      <td>locals and culture</td>\n",
       "    </tr>\n",
       "    <tr>\n",
       "      <th>65983</th>\n",
       "      <td>submission</td>\n",
       "      <td>14dk6mw</td>\n",
       "      <td>2023-06-19 21:02:21</td>\n",
       "      <td>2023</td>\n",
       "      <td>newspaper/website recommendations for local ec...</td>\n",
       "      <td>newspaper website local economic spam trust ec...</td>\n",
       "      <td>[newspaper, website, local, economic, spam, tr...</td>\n",
       "      <td>9</td>\n",
       "      <td>3</td>\n",
       "      <td>3</td>\n",
       "      <td>[law, government, local, muslim, culture, arab...</td>\n",
       "      <td>locals and culture</td>\n",
       "    </tr>\n",
       "    <tr>\n",
       "      <th>65984</th>\n",
       "      <td>submission</td>\n",
       "      <td>14dfnr1</td>\n",
       "      <td>2023-06-19 18:07:20</td>\n",
       "      <td>2023</td>\n",
       "      <td>Custom patches  Newbie here. do you guys know ...</td>\n",
       "      <td>custom patch newbie patch custom logo</td>\n",
       "      <td>[custom, patch, newbie, patch, custom, logo]</td>\n",
       "      <td>6</td>\n",
       "      <td>3</td>\n",
       "      <td>3</td>\n",
       "      <td>[law, government, local, muslim, culture, arab...</td>\n",
       "      <td>locals and culture</td>\n",
       "    </tr>\n",
       "    <tr>\n",
       "      <th>65985</th>\n",
       "      <td>submission</td>\n",
       "      <td>14csv18</td>\n",
       "      <td>2023-06-18 23:31:06</td>\n",
       "      <td>2023</td>\n",
       "      <td>BEIN Channels no longer available on e&amp;amp; (e...</td>\n",
       "      <td>channel amp etisalat temporary permanent disco...</td>\n",
       "      <td>[channel, amp, etisalat, temporary, permanent,...</td>\n",
       "      <td>8</td>\n",
       "      <td>3</td>\n",
       "      <td>3</td>\n",
       "      <td>[law, government, local, muslim, culture, arab...</td>\n",
       "      <td>locals and culture</td>\n",
       "    </tr>\n",
       "    <tr>\n",
       "      <th>65986</th>\n",
       "      <td>submission</td>\n",
       "      <td>14cfztg</td>\n",
       "      <td>2023-06-18 13:21:44</td>\n",
       "      <td>2023</td>\n",
       "      <td>Nearly two thirds of Emirati graduates interes...</td>\n",
       "      <td>nearly emirati graduate private sector</td>\n",
       "      <td>[nearly, emirati, graduate, private, sector, p...</td>\n",
       "      <td>5</td>\n",
       "      <td>3</td>\n",
       "      <td>3</td>\n",
       "      <td>[law, government, local, muslim, culture, arab...</td>\n",
       "      <td>locals and culture</td>\n",
       "    </tr>\n",
       "  </tbody>\n",
       "</table>\n",
       "<p>65987 rows × 12 columns</p>\n",
       "</div>"
      ],
      "text/plain": [
       "        text_type       ID         date_created  year  \\\n",
       "0         comment  gtfou07  2021-04-05 13:13:23  2021   \n",
       "1         comment  gtgfl4c  2021-04-05 18:21:42  2021   \n",
       "2         comment  gtfs2hs  2021-04-05 14:05:30  2021   \n",
       "3         comment  gtghuux  2021-04-05 18:40:31  2021   \n",
       "4         comment  gth2mea  2021-04-05 21:18:14  2021   \n",
       "...           ...      ...                  ...   ...   \n",
       "65982  submission  14d6x2j  2023-06-19 10:47:32  2023   \n",
       "65983  submission  14dk6mw  2023-06-19 21:02:21  2023   \n",
       "65984  submission  14dfnr1  2023-06-19 18:07:20  2023   \n",
       "65985  submission  14csv18  2023-06-18 23:31:06  2023   \n",
       "65986  submission  14cfztg  2023-06-18 13:21:44  2023   \n",
       "\n",
       "                                               long_text  \\\n",
       "0      I am single and I have not traveled to any cun...   \n",
       "1                 Is reel cinema and roxy part of emaar?   \n",
       "2      Really? In springs souk? I never noticed it be...   \n",
       "3                      Reel cinema is, dont know of roxy   \n",
       "4      It’s a simple “joke” but I couldn’t resist. In...   \n",
       "...                                                  ...   \n",
       "65982  Eid Al Adha 2023 holidays announced for privat...   \n",
       "65983  newspaper/website recommendations for local ec...   \n",
       "65984  Custom patches  Newbie here. do you guys know ...   \n",
       "65985  BEIN Channels no longer available on e&amp; (e...   \n",
       "65986  Nearly two thirds of Emirati graduates interes...   \n",
       "\n",
       "                                              clean_text  \\\n",
       "0                                     single travel past   \n",
       "1                                 reel cinema roxy emaar   \n",
       "2                                      souk cinema covid   \n",
       "3                                       reel cinema roxy   \n",
       "4      resist mildly amusing misspell language offens...   \n",
       "...                                                  ...   \n",
       "65982                eid holiday announce private sector   \n",
       "65983  newspaper website local economic spam trust ec...   \n",
       "65984              custom patch newbie patch custom logo   \n",
       "65985  channel amp etisalat temporary permanent disco...   \n",
       "65986             nearly emirati graduate private sector   \n",
       "\n",
       "                                                  tokens  word_count  \\\n",
       "0                                 [single, travel, past]           3   \n",
       "1                            [reel, cinema, roxy, emaar]           4   \n",
       "2                                  [souk, cinema, covid]           3   \n",
       "3                                   [reel, cinema, roxy]           3   \n",
       "4      [resist, mildly, amusing, misspell, language, ...           9   \n",
       "...                                                  ...         ...   \n",
       "65982  [eid, holiday, announce, private, sector, priv...           5   \n",
       "65983  [newspaper, website, local, economic, spam, tr...           9   \n",
       "65984       [custom, patch, newbie, patch, custom, logo]           6   \n",
       "65985  [channel, amp, etisalat, temporary, permanent,...           8   \n",
       "65986  [nearly, emirati, graduate, private, sector, p...           5   \n",
       "\n",
       "       top_topic  topic                                              words  \\\n",
       "0              9      9  [night, mall, walk, hotel, room, area, drink, ...   \n",
       "1              9      9  [night, mall, walk, hotel, room, area, drink, ...   \n",
       "2              9      9  [night, mall, walk, hotel, room, area, drink, ...   \n",
       "3              9      9  [night, mall, walk, hotel, room, area, drink, ...   \n",
       "4              9      9  [night, mall, walk, hotel, room, area, drink, ...   \n",
       "...          ...    ...                                                ...   \n",
       "65982          3      3  [law, government, local, muslim, culture, arab...   \n",
       "65983          3      3  [law, government, local, muslim, culture, arab...   \n",
       "65984          3      3  [law, government, local, muslim, culture, arab...   \n",
       "65985          3      3  [law, government, local, muslim, culture, arab...   \n",
       "65986          3      3  [law, government, local, muslim, culture, arab...   \n",
       "\n",
       "                              label  \n",
       "0      entertainment and recreation  \n",
       "1      entertainment and recreation  \n",
       "2      entertainment and recreation  \n",
       "3      entertainment and recreation  \n",
       "4      entertainment and recreation  \n",
       "...                             ...  \n",
       "65982            locals and culture  \n",
       "65983            locals and culture  \n",
       "65984            locals and culture  \n",
       "65985            locals and culture  \n",
       "65986            locals and culture  \n",
       "\n",
       "[65987 rows x 12 columns]"
      ]
     },
     "execution_count": 74,
     "metadata": {},
     "output_type": "execute_result"
    }
   ],
   "source": [
    "#merge topic label data dataframes\n",
    "\n",
    "full_df = pd.merge(data, topics_df, left_on = \"top_topic\", right_on = 'topic')\n",
    "full_df"
   ]
  },
  {
   "cell_type": "code",
   "execution_count": 78,
   "id": "662bce0c-0071-4970-a28b-8986d7a7347c",
   "metadata": {},
   "outputs": [
    {
     "data": {
      "text/html": [
       "<div>\n",
       "<style scoped>\n",
       "    .dataframe tbody tr th:only-of-type {\n",
       "        vertical-align: middle;\n",
       "    }\n",
       "\n",
       "    .dataframe tbody tr th {\n",
       "        vertical-align: top;\n",
       "    }\n",
       "\n",
       "    .dataframe thead th {\n",
       "        text-align: right;\n",
       "    }\n",
       "</style>\n",
       "<table border=\"1\" class=\"dataframe\">\n",
       "  <thead>\n",
       "    <tr style=\"text-align: right;\">\n",
       "      <th></th>\n",
       "      <th>text_type</th>\n",
       "      <th>ID</th>\n",
       "      <th>date_created</th>\n",
       "      <th>year</th>\n",
       "      <th>long_text</th>\n",
       "      <th>clean_text</th>\n",
       "      <th>tokens</th>\n",
       "      <th>word_count</th>\n",
       "      <th>top_topic</th>\n",
       "      <th>topic</th>\n",
       "      <th>words</th>\n",
       "      <th>label</th>\n",
       "    </tr>\n",
       "  </thead>\n",
       "  <tbody>\n",
       "    <tr>\n",
       "      <th>5242</th>\n",
       "      <td>submission</td>\n",
       "      <td>z7hou7</td>\n",
       "      <td>2022-11-29 07:12:18</td>\n",
       "      <td>2022</td>\n",
       "      <td>Shout out to the lady who taught krisfade a le...</td>\n",
       "      <td>shout lady teach lesson lady confront overly p...</td>\n",
       "      <td>[shout, lady, teach, lesson, lady, confront, o...</td>\n",
       "      <td>22</td>\n",
       "      <td>9</td>\n",
       "      <td>9</td>\n",
       "      <td>[night, mall, walk, hotel, room, area, drink, ...</td>\n",
       "      <td>entertainment and recreation</td>\n",
       "    </tr>\n",
       "    <tr>\n",
       "      <th>5243</th>\n",
       "      <td>submission</td>\n",
       "      <td>jtxdl9</td>\n",
       "      <td>2020-11-14 10:33:18</td>\n",
       "      <td>2020</td>\n",
       "      <td>In the midst of a pandemic, I have finally com...</td>\n",
       "      <td>midst pandemic complete collection coin circul...</td>\n",
       "      <td>[midst, pandemic, complete, collection, coin, ...</td>\n",
       "      <td>6</td>\n",
       "      <td>9</td>\n",
       "      <td>9</td>\n",
       "      <td>[night, mall, walk, hotel, room, area, drink, ...</td>\n",
       "      <td>entertainment and recreation</td>\n",
       "    </tr>\n",
       "    <tr>\n",
       "      <th>5244</th>\n",
       "      <td>submission</td>\n",
       "      <td>k6iba8</td>\n",
       "      <td>2020-12-04 14:13:50</td>\n",
       "      <td>2020</td>\n",
       "      <td>Juma prayer ft. Social distancing</td>\n",
       "      <td>prayer social distancing</td>\n",
       "      <td>[prayer, social, distancing, social_distancing]</td>\n",
       "      <td>3</td>\n",
       "      <td>9</td>\n",
       "      <td>9</td>\n",
       "      <td>[night, mall, walk, hotel, room, area, drink, ...</td>\n",
       "      <td>entertainment and recreation</td>\n",
       "    </tr>\n",
       "    <tr>\n",
       "      <th>5245</th>\n",
       "      <td>submission</td>\n",
       "      <td>fr0bwu</td>\n",
       "      <td>2020-03-29 09:06:05</td>\n",
       "      <td>2020</td>\n",
       "      <td>Social distancing and tailgaters...</td>\n",
       "      <td>social distancing tailgater</td>\n",
       "      <td>[social, distancing, tailgater, social_distanc...</td>\n",
       "      <td>3</td>\n",
       "      <td>9</td>\n",
       "      <td>9</td>\n",
       "      <td>[night, mall, walk, hotel, room, area, drink, ...</td>\n",
       "      <td>entertainment and recreation</td>\n",
       "    </tr>\n",
       "    <tr>\n",
       "      <th>5246</th>\n",
       "      <td>submission</td>\n",
       "      <td>nqr3lx</td>\n",
       "      <td>2021-06-02 21:22:42</td>\n",
       "      <td>2021</td>\n",
       "      <td>Saw this outside my office today (Deira). You’...</td>\n",
       "      <td>outside office deira</td>\n",
       "      <td>[outside, office, deira]</td>\n",
       "      <td>3</td>\n",
       "      <td>9</td>\n",
       "      <td>9</td>\n",
       "      <td>[night, mall, walk, hotel, room, area, drink, ...</td>\n",
       "      <td>entertainment and recreation</td>\n",
       "    </tr>\n",
       "    <tr>\n",
       "      <th>...</th>\n",
       "      <td>...</td>\n",
       "      <td>...</td>\n",
       "      <td>...</td>\n",
       "      <td>...</td>\n",
       "      <td>...</td>\n",
       "      <td>...</td>\n",
       "      <td>...</td>\n",
       "      <td>...</td>\n",
       "      <td>...</td>\n",
       "      <td>...</td>\n",
       "      <td>...</td>\n",
       "      <td>...</td>\n",
       "    </tr>\n",
       "    <tr>\n",
       "      <th>65982</th>\n",
       "      <td>submission</td>\n",
       "      <td>14d6x2j</td>\n",
       "      <td>2023-06-19 10:47:32</td>\n",
       "      <td>2023</td>\n",
       "      <td>Eid Al Adha 2023 holidays announced for privat...</td>\n",
       "      <td>eid holiday announce private sector</td>\n",
       "      <td>[eid, holiday, announce, private, sector, priv...</td>\n",
       "      <td>5</td>\n",
       "      <td>3</td>\n",
       "      <td>3</td>\n",
       "      <td>[law, government, local, muslim, culture, arab...</td>\n",
       "      <td>locals and culture</td>\n",
       "    </tr>\n",
       "    <tr>\n",
       "      <th>65983</th>\n",
       "      <td>submission</td>\n",
       "      <td>14dk6mw</td>\n",
       "      <td>2023-06-19 21:02:21</td>\n",
       "      <td>2023</td>\n",
       "      <td>newspaper/website recommendations for local ec...</td>\n",
       "      <td>newspaper website local economic spam trust ec...</td>\n",
       "      <td>[newspaper, website, local, economic, spam, tr...</td>\n",
       "      <td>9</td>\n",
       "      <td>3</td>\n",
       "      <td>3</td>\n",
       "      <td>[law, government, local, muslim, culture, arab...</td>\n",
       "      <td>locals and culture</td>\n",
       "    </tr>\n",
       "    <tr>\n",
       "      <th>65984</th>\n",
       "      <td>submission</td>\n",
       "      <td>14dfnr1</td>\n",
       "      <td>2023-06-19 18:07:20</td>\n",
       "      <td>2023</td>\n",
       "      <td>Custom patches  Newbie here. do you guys know ...</td>\n",
       "      <td>custom patch newbie patch custom logo</td>\n",
       "      <td>[custom, patch, newbie, patch, custom, logo]</td>\n",
       "      <td>6</td>\n",
       "      <td>3</td>\n",
       "      <td>3</td>\n",
       "      <td>[law, government, local, muslim, culture, arab...</td>\n",
       "      <td>locals and culture</td>\n",
       "    </tr>\n",
       "    <tr>\n",
       "      <th>65985</th>\n",
       "      <td>submission</td>\n",
       "      <td>14csv18</td>\n",
       "      <td>2023-06-18 23:31:06</td>\n",
       "      <td>2023</td>\n",
       "      <td>BEIN Channels no longer available on e&amp;amp; (e...</td>\n",
       "      <td>channel amp etisalat temporary permanent disco...</td>\n",
       "      <td>[channel, amp, etisalat, temporary, permanent,...</td>\n",
       "      <td>8</td>\n",
       "      <td>3</td>\n",
       "      <td>3</td>\n",
       "      <td>[law, government, local, muslim, culture, arab...</td>\n",
       "      <td>locals and culture</td>\n",
       "    </tr>\n",
       "    <tr>\n",
       "      <th>65986</th>\n",
       "      <td>submission</td>\n",
       "      <td>14cfztg</td>\n",
       "      <td>2023-06-18 13:21:44</td>\n",
       "      <td>2023</td>\n",
       "      <td>Nearly two thirds of Emirati graduates interes...</td>\n",
       "      <td>nearly emirati graduate private sector</td>\n",
       "      <td>[nearly, emirati, graduate, private, sector, p...</td>\n",
       "      <td>5</td>\n",
       "      <td>3</td>\n",
       "      <td>3</td>\n",
       "      <td>[law, government, local, muslim, culture, arab...</td>\n",
       "      <td>locals and culture</td>\n",
       "    </tr>\n",
       "  </tbody>\n",
       "</table>\n",
       "<p>3174 rows × 12 columns</p>\n",
       "</div>"
      ],
      "text/plain": [
       "        text_type       ID         date_created  year  \\\n",
       "5242   submission   z7hou7  2022-11-29 07:12:18  2022   \n",
       "5243   submission   jtxdl9  2020-11-14 10:33:18  2020   \n",
       "5244   submission   k6iba8  2020-12-04 14:13:50  2020   \n",
       "5245   submission   fr0bwu  2020-03-29 09:06:05  2020   \n",
       "5246   submission   nqr3lx  2021-06-02 21:22:42  2021   \n",
       "...           ...      ...                  ...   ...   \n",
       "65982  submission  14d6x2j  2023-06-19 10:47:32  2023   \n",
       "65983  submission  14dk6mw  2023-06-19 21:02:21  2023   \n",
       "65984  submission  14dfnr1  2023-06-19 18:07:20  2023   \n",
       "65985  submission  14csv18  2023-06-18 23:31:06  2023   \n",
       "65986  submission  14cfztg  2023-06-18 13:21:44  2023   \n",
       "\n",
       "                                               long_text  \\\n",
       "5242   Shout out to the lady who taught krisfade a le...   \n",
       "5243   In the midst of a pandemic, I have finally com...   \n",
       "5244                  Juma prayer ft. Social distancing    \n",
       "5245                Social distancing and tailgaters...    \n",
       "5246   Saw this outside my office today (Deira). You’...   \n",
       "...                                                  ...   \n",
       "65982  Eid Al Adha 2023 holidays announced for privat...   \n",
       "65983  newspaper/website recommendations for local ec...   \n",
       "65984  Custom patches  Newbie here. do you guys know ...   \n",
       "65985  BEIN Channels no longer available on e&amp; (e...   \n",
       "65986  Nearly two thirds of Emirati graduates interes...   \n",
       "\n",
       "                                              clean_text  \\\n",
       "5242   shout lady teach lesson lady confront overly p...   \n",
       "5243   midst pandemic complete collection coin circul...   \n",
       "5244                            prayer social distancing   \n",
       "5245                         social distancing tailgater   \n",
       "5246                                outside office deira   \n",
       "...                                                  ...   \n",
       "65982                eid holiday announce private sector   \n",
       "65983  newspaper website local economic spam trust ec...   \n",
       "65984              custom patch newbie patch custom logo   \n",
       "65985  channel amp etisalat temporary permanent disco...   \n",
       "65986             nearly emirati graduate private sector   \n",
       "\n",
       "                                                  tokens  word_count  \\\n",
       "5242   [shout, lady, teach, lesson, lady, confront, o...          22   \n",
       "5243   [midst, pandemic, complete, collection, coin, ...           6   \n",
       "5244     [prayer, social, distancing, social_distancing]           3   \n",
       "5245   [social, distancing, tailgater, social_distanc...           3   \n",
       "5246                            [outside, office, deira]           3   \n",
       "...                                                  ...         ...   \n",
       "65982  [eid, holiday, announce, private, sector, priv...           5   \n",
       "65983  [newspaper, website, local, economic, spam, tr...           9   \n",
       "65984       [custom, patch, newbie, patch, custom, logo]           6   \n",
       "65985  [channel, amp, etisalat, temporary, permanent,...           8   \n",
       "65986  [nearly, emirati, graduate, private, sector, p...           5   \n",
       "\n",
       "       top_topic  topic                                              words  \\\n",
       "5242           9      9  [night, mall, walk, hotel, room, area, drink, ...   \n",
       "5243           9      9  [night, mall, walk, hotel, room, area, drink, ...   \n",
       "5244           9      9  [night, mall, walk, hotel, room, area, drink, ...   \n",
       "5245           9      9  [night, mall, walk, hotel, room, area, drink, ...   \n",
       "5246           9      9  [night, mall, walk, hotel, room, area, drink, ...   \n",
       "...          ...    ...                                                ...   \n",
       "65982          3      3  [law, government, local, muslim, culture, arab...   \n",
       "65983          3      3  [law, government, local, muslim, culture, arab...   \n",
       "65984          3      3  [law, government, local, muslim, culture, arab...   \n",
       "65985          3      3  [law, government, local, muslim, culture, arab...   \n",
       "65986          3      3  [law, government, local, muslim, culture, arab...   \n",
       "\n",
       "                              label  \n",
       "5242   entertainment and recreation  \n",
       "5243   entertainment and recreation  \n",
       "5244   entertainment and recreation  \n",
       "5245   entertainment and recreation  \n",
       "5246   entertainment and recreation  \n",
       "...                             ...  \n",
       "65982            locals and culture  \n",
       "65983            locals and culture  \n",
       "65984            locals and culture  \n",
       "65985            locals and culture  \n",
       "65986            locals and culture  \n",
       "\n",
       "[3174 rows x 12 columns]"
      ]
     },
     "execution_count": 78,
     "metadata": {},
     "output_type": "execute_result"
    }
   ],
   "source": [
    "#topics assigned to posts\n",
    "sub_topics = full_df[full_df.text_type == 'submission']\n",
    "sub_topics"
   ]
  },
  {
   "cell_type": "code",
   "execution_count": 81,
   "id": "7b4b5643-438c-429a-afc8-2430890a1aba",
   "metadata": {},
   "outputs": [
    {
     "name": "stdout",
     "output_type": "stream",
     "text": [
      "file saved\n"
     ]
    }
   ],
   "source": [
    "filename = '../Data/subs_topics.csv'\n",
    "\n",
    "def export_csv():\n",
    "    '''\n",
    "    export pre-processed data to CSV\n",
    "    '''\n",
    "    sub_topics.to_csv(filename, index_label = 'index', quoting = csv.QUOTE_ALL, header = True)\n",
    "\n",
    "export_csv()\n",
    "\n",
    "print ('file saved')"
   ]
  },
  {
   "cell_type": "code",
   "execution_count": null,
   "id": "e90042de-f5f6-4b04-91fe-0b141f651260",
   "metadata": {},
   "outputs": [],
   "source": []
  }
 ],
 "metadata": {
  "kernelspec": {
   "display_name": "projectenv",
   "language": "python",
   "name": "projectenv"
  },
  "language_info": {
   "codemirror_mode": {
    "name": "ipython",
    "version": 3
   },
   "file_extension": ".py",
   "mimetype": "text/x-python",
   "name": "python",
   "nbconvert_exporter": "python",
   "pygments_lexer": "ipython3",
   "version": "3.10.1"
  }
 },
 "nbformat": 4,
 "nbformat_minor": 5
}
