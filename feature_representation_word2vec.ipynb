{
 "cells": [
  {
   "cell_type": "code",
   "execution_count": 36,
   "id": "8b2681bb-a91a-42da-ba8e-9a999c7f8810",
   "metadata": {},
   "outputs": [],
   "source": [
    "#import libraries\n",
    "import pandas as pd\n",
    "import numpy as np\n",
    "import csv\n",
    "import ast\n",
    "import re\n",
    "from prettytable import PrettyTable\n",
    "\n",
    "from collections import Counter\n",
    "\n",
    "import time\n",
    "import random\n",
    "\n",
    "#data visualization libraries\n",
    "import matplotlib.pyplot as plt\n",
    "from PIL import Image\n",
    "from wordcloud import WordCloud, ImageColorGenerator\n",
    "\n",
    "#NLP & ML libraries\n",
    "from gensim.models import Word2Vec\n",
    "from gensim.utils import tokenize\n",
    "from gensim.models.phrases import Phrases\n",
    "from textblob import TextBlob\n",
    "from nltk import FreqDist\n",
    "\n",
    "from sklearn.cluster import KMeans\n",
    "from sklearn.cluster import MiniBatchKMeans\n",
    "from sklearn.metrics import silhouette_samples, silhouette_score\n",
    "\n",
    "from sklearn.metrics.pairwise import cosine_similarity\n",
    "\n",
    "from sklearn.manifold import TSNE\n",
    "from sklearn.decomposition import PCA\n",
    "\n",
    "from yellowbrick.cluster import KElbowVisualizer, SilhouetteVisualizer, InterclusterDistance\n",
    "\n",
    "from scipy.sparse import save_npz, load_npz"
   ]
  },
  {
   "cell_type": "code",
   "execution_count": 2,
   "id": "4bbe50fc-de36-41b1-993b-1044cc1b8420",
   "metadata": {},
   "outputs": [],
   "source": [
    "#set seed so that code output is deterministic\n",
    "random.seed(30)  # Set the seed for Python's random module\n",
    "np.random.seed(30)  # Set the seed for NumPy's random module"
   ]
  },
  {
   "cell_type": "code",
   "execution_count": 3,
   "id": "c7de6faf-08e5-4b9a-9237-4b6f1a2e6848",
   "metadata": {},
   "outputs": [],
   "source": [
    "#import cleaned data\n",
    "\n",
    "def list_converter(text):\n",
    "    #to revert list->str conversion from pd.read_csv\n",
    "    return ast.literal_eval(text)\n",
    "\n",
    "\n",
    "data = pd.read_csv('Data/training_corpus.csv', converters ={'tokens':list_converter})"
   ]
  },
  {
   "cell_type": "code",
   "execution_count": 4,
   "id": "4226a4d3-22a8-4ebe-b077-575d16a727a8",
   "metadata": {},
   "outputs": [
    {
     "name": "stdout",
     "output_type": "stream",
     "text": [
      "(99186, 7)\n"
     ]
    },
    {
     "data": {
      "text/html": [
       "<div>\n",
       "<style scoped>\n",
       "    .dataframe tbody tr th:only-of-type {\n",
       "        vertical-align: middle;\n",
       "    }\n",
       "\n",
       "    .dataframe tbody tr th {\n",
       "        vertical-align: top;\n",
       "    }\n",
       "\n",
       "    .dataframe thead th {\n",
       "        text-align: right;\n",
       "    }\n",
       "</style>\n",
       "<table border=\"1\" class=\"dataframe\">\n",
       "  <thead>\n",
       "    <tr style=\"text-align: right;\">\n",
       "      <th></th>\n",
       "      <th>text_type</th>\n",
       "      <th>ID</th>\n",
       "      <th>year</th>\n",
       "      <th>long_text</th>\n",
       "      <th>clean_text</th>\n",
       "      <th>word_count</th>\n",
       "      <th>tokens</th>\n",
       "    </tr>\n",
       "  </thead>\n",
       "  <tbody>\n",
       "    <tr>\n",
       "      <th>0</th>\n",
       "      <td>comment</td>\n",
       "      <td>gtfo2hl</td>\n",
       "      <td>2021</td>\n",
       "      <td>*Cuntry roads, take me hoem*</td>\n",
       "      <td>cuntry roads hoem</td>\n",
       "      <td>3</td>\n",
       "      <td>[cuntry, road, hoem]</td>\n",
       "    </tr>\n",
       "    <tr>\n",
       "      <th>1</th>\n",
       "      <td>comment</td>\n",
       "      <td>gtfqkbv</td>\n",
       "      <td>2021</td>\n",
       "      <td>That’s been there for several years, sent a pi...</td>\n",
       "      <td>years sent pic cuntry friend long time ago</td>\n",
       "      <td>8</td>\n",
       "      <td>[year, send, pic, cuntry, friend, long, time, ...</td>\n",
       "    </tr>\n",
       "    <tr>\n",
       "      <th>2</th>\n",
       "      <td>comment</td>\n",
       "      <td>gtfou07</td>\n",
       "      <td>2021</td>\n",
       "      <td>I am single and I have not traveled to any cun...</td>\n",
       "      <td>single traveled cuntry past year</td>\n",
       "      <td>5</td>\n",
       "      <td>[single, travel, cuntry, past, year]</td>\n",
       "    </tr>\n",
       "    <tr>\n",
       "      <th>3</th>\n",
       "      <td>comment</td>\n",
       "      <td>gtfrgpe</td>\n",
       "      <td>2021</td>\n",
       "      <td>What happens when you shop at dragon mart...</td>\n",
       "      <td>happens shop dragon mart</td>\n",
       "      <td>4</td>\n",
       "      <td>[happen, shop, dragon, mart]</td>\n",
       "    </tr>\n",
       "    <tr>\n",
       "      <th>4</th>\n",
       "      <td>comment</td>\n",
       "      <td>gthiiwi</td>\n",
       "      <td>2021</td>\n",
       "      <td>That’s just absolutely hilarious, is this in t...</td>\n",
       "      <td>absolutely hilarious springs souk</td>\n",
       "      <td>4</td>\n",
       "      <td>[absolutely, hilarious, spring, souk]</td>\n",
       "    </tr>\n",
       "  </tbody>\n",
       "</table>\n",
       "</div>"
      ],
      "text/plain": [
       "  text_type       ID  year                                          long_text  \\\n",
       "0   comment  gtfo2hl  2021                       *Cuntry roads, take me hoem*   \n",
       "1   comment  gtfqkbv  2021  That’s been there for several years, sent a pi...   \n",
       "2   comment  gtfou07  2021  I am single and I have not traveled to any cun...   \n",
       "3   comment  gtfrgpe  2021       What happens when you shop at dragon mart...   \n",
       "4   comment  gthiiwi  2021  That’s just absolutely hilarious, is this in t...   \n",
       "\n",
       "                                   clean_text  word_count  \\\n",
       "0                           cuntry roads hoem           3   \n",
       "1  years sent pic cuntry friend long time ago           8   \n",
       "2            single traveled cuntry past year           5   \n",
       "3                    happens shop dragon mart           4   \n",
       "4           absolutely hilarious springs souk           4   \n",
       "\n",
       "                                              tokens  \n",
       "0                               [cuntry, road, hoem]  \n",
       "1  [year, send, pic, cuntry, friend, long, time, ...  \n",
       "2               [single, travel, cuntry, past, year]  \n",
       "3                       [happen, shop, dragon, mart]  \n",
       "4              [absolutely, hilarious, spring, souk]  "
      ]
     },
     "execution_count": 4,
     "metadata": {},
     "output_type": "execute_result"
    }
   ],
   "source": [
    "data = data.drop(columns = ['index'])\n",
    "print (data.shape)\n",
    "data.head()"
   ]
  },
  {
   "cell_type": "code",
   "execution_count": 5,
   "id": "29b439c0-b358-441b-9e07-e5c426300030",
   "metadata": {},
   "outputs": [],
   "source": [
    "#include column with additional stopwords removal\n",
    "#created the filtered corpus from another notebook and imported it here for use\n",
    "# Read the file\n",
    "with open('updated_corpus.txt', 'r') as f:\n",
    "    updated_tokens = f.readlines()\n",
    "\n",
    "# Remove newline characters\n",
    "updated_tokens = [line.strip() for line in updated_tokens]\n",
    "\n",
    "\n",
    "data['updated_tokens'] = updated_tokens"
   ]
  },
  {
   "cell_type": "code",
   "execution_count": 6,
   "id": "c4fed05a-3169-4bf5-9a85-1dd52014a49f",
   "metadata": {},
   "outputs": [],
   "source": [
    "\n",
    "#convert list of strings to dataframe column with list of tokens on each row\n",
    "data['updated_tokens'] = data['updated_tokens'].apply(lambda x: list(tokenize(x)))"
   ]
  },
  {
   "cell_type": "code",
   "execution_count": 7,
   "id": "d1c59b23-9e30-455f-80d8-9cd5410a75fc",
   "metadata": {},
   "outputs": [
    {
     "data": {
      "text/plain": [
       "(2793, 8)"
      ]
     },
     "execution_count": 7,
     "metadata": {},
     "output_type": "execute_result"
    }
   ],
   "source": [
    "#dataframe of all empty token lists due to removal of additional stopwords\n",
    "empty_tokens = data[data['updated_tokens'].apply(lambda x: len(x) == 0)]\n",
    "\n",
    "empty_tokens.shape"
   ]
  },
  {
   "cell_type": "code",
   "execution_count": 8,
   "id": "519a6474-5973-4d87-bc08-8832c3162717",
   "metadata": {},
   "outputs": [
    {
     "data": {
      "text/html": [
       "<div>\n",
       "<style scoped>\n",
       "    .dataframe tbody tr th:only-of-type {\n",
       "        vertical-align: middle;\n",
       "    }\n",
       "\n",
       "    .dataframe tbody tr th {\n",
       "        vertical-align: top;\n",
       "    }\n",
       "\n",
       "    .dataframe thead th {\n",
       "        text-align: right;\n",
       "    }\n",
       "</style>\n",
       "<table border=\"1\" class=\"dataframe\">\n",
       "  <thead>\n",
       "    <tr style=\"text-align: right;\">\n",
       "      <th></th>\n",
       "      <th>text_type</th>\n",
       "      <th>ID</th>\n",
       "      <th>year</th>\n",
       "      <th>long_text</th>\n",
       "      <th>clean_text</th>\n",
       "      <th>word_count</th>\n",
       "      <th>tokens</th>\n",
       "      <th>updated_tokens</th>\n",
       "    </tr>\n",
       "  </thead>\n",
       "  <tbody>\n",
       "    <tr>\n",
       "      <th>0</th>\n",
       "      <td>comment</td>\n",
       "      <td>gtfo2hl</td>\n",
       "      <td>2021</td>\n",
       "      <td>*Cuntry roads, take me hoem*</td>\n",
       "      <td>cuntry roads hoem</td>\n",
       "      <td>3</td>\n",
       "      <td>[cuntry, road, hoem]</td>\n",
       "      <td>[road]</td>\n",
       "    </tr>\n",
       "    <tr>\n",
       "      <th>2</th>\n",
       "      <td>comment</td>\n",
       "      <td>gtfou07</td>\n",
       "      <td>2021</td>\n",
       "      <td>I am single and I have not traveled to any cun...</td>\n",
       "      <td>single traveled cuntry past year</td>\n",
       "      <td>5</td>\n",
       "      <td>[single, travel, cuntry, past, year]</td>\n",
       "      <td>[single, travel, past]</td>\n",
       "    </tr>\n",
       "    <tr>\n",
       "      <th>3</th>\n",
       "      <td>comment</td>\n",
       "      <td>gtfrgpe</td>\n",
       "      <td>2021</td>\n",
       "      <td>What happens when you shop at dragon mart...</td>\n",
       "      <td>happens shop dragon mart</td>\n",
       "      <td>4</td>\n",
       "      <td>[happen, shop, dragon, mart]</td>\n",
       "      <td>[shop, dragon, mart]</td>\n",
       "    </tr>\n",
       "    <tr>\n",
       "      <th>4</th>\n",
       "      <td>comment</td>\n",
       "      <td>gthiiwi</td>\n",
       "      <td>2021</td>\n",
       "      <td>That’s just absolutely hilarious, is this in t...</td>\n",
       "      <td>absolutely hilarious springs souk</td>\n",
       "      <td>4</td>\n",
       "      <td>[absolutely, hilarious, spring, souk]</td>\n",
       "      <td>[hilarious, spring, souk]</td>\n",
       "    </tr>\n",
       "    <tr>\n",
       "      <th>6</th>\n",
       "      <td>comment</td>\n",
       "      <td>gtfw6yj</td>\n",
       "      <td>2021</td>\n",
       "      <td>Eugene's first day as a signwriter for Country...</td>\n",
       "      <td>eugene s day signwriter country artificial pro...</td>\n",
       "      <td>8</td>\n",
       "      <td>[eugene, s, day, signwriter, country, artifici...</td>\n",
       "      <td>[artificial, product, expect]</td>\n",
       "    </tr>\n",
       "    <tr>\n",
       "      <th>...</th>\n",
       "      <td>...</td>\n",
       "      <td>...</td>\n",
       "      <td>...</td>\n",
       "      <td>...</td>\n",
       "      <td>...</td>\n",
       "      <td>...</td>\n",
       "      <td>...</td>\n",
       "      <td>...</td>\n",
       "    </tr>\n",
       "    <tr>\n",
       "      <th>99181</th>\n",
       "      <td>submission</td>\n",
       "      <td>14f46ji</td>\n",
       "      <td>2023</td>\n",
       "      <td>Best beauty saloons in Dubai? Hello fellas, I ...</td>\n",
       "      <td>best beauty saloons dubai hello fellas moved w...</td>\n",
       "      <td>35</td>\n",
       "      <td>[good, beauty, saloon, dubai, hello, fellas, m...</td>\n",
       "      <td>[beauty, saloon, hello, wife, real, saloon, re...</td>\n",
       "    </tr>\n",
       "    <tr>\n",
       "      <th>99182</th>\n",
       "      <td>submission</td>\n",
       "      <td>14f4uyi</td>\n",
       "      <td>2023</td>\n",
       "      <td>Found the r/dubai redditors who kept telling m...</td>\n",
       "      <td>found r dubai redditors kept telling know navi...</td>\n",
       "      <td>10</td>\n",
       "      <td>[find, r, dubai, redditor, keep, tell, know, n...</td>\n",
       "      <td>[navigate, roundabout]</td>\n",
       "    </tr>\n",
       "    <tr>\n",
       "      <th>99183</th>\n",
       "      <td>submission</td>\n",
       "      <td>14f4ri3</td>\n",
       "      <td>2023</td>\n",
       "      <td>Scam ? Healthy.line My sister has a CBD debit ...</td>\n",
       "      <td>scam healthy line sister cbd debit card month ...</td>\n",
       "      <td>47</td>\n",
       "      <td>[scam, healthy, line, sister, cbd, debit, card...</td>\n",
       "      <td>[scam, healthy, line, sister, cbd, debit, card...</td>\n",
       "    </tr>\n",
       "    <tr>\n",
       "      <th>99184</th>\n",
       "      <td>submission</td>\n",
       "      <td>14f4k3r</td>\n",
       "      <td>2023</td>\n",
       "      <td>Thoughts on Expo City properties? Anyone else ...</td>\n",
       "      <td>thoughts expo city properties checked expo cit...</td>\n",
       "      <td>21</td>\n",
       "      <td>[thought, expo, city, property, check, expo, c...</td>\n",
       "      <td>[expo, property, expo, sale, page, pleasant, d...</td>\n",
       "    </tr>\n",
       "    <tr>\n",
       "      <th>99185</th>\n",
       "      <td>submission</td>\n",
       "      <td>14f8d30</td>\n",
       "      <td>2023</td>\n",
       "      <td>What to do when the neighbour parks like this?...</td>\n",
       "      <td>neighbour parks like hello dubai community guy...</td>\n",
       "      <td>19</td>\n",
       "      <td>[neighbour, park, like, hello, dubai, communit...</td>\n",
       "      <td>[neighbour, park, hello, community, meet, park...</td>\n",
       "    </tr>\n",
       "  </tbody>\n",
       "</table>\n",
       "<p>96393 rows × 8 columns</p>\n",
       "</div>"
      ],
      "text/plain": [
       "        text_type       ID  year  \\\n",
       "0         comment  gtfo2hl  2021   \n",
       "2         comment  gtfou07  2021   \n",
       "3         comment  gtfrgpe  2021   \n",
       "4         comment  gthiiwi  2021   \n",
       "6         comment  gtfw6yj  2021   \n",
       "...           ...      ...   ...   \n",
       "99181  submission  14f46ji  2023   \n",
       "99182  submission  14f4uyi  2023   \n",
       "99183  submission  14f4ri3  2023   \n",
       "99184  submission  14f4k3r  2023   \n",
       "99185  submission  14f8d30  2023   \n",
       "\n",
       "                                               long_text  \\\n",
       "0                           *Cuntry roads, take me hoem*   \n",
       "2      I am single and I have not traveled to any cun...   \n",
       "3           What happens when you shop at dragon mart...   \n",
       "4      That’s just absolutely hilarious, is this in t...   \n",
       "6      Eugene's first day as a signwriter for Country...   \n",
       "...                                                  ...   \n",
       "99181  Best beauty saloons in Dubai? Hello fellas, I ...   \n",
       "99182  Found the r/dubai redditors who kept telling m...   \n",
       "99183  Scam ? Healthy.line My sister has a CBD debit ...   \n",
       "99184  Thoughts on Expo City properties? Anyone else ...   \n",
       "99185  What to do when the neighbour parks like this?...   \n",
       "\n",
       "                                              clean_text  word_count  \\\n",
       "0                                      cuntry roads hoem           3   \n",
       "2                       single traveled cuntry past year           5   \n",
       "3                               happens shop dragon mart           4   \n",
       "4                      absolutely hilarious springs souk           4   \n",
       "6      eugene s day signwriter country artificial pro...           8   \n",
       "...                                                  ...         ...   \n",
       "99181  best beauty saloons dubai hello fellas moved w...          35   \n",
       "99182  found r dubai redditors kept telling know navi...          10   \n",
       "99183  scam healthy line sister cbd debit card month ...          47   \n",
       "99184  thoughts expo city properties checked expo cit...          21   \n",
       "99185  neighbour parks like hello dubai community guy...          19   \n",
       "\n",
       "                                                  tokens  \\\n",
       "0                                   [cuntry, road, hoem]   \n",
       "2                   [single, travel, cuntry, past, year]   \n",
       "3                           [happen, shop, dragon, mart]   \n",
       "4                  [absolutely, hilarious, spring, souk]   \n",
       "6      [eugene, s, day, signwriter, country, artifici...   \n",
       "...                                                  ...   \n",
       "99181  [good, beauty, saloon, dubai, hello, fellas, m...   \n",
       "99182  [find, r, dubai, redditor, keep, tell, know, n...   \n",
       "99183  [scam, healthy, line, sister, cbd, debit, card...   \n",
       "99184  [thought, expo, city, property, check, expo, c...   \n",
       "99185  [neighbour, park, like, hello, dubai, communit...   \n",
       "\n",
       "                                          updated_tokens  \n",
       "0                                                 [road]  \n",
       "2                                 [single, travel, past]  \n",
       "3                                   [shop, dragon, mart]  \n",
       "4                              [hilarious, spring, souk]  \n",
       "6                          [artificial, product, expect]  \n",
       "...                                                  ...  \n",
       "99181  [beauty, saloon, hello, wife, real, saloon, re...  \n",
       "99182                             [navigate, roundabout]  \n",
       "99183  [scam, healthy, line, sister, cbd, debit, card...  \n",
       "99184  [expo, property, expo, sale, page, pleasant, d...  \n",
       "99185  [neighbour, park, hello, community, meet, park...  \n",
       "\n",
       "[96393 rows x 8 columns]"
      ]
     },
     "execution_count": 8,
     "metadata": {},
     "output_type": "execute_result"
    }
   ],
   "source": [
    "#adjust corpus to remvoe rows with empty token lists\n",
    "row_id = empty_tokens['ID'] #id of rows with empty token list\n",
    "\n",
    "updated_data = data[~data['ID'].isin(row_id)]\n",
    "updated_data"
   ]
  },
  {
   "cell_type": "markdown",
   "id": "414a90b0-730e-445f-8b85-31be72b739e4",
   "metadata": {},
   "source": [
    "## **Word2Vec Model** "
   ]
  },
  {
   "cell_type": "markdown",
   "id": "12071d4a-eb55-404d-bb2f-e35b9c531dbc",
   "metadata": {},
   "source": [
    "### FULL CORPUS -->After initial preprocessing"
   ]
  },
  {
   "cell_type": "code",
   "execution_count": 9,
   "id": "684d9375-5fc5-4c94-95b3-fc3fcbbed923",
   "metadata": {},
   "outputs": [
    {
     "data": {
      "text/plain": [
       "[['cuntry', 'road', 'hoem'],\n",
       " ['year', 'send', 'pic', 'cuntry', 'friend', 'long', 'time', 'ago'],\n",
       " ['single', 'travel', 'cuntry', 'past', 'year'],\n",
       " ['happen', 'shop', 'dragon', 'mart'],\n",
       " ['absolutely', 'hilarious', 'spring', 'souk']]"
      ]
     },
     "execution_count": 9,
     "metadata": {},
     "output_type": "execute_result"
    }
   ],
   "source": [
    "#convert df['tokens'] to list of strings for word2vec model\n",
    "corpus = data['tokens'].tolist()#.apply(lambda token: ' '.join(token)).tolist()\n",
    "\n",
    "corpus[:5]"
   ]
  },
  {
   "cell_type": "code",
   "execution_count": 10,
   "id": "b45ea010-a712-4035-8952-fc3fbef3a5ea",
   "metadata": {},
   "outputs": [],
   "source": [
    "#code from codebasics and semicolon, both on youtube\n",
    "\n",
    "#instantiate word2vec model\n",
    "full_corpus_model = Word2Vec (window = 5, min_count = 2, workers = 4, vector_size = 300)\n",
    "   \n",
    "#build a vocabulary\n",
    "full_corpus_model.build_vocab(corpus, progress_per = 1000)"
   ]
  },
  {
   "cell_type": "code",
   "execution_count": 11,
   "id": "8d745b77-a89b-403c-b2b7-fc4c185005c6",
   "metadata": {},
   "outputs": [
    {
     "data": {
      "text/plain": [
       "99186"
      ]
     },
     "execution_count": 11,
     "metadata": {},
     "output_type": "execute_result"
    }
   ],
   "source": [
    "full_corpus_model.corpus_count #number of sentences/documents"
   ]
  },
  {
   "cell_type": "code",
   "execution_count": 14,
   "id": "da988379-baa1-4cf0-b11c-622c29f68051",
   "metadata": {},
   "outputs": [],
   "source": [
    "#train the word2vec model\n",
    "\n",
    "full_corpus_model.train(\n",
    "                corpus,\n",
    "                total_examples = full_corpus_model.corpus_count,\n",
    "                epochs = full_corpus_model.epochs\n",
    ")\n",
    "\n",
    "full_corpus_model.save('pretrained_models/full_corpus_model.model') #save model locally"
   ]
  },
  {
   "cell_type": "code",
   "execution_count": 41,
   "id": "c5e5cef8-fe0b-47b1-98d2-345699175e33",
   "metadata": {},
   "outputs": [
    {
     "name": "stdout",
     "output_type": "stream",
     "text": [
      "Number of unique words in the vocabulary: 21945\n"
     ]
    }
   ],
   "source": [
    "num_unique_words = len(full_corpus_model.wv.index_to_key)\n",
    "print(f\"Number of unique words in the vocabulary: {num_unique_words}\")\n"
   ]
  },
  {
   "cell_type": "code",
   "execution_count": 15,
   "id": "6fa63580-bc00-499d-a96d-e308cb515b5c",
   "metadata": {},
   "outputs": [
    {
     "data": {
      "text/plain": [
       "[('nesto', 0.9041059613227844),\n",
       " ('hypermarket', 0.8900609612464905),\n",
       " ('viva', 0.8795011639595032),\n",
       " ('spinney', 0.8684303164482117),\n",
       " ('waitrose', 0.8657668232917786),\n",
       " ('carrefour', 0.8637438416481018),\n",
       " ('cafeteria', 0.86180579662323),\n",
       " ('kebab', 0.8451476693153381),\n",
       " ('fish', 0.830316424369812),\n",
       " ('fruit', 0.8197862505912781)]"
      ]
     },
     "execution_count": 15,
     "metadata": {},
     "output_type": "execute_result"
    }
   ],
   "source": [
    "full_corpus_model.wv.most_similar ('lulu')"
   ]
  },
  {
   "cell_type": "code",
   "execution_count": 16,
   "id": "c1ad9ba5-27af-4c07-87ce-bb21a6cc2ff5",
   "metadata": {},
   "outputs": [
    {
     "data": {
      "text/plain": [
       "[('sub', 0.8014408349990845),\n",
       " ('subreddit', 0.7356389760971069),\n",
       " ('forum', 0.6882253289222717),\n",
       " ('rant', 0.661300539970398),\n",
       " ('ama', 0.6551594138145447),\n",
       " ('pooh', 0.6432737708091736),\n",
       " ('mod', 0.6386380791664124),\n",
       " ('bash', 0.6302337050437927),\n",
       " ('post', 0.6245636940002441),\n",
       " ('troll', 0.6224903464317322)]"
      ]
     },
     "execution_count": 16,
     "metadata": {},
     "output_type": "execute_result"
    }
   ],
   "source": [
    "full_corpus_model.wv.most_similar('reddit')"
   ]
  },
  {
   "cell_type": "code",
   "execution_count": 17,
   "id": "4dcf2763-e97d-46c6-be2f-0036c183c593",
   "metadata": {},
   "outputs": [
    {
     "data": {
      "text/plain": [
       "'drive'"
      ]
     },
     "execution_count": 17,
     "metadata": {},
     "output_type": "execute_result"
    }
   ],
   "source": [
    "full_corpus_model.wv.doesnt_match(['ejari', 'rera', 'dewa', 'drive'])"
   ]
  },
  {
   "cell_type": "markdown",
   "id": "f574248b-ba20-490a-b128-02740445be03",
   "metadata": {
    "tags": []
   },
   "source": [
    "## **Word2Vec Model** with custom stopwords removed from corpus"
   ]
  },
  {
   "cell_type": "code",
   "execution_count": 18,
   "id": "3fd6e35d-4d81-4e71-8998-c74b78511486",
   "metadata": {},
   "outputs": [
    {
     "data": {
      "text/plain": [
       "[['road'],\n",
       " ['single', 'travel', 'past'],\n",
       " ['shop', 'dragon', 'mart'],\n",
       " ['hilarious', 'spring', 'souk'],\n",
       " ['artificial', 'product', 'expect']]"
      ]
     },
     "execution_count": 18,
     "metadata": {},
     "output_type": "execute_result"
    }
   ],
   "source": [
    "#convert ['tokens'] column to list of strings for word2vec model\n",
    "filtered_corpus = updated_data['updated_tokens'].tolist()\n",
    "\n",
    "filtered_corpus[:5]"
   ]
  },
  {
   "cell_type": "code",
   "execution_count": 20,
   "id": "092febb8-13a9-421b-925f-e97b8966ff23",
   "metadata": {},
   "outputs": [],
   "source": [
    "#code from codebasics and semicolon, both on youtube\n",
    "\n",
    "#instantiate word2vec model on filtered corpus\n",
    "filtered_corpus_model = Word2Vec (window = 5, min_count = 2, workers = 4)\n",
    "   \n",
    "#build a vocabulary\n",
    "filtered_corpus_model.build_vocab(filtered_corpus, progress_per = 1000)\n",
    "\n"
   ]
  },
  {
   "cell_type": "code",
   "execution_count": 21,
   "id": "bda49e32-129d-4283-b9e9-05fb172e724f",
   "metadata": {},
   "outputs": [
    {
     "data": {
      "text/plain": [
       "96393"
      ]
     },
     "execution_count": 21,
     "metadata": {},
     "output_type": "execute_result"
    }
   ],
   "source": [
    "#number of sentences in vocabulary\n",
    "filtered_corpus_model.corpus_count"
   ]
  },
  {
   "cell_type": "code",
   "execution_count": 23,
   "id": "7146b649-752a-47fd-8a0a-f7e15709de0f",
   "metadata": {},
   "outputs": [],
   "source": [
    "#train the word2vec model\n",
    "\n",
    "filtered_corpus_model.train(\n",
    "                filtered_corpus,\n",
    "                total_examples = filtered_corpus_model.corpus_count,\n",
    "                epochs = filtered_corpus_model.epochs\n",
    ")\n",
    "\n",
    "filtered_corpus_model.save('pretrained_models/filtered_corpus_model.model') #save model locally"
   ]
  },
  {
   "cell_type": "code",
   "execution_count": 43,
   "id": "442a2a2f-2d28-4a0b-b008-9b2f3d5920eb",
   "metadata": {},
   "outputs": [
    {
     "name": "stdout",
     "output_type": "stream",
     "text": [
      "Number of unique words in the vocabulary: 7915\n"
     ]
    }
   ],
   "source": [
    "num_unique_words = len(filtered_corpus_model.wv.index_to_key)\n",
    "print(f\"Number of unique words in the vocabulary: {num_unique_words}\")"
   ]
  },
  {
   "cell_type": "code",
   "execution_count": 33,
   "id": "e684cb44-9a8d-449d-9f9a-f6a2f41be75e",
   "metadata": {},
   "outputs": [
    {
     "data": {
      "text/plain": [
       "[('spinney', 0.923656702041626),\n",
       " ('nesto', 0.9187120199203491),\n",
       " ('hypermarket', 0.9102887511253357),\n",
       " ('viva', 0.8983575701713562),\n",
       " ('carrefour', 0.8950652480125427),\n",
       " ('waitrose', 0.8810536861419678),\n",
       " ('avocado', 0.8634451031684875),\n",
       " ('kg', 0.8579152822494507),\n",
       " ('cafeteria', 0.8487486839294434),\n",
       " ('shelf', 0.848399817943573)]"
      ]
     },
     "execution_count": 33,
     "metadata": {},
     "output_type": "execute_result"
    }
   ],
   "source": [
    "filtered_corpus_model.wv.most_similar ('lulu')"
   ]
  },
  {
   "cell_type": "code",
   "execution_count": 34,
   "id": "8a679ec5-b898-41f4-8a55-751c4052d46d",
   "metadata": {},
   "outputs": [
    {
     "data": {
      "text/plain": [
       "[('spice', 0.9297316074371338),\n",
       " ('pickle', 0.885685384273529),\n",
       " ('dessert', 0.8707259893417358),\n",
       " ('vegetable', 0.8670319318771362),\n",
       " ('garlic', 0.8658277988433838),\n",
       " ('falafel', 0.8650765419006348),\n",
       " ('seafood', 0.8641912937164307),\n",
       " ('delicious', 0.863122820854187),\n",
       " ('lamb', 0.8630397319793701),\n",
       " ('grill', 0.858243465423584)]"
      ]
     },
     "execution_count": 34,
     "metadata": {},
     "output_type": "execute_result"
    }
   ],
   "source": [
    "filtered_corpus_model.wv.most_similar ('fish')"
   ]
  },
  {
   "cell_type": "code",
   "execution_count": 35,
   "id": "2eb759cc-beef-40e4-85e4-307d8a0bb8ea",
   "metadata": {},
   "outputs": [
    {
     "data": {
      "text/plain": [
       "[('khail', 0.857735276222229),\n",
       " ('tunnel', 0.8369247913360596),\n",
       " ('roundabout', 0.823350727558136),\n",
       " ('szr', 0.8155798316001892),\n",
       " ('footpath', 0.7897583246231079),\n",
       " ('intersection', 0.7877615690231323),\n",
       " ('interchange', 0.7850115895271301),\n",
       " ('qudra', 0.784199595451355),\n",
       " ('quoz', 0.7816630005836487),\n",
       " ('gate', 0.7742656469345093)]"
      ]
     },
     "execution_count": 35,
     "metadata": {},
     "output_type": "execute_result"
    }
   ],
   "source": [
    "filtered_corpus_model.wv.most_similar ('bridge')"
   ]
  },
  {
   "cell_type": "code",
   "execution_count": 30,
   "id": "4b458328-5ea5-43af-9579-08744b981a0a",
   "metadata": {},
   "outputs": [
    {
     "ename": "KeyError",
     "evalue": "\"Key 'reddit' not present in vocabulary\"",
     "output_type": "error",
     "traceback": [
      "\u001b[0;31m---------------------------------------------------------------------------\u001b[0m",
      "\u001b[0;31mKeyError\u001b[0m                                  Traceback (most recent call last)",
      "Cell \u001b[0;32mIn[30], line 1\u001b[0m\n\u001b[0;32m----> 1\u001b[0m \u001b[43mfiltered_corpus_model\u001b[49m\u001b[38;5;241;43m.\u001b[39;49m\u001b[43mwv\u001b[49m\u001b[38;5;241;43m.\u001b[39;49m\u001b[43mmost_similar\u001b[49m\u001b[43m(\u001b[49m\u001b[38;5;124;43m'\u001b[39;49m\u001b[38;5;124;43mreddit\u001b[39;49m\u001b[38;5;124;43m'\u001b[39;49m\u001b[43m)\u001b[49m\n",
      "File \u001b[0;32m~/Documents/projectenv/lib/python3.10/site-packages/gensim/models/keyedvectors.py:841\u001b[0m, in \u001b[0;36mKeyedVectors.most_similar\u001b[0;34m(self, positive, negative, topn, clip_start, clip_end, restrict_vocab, indexer)\u001b[0m\n\u001b[1;32m    838\u001b[0m         weight[idx] \u001b[38;5;241m=\u001b[39m item[\u001b[38;5;241m1\u001b[39m]\n\u001b[1;32m    840\u001b[0m \u001b[38;5;66;03m# compute the weighted average of all keys\u001b[39;00m\n\u001b[0;32m--> 841\u001b[0m mean \u001b[38;5;241m=\u001b[39m \u001b[38;5;28;43mself\u001b[39;49m\u001b[38;5;241;43m.\u001b[39;49m\u001b[43mget_mean_vector\u001b[49m\u001b[43m(\u001b[49m\u001b[43mkeys\u001b[49m\u001b[43m,\u001b[49m\u001b[43m \u001b[49m\u001b[43mweight\u001b[49m\u001b[43m,\u001b[49m\u001b[43m \u001b[49m\u001b[43mpre_normalize\u001b[49m\u001b[38;5;241;43m=\u001b[39;49m\u001b[38;5;28;43;01mTrue\u001b[39;49;00m\u001b[43m,\u001b[49m\u001b[43m \u001b[49m\u001b[43mpost_normalize\u001b[49m\u001b[38;5;241;43m=\u001b[39;49m\u001b[38;5;28;43;01mTrue\u001b[39;49;00m\u001b[43m,\u001b[49m\u001b[43m \u001b[49m\u001b[43mignore_missing\u001b[49m\u001b[38;5;241;43m=\u001b[39;49m\u001b[38;5;28;43;01mFalse\u001b[39;49;00m\u001b[43m)\u001b[49m\n\u001b[1;32m    842\u001b[0m all_keys \u001b[38;5;241m=\u001b[39m [\n\u001b[1;32m    843\u001b[0m     \u001b[38;5;28mself\u001b[39m\u001b[38;5;241m.\u001b[39mget_index(key) \u001b[38;5;28;01mfor\u001b[39;00m key \u001b[38;5;129;01min\u001b[39;00m keys \u001b[38;5;28;01mif\u001b[39;00m \u001b[38;5;28misinstance\u001b[39m(key, _KEY_TYPES) \u001b[38;5;129;01mand\u001b[39;00m \u001b[38;5;28mself\u001b[39m\u001b[38;5;241m.\u001b[39mhas_index_for(key)\n\u001b[1;32m    844\u001b[0m ]\n\u001b[1;32m    846\u001b[0m \u001b[38;5;28;01mif\u001b[39;00m indexer \u001b[38;5;129;01mis\u001b[39;00m \u001b[38;5;129;01mnot\u001b[39;00m \u001b[38;5;28;01mNone\u001b[39;00m \u001b[38;5;129;01mand\u001b[39;00m \u001b[38;5;28misinstance\u001b[39m(topn, \u001b[38;5;28mint\u001b[39m):\n",
      "File \u001b[0;32m~/Documents/projectenv/lib/python3.10/site-packages/gensim/models/keyedvectors.py:518\u001b[0m, in \u001b[0;36mKeyedVectors.get_mean_vector\u001b[0;34m(self, keys, weights, pre_normalize, post_normalize, ignore_missing)\u001b[0m\n\u001b[1;32m    516\u001b[0m         total_weight \u001b[38;5;241m+\u001b[39m\u001b[38;5;241m=\u001b[39m \u001b[38;5;28mabs\u001b[39m(weights[idx])\n\u001b[1;32m    517\u001b[0m     \u001b[38;5;28;01melif\u001b[39;00m \u001b[38;5;129;01mnot\u001b[39;00m ignore_missing:\n\u001b[0;32m--> 518\u001b[0m         \u001b[38;5;28;01mraise\u001b[39;00m \u001b[38;5;167;01mKeyError\u001b[39;00m(\u001b[38;5;124mf\u001b[39m\u001b[38;5;124m\"\u001b[39m\u001b[38;5;124mKey \u001b[39m\u001b[38;5;124m'\u001b[39m\u001b[38;5;132;01m{\u001b[39;00mkey\u001b[38;5;132;01m}\u001b[39;00m\u001b[38;5;124m'\u001b[39m\u001b[38;5;124m not present in vocabulary\u001b[39m\u001b[38;5;124m\"\u001b[39m)\n\u001b[1;32m    520\u001b[0m \u001b[38;5;28;01mif\u001b[39;00m total_weight \u001b[38;5;241m>\u001b[39m \u001b[38;5;241m0\u001b[39m:\n\u001b[1;32m    521\u001b[0m     mean \u001b[38;5;241m=\u001b[39m mean \u001b[38;5;241m/\u001b[39m total_weight\n",
      "\u001b[0;31mKeyError\u001b[0m: \"Key 'reddit' not present in vocabulary\""
     ]
    }
   ],
   "source": [
    "filtered_corpus_model.wv.most_similar('reddit')"
   ]
  },
  {
   "cell_type": "markdown",
   "id": "80568523-7529-484b-bca3-681424544c95",
   "metadata": {},
   "source": [
    "## **Word2Vec with bigrams**"
   ]
  },
  {
   "cell_type": "code",
   "execution_count": 37,
   "id": "d7193727-a947-4bf0-8d34-2404047b1fb3",
   "metadata": {},
   "outputs": [],
   "source": [
    "#first model on full corpus\n",
    "\n",
    "#code from gensim documentation\n",
    "\n",
    "#train bigram detector\n",
    "bigram_transform = Phrases (corpus, min_count = 1) #default threshold is 10.0, fewer phrases will be created"
   ]
  },
  {
   "cell_type": "code",
   "execution_count": 38,
   "id": "be3aceb2-7f4a-4d99-a8b6-90d07d67b55a",
   "metadata": {},
   "outputs": [
    {
     "name": "stdout",
     "output_type": "stream",
     "text": [
      "['anymore', 'new', 'labor_law', 'common', 'blatant', 'good', 'company', 'care', 'sale', 'promotional', 'bdm', 'post', 'hire', 'look', 'filter', 'photo_cv', 'rife', 'real_estate', 'industry', 'say', 'uae', 'young', 'country', 'learn', 'motivation', 'law', 'change', 'align', 'progressive', 'practice', 'ahead', 'way', 'nature', 'place', 'live']\n"
     ]
    }
   ],
   "source": [
    "#check performance of bigram transform model\n",
    "new_sentence = corpus[330]\n",
    "print(bigram_transform[new_sentence])"
   ]
  },
  {
   "cell_type": "code",
   "execution_count": 40,
   "id": "7f70487f-2d99-487c-958e-25a4a0e69647",
   "metadata": {},
   "outputs": [],
   "source": [
    "#create corpus with bigrams\n",
    "bigram_full_corpus = [bigram_transform[sentence] for sentence in corpus]\n",
    "\n",
    "#code from codebasics and semicolon, both on youtube\n",
    "\n",
    "#instantiate word2vec model\n",
    "bigram_full_corpus_model = Word2Vec (window = 5, min_count = 2, workers = 4, vector_size = 300)\n",
    "   \n",
    "#build a vocabulary\n",
    "bigram_full_corpus_model.build_vocab(bigram_full_corpus, progress_per = 1000)"
   ]
  },
  {
   "cell_type": "code",
   "execution_count": 44,
   "id": "8e065ad7-e8ac-42cc-92b6-8c07e165d0da",
   "metadata": {},
   "outputs": [
    {
     "data": {
      "text/plain": [
       "99186"
      ]
     },
     "execution_count": 44,
     "metadata": {},
     "output_type": "execute_result"
    }
   ],
   "source": [
    "bigram_full_corpus_model.corpus_count"
   ]
  },
  {
   "cell_type": "code",
   "execution_count": 61,
   "id": "dea490c1-f704-478c-8f13-4db9857927a5",
   "metadata": {},
   "outputs": [],
   "source": [
    "#train the word2vec model\n",
    "\n",
    "bigram_full_corpus_model.train(\n",
    "                bigram_full_corpus,\n",
    "                total_examples = bigram_full_corpus_model.corpus_count,\n",
    "                epochs = bigram_full_corpus_model.epochs\n",
    ")\n",
    "\n",
    "bigram_full_corpus_model.save('pretrained_models/bigram_full_corpus_model.model') #save model locally"
   ]
  },
  {
   "cell_type": "code",
   "execution_count": 62,
   "id": "9d3d3b4d-bee7-4767-993b-810053eca124",
   "metadata": {},
   "outputs": [
    {
     "name": "stdout",
     "output_type": "stream",
     "text": [
      "Number of unique words in the vocabulary: 52736\n"
     ]
    }
   ],
   "source": [
    "num_unique_words = len(bigram_full_corpus_model.wv.index_to_key)\n",
    "print(f\"Number of unique words in the vocabulary: {num_unique_words}\")"
   ]
  },
  {
   "cell_type": "code",
   "execution_count": 63,
   "id": "5f21cd84-4fc9-45a9-b6eb-0f464d6731ec",
   "metadata": {},
   "outputs": [
    {
     "data": {
      "text/plain": [
       "[('cafeteria', 0.9247283935546875),\n",
       " ('nesto', 0.9211819767951965),\n",
       " ('biryani', 0.9193111062049866),\n",
       " ('vegetable', 0.9186529517173767),\n",
       " ('waitrose', 0.9166808128356934),\n",
       " ('spinney', 0.9066855311393738),\n",
       " ('cheese', 0.9045244455337524),\n",
       " ('garlic', 0.904297411441803),\n",
       " ('hummus', 0.9040725827217102),\n",
       " ('grill', 0.9039145708084106)]"
      ]
     },
     "execution_count": 63,
     "metadata": {},
     "output_type": "execute_result"
    }
   ],
   "source": [
    "bigram_full_corpus_model.wv.most_similar('lulu')"
   ]
  },
  {
   "cell_type": "code",
   "execution_count": 65,
   "id": "feeb28be-af33-4f16-a458-b29b09cb0dda",
   "metadata": {},
   "outputs": [
    {
     "data": {
      "text/plain": [
       "[('estate', 0.8535524606704712),\n",
       " ('night_entertainment', 0.8352311849594116),\n",
       " ('property', 0.809614896774292),\n",
       " ('developer', 0.7964819073677063),\n",
       " ('broker', 0.790652871131897),\n",
       " ('market', 0.7798449397087097),\n",
       " ('contribute_skyrocket', 0.7744459509849548),\n",
       " ('buy_property', 0.7545173764228821),\n",
       " ('purchase_unit', 0.7541970014572144),\n",
       " ('agent', 0.7453875541687012)]"
      ]
     },
     "execution_count": 65,
     "metadata": {},
     "output_type": "execute_result"
    }
   ],
   "source": [
    "bigram_full_corpus_model.wv.most_similar('real_estate')"
   ]
  },
  {
   "cell_type": "code",
   "execution_count": 66,
   "id": "cd03c255-c5a1-4bd7-a781-e0b65c3d2a44",
   "metadata": {},
   "outputs": [
    {
     "data": {
      "text/plain": [
       "[('subreddit', 0.876783549785614),\n",
       " ('sub', 0.869361937046051),\n",
       " ('r_dubai', 0.836040735244751),\n",
       " ('mod', 0.8131747245788574),\n",
       " ('thread', 0.7981452941894531),\n",
       " ('forum', 0.7869880199432373),\n",
       " ('recent_post', 0.7811811566352844),\n",
       " ('sub_reddit', 0.7561783194541931),\n",
       " ('delete', 0.7503645420074463),\n",
       " ('stand_microphone', 0.739766538143158)]"
      ]
     },
     "execution_count": 66,
     "metadata": {},
     "output_type": "execute_result"
    }
   ],
   "source": [
    "bigram_full_corpus_model.wv.most_similar('reddit')"
   ]
  },
  {
   "cell_type": "code",
   "execution_count": 67,
   "id": "1dd6ef11-afae-4e9d-a41b-760599b2ccca",
   "metadata": {},
   "outputs": [],
   "source": [
    "#second model on filtered corpus \n",
    "#create corpus with bigrams\n",
    "bigram_filtered_corpus = [bigram_transform[sentence] for sentence in filtered_corpus]\n",
    "\n",
    "#code from codebasics and semicolon, both on youtube\n",
    "\n",
    "#instantiate word2vec model\n",
    "bigram_filtered_corpus_model = Word2Vec (window = 5, min_count = 2, workers = 4, vector_size = 300)\n",
    "   \n",
    "#build a vocabulary\n",
    "bigram_filtered_corpus_model.build_vocab(bigram_filtered_corpus, progress_per = 1000)\n"
   ]
  },
  {
   "cell_type": "code",
   "execution_count": 68,
   "id": "81f06739-7bde-4bc2-8119-2e737c1c0975",
   "metadata": {},
   "outputs": [
    {
     "data": {
      "text/plain": [
       "96393"
      ]
     },
     "execution_count": 68,
     "metadata": {},
     "output_type": "execute_result"
    }
   ],
   "source": [
    "bigram_filtered_corpus_model.corpus_count"
   ]
  },
  {
   "cell_type": "code",
   "execution_count": 69,
   "id": "430d0634-ec61-4051-967d-f9a8ffb2f44f",
   "metadata": {},
   "outputs": [],
   "source": [
    "#train the word2vec model\n",
    "\n",
    "bigram_filtered_corpus_model.train(\n",
    "                bigram_filtered_corpus,\n",
    "                total_examples = bigram_filtered_corpus_model.corpus_count,\n",
    "                epochs = bigram_filtered_corpus_model.epochs\n",
    ")\n",
    "\n",
    "bigram_filtered_corpus_model.save('pretrained_models/bigram_filtered_corpus_model.model') #save model locally"
   ]
  },
  {
   "cell_type": "code",
   "execution_count": 70,
   "id": "620e70c1-7dbb-4b11-bb18-40a5dc622515",
   "metadata": {},
   "outputs": [
    {
     "name": "stdout",
     "output_type": "stream",
     "text": [
      "Number of unique words in the vocabulary: 31385\n"
     ]
    }
   ],
   "source": [
    "num_unique_words = len(bigram_filtered_corpus_model.wv.index_to_key)\n",
    "print(f\"Number of unique words in the vocabulary: {num_unique_words}\")"
   ]
  },
  {
   "cell_type": "code",
   "execution_count": 72,
   "id": "fd7ff264-f4a1-4ca0-a591-a50d03257c7a",
   "metadata": {},
   "outputs": [
    {
     "data": {
      "text/plain": [
       "[('property', 0.9869977235794067),\n",
       " ('market', 0.9855281710624695),\n",
       " ('invest', 0.9831932783126831),\n",
       " ('value', 0.9785251021385193),\n",
       " ('agent', 0.9784762263298035),\n",
       " ('sale', 0.9767586588859558),\n",
       " ('cancel_ejari', 0.9749554395675659),\n",
       " ('depreciation_appreciation', 0.971201479434967),\n",
       " ('investment', 0.9695356488227844),\n",
       " ('negotiate_landlord', 0.9667245149612427)]"
      ]
     },
     "execution_count": 72,
     "metadata": {},
     "output_type": "execute_result"
    }
   ],
   "source": [
    "bigram_filtered_corpus_model.wv.most_similar('real_estate')"
   ]
  },
  {
   "cell_type": "code",
   "execution_count": 73,
   "id": "ae003489-39b1-4e96-8036-6153bdf5cb38",
   "metadata": {},
   "outputs": [
    {
     "ename": "KeyError",
     "evalue": "\"Key 'reddit' not present in vocabulary\"",
     "output_type": "error",
     "traceback": [
      "\u001b[0;31m---------------------------------------------------------------------------\u001b[0m",
      "\u001b[0;31mKeyError\u001b[0m                                  Traceback (most recent call last)",
      "Cell \u001b[0;32mIn[73], line 1\u001b[0m\n\u001b[0;32m----> 1\u001b[0m \u001b[43mbigram_filtered_corpus_model\u001b[49m\u001b[38;5;241;43m.\u001b[39;49m\u001b[43mwv\u001b[49m\u001b[38;5;241;43m.\u001b[39;49m\u001b[43mmost_similar\u001b[49m\u001b[43m(\u001b[49m\u001b[38;5;124;43m'\u001b[39;49m\u001b[38;5;124;43mreddit\u001b[39;49m\u001b[38;5;124;43m'\u001b[39;49m\u001b[43m)\u001b[49m\n",
      "File \u001b[0;32m~/Documents/projectenv/lib/python3.10/site-packages/gensim/models/keyedvectors.py:841\u001b[0m, in \u001b[0;36mKeyedVectors.most_similar\u001b[0;34m(self, positive, negative, topn, clip_start, clip_end, restrict_vocab, indexer)\u001b[0m\n\u001b[1;32m    838\u001b[0m         weight[idx] \u001b[38;5;241m=\u001b[39m item[\u001b[38;5;241m1\u001b[39m]\n\u001b[1;32m    840\u001b[0m \u001b[38;5;66;03m# compute the weighted average of all keys\u001b[39;00m\n\u001b[0;32m--> 841\u001b[0m mean \u001b[38;5;241m=\u001b[39m \u001b[38;5;28;43mself\u001b[39;49m\u001b[38;5;241;43m.\u001b[39;49m\u001b[43mget_mean_vector\u001b[49m\u001b[43m(\u001b[49m\u001b[43mkeys\u001b[49m\u001b[43m,\u001b[49m\u001b[43m \u001b[49m\u001b[43mweight\u001b[49m\u001b[43m,\u001b[49m\u001b[43m \u001b[49m\u001b[43mpre_normalize\u001b[49m\u001b[38;5;241;43m=\u001b[39;49m\u001b[38;5;28;43;01mTrue\u001b[39;49;00m\u001b[43m,\u001b[49m\u001b[43m \u001b[49m\u001b[43mpost_normalize\u001b[49m\u001b[38;5;241;43m=\u001b[39;49m\u001b[38;5;28;43;01mTrue\u001b[39;49;00m\u001b[43m,\u001b[49m\u001b[43m \u001b[49m\u001b[43mignore_missing\u001b[49m\u001b[38;5;241;43m=\u001b[39;49m\u001b[38;5;28;43;01mFalse\u001b[39;49;00m\u001b[43m)\u001b[49m\n\u001b[1;32m    842\u001b[0m all_keys \u001b[38;5;241m=\u001b[39m [\n\u001b[1;32m    843\u001b[0m     \u001b[38;5;28mself\u001b[39m\u001b[38;5;241m.\u001b[39mget_index(key) \u001b[38;5;28;01mfor\u001b[39;00m key \u001b[38;5;129;01min\u001b[39;00m keys \u001b[38;5;28;01mif\u001b[39;00m \u001b[38;5;28misinstance\u001b[39m(key, _KEY_TYPES) \u001b[38;5;129;01mand\u001b[39;00m \u001b[38;5;28mself\u001b[39m\u001b[38;5;241m.\u001b[39mhas_index_for(key)\n\u001b[1;32m    844\u001b[0m ]\n\u001b[1;32m    846\u001b[0m \u001b[38;5;28;01mif\u001b[39;00m indexer \u001b[38;5;129;01mis\u001b[39;00m \u001b[38;5;129;01mnot\u001b[39;00m \u001b[38;5;28;01mNone\u001b[39;00m \u001b[38;5;129;01mand\u001b[39;00m \u001b[38;5;28misinstance\u001b[39m(topn, \u001b[38;5;28mint\u001b[39m):\n",
      "File \u001b[0;32m~/Documents/projectenv/lib/python3.10/site-packages/gensim/models/keyedvectors.py:518\u001b[0m, in \u001b[0;36mKeyedVectors.get_mean_vector\u001b[0;34m(self, keys, weights, pre_normalize, post_normalize, ignore_missing)\u001b[0m\n\u001b[1;32m    516\u001b[0m         total_weight \u001b[38;5;241m+\u001b[39m\u001b[38;5;241m=\u001b[39m \u001b[38;5;28mabs\u001b[39m(weights[idx])\n\u001b[1;32m    517\u001b[0m     \u001b[38;5;28;01melif\u001b[39;00m \u001b[38;5;129;01mnot\u001b[39;00m ignore_missing:\n\u001b[0;32m--> 518\u001b[0m         \u001b[38;5;28;01mraise\u001b[39;00m \u001b[38;5;167;01mKeyError\u001b[39;00m(\u001b[38;5;124mf\u001b[39m\u001b[38;5;124m\"\u001b[39m\u001b[38;5;124mKey \u001b[39m\u001b[38;5;124m'\u001b[39m\u001b[38;5;132;01m{\u001b[39;00mkey\u001b[38;5;132;01m}\u001b[39;00m\u001b[38;5;124m'\u001b[39m\u001b[38;5;124m not present in vocabulary\u001b[39m\u001b[38;5;124m\"\u001b[39m)\n\u001b[1;32m    520\u001b[0m \u001b[38;5;28;01mif\u001b[39;00m total_weight \u001b[38;5;241m>\u001b[39m \u001b[38;5;241m0\u001b[39m:\n\u001b[1;32m    521\u001b[0m     mean \u001b[38;5;241m=\u001b[39m mean \u001b[38;5;241m/\u001b[39m total_weight\n",
      "\u001b[0;31mKeyError\u001b[0m: \"Key 'reddit' not present in vocabulary\""
     ]
    }
   ],
   "source": [
    "bigram_filtered_corpus_model.wv.most_similar('reddit')"
   ]
  },
  {
   "cell_type": "markdown",
   "id": "a2c88621-7901-44ca-af11-ce178fb52aa6",
   "metadata": {},
   "source": [
    "### **WORD CLUSTERING WITH WORD2VEC MODEL**"
   ]
  },
  {
   "cell_type": "code",
   "execution_count": 83,
   "id": "dda8e725-1fd2-4bb0-9e8d-72bbe3cca36e",
   "metadata": {},
   "outputs": [
    {
     "data": {
      "image/png": "[encoded data removed]",
      "text/plain": [
       "<Figure size 800x550 with 2 Axes>"
      ]
     },
     "metadata": {},
     "output_type": "display_data"
    },
    {
     "data": {
      "text/plain": [
       "<Axes: title={'center': 'Distortion Score Elbow for KMeans Clustering'}, xlabel='k', ylabel='distortion score'>"
      ]
     },
     "execution_count": 83,
     "metadata": {},
     "output_type": "execute_result"
    }
   ],
   "source": [
    "word_vectors = filtered_corpus_model.wv.vectors #2d word vectors for clustering\n",
    "\n",
    "#determine optimum k-clusters using yellowbrick visualizer\n",
    "\n",
    "\n",
    "kmeans = KMeans(init = 'k-means++', n_init = 10, max_iter = 200, random_state = 0)\n",
    "visualizer = KElbowVisualizer(kmeans, k = (4,20))\n",
    "\n",
    "visualizer.fit(word_vectors)\n",
    "visualizer.show()\n",
    "\n"
   ]
  },
  {
   "cell_type": "code",
   "execution_count": 95,
   "id": "cde0d022-4e40-4438-a27a-cc49947bf05d",
   "metadata": {},
   "outputs": [
    {
     "name": "stdout",
     "output_type": "stream",
     "text": [
      "Cluster 0: ['give', 'real', 'bring', 'deal', 'one', 'show', 'similar', 'include', 'possible', 'single']\n",
      "Cluster 1: ['take', 'read', 'safe', 'have', 'learn', 'face', 'parent', 'child', 'hold', 'god']\n",
      "Cluster 2: ['food', 'restaurant', 'eat', 'shop', 'store', 'drink', 'brand', 'chicken', 'taste', 'prefer']\n",
      "Cluster 3: ['area', 'mall', 'walk', 'visit', 'building', 'abu', 'public', 'dhabi', 'night', 'sharjah']\n",
      "Cluster 4: ['usually', 'couple', 'date', 'enjoy', 'wonder', 'notice', 'play', 'half', 'early', 'fun']\n",
      "Cluster 5: ['case', 'test', 'covid', 'mask', 'risk', 'health', 'daily', 'control', 'vaccine', 'result']\n",
      "Cluster 6: ['indian', 'india', 'middle', 'expat', 'uk', 'arab', 'arabic', 'compare', 'example', 'english']\n",
      "Cluster 7: ['water', 'house', 'outside', 'break', 'cool', 'door', 'cover', 'sit', 'clean', 'inside']\n",
      "Cluster 8: ['law', 'culture', 'rule', 'news', 'non', 'state', 'opinion', 'muslim', 'human', 'community']\n",
      "Cluster 9: ['experience', 'etc', 'business', 'family', 'local', 'government', 'school', 'base', 'build', 'expect']\n",
      "Cluster 10: ['buy', 'price', 'salary', 'cost', 'offer', 'low', 'sell', 'cheap', 'market', 'bank']\n",
      "Cluster 11: ['call', 'service', 'card', 'order', 'app', 'delivery', 'account', 'ad', 'online', 'write']\n",
      "Cluster 12: ['drive', 'fine', 'stop', 'police', 'lane', 'road', 'driver', 'fast', 'speed', 'turn']\n",
      "Cluster 13: ['visa', 'report', 'passport', 'apply', 'travel', 'provide', 'd', 'emirate', 'require', 'office']\n"
     ]
    }
   ],
   "source": [
    "num_clusters = 14  # This is just an example, replace with your chosen number\n",
    "\n",
    "# Perform KMeans clustering\n",
    "kmeans = KMeans(n_clusters=num_clusters, init='k-means++', max_iter=200, n_init=10, random_state=0)\n",
    "kmeans.fit(word_vectors)\n",
    "\n",
    "# Now each word in your vocabulary is assigned to a cluster\n",
    "word_clusters = kmeans.labels_\n",
    "\n",
    "# You can create a mapping of words to their assigned clusters\n",
    "word_to_cluster = {word: cluster for word, cluster in zip(filtered_corpus_model.wv.index_to_key, word_clusters)}\n",
    "\n",
    "# Now you can print the words in each cluster\n",
    "for i in range(num_clusters):\n",
    "    words_in_cluster = [word for word, cluster in word_to_cluster.items() if cluster == i]\n",
    "    print(f\"Cluster {i}: {words_in_cluster[:10]}\")"
   ]
  },
  {
   "cell_type": "markdown",
   "id": "069fdac0-836f-485d-a6bc-c6e487ff7016",
   "metadata": {},
   "source": [
    "## **CREATE DOCUMENT VECTORS FROM WORD EMBEDDINGS**"
   ]
  },
  {
   "cell_type": "code",
   "execution_count": 96,
   "id": "64976a44-3e76-438a-99f9-6378ca516cad",
   "metadata": {},
   "outputs": [
    {
     "data": {
      "text/plain": [
       "(96393, 100)"
      ]
     },
     "execution_count": 96,
     "metadata": {},
     "output_type": "execute_result"
    }
   ],
   "source": [
    "#create document vectors using average of word vectors\n",
    "\n",
    "#code from Dylan Castillo https://dylancastillo.co/nlp-snippets-cluster-documents-using-word2vec/#train-word2vec-model\n",
    "\n",
    "def vectorize(list_of_docs, model):\n",
    "    \"\"\"Generate vectors for list of documents using a Word Embedding\n",
    "\n",
    "    Args:\n",
    "        list_of_docs: List of documents\n",
    "        model: Gensim's Word Embedding\n",
    "\n",
    "    Returns:\n",
    "        List of document vectors\n",
    "    \"\"\"\n",
    "    features = []\n",
    "\n",
    "    for tokens in list_of_docs:\n",
    "        zero_vector = np.zeros(model.vector_size)\n",
    "        vectors = []\n",
    "        for token in tokens:\n",
    "            if token in model.wv:\n",
    "                try:\n",
    "                    vectors.append(model.wv[token])\n",
    "                except KeyError:\n",
    "                    continue\n",
    "        if vectors:\n",
    "            vectors = np.asarray(vectors)\n",
    "            avg_vec = vectors.mean(axis=0)\n",
    "            features.append(avg_vec)\n",
    "        else:\n",
    "            features.append(zero_vector)\n",
    "    return features\n",
    "    \n",
    "vectorized_docs = vectorize(updated_data['updated_tokens'].values, model=filtered_corpus_model)\n",
    "len(vectorized_docs), len(vectorized_docs[0])"
   ]
  },
  {
   "cell_type": "code",
   "execution_count": 97,
   "id": "0d5f599c-a2f7-4896-8ba6-2bbafe4e7c02",
   "metadata": {},
   "outputs": [
    {
     "data": {
      "text/plain": [
       "numpy.ndarray"
      ]
     },
     "execution_count": 97,
     "metadata": {},
     "output_type": "execute_result"
    }
   ],
   "source": [
    "type(vectorized_docs[330])"
   ]
  },
  {
   "cell_type": "code",
   "execution_count": 98,
   "id": "732a2fdc-1bbd-45ba-842d-bd3f2bc11e6e",
   "metadata": {},
   "outputs": [
    {
     "name": "stdout",
     "output_type": "stream",
     "text": [
      "2\n"
     ]
    }
   ],
   "source": [
    "print(np.array(vectorized_docs).ndim)"
   ]
  },
  {
   "cell_type": "code",
   "execution_count": null,
   "id": "0a121545-91b9-42e9-b900-cd9fe16ab3ab",
   "metadata": {},
   "outputs": [],
   "source": [
    "#do some document similarity things"
   ]
  },
  {
   "cell_type": "code",
   "execution_count": 99,
   "id": "627fc6b3-59b8-489d-b1ed-c840f950a38d",
   "metadata": {},
   "outputs": [
    {
     "data": {
      "image/png": "[encoded data removed]",
      "text/plain": [
       "<Figure size 800x550 with 2 Axes>"
      ]
     },
     "metadata": {},
     "output_type": "display_data"
    },
    {
     "data": {
      "text/plain": [
       "<Axes: title={'center': 'Distortion Score Elbow for KMeans Clustering'}, xlabel='k', ylabel='distortion score'>"
      ]
     },
     "execution_count": 99,
     "metadata": {},
     "output_type": "execute_result"
    }
   ],
   "source": [
    "#determine optimum k-clusters using yellowbrick visualizer\n",
    "\n",
    "\n",
    "kmeans = KMeans(init = 'k-means++', n_init = 10, random_state = 0)\n",
    "visualizer = KElbowVisualizer(kmeans, k = (4,20))\n",
    "\n",
    "visualizer.fit(np.array(vectorized_docs))\n",
    "visualizer.show()\n"
   ]
  },
  {
   "cell_type": "code",
   "execution_count": 102,
   "id": "5ec506fb-1cd7-4afe-86b7-5e4976018a7a",
   "metadata": {},
   "outputs": [
    {
     "name": "stdout",
     "output_type": "stream",
     "text": [
      "Cluster 0:\n",
      "    news\n",
      "    message\n",
      "    read\n",
      "    google\n",
      "    call\n",
      "    website\n",
      "    ad\n",
      "    app\n",
      "    article\n",
      "    whatsapp\n",
      "Cluster 1:\n",
      "    business\n",
      "    experience\n",
      "    real\n",
      "    etc\n",
      "    family\n",
      "    market\n",
      "    government\n",
      "    take\n",
      "    low\n",
      "    give\n",
      "Cluster 2:\n",
      "    police\n",
      "    fine\n",
      "    report\n",
      "    case\n",
      "    law\n",
      "    take\n",
      "    security\n",
      "    court\n",
      "    illegal\n",
      "    complaint\n",
      "Cluster 3:\n",
      "    take\n",
      "    stop\n",
      "    walk\n",
      "    give\n",
      "    call\n",
      "    cat\n",
      "    night\n",
      "    play\n",
      "    drive\n",
      "    fun\n",
      "Cluster 4:\n",
      "    buy\n",
      "    price\n",
      "    sell\n",
      "    cost\n",
      "    rent\n",
      "    cheap\n",
      "    market\n",
      "    property\n",
      "    expensive\n",
      "    apartment\n",
      "Cluster 5:\n",
      "    water\n",
      "    hot\n",
      "    summer\n",
      "    heat\n",
      "    cold\n",
      "    air\n",
      "    weather\n",
      "    rain\n",
      "    cool\n",
      "    clean\n",
      "Cluster 6:\n",
      "    visa\n",
      "    salary\n",
      "    passport\n",
      "    apply\n",
      "    tax\n",
      "    employee\n",
      "    employer\n",
      "    wage\n",
      "    income\n",
      "    offer\n",
      "Cluster 7:\n",
      "    food\n",
      "    eat\n",
      "    chicken\n",
      "    restaurant\n",
      "    burger\n",
      "    taste\n",
      "    shawarma\n",
      "    order\n",
      "    milk\n",
      "    drink\n",
      "Cluster 8:\n",
      "    card\n",
      "    delivery\n",
      "    service\n",
      "    app\n",
      "    order\n",
      "    bank\n",
      "    tip\n",
      "    credit\n",
      "    charge\n",
      "    account\n",
      "Cluster 9:\n",
      "    lane\n",
      "    drive\n",
      "    road\n",
      "    speed\n",
      "    driver\n",
      "    fast\n",
      "    traffic\n",
      "    slow\n",
      "    limit\n",
      "    flash\n",
      "Cluster 10:\n",
      "    test\n",
      "    covid\n",
      "    mask\n",
      "    case\n",
      "    vaccine\n",
      "    virus\n",
      "    take\n",
      "    travel\n",
      "    death\n",
      "    positive\n",
      "Cluster 11:\n",
      "    arabic\n",
      "    indian\n",
      "    arab\n",
      "    culture\n",
      "    english\n",
      "    language\n",
      "    racism\n",
      "    muslim\n",
      "    india\n",
      "    expat\n",
      "Cluster 12:\n",
      "    mall\n",
      "    area\n",
      "    park\n",
      "    building\n",
      "    parking\n",
      "    abu\n",
      "    near\n",
      "    dhabi\n",
      "    walk\n",
      "    metro\n",
      "Cluster 13:\n",
      "    fucking\n",
      "    child\n",
      "    god\n",
      "    parent\n",
      "    human\n",
      "    read\n",
      "    stop\n",
      "    learn\n",
      "    respect\n",
      "    opinion\n"
     ]
    }
   ],
   "source": [
    "true_k = 14\n",
    "\n",
    "model = KMeans(n_clusters=true_k, init=\"k-means++\", max_iter=100, n_init=10, random_state = 12)\n",
    "\n",
    "model.fit(np.array(vectorized_docs))\n",
    "\n",
    "# Assign each document to a cluster\n",
    "clusters = model.predict(np.array(vectorized_docs))\n",
    "\n",
    "# For each cluster\n",
    "for i in range(true_k):\n",
    "    print(f\"Cluster {i}:\")\n",
    "\n",
    "    # Find all the documents that belong to this cluster\n",
    "    docs_in_cluster = [doc for doc, cluster in zip(updated_data['updated_tokens'].values, clusters) if cluster == i]\n",
    "\n",
    "    # Count the frequency of each word in these documents\n",
    "    word_freq = Counter(word for doc in docs_in_cluster for word in doc)\n",
    "\n",
    "    # Print the 10 words with the highest frequency\n",
    "    for word, freq in word_freq.most_common(10):\n",
    "        print(f\"    {word}\")\n"
   ]
  },
  {
   "cell_type": "code",
   "execution_count": null,
   "id": "114a3043-0a78-4eef-b1db-2a7daae53432",
   "metadata": {},
   "outputs": [],
   "source": []
  }
 ],
 "metadata": {
  "kernelspec": {
   "display_name": "projectenv",
   "language": "python",
   "name": "projectenv"
  },
  "language_info": {
   "codemirror_mode": {
    "name": "ipython",
    "version": 3
   },
   "file_extension": ".py",
   "mimetype": "text/x-python",
   "name": "python",
   "nbconvert_exporter": "python",
   "pygments_lexer": "ipython3",
   "version": "3.10.1"
  }
 },
 "nbformat": 4,
 "nbformat_minor": 5
}
