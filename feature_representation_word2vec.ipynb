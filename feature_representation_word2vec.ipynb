{
 "cells": [
  {
   "cell_type": "code",
   "execution_count": 1,
   "id": "8b2681bb-a91a-42da-ba8e-9a999c7f8810",
   "metadata": {
    "tags": []
   },
   "outputs": [],
   "source": [
    "#import libraries\n",
    "import pandas as pd\n",
    "import numpy as np\n",
    "import csv\n",
    "import ast\n",
    "import re\n",
    "from prettytable import PrettyTable\n",
    "\n",
    "from collections import Counter\n",
    "\n",
    "import time\n",
    "import random\n",
    "\n",
    "#data visualization libraries\n",
    "import matplotlib.pyplot as plt\n",
    "from PIL import Image\n",
    "from wordcloud import WordCloud, ImageColorGenerator\n",
    "\n",
    "#NLP & ML libraries\n",
    "from gensim.models import Word2Vec\n",
    "from gensim.utils import tokenize\n",
    "from gensim.models.phrases import Phrases\n",
    "from textblob import TextBlob\n",
    "from nltk import FreqDist\n",
    "\n",
    "from sklearn.cluster import KMeans\n",
    "from sklearn.cluster import MiniBatchKMeans\n",
    "from sklearn.metrics import silhouette_samples, silhouette_score\n",
    "\n",
    "from sklearn.metrics.pairwise import cosine_similarity\n",
    "\n",
    "from sklearn.manifold import TSNE\n",
    "from sklearn.decomposition import PCA\n",
    "\n",
    "from yellowbrick.cluster import KElbowVisualizer, SilhouetteVisualizer, InterclusterDistance\n",
    "\n",
    "from scipy.sparse import save_npz, load_npz"
   ]
  },
  {
   "cell_type": "code",
   "execution_count": 2,
   "id": "4bbe50fc-de36-41b1-993b-1044cc1b8420",
   "metadata": {},
   "outputs": [],
   "source": [
    "#set seed so that code output is deterministic\n",
    "random.seed(30)  # Set the seed for Python's random module\n",
    "np.random.seed(30)  # Set the seed for NumPy's random module"
   ]
  },
  {
   "cell_type": "code",
   "execution_count": 3,
   "id": "c7de6faf-08e5-4b9a-9237-4b6f1a2e6848",
   "metadata": {
    "tags": []
   },
   "outputs": [],
   "source": [
    "#import cleaned data\n",
    "\n",
    "def list_converter(text):\n",
    "    #to revert list->str conversion from pd.read_csv\n",
    "    return ast.literal_eval(text)\n",
    "\n",
    "\n",
    "data = pd.read_csv('Data/training_corpus.csv', converters ={'tokens':list_converter})"
   ]
  },
  {
   "cell_type": "code",
   "execution_count": 4,
   "id": "4226a4d3-22a8-4ebe-b077-575d16a727a8",
   "metadata": {},
   "outputs": [
    {
     "name": "stdout",
     "output_type": "stream",
     "text": [
      "(99186, 7)\n"
     ]
    },
    {
     "data": {
      "text/html": [
       "<div>\n",
       "<style scoped>\n",
       "    .dataframe tbody tr th:only-of-type {\n",
       "        vertical-align: middle;\n",
       "    }\n",
       "\n",
       "    .dataframe tbody tr th {\n",
       "        vertical-align: top;\n",
       "    }\n",
       "\n",
       "    .dataframe thead th {\n",
       "        text-align: right;\n",
       "    }\n",
       "</style>\n",
       "<table border=\"1\" class=\"dataframe\">\n",
       "  <thead>\n",
       "    <tr style=\"text-align: right;\">\n",
       "      <th></th>\n",
       "      <th>text_type</th>\n",
       "      <th>ID</th>\n",
       "      <th>year</th>\n",
       "      <th>long_text</th>\n",
       "      <th>clean_text</th>\n",
       "      <th>word_count</th>\n",
       "      <th>tokens</th>\n",
       "    </tr>\n",
       "  </thead>\n",
       "  <tbody>\n",
       "    <tr>\n",
       "      <th>0</th>\n",
       "      <td>comment</td>\n",
       "      <td>gtfo2hl</td>\n",
       "      <td>2021</td>\n",
       "      <td>*Cuntry roads, take me hoem*</td>\n",
       "      <td>cuntry roads hoem</td>\n",
       "      <td>3</td>\n",
       "      <td>[cuntry, road, hoem]</td>\n",
       "    </tr>\n",
       "    <tr>\n",
       "      <th>1</th>\n",
       "      <td>comment</td>\n",
       "      <td>gtfqkbv</td>\n",
       "      <td>2021</td>\n",
       "      <td>That’s been there for several years, sent a pi...</td>\n",
       "      <td>years sent pic cuntry friend long time ago</td>\n",
       "      <td>8</td>\n",
       "      <td>[year, send, pic, cuntry, friend, long, time, ...</td>\n",
       "    </tr>\n",
       "    <tr>\n",
       "      <th>2</th>\n",
       "      <td>comment</td>\n",
       "      <td>gtfou07</td>\n",
       "      <td>2021</td>\n",
       "      <td>I am single and I have not traveled to any cun...</td>\n",
       "      <td>single traveled cuntry past year</td>\n",
       "      <td>5</td>\n",
       "      <td>[single, travel, cuntry, past, year]</td>\n",
       "    </tr>\n",
       "    <tr>\n",
       "      <th>3</th>\n",
       "      <td>comment</td>\n",
       "      <td>gtfrgpe</td>\n",
       "      <td>2021</td>\n",
       "      <td>What happens when you shop at dragon mart...</td>\n",
       "      <td>happens shop dragon mart</td>\n",
       "      <td>4</td>\n",
       "      <td>[happen, shop, dragon, mart]</td>\n",
       "    </tr>\n",
       "    <tr>\n",
       "      <th>4</th>\n",
       "      <td>comment</td>\n",
       "      <td>gthiiwi</td>\n",
       "      <td>2021</td>\n",
       "      <td>That’s just absolutely hilarious, is this in t...</td>\n",
       "      <td>absolutely hilarious springs souk</td>\n",
       "      <td>4</td>\n",
       "      <td>[absolutely, hilarious, spring, souk]</td>\n",
       "    </tr>\n",
       "  </tbody>\n",
       "</table>\n",
       "</div>"
      ],
      "text/plain": [
       "  text_type       ID  year                                          long_text  \\\n",
       "0   comment  gtfo2hl  2021                       *Cuntry roads, take me hoem*   \n",
       "1   comment  gtfqkbv  2021  That’s been there for several years, sent a pi...   \n",
       "2   comment  gtfou07  2021  I am single and I have not traveled to any cun...   \n",
       "3   comment  gtfrgpe  2021       What happens when you shop at dragon mart...   \n",
       "4   comment  gthiiwi  2021  That’s just absolutely hilarious, is this in t...   \n",
       "\n",
       "                                   clean_text  word_count  \\\n",
       "0                           cuntry roads hoem           3   \n",
       "1  years sent pic cuntry friend long time ago           8   \n",
       "2            single traveled cuntry past year           5   \n",
       "3                    happens shop dragon mart           4   \n",
       "4           absolutely hilarious springs souk           4   \n",
       "\n",
       "                                              tokens  \n",
       "0                               [cuntry, road, hoem]  \n",
       "1  [year, send, pic, cuntry, friend, long, time, ...  \n",
       "2               [single, travel, cuntry, past, year]  \n",
       "3                       [happen, shop, dragon, mart]  \n",
       "4              [absolutely, hilarious, spring, souk]  "
      ]
     },
     "execution_count": 4,
     "metadata": {},
     "output_type": "execute_result"
    }
   ],
   "source": [
    "data = data.drop(columns = ['index'])\n",
    "print (data.shape)\n",
    "data.head()"
   ]
  },
  {
   "cell_type": "code",
   "execution_count": 5,
   "id": "29b439c0-b358-441b-9e07-e5c426300030",
   "metadata": {},
   "outputs": [],
   "source": [
    "#include column with additional stopwords removal\n",
    "#created the filtered corpus from another notebook and imported it here for use\n",
    "# Read the file\n",
    "with open('updated_corpus_new.txt', 'r') as f:\n",
    "    updated_tokens = f.readlines()\n",
    "\n",
    "# Remove newline characters\n",
    "updated_tokens = [line.strip() for line in updated_tokens]\n",
    "\n",
    "\n",
    "data['updated_tokens'] = updated_tokens"
   ]
  },
  {
   "cell_type": "code",
   "execution_count": 6,
   "id": "c4fed05a-3169-4bf5-9a85-1dd52014a49f",
   "metadata": {},
   "outputs": [],
   "source": [
    "\n",
    "#convert list of strings to dataframe column with list of tokens on each row\n",
    "data['updated_tokens'] = data['updated_tokens'].apply(lambda x: list(tokenize(x)))"
   ]
  },
  {
   "cell_type": "code",
   "execution_count": 7,
   "id": "d1c59b23-9e30-455f-80d8-9cd5410a75fc",
   "metadata": {},
   "outputs": [
    {
     "data": {
      "text/plain": [
       "(3171, 8)"
      ]
     },
     "execution_count": 7,
     "metadata": {},
     "output_type": "execute_result"
    }
   ],
   "source": [
    "#dataframe of all empty token lists due to removal of additional stopwords\n",
    "empty_tokens = data[data['updated_tokens'].apply(lambda x: len(x) == 0)]\n",
    "\n",
    "empty_tokens.shape"
   ]
  },
  {
   "cell_type": "code",
   "execution_count": 8,
   "id": "519a6474-5973-4d87-bc08-8832c3162717",
   "metadata": {},
   "outputs": [
    {
     "data": {
      "text/html": [
       "<div>\n",
       "<style scoped>\n",
       "    .dataframe tbody tr th:only-of-type {\n",
       "        vertical-align: middle;\n",
       "    }\n",
       "\n",
       "    .dataframe tbody tr th {\n",
       "        vertical-align: top;\n",
       "    }\n",
       "\n",
       "    .dataframe thead th {\n",
       "        text-align: right;\n",
       "    }\n",
       "</style>\n",
       "<table border=\"1\" class=\"dataframe\">\n",
       "  <thead>\n",
       "    <tr style=\"text-align: right;\">\n",
       "      <th></th>\n",
       "      <th>text_type</th>\n",
       "      <th>ID</th>\n",
       "      <th>year</th>\n",
       "      <th>long_text</th>\n",
       "      <th>clean_text</th>\n",
       "      <th>word_count</th>\n",
       "      <th>tokens</th>\n",
       "      <th>updated_tokens</th>\n",
       "    </tr>\n",
       "  </thead>\n",
       "  <tbody>\n",
       "    <tr>\n",
       "      <th>0</th>\n",
       "      <td>comment</td>\n",
       "      <td>gtfo2hl</td>\n",
       "      <td>2021</td>\n",
       "      <td>*Cuntry roads, take me hoem*</td>\n",
       "      <td>cuntry roads hoem</td>\n",
       "      <td>3</td>\n",
       "      <td>[cuntry, road, hoem]</td>\n",
       "      <td>[road]</td>\n",
       "    </tr>\n",
       "    <tr>\n",
       "      <th>2</th>\n",
       "      <td>comment</td>\n",
       "      <td>gtfou07</td>\n",
       "      <td>2021</td>\n",
       "      <td>I am single and I have not traveled to any cun...</td>\n",
       "      <td>single traveled cuntry past year</td>\n",
       "      <td>5</td>\n",
       "      <td>[single, travel, cuntry, past, year]</td>\n",
       "      <td>[single, travel, past]</td>\n",
       "    </tr>\n",
       "    <tr>\n",
       "      <th>3</th>\n",
       "      <td>comment</td>\n",
       "      <td>gtfrgpe</td>\n",
       "      <td>2021</td>\n",
       "      <td>What happens when you shop at dragon mart...</td>\n",
       "      <td>happens shop dragon mart</td>\n",
       "      <td>4</td>\n",
       "      <td>[happen, shop, dragon, mart]</td>\n",
       "      <td>[shop, dragon, mart]</td>\n",
       "    </tr>\n",
       "    <tr>\n",
       "      <th>4</th>\n",
       "      <td>comment</td>\n",
       "      <td>gthiiwi</td>\n",
       "      <td>2021</td>\n",
       "      <td>That’s just absolutely hilarious, is this in t...</td>\n",
       "      <td>absolutely hilarious springs souk</td>\n",
       "      <td>4</td>\n",
       "      <td>[absolutely, hilarious, spring, souk]</td>\n",
       "      <td>[hilarious, spring, souk]</td>\n",
       "    </tr>\n",
       "    <tr>\n",
       "      <th>6</th>\n",
       "      <td>comment</td>\n",
       "      <td>gtfw6yj</td>\n",
       "      <td>2021</td>\n",
       "      <td>Eugene's first day as a signwriter for Country...</td>\n",
       "      <td>eugene s day signwriter country artificial pro...</td>\n",
       "      <td>8</td>\n",
       "      <td>[eugene, s, day, signwriter, country, artifici...</td>\n",
       "      <td>[artificial, product]</td>\n",
       "    </tr>\n",
       "    <tr>\n",
       "      <th>...</th>\n",
       "      <td>...</td>\n",
       "      <td>...</td>\n",
       "      <td>...</td>\n",
       "      <td>...</td>\n",
       "      <td>...</td>\n",
       "      <td>...</td>\n",
       "      <td>...</td>\n",
       "      <td>...</td>\n",
       "    </tr>\n",
       "    <tr>\n",
       "      <th>99181</th>\n",
       "      <td>submission</td>\n",
       "      <td>14f46ji</td>\n",
       "      <td>2023</td>\n",
       "      <td>Best beauty saloons in Dubai? Hello fellas, I ...</td>\n",
       "      <td>best beauty saloons dubai hello fellas moved w...</td>\n",
       "      <td>35</td>\n",
       "      <td>[good, beauty, saloon, dubai, hello, fellas, m...</td>\n",
       "      <td>[beauty, saloon, hello, wife, real, saloon, re...</td>\n",
       "    </tr>\n",
       "    <tr>\n",
       "      <th>99182</th>\n",
       "      <td>submission</td>\n",
       "      <td>14f4uyi</td>\n",
       "      <td>2023</td>\n",
       "      <td>Found the r/dubai redditors who kept telling m...</td>\n",
       "      <td>found r dubai redditors kept telling know navi...</td>\n",
       "      <td>10</td>\n",
       "      <td>[find, r, dubai, redditor, keep, tell, know, n...</td>\n",
       "      <td>[navigate, roundabout]</td>\n",
       "    </tr>\n",
       "    <tr>\n",
       "      <th>99183</th>\n",
       "      <td>submission</td>\n",
       "      <td>14f4ri3</td>\n",
       "      <td>2023</td>\n",
       "      <td>Scam ? Healthy.line My sister has a CBD debit ...</td>\n",
       "      <td>scam healthy line sister cbd debit card month ...</td>\n",
       "      <td>47</td>\n",
       "      <td>[scam, healthy, line, sister, cbd, debit, card...</td>\n",
       "      <td>[scam, healthy, line, sister, cbd, debit, card...</td>\n",
       "    </tr>\n",
       "    <tr>\n",
       "      <th>99184</th>\n",
       "      <td>submission</td>\n",
       "      <td>14f4k3r</td>\n",
       "      <td>2023</td>\n",
       "      <td>Thoughts on Expo City properties? Anyone else ...</td>\n",
       "      <td>thoughts expo city properties checked expo cit...</td>\n",
       "      <td>21</td>\n",
       "      <td>[thought, expo, city, property, check, expo, c...</td>\n",
       "      <td>[expo, property, expo, sale, page, pleasant, d...</td>\n",
       "    </tr>\n",
       "    <tr>\n",
       "      <th>99185</th>\n",
       "      <td>submission</td>\n",
       "      <td>14f8d30</td>\n",
       "      <td>2023</td>\n",
       "      <td>What to do when the neighbour parks like this?...</td>\n",
       "      <td>neighbour parks like hello dubai community guy...</td>\n",
       "      <td>19</td>\n",
       "      <td>[neighbour, park, like, hello, dubai, communit...</td>\n",
       "      <td>[neighbour, park, hello, community, meet, park...</td>\n",
       "    </tr>\n",
       "  </tbody>\n",
       "</table>\n",
       "<p>96015 rows × 8 columns</p>\n",
       "</div>"
      ],
      "text/plain": [
       "        text_type       ID  year  \\\n",
       "0         comment  gtfo2hl  2021   \n",
       "2         comment  gtfou07  2021   \n",
       "3         comment  gtfrgpe  2021   \n",
       "4         comment  gthiiwi  2021   \n",
       "6         comment  gtfw6yj  2021   \n",
       "...           ...      ...   ...   \n",
       "99181  submission  14f46ji  2023   \n",
       "99182  submission  14f4uyi  2023   \n",
       "99183  submission  14f4ri3  2023   \n",
       "99184  submission  14f4k3r  2023   \n",
       "99185  submission  14f8d30  2023   \n",
       "\n",
       "                                               long_text  \\\n",
       "0                           *Cuntry roads, take me hoem*   \n",
       "2      I am single and I have not traveled to any cun...   \n",
       "3           What happens when you shop at dragon mart...   \n",
       "4      That’s just absolutely hilarious, is this in t...   \n",
       "6      Eugene's first day as a signwriter for Country...   \n",
       "...                                                  ...   \n",
       "99181  Best beauty saloons in Dubai? Hello fellas, I ...   \n",
       "99182  Found the r/dubai redditors who kept telling m...   \n",
       "99183  Scam ? Healthy.line My sister has a CBD debit ...   \n",
       "99184  Thoughts on Expo City properties? Anyone else ...   \n",
       "99185  What to do when the neighbour parks like this?...   \n",
       "\n",
       "                                              clean_text  word_count  \\\n",
       "0                                      cuntry roads hoem           3   \n",
       "2                       single traveled cuntry past year           5   \n",
       "3                               happens shop dragon mart           4   \n",
       "4                      absolutely hilarious springs souk           4   \n",
       "6      eugene s day signwriter country artificial pro...           8   \n",
       "...                                                  ...         ...   \n",
       "99181  best beauty saloons dubai hello fellas moved w...          35   \n",
       "99182  found r dubai redditors kept telling know navi...          10   \n",
       "99183  scam healthy line sister cbd debit card month ...          47   \n",
       "99184  thoughts expo city properties checked expo cit...          21   \n",
       "99185  neighbour parks like hello dubai community guy...          19   \n",
       "\n",
       "                                                  tokens  \\\n",
       "0                                   [cuntry, road, hoem]   \n",
       "2                   [single, travel, cuntry, past, year]   \n",
       "3                           [happen, shop, dragon, mart]   \n",
       "4                  [absolutely, hilarious, spring, souk]   \n",
       "6      [eugene, s, day, signwriter, country, artifici...   \n",
       "...                                                  ...   \n",
       "99181  [good, beauty, saloon, dubai, hello, fellas, m...   \n",
       "99182  [find, r, dubai, redditor, keep, tell, know, n...   \n",
       "99183  [scam, healthy, line, sister, cbd, debit, card...   \n",
       "99184  [thought, expo, city, property, check, expo, c...   \n",
       "99185  [neighbour, park, like, hello, dubai, communit...   \n",
       "\n",
       "                                          updated_tokens  \n",
       "0                                                 [road]  \n",
       "2                                 [single, travel, past]  \n",
       "3                                   [shop, dragon, mart]  \n",
       "4                              [hilarious, spring, souk]  \n",
       "6                                  [artificial, product]  \n",
       "...                                                  ...  \n",
       "99181  [beauty, saloon, hello, wife, real, saloon, re...  \n",
       "99182                             [navigate, roundabout]  \n",
       "99183  [scam, healthy, line, sister, cbd, debit, card...  \n",
       "99184  [expo, property, expo, sale, page, pleasant, d...  \n",
       "99185  [neighbour, park, hello, community, meet, park...  \n",
       "\n",
       "[96015 rows x 8 columns]"
      ]
     },
     "execution_count": 8,
     "metadata": {},
     "output_type": "execute_result"
    }
   ],
   "source": [
    "#adjust corpus to remvoe rows with empty token lists\n",
    "row_id = empty_tokens['ID'] #id of rows with empty token list\n",
    "\n",
    "updated_data = data[~data['ID'].isin(row_id)]\n",
    "updated_data"
   ]
  },
  {
   "cell_type": "code",
   "execution_count": 10,
   "id": "adf1e53c-6cd2-4bb9-ab89-94199ef8632a",
   "metadata": {},
   "outputs": [],
   "source": [
    "#save filtered corpus to data\n",
    "\n",
    "#filename = 'Data/filtered_corpus.csv'\n",
    "\n",
    "#def export_csv():\n",
    "#    '''\n",
    "#    export filtered data to CSV\n",
    "#    '''\n",
    "#    updated_data.to_csv(filename, index_label = 'index', quoting = csv.QUOTE_ALL, header = True)\n",
    "#\n",
    "#export_csv()"
   ]
  },
  {
   "cell_type": "markdown",
   "id": "414a90b0-730e-445f-8b85-31be72b739e4",
   "metadata": {},
   "source": [
    "## **Word2Vec Model** "
   ]
  },
  {
   "cell_type": "markdown",
   "id": "12071d4a-eb55-404d-bb2f-e35b9c531dbc",
   "metadata": {},
   "source": [
    "### FULL CORPUS -->After initial preprocessing"
   ]
  },
  {
   "cell_type": "code",
   "execution_count": 270,
   "id": "684d9375-5fc5-4c94-95b3-fc3fcbbed923",
   "metadata": {},
   "outputs": [
    {
     "data": {
      "text/plain": [
       "[['cuntry', 'road', 'hoem'],\n",
       " ['year', 'send', 'pic', 'cuntry', 'friend', 'long', 'time', 'ago'],\n",
       " ['single', 'travel', 'cuntry', 'past', 'year'],\n",
       " ['happen', 'shop', 'dragon', 'mart'],\n",
       " ['absolutely', 'hilarious', 'spring', 'souk']]"
      ]
     },
     "execution_count": 270,
     "metadata": {},
     "output_type": "execute_result"
    }
   ],
   "source": [
    "#convert df['tokens'] to list of strings for word2vec model\n",
    "corpus = data['tokens'].tolist()#.apply(lambda token: ' '.join(token)).tolist()\n",
    "\n",
    "corpus[:5]"
   ]
  },
  {
   "cell_type": "code",
   "execution_count": 271,
   "id": "b45ea010-a712-4035-8952-fc3fbef3a5ea",
   "metadata": {},
   "outputs": [],
   "source": [
    "#code from codebasics and semicolon, both on youtube\n",
    "\n",
    "#instantiate word2vec model\n",
    "full_corpus_model = Word2Vec (window = 5, min_count = 2, workers = 4, vector_size = 100)\n",
    "   \n",
    "#build a vocabulary\n",
    "full_corpus_model.build_vocab(corpus, progress_per = 1000)"
   ]
  },
  {
   "cell_type": "code",
   "execution_count": 272,
   "id": "8d745b77-a89b-403c-b2b7-fc4c185005c6",
   "metadata": {},
   "outputs": [
    {
     "data": {
      "text/plain": [
       "99186"
      ]
     },
     "execution_count": 272,
     "metadata": {},
     "output_type": "execute_result"
    }
   ],
   "source": [
    "full_corpus_model.corpus_count #number of sentences/documents"
   ]
  },
  {
   "cell_type": "code",
   "execution_count": 273,
   "id": "da988379-baa1-4cf0-b11c-622c29f68051",
   "metadata": {},
   "outputs": [],
   "source": [
    "#train the word2vec model\n",
    "\n",
    "full_corpus_model.train(\n",
    "                corpus,\n",
    "                total_examples = full_corpus_model.corpus_count,\n",
    "                epochs = full_corpus_model.epochs\n",
    ")\n",
    "\n",
    "full_corpus_model.save('pretrained_models/full_corpus_model.model') #save model locally"
   ]
  },
  {
   "cell_type": "code",
   "execution_count": 274,
   "id": "c5e5cef8-fe0b-47b1-98d2-345699175e33",
   "metadata": {},
   "outputs": [
    {
     "name": "stdout",
     "output_type": "stream",
     "text": [
      "Number of unique words in the vocabulary: 21945\n"
     ]
    }
   ],
   "source": [
    "num_unique_words = len(full_corpus_model.wv.index_to_key)\n",
    "print(f\"Number of unique words in the vocabulary: {num_unique_words}\")\n"
   ]
  },
  {
   "cell_type": "code",
   "execution_count": 275,
   "id": "6fa63580-bc00-499d-a96d-e308cb515b5c",
   "metadata": {},
   "outputs": [
    {
     "data": {
      "text/plain": [
       "[('nesto', 0.9526462554931641),\n",
       " ('cafeteria', 0.944524347782135),\n",
       " ('hypermarket', 0.9433149695396423),\n",
       " ('vegetable', 0.9389459490776062),\n",
       " ('spinney', 0.9366098046302795),\n",
       " ('waitrose', 0.933556854724884),\n",
       " ('mcdonalds', 0.9310055375099182),\n",
       " ('viva', 0.9293677806854248),\n",
       " ('spinneys', 0.9293380379676819),\n",
       " ('souq', 0.9275371432304382)]"
      ]
     },
     "execution_count": 275,
     "metadata": {},
     "output_type": "execute_result"
    }
   ],
   "source": [
    "full_corpus_model.wv.most_similar ('lulu')"
   ]
  },
  {
   "cell_type": "code",
   "execution_count": 276,
   "id": "c1ad9ba5-27af-4c07-87ce-bb21a6cc2ff5",
   "metadata": {},
   "outputs": [
    {
     "data": {
      "text/plain": [
       "[('sub', 0.8964521288871765),\n",
       " ('subreddit', 0.8800749182701111),\n",
       " ('mod', 0.8635022640228271),\n",
       " ('thread', 0.82708740234375),\n",
       " ('delete', 0.8173986673355103),\n",
       " ('moderator', 0.801443338394165),\n",
       " ('bash', 0.8013561964035034),\n",
       " ('discussion', 0.799430787563324),\n",
       " ('post', 0.7976388335227966),\n",
       " ('forum', 0.7918344736099243)]"
      ]
     },
     "execution_count": 276,
     "metadata": {},
     "output_type": "execute_result"
    }
   ],
   "source": [
    "full_corpus_model.wv.most_similar('reddit')"
   ]
  },
  {
   "cell_type": "code",
   "execution_count": 277,
   "id": "4dcf2763-e97d-46c6-be2f-0036c183c593",
   "metadata": {},
   "outputs": [
    {
     "data": {
      "text/plain": [
       "'drive'"
      ]
     },
     "execution_count": 277,
     "metadata": {},
     "output_type": "execute_result"
    }
   ],
   "source": [
    "full_corpus_model.wv.doesnt_match(['ejari', 'rera', 'dewa', 'drive'])"
   ]
  },
  {
   "cell_type": "markdown",
   "id": "f574248b-ba20-490a-b128-02740445be03",
   "metadata": {
    "tags": []
   },
   "source": [
    "## **Word2Vec Model** with custom stopwords removed from corpus"
   ]
  },
  {
   "cell_type": "code",
   "execution_count": 278,
   "id": "3fd6e35d-4d81-4e71-8998-c74b78511486",
   "metadata": {},
   "outputs": [
    {
     "data": {
      "text/plain": [
       "[['road'],\n",
       " ['single', 'travel', 'past'],\n",
       " ['shop', 'dragon', 'mart'],\n",
       " ['hilarious', 'spring', 'souk'],\n",
       " ['artificial', 'product']]"
      ]
     },
     "execution_count": 278,
     "metadata": {},
     "output_type": "execute_result"
    }
   ],
   "source": [
    "#convert ['tokens'] column to list of strings for word2vec model\n",
    "filtered_corpus = updated_data['updated_tokens'].tolist()\n",
    "\n",
    "filtered_corpus[:5]"
   ]
  },
  {
   "cell_type": "code",
   "execution_count": 279,
   "id": "092febb8-13a9-421b-925f-e97b8966ff23",
   "metadata": {},
   "outputs": [],
   "source": [
    "#code from codebasics and semicolon, both on youtube\n",
    "\n",
    "#instantiate word2vec model on filtered corpus\n",
    "filtered_corpus_model = Word2Vec (window = 5, min_count = 2, workers = 4, vector_size = 100)\n",
    "   \n",
    "#build a vocabulary\n",
    "filtered_corpus_model.build_vocab(filtered_corpus, progress_per = 1000)\n",
    "\n"
   ]
  },
  {
   "cell_type": "code",
   "execution_count": 280,
   "id": "bda49e32-129d-4283-b9e9-05fb172e724f",
   "metadata": {},
   "outputs": [
    {
     "data": {
      "text/plain": [
       "96015"
      ]
     },
     "execution_count": 280,
     "metadata": {},
     "output_type": "execute_result"
    }
   ],
   "source": [
    "#number of sentences in vocabulary\n",
    "filtered_corpus_model.corpus_count"
   ]
  },
  {
   "cell_type": "code",
   "execution_count": 281,
   "id": "7146b649-752a-47fd-8a0a-f7e15709de0f",
   "metadata": {},
   "outputs": [],
   "source": [
    "#train the word2vec model\n",
    "\n",
    "filtered_corpus_model.train(\n",
    "                filtered_corpus,\n",
    "                total_examples = filtered_corpus_model.corpus_count,\n",
    "                epochs = filtered_corpus_model.epochs\n",
    ")\n",
    "\n",
    "filtered_corpus_model.save('pretrained_models/filtered_corpus_model.model') #save model locally"
   ]
  },
  {
   "cell_type": "code",
   "execution_count": 282,
   "id": "442a2a2f-2d28-4a0b-b008-9b2f3d5920eb",
   "metadata": {},
   "outputs": [
    {
     "name": "stdout",
     "output_type": "stream",
     "text": [
      "Number of unique words in the vocabulary: 7878\n"
     ]
    }
   ],
   "source": [
    "num_unique_words = len(filtered_corpus_model.wv.index_to_key)\n",
    "print(f\"Number of unique words in the vocabulary: {num_unique_words}\")"
   ]
  },
  {
   "cell_type": "code",
   "execution_count": 283,
   "id": "e684cb44-9a8d-449d-9f9a-f6a2f41be75e",
   "metadata": {},
   "outputs": [
    {
     "data": {
      "text/plain": [
       "[('waitrose', 0.9720600843429565),\n",
       " ('carrefour', 0.969598650932312),\n",
       " ('spinney', 0.9673463106155396),\n",
       " ('fruit', 0.965188205242157),\n",
       " ('hypermarket', 0.959431529045105),\n",
       " ('vegetable', 0.9592266082763672),\n",
       " ('souq', 0.9531868100166321),\n",
       " ('supermarket', 0.952685534954071),\n",
       " ('overpriced', 0.9517564177513123),\n",
       " ('nesto', 0.9474257230758667)]"
      ]
     },
     "execution_count": 283,
     "metadata": {},
     "output_type": "execute_result"
    }
   ],
   "source": [
    "filtered_corpus_model.wv.most_similar ('lulu')"
   ]
  },
  {
   "cell_type": "code",
   "execution_count": 284,
   "id": "8a679ec5-b898-41f4-8a55-751c4052d46d",
   "metadata": {},
   "outputs": [
    {
     "data": {
      "text/plain": [
       "[('grill', 0.9768821001052856),\n",
       " ('spice', 0.9746105074882507),\n",
       " ('pickle', 0.9689387679100037),\n",
       " ('garlic', 0.9656305909156799),\n",
       " ('vegetable', 0.9649478793144226),\n",
       " ('sandwich', 0.9610117077827454),\n",
       " ('farm', 0.960748553276062),\n",
       " ('falafel', 0.9601993560791016),\n",
       " ('mutton', 0.960173487663269),\n",
       " ('salad', 0.9595544338226318)]"
      ]
     },
     "execution_count": 284,
     "metadata": {},
     "output_type": "execute_result"
    }
   ],
   "source": [
    "filtered_corpus_model.wv.most_similar ('fish')"
   ]
  },
  {
   "cell_type": "code",
   "execution_count": 285,
   "id": "2eb759cc-beef-40e4-85e4-307d8a0bb8ea",
   "metadata": {},
   "outputs": [
    {
     "data": {
      "text/plain": [
       "[('szr', 0.9642577171325684),\n",
       " ('pavement', 0.9623650312423706),\n",
       " ('jam', 0.9579125642776489),\n",
       " ('khail', 0.9558984041213989),\n",
       " ('intersection', 0.9543856978416443),\n",
       " ('gate', 0.952586829662323),\n",
       " ('tunnel', 0.9524264335632324),\n",
       " ('sidewalk', 0.952196478843689),\n",
       " ('cycling', 0.9507838487625122),\n",
       " ('rush', 0.9499329328536987)]"
      ]
     },
     "execution_count": 285,
     "metadata": {},
     "output_type": "execute_result"
    }
   ],
   "source": [
    "filtered_corpus_model.wv.most_similar ('bridge')"
   ]
  },
  {
   "cell_type": "code",
   "execution_count": 286,
   "id": "4b458328-5ea5-43af-9579-08744b981a0a",
   "metadata": {},
   "outputs": [
    {
     "ename": "KeyError",
     "evalue": "\"Key 'reddit' not present in vocabulary\"",
     "output_type": "error",
     "traceback": [
      "\u001b[0;31m---------------------------------------------------------------------------\u001b[0m",
      "\u001b[0;31mKeyError\u001b[0m                                  Traceback (most recent call last)",
      "Cell \u001b[0;32mIn[286], line 1\u001b[0m\n\u001b[0;32m----> 1\u001b[0m \u001b[43mfiltered_corpus_model\u001b[49m\u001b[38;5;241;43m.\u001b[39;49m\u001b[43mwv\u001b[49m\u001b[38;5;241;43m.\u001b[39;49m\u001b[43mmost_similar\u001b[49m\u001b[43m(\u001b[49m\u001b[38;5;124;43m'\u001b[39;49m\u001b[38;5;124;43mreddit\u001b[39;49m\u001b[38;5;124;43m'\u001b[39;49m\u001b[43m)\u001b[49m\n",
      "File \u001b[0;32m~/Documents/projectenv/lib/python3.10/site-packages/gensim/models/keyedvectors.py:841\u001b[0m, in \u001b[0;36mKeyedVectors.most_similar\u001b[0;34m(self, positive, negative, topn, clip_start, clip_end, restrict_vocab, indexer)\u001b[0m\n\u001b[1;32m    838\u001b[0m         weight[idx] \u001b[38;5;241m=\u001b[39m item[\u001b[38;5;241m1\u001b[39m]\n\u001b[1;32m    840\u001b[0m \u001b[38;5;66;03m# compute the weighted average of all keys\u001b[39;00m\n\u001b[0;32m--> 841\u001b[0m mean \u001b[38;5;241m=\u001b[39m \u001b[38;5;28;43mself\u001b[39;49m\u001b[38;5;241;43m.\u001b[39;49m\u001b[43mget_mean_vector\u001b[49m\u001b[43m(\u001b[49m\u001b[43mkeys\u001b[49m\u001b[43m,\u001b[49m\u001b[43m \u001b[49m\u001b[43mweight\u001b[49m\u001b[43m,\u001b[49m\u001b[43m \u001b[49m\u001b[43mpre_normalize\u001b[49m\u001b[38;5;241;43m=\u001b[39;49m\u001b[38;5;28;43;01mTrue\u001b[39;49;00m\u001b[43m,\u001b[49m\u001b[43m \u001b[49m\u001b[43mpost_normalize\u001b[49m\u001b[38;5;241;43m=\u001b[39;49m\u001b[38;5;28;43;01mTrue\u001b[39;49;00m\u001b[43m,\u001b[49m\u001b[43m \u001b[49m\u001b[43mignore_missing\u001b[49m\u001b[38;5;241;43m=\u001b[39;49m\u001b[38;5;28;43;01mFalse\u001b[39;49;00m\u001b[43m)\u001b[49m\n\u001b[1;32m    842\u001b[0m all_keys \u001b[38;5;241m=\u001b[39m [\n\u001b[1;32m    843\u001b[0m     \u001b[38;5;28mself\u001b[39m\u001b[38;5;241m.\u001b[39mget_index(key) \u001b[38;5;28;01mfor\u001b[39;00m key \u001b[38;5;129;01min\u001b[39;00m keys \u001b[38;5;28;01mif\u001b[39;00m \u001b[38;5;28misinstance\u001b[39m(key, _KEY_TYPES) \u001b[38;5;129;01mand\u001b[39;00m \u001b[38;5;28mself\u001b[39m\u001b[38;5;241m.\u001b[39mhas_index_for(key)\n\u001b[1;32m    844\u001b[0m ]\n\u001b[1;32m    846\u001b[0m \u001b[38;5;28;01mif\u001b[39;00m indexer \u001b[38;5;129;01mis\u001b[39;00m \u001b[38;5;129;01mnot\u001b[39;00m \u001b[38;5;28;01mNone\u001b[39;00m \u001b[38;5;129;01mand\u001b[39;00m \u001b[38;5;28misinstance\u001b[39m(topn, \u001b[38;5;28mint\u001b[39m):\n",
      "File \u001b[0;32m~/Documents/projectenv/lib/python3.10/site-packages/gensim/models/keyedvectors.py:518\u001b[0m, in \u001b[0;36mKeyedVectors.get_mean_vector\u001b[0;34m(self, keys, weights, pre_normalize, post_normalize, ignore_missing)\u001b[0m\n\u001b[1;32m    516\u001b[0m         total_weight \u001b[38;5;241m+\u001b[39m\u001b[38;5;241m=\u001b[39m \u001b[38;5;28mabs\u001b[39m(weights[idx])\n\u001b[1;32m    517\u001b[0m     \u001b[38;5;28;01melif\u001b[39;00m \u001b[38;5;129;01mnot\u001b[39;00m ignore_missing:\n\u001b[0;32m--> 518\u001b[0m         \u001b[38;5;28;01mraise\u001b[39;00m \u001b[38;5;167;01mKeyError\u001b[39;00m(\u001b[38;5;124mf\u001b[39m\u001b[38;5;124m\"\u001b[39m\u001b[38;5;124mKey \u001b[39m\u001b[38;5;124m'\u001b[39m\u001b[38;5;132;01m{\u001b[39;00mkey\u001b[38;5;132;01m}\u001b[39;00m\u001b[38;5;124m'\u001b[39m\u001b[38;5;124m not present in vocabulary\u001b[39m\u001b[38;5;124m\"\u001b[39m)\n\u001b[1;32m    520\u001b[0m \u001b[38;5;28;01mif\u001b[39;00m total_weight \u001b[38;5;241m>\u001b[39m \u001b[38;5;241m0\u001b[39m:\n\u001b[1;32m    521\u001b[0m     mean \u001b[38;5;241m=\u001b[39m mean \u001b[38;5;241m/\u001b[39m total_weight\n",
      "\u001b[0;31mKeyError\u001b[0m: \"Key 'reddit' not present in vocabulary\""
     ]
    }
   ],
   "source": [
    "filtered_corpus_model.wv.most_similar('reddit')"
   ]
  },
  {
   "cell_type": "markdown",
   "id": "80568523-7529-484b-bca3-681424544c95",
   "metadata": {},
   "source": [
    "## **Word2Vec with bigrams**"
   ]
  },
  {
   "cell_type": "code",
   "execution_count": 287,
   "id": "d7193727-a947-4bf0-8d34-2404047b1fb3",
   "metadata": {},
   "outputs": [],
   "source": [
    "#first model on full corpus\n",
    "\n",
    "#code from gensim documentation\n",
    "\n",
    "#train bigram detector\n",
    "bigram_transform = Phrases (corpus, min_count = 1) #default threshold is 10.0, fewer phrases will be created"
   ]
  },
  {
   "cell_type": "code",
   "execution_count": 288,
   "id": "be3aceb2-7f4a-4d99-a8b6-90d07d67b55a",
   "metadata": {},
   "outputs": [
    {
     "name": "stdout",
     "output_type": "stream",
     "text": [
      "['anymore', 'new', 'labor_law', 'common', 'blatant', 'good', 'company', 'care', 'sale', 'promotional', 'bdm', 'post', 'hire', 'look', 'filter', 'photo_cv', 'rife', 'real_estate', 'industry', 'say', 'uae', 'young', 'country', 'learn', 'motivation', 'law', 'change', 'align', 'progressive', 'practice', 'ahead', 'way', 'nature', 'place', 'live']\n"
     ]
    }
   ],
   "source": [
    "#check performance of bigram transform model\n",
    "new_sentence = corpus[330]\n",
    "print(bigram_transform[new_sentence])"
   ]
  },
  {
   "cell_type": "code",
   "execution_count": 289,
   "id": "7f70487f-2d99-487c-958e-25a4a0e69647",
   "metadata": {},
   "outputs": [],
   "source": [
    "#create corpus with bigrams\n",
    "bigram_full_corpus = [bigram_transform[sentence] for sentence in corpus]\n",
    "\n",
    "#code from codebasics and semicolon, both on youtube\n",
    "\n",
    "#instantiate word2vec model\n",
    "bigram_full_corpus_model = Word2Vec (window = 5, min_count = 2, workers = 4, vector_size = 100)\n",
    "   \n",
    "#build a vocabulary\n",
    "bigram_full_corpus_model.build_vocab(bigram_full_corpus, progress_per = 1000)"
   ]
  },
  {
   "cell_type": "code",
   "execution_count": 290,
   "id": "8e065ad7-e8ac-42cc-92b6-8c07e165d0da",
   "metadata": {},
   "outputs": [
    {
     "data": {
      "text/plain": [
       "99186"
      ]
     },
     "execution_count": 290,
     "metadata": {},
     "output_type": "execute_result"
    }
   ],
   "source": [
    "bigram_full_corpus_model.corpus_count"
   ]
  },
  {
   "cell_type": "code",
   "execution_count": 291,
   "id": "dea490c1-f704-478c-8f13-4db9857927a5",
   "metadata": {},
   "outputs": [],
   "source": [
    "#train the word2vec model\n",
    "\n",
    "bigram_full_corpus_model.train(\n",
    "                bigram_full_corpus,\n",
    "                total_examples = bigram_full_corpus_model.corpus_count,\n",
    "                epochs = bigram_full_corpus_model.epochs\n",
    ")\n",
    "\n",
    "bigram_full_corpus_model.save('pretrained_models/bigram_full_corpus_model.model') #save model locally"
   ]
  },
  {
   "cell_type": "code",
   "execution_count": 292,
   "id": "9d3d3b4d-bee7-4767-993b-810053eca124",
   "metadata": {},
   "outputs": [
    {
     "name": "stdout",
     "output_type": "stream",
     "text": [
      "Number of unique words in the vocabulary: 52736\n"
     ]
    }
   ],
   "source": [
    "num_unique_words = len(bigram_full_corpus_model.wv.index_to_key)\n",
    "print(f\"Number of unique words in the vocabulary: {num_unique_words}\")"
   ]
  },
  {
   "cell_type": "code",
   "execution_count": 293,
   "id": "5f21cd84-4fc9-45a9-b6eb-0f464d6731ec",
   "metadata": {},
   "outputs": [
    {
     "data": {
      "text/plain": [
       "[('salad', 0.9917809367179871),\n",
       " ('avocado', 0.9917731881141663),\n",
       " ('chip', 0.9912051558494568),\n",
       " ('bread', 0.9904637336730957),\n",
       " ('menu', 0.989629864692688),\n",
       " ('juice', 0.9893547892570496),\n",
       " ('pickl', 0.9892104864120483),\n",
       " ('carton', 0.9889456033706665),\n",
       " ('powder', 0.9888132810592651),\n",
       " ('packet', 0.9884225130081177)]"
      ]
     },
     "execution_count": 293,
     "metadata": {},
     "output_type": "execute_result"
    }
   ],
   "source": [
    "bigram_full_corpus_model.wv.most_similar('lulu')"
   ]
  },
  {
   "cell_type": "code",
   "execution_count": 294,
   "id": "feeb28be-af33-4f16-a458-b29b09cb0dda",
   "metadata": {},
   "outputs": [
    {
     "data": {
      "text/plain": [
       "[('market', 0.9539564251899719),\n",
       " ('oversupply', 0.9455468654632568),\n",
       " ('property', 0.9447397589683533),\n",
       " ('investment', 0.9445777535438538),\n",
       " ('lucrative', 0.9372889995574951),\n",
       " ('personal_loan', 0.929117739200592),\n",
       " ('invest', 0.9286069273948669),\n",
       " ('sponsorship', 0.9280118942260742),\n",
       " ('agency', 0.9271519184112549),\n",
       " ('mnc', 0.9266513586044312)]"
      ]
     },
     "execution_count": 294,
     "metadata": {},
     "output_type": "execute_result"
    }
   ],
   "source": [
    "bigram_full_corpus_model.wv.most_similar('real_estate')"
   ]
  },
  {
   "cell_type": "code",
   "execution_count": 295,
   "id": "cd03c255-c5a1-4bd7-a781-e0b65c3d2a44",
   "metadata": {},
   "outputs": [
    {
     "data": {
      "text/plain": [
       "[('sub', 0.9664925932884216),\n",
       " ('mod', 0.9634584784507751),\n",
       " ('r_dubai', 0.962688148021698),\n",
       " ('subreddit', 0.9493028521537781),\n",
       " ('recent_post', 0.9480857253074646),\n",
       " ('mod_remove', 0.9408067464828491),\n",
       " ('thread', 0.9399752616882324),\n",
       " ('read', 0.9286966323852539),\n",
       " ('got_remove', 0.9271013140678406),\n",
       " ('post', 0.9222640991210938)]"
      ]
     },
     "execution_count": 295,
     "metadata": {},
     "output_type": "execute_result"
    }
   ],
   "source": [
    "bigram_full_corpus_model.wv.most_similar('reddit')"
   ]
  },
  {
   "cell_type": "code",
   "execution_count": 296,
   "id": "1dd6ef11-afae-4e9d-a41b-760599b2ccca",
   "metadata": {},
   "outputs": [],
   "source": [
    "#second model on filtered corpus \n",
    "#create corpus with bigrams\n",
    "bigram_filtered_corpus = [bigram_transform[sentence] for sentence in filtered_corpus]\n",
    "\n",
    "#code from codebasics and semicolon, both on youtube\n",
    "\n",
    "#instantiate word2vec model\n",
    "bigram_filtered_corpus_model = Word2Vec (window = 5, min_count = 2, workers = 4, vector_size = 100)\n",
    "   \n",
    "#build a vocabulary\n",
    "bigram_filtered_corpus_model.build_vocab(bigram_filtered_corpus, progress_per = 1000)\n"
   ]
  },
  {
   "cell_type": "code",
   "execution_count": 297,
   "id": "81f06739-7bde-4bc2-8119-2e737c1c0975",
   "metadata": {},
   "outputs": [
    {
     "data": {
      "text/plain": [
       "96015"
      ]
     },
     "execution_count": 297,
     "metadata": {},
     "output_type": "execute_result"
    }
   ],
   "source": [
    "bigram_filtered_corpus_model.corpus_count"
   ]
  },
  {
   "cell_type": "code",
   "execution_count": 298,
   "id": "430d0634-ec61-4051-967d-f9a8ffb2f44f",
   "metadata": {},
   "outputs": [],
   "source": [
    "#train the word2vec model\n",
    "\n",
    "bigram_filtered_corpus_model.train(\n",
    "                bigram_filtered_corpus,\n",
    "                total_examples = bigram_filtered_corpus_model.corpus_count,\n",
    "                epochs = bigram_filtered_corpus_model.epochs\n",
    ")\n",
    "\n",
    "bigram_filtered_corpus_model.save('pretrained_models/bigram_filtered_corpus_model.model') #save model locally"
   ]
  },
  {
   "cell_type": "code",
   "execution_count": 299,
   "id": "620e70c1-7dbb-4b11-bb18-40a5dc622515",
   "metadata": {},
   "outputs": [
    {
     "name": "stdout",
     "output_type": "stream",
     "text": [
      "Number of unique words in the vocabulary: 30615\n"
     ]
    }
   ],
   "source": [
    "num_unique_words = len(bigram_filtered_corpus_model.wv.index_to_key)\n",
    "print(f\"Number of unique words in the vocabulary: {num_unique_words}\")"
   ]
  },
  {
   "cell_type": "code",
   "execution_count": 300,
   "id": "fd7ff264-f4a1-4ca0-a591-a50d03257c7a",
   "metadata": {},
   "outputs": [
    {
     "data": {
      "text/plain": [
       "[('market', 0.9834105372428894),\n",
       " ('property', 0.9786896109580994),\n",
       " ('agent', 0.9779227375984192),\n",
       " ('sale', 0.9772022366523743),\n",
       " ('value', 0.9754621386528015),\n",
       " ('invest', 0.9717615842819214),\n",
       " ('investment', 0.9623180031776428),\n",
       " ('cancel_ejari', 0.9589475393295288),\n",
       " ('low_interest', 0.9556249976158142),\n",
       " ('agency', 0.9554840922355652)]"
      ]
     },
     "execution_count": 300,
     "metadata": {},
     "output_type": "execute_result"
    }
   ],
   "source": [
    "bigram_filtered_corpus_model.wv.most_similar('real_estate')"
   ]
  },
  {
   "cell_type": "code",
   "execution_count": 301,
   "id": "ae003489-39b1-4e96-8036-6153bdf5cb38",
   "metadata": {},
   "outputs": [
    {
     "ename": "KeyError",
     "evalue": "\"Key 'reddit' not present in vocabulary\"",
     "output_type": "error",
     "traceback": [
      "\u001b[0;31m---------------------------------------------------------------------------\u001b[0m",
      "\u001b[0;31mKeyError\u001b[0m                                  Traceback (most recent call last)",
      "Cell \u001b[0;32mIn[301], line 1\u001b[0m\n\u001b[0;32m----> 1\u001b[0m \u001b[43mbigram_filtered_corpus_model\u001b[49m\u001b[38;5;241;43m.\u001b[39;49m\u001b[43mwv\u001b[49m\u001b[38;5;241;43m.\u001b[39;49m\u001b[43mmost_similar\u001b[49m\u001b[43m(\u001b[49m\u001b[38;5;124;43m'\u001b[39;49m\u001b[38;5;124;43mreddit\u001b[39;49m\u001b[38;5;124;43m'\u001b[39;49m\u001b[43m)\u001b[49m\n",
      "File \u001b[0;32m~/Documents/projectenv/lib/python3.10/site-packages/gensim/models/keyedvectors.py:841\u001b[0m, in \u001b[0;36mKeyedVectors.most_similar\u001b[0;34m(self, positive, negative, topn, clip_start, clip_end, restrict_vocab, indexer)\u001b[0m\n\u001b[1;32m    838\u001b[0m         weight[idx] \u001b[38;5;241m=\u001b[39m item[\u001b[38;5;241m1\u001b[39m]\n\u001b[1;32m    840\u001b[0m \u001b[38;5;66;03m# compute the weighted average of all keys\u001b[39;00m\n\u001b[0;32m--> 841\u001b[0m mean \u001b[38;5;241m=\u001b[39m \u001b[38;5;28;43mself\u001b[39;49m\u001b[38;5;241;43m.\u001b[39;49m\u001b[43mget_mean_vector\u001b[49m\u001b[43m(\u001b[49m\u001b[43mkeys\u001b[49m\u001b[43m,\u001b[49m\u001b[43m \u001b[49m\u001b[43mweight\u001b[49m\u001b[43m,\u001b[49m\u001b[43m \u001b[49m\u001b[43mpre_normalize\u001b[49m\u001b[38;5;241;43m=\u001b[39;49m\u001b[38;5;28;43;01mTrue\u001b[39;49;00m\u001b[43m,\u001b[49m\u001b[43m \u001b[49m\u001b[43mpost_normalize\u001b[49m\u001b[38;5;241;43m=\u001b[39;49m\u001b[38;5;28;43;01mTrue\u001b[39;49;00m\u001b[43m,\u001b[49m\u001b[43m \u001b[49m\u001b[43mignore_missing\u001b[49m\u001b[38;5;241;43m=\u001b[39;49m\u001b[38;5;28;43;01mFalse\u001b[39;49;00m\u001b[43m)\u001b[49m\n\u001b[1;32m    842\u001b[0m all_keys \u001b[38;5;241m=\u001b[39m [\n\u001b[1;32m    843\u001b[0m     \u001b[38;5;28mself\u001b[39m\u001b[38;5;241m.\u001b[39mget_index(key) \u001b[38;5;28;01mfor\u001b[39;00m key \u001b[38;5;129;01min\u001b[39;00m keys \u001b[38;5;28;01mif\u001b[39;00m \u001b[38;5;28misinstance\u001b[39m(key, _KEY_TYPES) \u001b[38;5;129;01mand\u001b[39;00m \u001b[38;5;28mself\u001b[39m\u001b[38;5;241m.\u001b[39mhas_index_for(key)\n\u001b[1;32m    844\u001b[0m ]\n\u001b[1;32m    846\u001b[0m \u001b[38;5;28;01mif\u001b[39;00m indexer \u001b[38;5;129;01mis\u001b[39;00m \u001b[38;5;129;01mnot\u001b[39;00m \u001b[38;5;28;01mNone\u001b[39;00m \u001b[38;5;129;01mand\u001b[39;00m \u001b[38;5;28misinstance\u001b[39m(topn, \u001b[38;5;28mint\u001b[39m):\n",
      "File \u001b[0;32m~/Documents/projectenv/lib/python3.10/site-packages/gensim/models/keyedvectors.py:518\u001b[0m, in \u001b[0;36mKeyedVectors.get_mean_vector\u001b[0;34m(self, keys, weights, pre_normalize, post_normalize, ignore_missing)\u001b[0m\n\u001b[1;32m    516\u001b[0m         total_weight \u001b[38;5;241m+\u001b[39m\u001b[38;5;241m=\u001b[39m \u001b[38;5;28mabs\u001b[39m(weights[idx])\n\u001b[1;32m    517\u001b[0m     \u001b[38;5;28;01melif\u001b[39;00m \u001b[38;5;129;01mnot\u001b[39;00m ignore_missing:\n\u001b[0;32m--> 518\u001b[0m         \u001b[38;5;28;01mraise\u001b[39;00m \u001b[38;5;167;01mKeyError\u001b[39;00m(\u001b[38;5;124mf\u001b[39m\u001b[38;5;124m\"\u001b[39m\u001b[38;5;124mKey \u001b[39m\u001b[38;5;124m'\u001b[39m\u001b[38;5;132;01m{\u001b[39;00mkey\u001b[38;5;132;01m}\u001b[39;00m\u001b[38;5;124m'\u001b[39m\u001b[38;5;124m not present in vocabulary\u001b[39m\u001b[38;5;124m\"\u001b[39m)\n\u001b[1;32m    520\u001b[0m \u001b[38;5;28;01mif\u001b[39;00m total_weight \u001b[38;5;241m>\u001b[39m \u001b[38;5;241m0\u001b[39m:\n\u001b[1;32m    521\u001b[0m     mean \u001b[38;5;241m=\u001b[39m mean \u001b[38;5;241m/\u001b[39m total_weight\n",
      "\u001b[0;31mKeyError\u001b[0m: \"Key 'reddit' not present in vocabulary\""
     ]
    }
   ],
   "source": [
    "bigram_filtered_corpus_model.wv.most_similar('reddit')"
   ]
  },
  {
   "cell_type": "markdown",
   "id": "a2c88621-7901-44ca-af11-ce178fb52aa6",
   "metadata": {},
   "source": [
    "### **WORD CLUSTERING WITH WORD2VEC MODEL**"
   ]
  },
  {
   "cell_type": "code",
   "execution_count": 341,
   "id": "dda8e725-1fd2-4bb0-9e8d-72bbe3cca36e",
   "metadata": {},
   "outputs": [
    {
     "data": {
      "image/png": "[encoded data removed]",
      "text/plain": [
       "<Figure size 800x550 with 2 Axes>"
      ]
     },
     "metadata": {},
     "output_type": "display_data"
    },
    {
     "data": {
      "text/plain": [
       "<Axes: title={'center': 'Distortion Score Elbow for KMeans Clustering'}, xlabel='k', ylabel='distortion score'>"
      ]
     },
     "execution_count": 341,
     "metadata": {},
     "output_type": "execute_result"
    }
   ],
   "source": [
    "filtered_corpus_word_vectors = filtered_corpus_model.wv.vectors #2d word vectors for clustering\n",
    "\n",
    "#determine optimum k-clusters using yellowbrick visualizer\n",
    "\n",
    "\n",
    "kmeans = KMeans(init = 'k-means++', n_init = 10, random_state = 0)\n",
    "visualizer = KElbowVisualizer(kmeans, k = (4,20))\n",
    "\n",
    "visualizer.fit(filtered_corpus_word_vectors)\n",
    "visualizer.show()\n",
    "\n"
   ]
  },
  {
   "cell_type": "code",
   "execution_count": 342,
   "id": "cde0d022-4e40-4438-a27a-cc49947bf05d",
   "metadata": {},
   "outputs": [
    {
     "name": "stdout",
     "output_type": "stream",
     "text": [
      "Cluster 0: ['visit', 'couple', 'movie', 'notice', 'play', 'wife', 'stand', 'imagine', 'avoid', 'early']\n",
      "Cluster 1: ['buy', 'food', 'water', 'area', 'restaurant', 'cheap', 'mall', 'small', 'building', 'house']\n",
      "Cluster 2: ['real', 'deal', 'meet', 'travel', 'course', 'community', 'date', 'single', 'assume', 'emirate']\n",
      "Cluster 3: ['drive', 'fine', 'stop', 'police', 'lane', 'road', 'driver', 'test', 'walk', 'fast']\n",
      "Cluster 4: ['call', 'service', 'card', 'order', 'sell', 'bank', 'delivery', 'tip', 'charge', 'plan']\n",
      "Cluster 5: ['eva', 'desk', 'instantly', 'bug', 'shocking', 'mechanic', 'daddy', 'newly', 'peep', 'ble']\n",
      "Cluster 6: ['take', 'case', 'read', 'law', 'report', 'safe', 'rule', 'covid', 'public', 'parent']\n",
      "Cluster 7: ['experience', 'price', 'business', 'visa', 'salary', 'cost', 'offer', 'low', 'government', 'market']\n",
      "Cluster 8: ['family', 'local', 'school', 'learn', 'indian', 'culture', 'india', 'passport', 'middle', 'expat']\n"
     ]
    }
   ],
   "source": [
    "num_clusters = 9\n",
    "\n",
    "# Kmeans clustering\n",
    "kmeans = KMeans(n_clusters=num_clusters, init='k-means++', n_init=10, random_state=0)\n",
    "kmeans.fit(filtered_corpus_word_vectors)\n",
    "\n",
    "# cluster label for each word\n",
    "word_clusters = kmeans.labels_\n",
    "\n",
    "# map word to cluster label\n",
    "word_to_cluster = {word: cluster for word, cluster in zip(filtered_corpus_model.wv.index_to_key, word_clusters)}\n",
    "\n",
    "# print 10 words in each cluster\n",
    "for i in range(num_clusters):\n",
    "    words_in_cluster = [word for word, cluster in word_to_cluster.items() if cluster == i]\n",
    "    print(f\"Cluster {i}: {words_in_cluster[:10]}\")"
   ]
  }
 ],
 "metadata": {
  "kernelspec": {
   "display_name": "projectenv",
   "language": "python",
   "name": "projectenv"
  },
  "language_info": {
   "codemirror_mode": {
    "name": "ipython",
    "version": 3
   },
   "file_extension": ".py",
   "mimetype": "text/x-python",
   "name": "python",
   "nbconvert_exporter": "python",
   "pygments_lexer": "ipython3",
   "version": "3.10.1"
  }
 },
 "nbformat": 4,
 "nbformat_minor": 5
}
